{
  "nbformat": 4,
  "nbformat_minor": 0,
  "metadata": {
    "colab": {
      "name": "Proyecto_Machine_Learning.ipynb",
      "provenance": [],
      "collapsed_sections": [],
      "toc_visible": true,
      "mount_file_id": "10q7bGyzJL-i2FgTqIpa5PRaRIIWNphon",
      "authorship_tag": "ABX9TyNqS0XTB7uEJWMdNQAwXnG2",
      "include_colab_link": true
    },
    "kernelspec": {
      "name": "python3",
      "display_name": "Python 3"
    },
    "language_info": {
      "name": "python"
    }
  },
  "cells": [
    {
      "cell_type": "markdown",
      "metadata": {
        "id": "view-in-github",
        "colab_type": "text"
      },
      "source": [
        "<a href=\"https://colab.research.google.com/github/ArredondoF99/PROYECTO-BEDU---DATA-SCIENCE/blob/main/Proyecto_Machine_Learning.ipynb\" target=\"_parent\"><img src=\"https://colab.research.google.com/assets/colab-badge.svg\" alt=\"Open In Colab\"/></a>"
      ]
    },
    {
      "cell_type": "markdown",
      "metadata": {
        "id": "g9isov6JZLko"
      },
      "source": [
        "# ***IMPACTO DELICTIVO EN MÉXICO A CONSECUENCIA DEL COVID-19***\n",
        "\n",
        "*Francisco Ricardo Arredondo Almuina - frankk_arredondo@hotmail.com*"
      ]
    },
    {
      "cell_type": "markdown",
      "metadata": {
        "id": "IntXBkpLg5wx"
      },
      "source": [
        "# **OBJETIVOS**"
      ]
    },
    {
      "cell_type": "markdown",
      "metadata": {
        "id": "D82perjEg9QV"
      },
      "source": [
        "- Determinar los delitos cometidos en México con mayor número de casos, relacionados con el aislamiento a consecuencia del COVID-19.\n",
        "\n",
        "- Desarrollar un modelo de machine learning capaz de clasificar por tipo de delito según los casos cometidos durante el periodo de 2015 a 2020."
      ]
    },
    {
      "cell_type": "markdown",
      "metadata": {
        "id": "P6itSWk9ZVvt"
      },
      "source": [
        "# **BIBLIOTECAS**"
      ]
    },
    {
      "cell_type": "code",
      "metadata": {
        "id": "QtZInpUAZf72"
      },
      "source": [
        "import pandas as pd\n",
        "import numpy as np\n",
        "import seaborn as sns\n",
        "from matplotlib import pyplot as plt\n",
        "from matplotlib.pyplot import figure\n",
        "from sklearn.metrics import confusion_matrix\n",
        "from sklearn.neural_network import MLPClassifier\n",
        "from sklearn.model_selection import train_test_split\n",
        "from sklearn.linear_model import LinearRegression\n",
        "from sklearn.metrics import mean_squared_error\n",
        "from sklearn.preprocessing import PolynomialFeatures\n",
        "from sklearn.ensemble import RandomForestClassifier as forest\n",
        "from sklearn import tree as treeClassifier\n",
        "from sklearn.svm import SVC\n",
        "from sklearn.pipeline import make_pipeline\n",
        "from sklearn.naive_bayes import GaussianNB"
      ],
      "execution_count": 1,
      "outputs": []
    },
    {
      "cell_type": "markdown",
      "metadata": {
        "id": "ece1rY17Zhrc"
      },
      "source": [
        "# **FUNCIONES**"
      ]
    },
    {
      "cell_type": "code",
      "metadata": {
        "id": "1WgRJmI_ZkFQ"
      },
      "source": [
        "def calcularAccuracy(TP, TN, FP, FN):\n",
        "    accuracy = (TP + TN) / (TP + TN + FP + FN)\n",
        "    accuracy = accuracy * 100\n",
        "    return accuracy\n",
        "\n",
        "def calcularExactitud(TP,TN,FP,FN):\n",
        "    exactitud = (TP + TN) / (TP + FN + FP +TN)\n",
        "    exactitud = exactitud * 100\n",
        "    return exactitud\n",
        "\n",
        "def calcularSensibilidad(TP, TN, FP, FN):\n",
        "    sensibilidad = TP / (TP + FN)\n",
        "    sensibilidad = sensibilidad * 100\n",
        "    return sensibilidad\n",
        "\n",
        "def calcularEspecificidad(TP, TN, FP, FN):\n",
        "    especificidad = TN / (TN + FP)\n",
        "    especificidad = especificidad * 100\n",
        "    return especificidad\n",
        "\n",
        "def evaluar(y_test, y_pred):\n",
        "    resultado = confusion_matrix(y_test, y_pred)\n",
        "    print(resultado)\n",
        "    (TN, FP, FN, TP) = resultado.ravel()\n",
        "    print(\"True positives: \"+str(TP))\n",
        "    print(\"True negatives: \"+str(TN))\n",
        "    print(\"False positives: \"+str(FP))\n",
        "    print(\"False negative: \"+str(FN))\n",
        "    acc = calcularAccuracy(TP, TN, FP, FN)\n",
        "    exa = calcularExactitud(TP, TN, FP, FN)\n",
        "    sen = calcularSensibilidad(TP, TN, FP, FN)\n",
        "    spec = calcularEspecificidad(TP, TN, FP, FN)\n",
        "    print(\"Precision:\"+str(acc)+\"%\")\n",
        "    print(\"Exactitud:\"+str(exa)+\"%\")\n",
        "    print(\"Sensibilidad:\"+str(sen)+\"%\")\n",
        "    print(\"Especificidad:\"+str(spec)+\"%\")\n",
        "    dataframe = pd.DataFrame(resultado)\n",
        "    figure(figsize=(8, 6), dpi=80)\n",
        "    sns.heatmap(dataframe, annot=True, cbar=None, linecolor='black', cmap='coolwarm', fmt='g', annot_kws={\"fontsize\":20})\n",
        "    plt.title(\"Confusion Matrix\", fontsize=25) \n",
        "    plt.tight_layout()\n",
        "    plt.ylabel(\"True\", fontsize=15) \n",
        "    plt.xlabel(\"Predicted\", fontsize=15)\n",
        "    plt.show()"
      ],
      "execution_count": 2,
      "outputs": []
    },
    {
      "cell_type": "markdown",
      "metadata": {
        "id": "Bin9HCeCaiPC"
      },
      "source": [
        "# **COLECCIÓN DE DATOS**"
      ]
    },
    {
      "cell_type": "markdown",
      "metadata": {
        "id": "ydrW86Xnj3N0"
      },
      "source": [
        "La colección de datos es una parte fundamental dentro de un proyecto de ciencia de datos, siendo que es importante tener una fuente confiable y segura de los datos que van a ser sometidos a un análisis. Existen distintas fuentes para extraer bases de datos, entre las más destacadas se encuentran sitios como Kaggle, APIs públicas o privadas, Instituciones gubernamentales o privadas, entre otras.\n",
        "\n",
        "Siendo que nuestro proyecto esta dirigido a analizar el \"Impacto delictivo en México a consecuencia del COVID-19\", es fundamental obtener nuestros datos de una fuente confiable y que realmente nos ayude a poder analizar los delitos cometidos en México.\n",
        "\n",
        "Para la obtención de los datos en cuanto a la República Mexicana fue usado el website del Gobierno de México, dado que para poder obtener los delitos en cada uno de los Estados y Municipios del país, deben de ser obtenido mediante una entidad gubernamental por temas de confidencialidad y resguardo de datos, por lo que en la siguiente dirección URL se encuentran los datos abiertos de incidencia delictiva en los últimos 5 años (2015-2020):\n",
        "\n",
        "https://drive.google.com/file/d/1CW1dhLMF0QLZ4vXUTMiBrbj-O53Y9XpL/view?usp=sharing"
      ]
    },
    {
      "cell_type": "code",
      "metadata": {
        "id": "xqItpjuyapsz"
      },
      "source": [
        "from google.colab import drive"
      ],
      "execution_count": 3,
      "outputs": []
    },
    {
      "cell_type": "code",
      "metadata": {
        "id": "OWbxB-dJbEWD"
      },
      "source": [
        "df_municipios = pd.read_csv(\"/content/drive/MyDrive/Proyecto Python/Municipal-Delitos-2015-2021_ene2021.csv\", encoding=\"latin-1\")"
      ],
      "execution_count": 4,
      "outputs": []
    },
    {
      "cell_type": "code",
      "metadata": {
        "id": "iGkmsumsCibk",
        "colab": {
          "base_uri": "https://localhost:8080/",
          "height": 267
        },
        "outputId": "a8879e39-39e5-4b9b-dba7-7afe63bc015d"
      },
      "source": [
        "df_municipios.head(2)"
      ],
      "execution_count": 5,
      "outputs": [
        {
          "output_type": "execute_result",
          "data": {
            "text/html": [
              "<div>\n",
              "<style scoped>\n",
              "    .dataframe tbody tr th:only-of-type {\n",
              "        vertical-align: middle;\n",
              "    }\n",
              "\n",
              "    .dataframe tbody tr th {\n",
              "        vertical-align: top;\n",
              "    }\n",
              "\n",
              "    .dataframe thead th {\n",
              "        text-align: right;\n",
              "    }\n",
              "</style>\n",
              "<table border=\"1\" class=\"dataframe\">\n",
              "  <thead>\n",
              "    <tr style=\"text-align: right;\">\n",
              "      <th></th>\n",
              "      <th>Año</th>\n",
              "      <th>Clave_Ent</th>\n",
              "      <th>Entidad</th>\n",
              "      <th>Cve. Municipio</th>\n",
              "      <th>Municipio</th>\n",
              "      <th>Bien jurídico afectado</th>\n",
              "      <th>Tipo de delito</th>\n",
              "      <th>Subtipo de delito</th>\n",
              "      <th>Modalidad</th>\n",
              "      <th>Enero</th>\n",
              "      <th>Febrero</th>\n",
              "      <th>Marzo</th>\n",
              "      <th>Abril</th>\n",
              "      <th>Mayo</th>\n",
              "      <th>Junio</th>\n",
              "      <th>Julio</th>\n",
              "      <th>Agosto</th>\n",
              "      <th>Septiembre</th>\n",
              "      <th>Octubre</th>\n",
              "      <th>Noviembre</th>\n",
              "      <th>Diciembre</th>\n",
              "    </tr>\n",
              "  </thead>\n",
              "  <tbody>\n",
              "    <tr>\n",
              "      <th>0</th>\n",
              "      <td>2015</td>\n",
              "      <td>1</td>\n",
              "      <td>Aguascalientes</td>\n",
              "      <td>1001</td>\n",
              "      <td>Aguascalientes</td>\n",
              "      <td>La vida y la Integridad corporal</td>\n",
              "      <td>Homicidio</td>\n",
              "      <td>Homicidio doloso</td>\n",
              "      <td>Con arma de fuego</td>\n",
              "      <td>2</td>\n",
              "      <td>0.0</td>\n",
              "      <td>1.0</td>\n",
              "      <td>1.0</td>\n",
              "      <td>0.0</td>\n",
              "      <td>1.0</td>\n",
              "      <td>1.0</td>\n",
              "      <td>0.0</td>\n",
              "      <td>2.0</td>\n",
              "      <td>1.0</td>\n",
              "      <td>0.0</td>\n",
              "      <td>1.0</td>\n",
              "    </tr>\n",
              "    <tr>\n",
              "      <th>1</th>\n",
              "      <td>2015</td>\n",
              "      <td>1</td>\n",
              "      <td>Aguascalientes</td>\n",
              "      <td>1001</td>\n",
              "      <td>Aguascalientes</td>\n",
              "      <td>La vida y la Integridad corporal</td>\n",
              "      <td>Homicidio</td>\n",
              "      <td>Homicidio doloso</td>\n",
              "      <td>Con arma blanca</td>\n",
              "      <td>1</td>\n",
              "      <td>1.0</td>\n",
              "      <td>0.0</td>\n",
              "      <td>0.0</td>\n",
              "      <td>0.0</td>\n",
              "      <td>1.0</td>\n",
              "      <td>0.0</td>\n",
              "      <td>1.0</td>\n",
              "      <td>0.0</td>\n",
              "      <td>0.0</td>\n",
              "      <td>0.0</td>\n",
              "      <td>0.0</td>\n",
              "    </tr>\n",
              "  </tbody>\n",
              "</table>\n",
              "</div>"
            ],
            "text/plain": [
              "    Año  Clave_Ent         Entidad  ...  Octubre Noviembre Diciembre\n",
              "0  2015          1  Aguascalientes  ...      1.0       0.0       1.0\n",
              "1  2015          1  Aguascalientes  ...      0.0       0.0       0.0\n",
              "\n",
              "[2 rows x 21 columns]"
            ]
          },
          "metadata": {
            "tags": []
          },
          "execution_count": 5
        }
      ]
    },
    {
      "cell_type": "markdown",
      "metadata": {
        "id": "J9RrKDuSfM0M"
      },
      "source": [
        "# **ANÁLISIS EXPLORATORIO Y LIMPIEZA DE LOS DATOS**"
      ]
    },
    {
      "cell_type": "markdown",
      "metadata": {
        "id": "QEHZaqzFO2bX"
      },
      "source": [
        "## **1. ¿Qué tamaño tiene mi conjunto de datos? ¿Serán datos suficientes?**"
      ]
    },
    {
      "cell_type": "code",
      "metadata": {
        "id": "aYugxLEiO3RV",
        "colab": {
          "base_uri": "https://localhost:8080/"
        },
        "outputId": "0394af6e-d8db-49ec-b33c-9015ea15ded1"
      },
      "source": [
        "df_municipios.shape"
      ],
      "execution_count": 6,
      "outputs": [
        {
          "output_type": "execute_result",
          "data": {
            "text/plain": [
              "(1588776, 21)"
            ]
          },
          "metadata": {
            "tags": []
          },
          "execution_count": 6
        }
      ]
    },
    {
      "cell_type": "markdown",
      "metadata": {
        "id": "bqnVmRzDCtLr"
      },
      "source": [
        "*Vemos que nuestro data frame **df_municipios** tiene 1588776 filas y 21 columnas, por lo cual podemos justificar que tiene una gran cantidad de datos, los cuales no serán un problema para cualquier futuro análisis, como el caso de la predicción (clasificación), siendo que tenemos suficientes datos para poder entrenar nuestro modelo y ponerlo a prueba.*"
      ]
    },
    {
      "cell_type": "markdown",
      "metadata": {
        "id": "NWmkDP2YOLFM"
      },
      "source": [
        "## **2. ¿Qué columnas tengo y qué información tengo en cada una de esas columnas?**"
      ]
    },
    {
      "cell_type": "code",
      "metadata": {
        "id": "bPFjtk6iO3wM",
        "colab": {
          "base_uri": "https://localhost:8080/"
        },
        "outputId": "830b047f-0331-48a2-e697-c1238f39199c"
      },
      "source": [
        "df_municipios.columns"
      ],
      "execution_count": 7,
      "outputs": [
        {
          "output_type": "execute_result",
          "data": {
            "text/plain": [
              "Index(['Año', 'Clave_Ent', 'Entidad', 'Cve. Municipio', 'Municipio',\n",
              "       'Bien jurídico afectado', 'Tipo de delito', 'Subtipo de delito',\n",
              "       'Modalidad', 'Enero', 'Febrero', 'Marzo', 'Abril', 'Mayo', 'Junio',\n",
              "       'Julio', 'Agosto', 'Septiembre', 'Octubre', 'Noviembre', 'Diciembre'],\n",
              "      dtype='object')"
            ]
          },
          "metadata": {
            "tags": []
          },
          "execution_count": 7
        }
      ]
    },
    {
      "cell_type": "markdown",
      "metadata": {
        "id": "pJUw3j-Zi9Xu"
      },
      "source": [
        "- En la columna **`Año`** tenemos registros que empiezan en el 2015 y llegan hasta el 2021."
      ]
    },
    {
      "cell_type": "code",
      "metadata": {
        "colab": {
          "base_uri": "https://localhost:8080/"
        },
        "id": "7BkmWl3Si2ZN",
        "outputId": "a8a1c20e-4b17-4ba0-ddd3-f3217cbc2984"
      },
      "source": [
        "df_municipios['Año'].unique()"
      ],
      "execution_count": 8,
      "outputs": [
        {
          "output_type": "execute_result",
          "data": {
            "text/plain": [
              "array([2015, 2016, 2017, 2018, 2019, 2020, 2021])"
            ]
          },
          "metadata": {
            "tags": []
          },
          "execution_count": 8
        }
      ]
    },
    {
      "cell_type": "markdown",
      "metadata": {
        "id": "zqVQvVqLjCzk"
      },
      "source": [
        "- En **`Entidad`** yacen los nombres de los estados donde ocurren los hechos mientras que **`Clave_Ent`** es la clave federativa de este estado."
      ]
    },
    {
      "cell_type": "code",
      "metadata": {
        "colab": {
          "base_uri": "https://localhost:8080/",
          "height": 204
        },
        "id": "zx3efPlNjncT",
        "outputId": "85014796-da11-4d56-fa00-dcc7e980f118"
      },
      "source": [
        "df_municipios[['Clave_Ent', 'Entidad']].sample(5)"
      ],
      "execution_count": 9,
      "outputs": [
        {
          "output_type": "execute_result",
          "data": {
            "text/html": [
              "<div>\n",
              "<style scoped>\n",
              "    .dataframe tbody tr th:only-of-type {\n",
              "        vertical-align: middle;\n",
              "    }\n",
              "\n",
              "    .dataframe tbody tr th {\n",
              "        vertical-align: top;\n",
              "    }\n",
              "\n",
              "    .dataframe thead th {\n",
              "        text-align: right;\n",
              "    }\n",
              "</style>\n",
              "<table border=\"1\" class=\"dataframe\">\n",
              "  <thead>\n",
              "    <tr style=\"text-align: right;\">\n",
              "      <th></th>\n",
              "      <th>Clave_Ent</th>\n",
              "      <th>Entidad</th>\n",
              "    </tr>\n",
              "  </thead>\n",
              "  <tbody>\n",
              "    <tr>\n",
              "      <th>533759</th>\n",
              "      <td>21</td>\n",
              "      <td>Puebla</td>\n",
              "    </tr>\n",
              "    <tr>\n",
              "      <th>5656</th>\n",
              "      <td>5</td>\n",
              "      <td>Coahuila de Zaragoza</td>\n",
              "    </tr>\n",
              "    <tr>\n",
              "      <th>1402604</th>\n",
              "      <td>14</td>\n",
              "      <td>Jalisco</td>\n",
              "    </tr>\n",
              "    <tr>\n",
              "      <th>731053</th>\n",
              "      <td>20</td>\n",
              "      <td>Oaxaca</td>\n",
              "    </tr>\n",
              "    <tr>\n",
              "      <th>67602</th>\n",
              "      <td>15</td>\n",
              "      <td>México</td>\n",
              "    </tr>\n",
              "  </tbody>\n",
              "</table>\n",
              "</div>"
            ],
            "text/plain": [
              "         Clave_Ent               Entidad\n",
              "533759          21                Puebla\n",
              "5656             5  Coahuila de Zaragoza\n",
              "1402604         14               Jalisco\n",
              "731053          20                Oaxaca\n",
              "67602           15                México"
            ]
          },
          "metadata": {
            "tags": []
          },
          "execution_count": 9
        }
      ]
    },
    {
      "cell_type": "markdown",
      "metadata": {
        "id": "uymv8pZsvVCS"
      },
      "source": [
        "- En **`Municipio`** yacen los nombres de los municipios asociados a los estados donde ocurren los hechos mientras que **`Cve. Municipio`** es la clave única de este municipio."
      ]
    },
    {
      "cell_type": "code",
      "metadata": {
        "colab": {
          "base_uri": "https://localhost:8080/",
          "height": 204
        },
        "id": "8MHnotpPvVCf",
        "outputId": "a886a5c9-24b2-4f59-9523-0c1660bb9283"
      },
      "source": [
        "df_municipios[['Cve. Municipio', 'Municipio']].sample(5)"
      ],
      "execution_count": 10,
      "outputs": [
        {
          "output_type": "execute_result",
          "data": {
            "text/html": [
              "<div>\n",
              "<style scoped>\n",
              "    .dataframe tbody tr th:only-of-type {\n",
              "        vertical-align: middle;\n",
              "    }\n",
              "\n",
              "    .dataframe tbody tr th {\n",
              "        vertical-align: top;\n",
              "    }\n",
              "\n",
              "    .dataframe thead th {\n",
              "        text-align: right;\n",
              "    }\n",
              "</style>\n",
              "<table border=\"1\" class=\"dataframe\">\n",
              "  <thead>\n",
              "    <tr style=\"text-align: right;\">\n",
              "      <th></th>\n",
              "      <th>Cve. Municipio</th>\n",
              "      <th>Municipio</th>\n",
              "    </tr>\n",
              "  </thead>\n",
              "  <tbody>\n",
              "    <tr>\n",
              "      <th>1271742</th>\n",
              "      <td>21131</td>\n",
              "      <td>San Juan Atzompa</td>\n",
              "    </tr>\n",
              "    <tr>\n",
              "      <th>968876</th>\n",
              "      <td>20083</td>\n",
              "      <td>San Agustín de las Juntas</td>\n",
              "    </tr>\n",
              "    <tr>\n",
              "      <th>1265749</th>\n",
              "      <td>21070</td>\n",
              "      <td>Huatlatlauca</td>\n",
              "    </tr>\n",
              "    <tr>\n",
              "      <th>352344</th>\n",
              "      <td>30112</td>\n",
              "      <td>Naolinco</td>\n",
              "    </tr>\n",
              "    <tr>\n",
              "      <th>1370907</th>\n",
              "      <td>8045</td>\n",
              "      <td>Meoqui</td>\n",
              "    </tr>\n",
              "  </tbody>\n",
              "</table>\n",
              "</div>"
            ],
            "text/plain": [
              "         Cve. Municipio                  Municipio\n",
              "1271742           21131           San Juan Atzompa\n",
              "968876            20083  San Agustín de las Juntas\n",
              "1265749           21070               Huatlatlauca\n",
              "352344            30112                   Naolinco\n",
              "1370907            8045                     Meoqui"
            ]
          },
          "metadata": {
            "tags": []
          },
          "execution_count": 10
        }
      ]
    },
    {
      "cell_type": "markdown",
      "metadata": {
        "id": "03sqlxiijIvG"
      },
      "source": [
        "- **`Bien jurídico afectado`** , **`Tipo de delito`**, **`Subtipo de delito`** y **`Modalidad`** son columnas que describen los delitos registrados."
      ]
    },
    {
      "cell_type": "code",
      "metadata": {
        "colab": {
          "base_uri": "https://localhost:8080/",
          "height": 204
        },
        "id": "N0Nz00CnvwzF",
        "outputId": "ebb73f0d-0050-4220-d81f-9d72e4f2e4b4"
      },
      "source": [
        "df_municipios[['Bien jurídico afectado', 'Tipo de delito', 'Subtipo de delito']].sample(5)"
      ],
      "execution_count": 11,
      "outputs": [
        {
          "output_type": "execute_result",
          "data": {
            "text/html": [
              "<div>\n",
              "<style scoped>\n",
              "    .dataframe tbody tr th:only-of-type {\n",
              "        vertical-align: middle;\n",
              "    }\n",
              "\n",
              "    .dataframe tbody tr th {\n",
              "        vertical-align: top;\n",
              "    }\n",
              "\n",
              "    .dataframe thead th {\n",
              "        text-align: right;\n",
              "    }\n",
              "</style>\n",
              "<table border=\"1\" class=\"dataframe\">\n",
              "  <thead>\n",
              "    <tr style=\"text-align: right;\">\n",
              "      <th></th>\n",
              "      <th>Bien jurídico afectado</th>\n",
              "      <th>Tipo de delito</th>\n",
              "      <th>Subtipo de delito</th>\n",
              "    </tr>\n",
              "  </thead>\n",
              "  <tbody>\n",
              "    <tr>\n",
              "      <th>1169043</th>\n",
              "      <td>La vida y la Integridad corporal</td>\n",
              "      <td>Homicidio</td>\n",
              "      <td>Homicidio doloso</td>\n",
              "    </tr>\n",
              "    <tr>\n",
              "      <th>267587</th>\n",
              "      <td>El patrimonio</td>\n",
              "      <td>Robo</td>\n",
              "      <td>Robo de autopartes</td>\n",
              "    </tr>\n",
              "    <tr>\n",
              "      <th>1450318</th>\n",
              "      <td>La vida y la Integridad corporal</td>\n",
              "      <td>Lesiones</td>\n",
              "      <td>Lesiones culposas</td>\n",
              "    </tr>\n",
              "    <tr>\n",
              "      <th>304279</th>\n",
              "      <td>La sociedad</td>\n",
              "      <td>Otros delitos contra la sociedad</td>\n",
              "      <td>Otros delitos contra la sociedad</td>\n",
              "    </tr>\n",
              "    <tr>\n",
              "      <th>636295</th>\n",
              "      <td>El patrimonio</td>\n",
              "      <td>Despojo</td>\n",
              "      <td>Despojo</td>\n",
              "    </tr>\n",
              "  </tbody>\n",
              "</table>\n",
              "</div>"
            ],
            "text/plain": [
              "                   Bien jurídico afectado  ...                 Subtipo de delito\n",
              "1169043  La vida y la Integridad corporal  ...                  Homicidio doloso\n",
              "267587                      El patrimonio  ...                Robo de autopartes\n",
              "1450318  La vida y la Integridad corporal  ...                 Lesiones culposas\n",
              "304279                        La sociedad  ...  Otros delitos contra la sociedad\n",
              "636295                      El patrimonio  ...                           Despojo\n",
              "\n",
              "[5 rows x 3 columns]"
            ]
          },
          "metadata": {
            "tags": []
          },
          "execution_count": 11
        }
      ]
    },
    {
      "cell_type": "markdown",
      "metadata": {
        "id": "sb6qN9NAG34p"
      },
      "source": [
        "\n",
        "\n",
        "\n",
        "\n",
        "- Las columnas de **`Enero`**, **`Febrero`**, **`Marzo`**, **`Abril`**, **`Mayo`**, **`Junio`**, **`Julio`**, **`Agosto`**, **`Septiembre`**, **`Octubre`**, **`Noviembre`**, **`Diciembre`** son las sumas acumuladas de los registros por tipos de delito.\n"
      ]
    },
    {
      "cell_type": "code",
      "metadata": {
        "colab": {
          "base_uri": "https://localhost:8080/",
          "height": 359
        },
        "id": "vPbYPdwXz6al",
        "outputId": "473a96d0-07e6-4ef7-8e80-ee2e1da4b2a3"
      },
      "source": [
        "df_municipios[df_municipios.columns[9:21]].sample(10)"
      ],
      "execution_count": 12,
      "outputs": [
        {
          "output_type": "execute_result",
          "data": {
            "text/html": [
              "<div>\n",
              "<style scoped>\n",
              "    .dataframe tbody tr th:only-of-type {\n",
              "        vertical-align: middle;\n",
              "    }\n",
              "\n",
              "    .dataframe tbody tr th {\n",
              "        vertical-align: top;\n",
              "    }\n",
              "\n",
              "    .dataframe thead th {\n",
              "        text-align: right;\n",
              "    }\n",
              "</style>\n",
              "<table border=\"1\" class=\"dataframe\">\n",
              "  <thead>\n",
              "    <tr style=\"text-align: right;\">\n",
              "      <th></th>\n",
              "      <th>Enero</th>\n",
              "      <th>Febrero</th>\n",
              "      <th>Marzo</th>\n",
              "      <th>Abril</th>\n",
              "      <th>Mayo</th>\n",
              "      <th>Junio</th>\n",
              "      <th>Julio</th>\n",
              "      <th>Agosto</th>\n",
              "      <th>Septiembre</th>\n",
              "      <th>Octubre</th>\n",
              "      <th>Noviembre</th>\n",
              "      <th>Diciembre</th>\n",
              "    </tr>\n",
              "  </thead>\n",
              "  <tbody>\n",
              "    <tr>\n",
              "      <th>1040712</th>\n",
              "      <td>0</td>\n",
              "      <td>0.0</td>\n",
              "      <td>0.0</td>\n",
              "      <td>0.0</td>\n",
              "      <td>0.0</td>\n",
              "      <td>0.0</td>\n",
              "      <td>0.0</td>\n",
              "      <td>0.0</td>\n",
              "      <td>0.0</td>\n",
              "      <td>0.0</td>\n",
              "      <td>0.0</td>\n",
              "      <td>0.0</td>\n",
              "    </tr>\n",
              "    <tr>\n",
              "      <th>939317</th>\n",
              "      <td>0</td>\n",
              "      <td>0.0</td>\n",
              "      <td>0.0</td>\n",
              "      <td>0.0</td>\n",
              "      <td>0.0</td>\n",
              "      <td>0.0</td>\n",
              "      <td>0.0</td>\n",
              "      <td>0.0</td>\n",
              "      <td>0.0</td>\n",
              "      <td>0.0</td>\n",
              "      <td>0.0</td>\n",
              "      <td>0.0</td>\n",
              "    </tr>\n",
              "    <tr>\n",
              "      <th>866750</th>\n",
              "      <td>0</td>\n",
              "      <td>0.0</td>\n",
              "      <td>0.0</td>\n",
              "      <td>0.0</td>\n",
              "      <td>0.0</td>\n",
              "      <td>0.0</td>\n",
              "      <td>0.0</td>\n",
              "      <td>0.0</td>\n",
              "      <td>0.0</td>\n",
              "      <td>0.0</td>\n",
              "      <td>0.0</td>\n",
              "      <td>0.0</td>\n",
              "    </tr>\n",
              "    <tr>\n",
              "      <th>1379389</th>\n",
              "      <td>0</td>\n",
              "      <td>NaN</td>\n",
              "      <td>NaN</td>\n",
              "      <td>NaN</td>\n",
              "      <td>NaN</td>\n",
              "      <td>NaN</td>\n",
              "      <td>NaN</td>\n",
              "      <td>NaN</td>\n",
              "      <td>NaN</td>\n",
              "      <td>NaN</td>\n",
              "      <td>NaN</td>\n",
              "      <td>NaN</td>\n",
              "    </tr>\n",
              "    <tr>\n",
              "      <th>782326</th>\n",
              "      <td>0</td>\n",
              "      <td>0.0</td>\n",
              "      <td>0.0</td>\n",
              "      <td>0.0</td>\n",
              "      <td>0.0</td>\n",
              "      <td>0.0</td>\n",
              "      <td>0.0</td>\n",
              "      <td>0.0</td>\n",
              "      <td>0.0</td>\n",
              "      <td>0.0</td>\n",
              "      <td>0.0</td>\n",
              "      <td>0.0</td>\n",
              "    </tr>\n",
              "    <tr>\n",
              "      <th>1465333</th>\n",
              "      <td>0</td>\n",
              "      <td>NaN</td>\n",
              "      <td>NaN</td>\n",
              "      <td>NaN</td>\n",
              "      <td>NaN</td>\n",
              "      <td>NaN</td>\n",
              "      <td>NaN</td>\n",
              "      <td>NaN</td>\n",
              "      <td>NaN</td>\n",
              "      <td>NaN</td>\n",
              "      <td>NaN</td>\n",
              "      <td>NaN</td>\n",
              "    </tr>\n",
              "    <tr>\n",
              "      <th>398522</th>\n",
              "      <td>0</td>\n",
              "      <td>0.0</td>\n",
              "      <td>0.0</td>\n",
              "      <td>0.0</td>\n",
              "      <td>0.0</td>\n",
              "      <td>0.0</td>\n",
              "      <td>0.0</td>\n",
              "      <td>0.0</td>\n",
              "      <td>0.0</td>\n",
              "      <td>0.0</td>\n",
              "      <td>0.0</td>\n",
              "      <td>0.0</td>\n",
              "    </tr>\n",
              "    <tr>\n",
              "      <th>1503817</th>\n",
              "      <td>0</td>\n",
              "      <td>NaN</td>\n",
              "      <td>NaN</td>\n",
              "      <td>NaN</td>\n",
              "      <td>NaN</td>\n",
              "      <td>NaN</td>\n",
              "      <td>NaN</td>\n",
              "      <td>NaN</td>\n",
              "      <td>NaN</td>\n",
              "      <td>NaN</td>\n",
              "      <td>NaN</td>\n",
              "      <td>NaN</td>\n",
              "    </tr>\n",
              "    <tr>\n",
              "      <th>122973</th>\n",
              "      <td>0</td>\n",
              "      <td>0.0</td>\n",
              "      <td>0.0</td>\n",
              "      <td>0.0</td>\n",
              "      <td>0.0</td>\n",
              "      <td>0.0</td>\n",
              "      <td>0.0</td>\n",
              "      <td>0.0</td>\n",
              "      <td>0.0</td>\n",
              "      <td>0.0</td>\n",
              "      <td>0.0</td>\n",
              "      <td>0.0</td>\n",
              "    </tr>\n",
              "    <tr>\n",
              "      <th>740480</th>\n",
              "      <td>0</td>\n",
              "      <td>0.0</td>\n",
              "      <td>0.0</td>\n",
              "      <td>0.0</td>\n",
              "      <td>0.0</td>\n",
              "      <td>0.0</td>\n",
              "      <td>0.0</td>\n",
              "      <td>0.0</td>\n",
              "      <td>0.0</td>\n",
              "      <td>0.0</td>\n",
              "      <td>0.0</td>\n",
              "      <td>0.0</td>\n",
              "    </tr>\n",
              "  </tbody>\n",
              "</table>\n",
              "</div>"
            ],
            "text/plain": [
              "         Enero  Febrero  Marzo  ...  Octubre  Noviembre  Diciembre\n",
              "1040712      0      0.0    0.0  ...      0.0        0.0        0.0\n",
              "939317       0      0.0    0.0  ...      0.0        0.0        0.0\n",
              "866750       0      0.0    0.0  ...      0.0        0.0        0.0\n",
              "1379389      0      NaN    NaN  ...      NaN        NaN        NaN\n",
              "782326       0      0.0    0.0  ...      0.0        0.0        0.0\n",
              "1465333      0      NaN    NaN  ...      NaN        NaN        NaN\n",
              "398522       0      0.0    0.0  ...      0.0        0.0        0.0\n",
              "1503817      0      NaN    NaN  ...      NaN        NaN        NaN\n",
              "122973       0      0.0    0.0  ...      0.0        0.0        0.0\n",
              "740480       0      0.0    0.0  ...      0.0        0.0        0.0\n",
              "\n",
              "[10 rows x 12 columns]"
            ]
          },
          "metadata": {
            "tags": []
          },
          "execution_count": 12
        }
      ]
    },
    {
      "cell_type": "markdown",
      "metadata": {
        "id": "SqpM4TuB1FXo"
      },
      "source": [
        "- Añadiremos una ultima columna al dataframe que sume el total anual de delitos para cada tipo de delito y para cada estado. Esto nos servirá en el análisis posterior. A esta nueva columna le pondremos **`total_anual`**."
      ]
    },
    {
      "cell_type": "code",
      "metadata": {
        "id": "7ZG4m6EK2Izu"
      },
      "source": [
        "meses = ['Enero', 'Febrero','Marzo','Abril','Mayo','Junio','Julio','Agosto','Septiembre','Octubre','Noviembre','Diciembre']"
      ],
      "execution_count": 13,
      "outputs": []
    },
    {
      "cell_type": "code",
      "metadata": {
        "id": "lBqZNr__1tXs"
      },
      "source": [
        "df_municipios['total_anual'] = df_municipios[meses].sum(axis=1)"
      ],
      "execution_count": 14,
      "outputs": []
    },
    {
      "cell_type": "code",
      "metadata": {
        "colab": {
          "base_uri": "https://localhost:8080/",
          "height": 349
        },
        "id": "uk-c8Iii2Op6",
        "outputId": "5ac68a2e-fbc4-4807-aae3-fae0a9c6c553"
      },
      "source": [
        "df_municipios.head(3)"
      ],
      "execution_count": 15,
      "outputs": [
        {
          "output_type": "execute_result",
          "data": {
            "text/html": [
              "<div>\n",
              "<style scoped>\n",
              "    .dataframe tbody tr th:only-of-type {\n",
              "        vertical-align: middle;\n",
              "    }\n",
              "\n",
              "    .dataframe tbody tr th {\n",
              "        vertical-align: top;\n",
              "    }\n",
              "\n",
              "    .dataframe thead th {\n",
              "        text-align: right;\n",
              "    }\n",
              "</style>\n",
              "<table border=\"1\" class=\"dataframe\">\n",
              "  <thead>\n",
              "    <tr style=\"text-align: right;\">\n",
              "      <th></th>\n",
              "      <th>Año</th>\n",
              "      <th>Clave_Ent</th>\n",
              "      <th>Entidad</th>\n",
              "      <th>Cve. Municipio</th>\n",
              "      <th>Municipio</th>\n",
              "      <th>Bien jurídico afectado</th>\n",
              "      <th>Tipo de delito</th>\n",
              "      <th>Subtipo de delito</th>\n",
              "      <th>Modalidad</th>\n",
              "      <th>Enero</th>\n",
              "      <th>Febrero</th>\n",
              "      <th>Marzo</th>\n",
              "      <th>Abril</th>\n",
              "      <th>Mayo</th>\n",
              "      <th>Junio</th>\n",
              "      <th>Julio</th>\n",
              "      <th>Agosto</th>\n",
              "      <th>Septiembre</th>\n",
              "      <th>Octubre</th>\n",
              "      <th>Noviembre</th>\n",
              "      <th>Diciembre</th>\n",
              "      <th>total_anual</th>\n",
              "    </tr>\n",
              "  </thead>\n",
              "  <tbody>\n",
              "    <tr>\n",
              "      <th>0</th>\n",
              "      <td>2015</td>\n",
              "      <td>1</td>\n",
              "      <td>Aguascalientes</td>\n",
              "      <td>1001</td>\n",
              "      <td>Aguascalientes</td>\n",
              "      <td>La vida y la Integridad corporal</td>\n",
              "      <td>Homicidio</td>\n",
              "      <td>Homicidio doloso</td>\n",
              "      <td>Con arma de fuego</td>\n",
              "      <td>2</td>\n",
              "      <td>0.0</td>\n",
              "      <td>1.0</td>\n",
              "      <td>1.0</td>\n",
              "      <td>0.0</td>\n",
              "      <td>1.0</td>\n",
              "      <td>1.0</td>\n",
              "      <td>0.0</td>\n",
              "      <td>2.0</td>\n",
              "      <td>1.0</td>\n",
              "      <td>0.0</td>\n",
              "      <td>1.0</td>\n",
              "      <td>10.0</td>\n",
              "    </tr>\n",
              "    <tr>\n",
              "      <th>1</th>\n",
              "      <td>2015</td>\n",
              "      <td>1</td>\n",
              "      <td>Aguascalientes</td>\n",
              "      <td>1001</td>\n",
              "      <td>Aguascalientes</td>\n",
              "      <td>La vida y la Integridad corporal</td>\n",
              "      <td>Homicidio</td>\n",
              "      <td>Homicidio doloso</td>\n",
              "      <td>Con arma blanca</td>\n",
              "      <td>1</td>\n",
              "      <td>1.0</td>\n",
              "      <td>0.0</td>\n",
              "      <td>0.0</td>\n",
              "      <td>0.0</td>\n",
              "      <td>1.0</td>\n",
              "      <td>0.0</td>\n",
              "      <td>1.0</td>\n",
              "      <td>0.0</td>\n",
              "      <td>0.0</td>\n",
              "      <td>0.0</td>\n",
              "      <td>0.0</td>\n",
              "      <td>4.0</td>\n",
              "    </tr>\n",
              "    <tr>\n",
              "      <th>2</th>\n",
              "      <td>2015</td>\n",
              "      <td>1</td>\n",
              "      <td>Aguascalientes</td>\n",
              "      <td>1001</td>\n",
              "      <td>Aguascalientes</td>\n",
              "      <td>La vida y la Integridad corporal</td>\n",
              "      <td>Homicidio</td>\n",
              "      <td>Homicidio doloso</td>\n",
              "      <td>Con otro elemento</td>\n",
              "      <td>0</td>\n",
              "      <td>0.0</td>\n",
              "      <td>1.0</td>\n",
              "      <td>1.0</td>\n",
              "      <td>3.0</td>\n",
              "      <td>2.0</td>\n",
              "      <td>0.0</td>\n",
              "      <td>1.0</td>\n",
              "      <td>2.0</td>\n",
              "      <td>0.0</td>\n",
              "      <td>0.0</td>\n",
              "      <td>0.0</td>\n",
              "      <td>10.0</td>\n",
              "    </tr>\n",
              "  </tbody>\n",
              "</table>\n",
              "</div>"
            ],
            "text/plain": [
              "    Año  Clave_Ent         Entidad  ...  Noviembre Diciembre total_anual\n",
              "0  2015          1  Aguascalientes  ...        0.0       1.0        10.0\n",
              "1  2015          1  Aguascalientes  ...        0.0       0.0         4.0\n",
              "2  2015          1  Aguascalientes  ...        0.0       0.0        10.0\n",
              "\n",
              "[3 rows x 22 columns]"
            ]
          },
          "metadata": {
            "tags": []
          },
          "execution_count": 15
        }
      ]
    },
    {
      "cell_type": "markdown",
      "metadata": {
        "id": "IGT7kMBSO4Hm"
      },
      "source": [
        "## **3. Los nombres que tienen mis columnas, ¿son el nombre más apropiado?** "
      ]
    },
    {
      "cell_type": "markdown",
      "metadata": {
        "id": "tf3PgQK_Jsok"
      },
      "source": [
        "*Son descriptivas, simples y van de acuerdo a a la información que queremos obtener. Sin embargo, la mayoría serán cambiadas a la forma normalizada en la que es normalmente trabajo en distintos lenguajes y no es la excepción en Python.*\n",
        "\n",
        "*Esta es con mínusculas y con guiones bajos en los espacios entre palabras. Por lo que realizaremos un diccionario de conversión para cambiar el nombre de las columnas del dataframe.*"
      ]
    },
    {
      "cell_type": "code",
      "metadata": {
        "id": "-KPo0BHZxfvo"
      },
      "source": [
        "diccionario_conversion = ({\n",
        "    'Año': 'año',\n",
        "    'Clave_Ent': 'clave_entidad',\n",
        "    'Entidad': 'entidad',\n",
        "    'Cve. Municipio': 'clave_municipio',\n",
        "    'Municipio': 'municipio',\n",
        "    'Bien jurídico afectado': 'bien_juridico_afectado' ,\n",
        "    'Tipo de delito': 'tipo_de_delito',\n",
        "    'Subtipo de delito': 'subtipo_de_delito',\n",
        "    'Modalidad': 'modalidad',\n",
        "    'Enero': 'enero',\n",
        "    'Febrero': 'febrero',\n",
        "    'Marzo': 'marzo',\n",
        "    'Abril': 'abril',\n",
        "    'Mayo': 'mayo',\n",
        "    'Junio': 'junio',\n",
        "    'Julio': 'julio',\n",
        "    'Agosto': 'agosto',\n",
        "    'Septiembre': 'septiembre',\n",
        "    'Octubre': 'octubre',\n",
        "    'Noviembre': 'noviembre',\n",
        "    'Diciembre': 'diciembre'\n",
        "})"
      ],
      "execution_count": 16,
      "outputs": []
    },
    {
      "cell_type": "code",
      "metadata": {
        "colab": {
          "base_uri": "https://localhost:8080/",
          "height": 213
        },
        "id": "YxcTz-7D9IXq",
        "outputId": "58f23445-841f-4c17-dafe-24973db0ddff"
      },
      "source": [
        "df_municipios.rename(columns=(diccionario_conversion),inplace=True)\n",
        "df_municipios.head(3)"
      ],
      "execution_count": 17,
      "outputs": [
        {
          "output_type": "execute_result",
          "data": {
            "text/html": [
              "<div>\n",
              "<style scoped>\n",
              "    .dataframe tbody tr th:only-of-type {\n",
              "        vertical-align: middle;\n",
              "    }\n",
              "\n",
              "    .dataframe tbody tr th {\n",
              "        vertical-align: top;\n",
              "    }\n",
              "\n",
              "    .dataframe thead th {\n",
              "        text-align: right;\n",
              "    }\n",
              "</style>\n",
              "<table border=\"1\" class=\"dataframe\">\n",
              "  <thead>\n",
              "    <tr style=\"text-align: right;\">\n",
              "      <th></th>\n",
              "      <th>año</th>\n",
              "      <th>clave_entidad</th>\n",
              "      <th>entidad</th>\n",
              "      <th>clave_municipio</th>\n",
              "      <th>municipio</th>\n",
              "      <th>bien_juridico_afectado</th>\n",
              "      <th>tipo_de_delito</th>\n",
              "      <th>subtipo_de_delito</th>\n",
              "      <th>modalidad</th>\n",
              "      <th>enero</th>\n",
              "      <th>febrero</th>\n",
              "      <th>marzo</th>\n",
              "      <th>abril</th>\n",
              "      <th>mayo</th>\n",
              "      <th>junio</th>\n",
              "      <th>julio</th>\n",
              "      <th>agosto</th>\n",
              "      <th>septiembre</th>\n",
              "      <th>octubre</th>\n",
              "      <th>noviembre</th>\n",
              "      <th>diciembre</th>\n",
              "      <th>total_anual</th>\n",
              "    </tr>\n",
              "  </thead>\n",
              "  <tbody>\n",
              "    <tr>\n",
              "      <th>0</th>\n",
              "      <td>2015</td>\n",
              "      <td>1</td>\n",
              "      <td>Aguascalientes</td>\n",
              "      <td>1001</td>\n",
              "      <td>Aguascalientes</td>\n",
              "      <td>La vida y la Integridad corporal</td>\n",
              "      <td>Homicidio</td>\n",
              "      <td>Homicidio doloso</td>\n",
              "      <td>Con arma de fuego</td>\n",
              "      <td>2</td>\n",
              "      <td>0.0</td>\n",
              "      <td>1.0</td>\n",
              "      <td>1.0</td>\n",
              "      <td>0.0</td>\n",
              "      <td>1.0</td>\n",
              "      <td>1.0</td>\n",
              "      <td>0.0</td>\n",
              "      <td>2.0</td>\n",
              "      <td>1.0</td>\n",
              "      <td>0.0</td>\n",
              "      <td>1.0</td>\n",
              "      <td>10.0</td>\n",
              "    </tr>\n",
              "    <tr>\n",
              "      <th>1</th>\n",
              "      <td>2015</td>\n",
              "      <td>1</td>\n",
              "      <td>Aguascalientes</td>\n",
              "      <td>1001</td>\n",
              "      <td>Aguascalientes</td>\n",
              "      <td>La vida y la Integridad corporal</td>\n",
              "      <td>Homicidio</td>\n",
              "      <td>Homicidio doloso</td>\n",
              "      <td>Con arma blanca</td>\n",
              "      <td>1</td>\n",
              "      <td>1.0</td>\n",
              "      <td>0.0</td>\n",
              "      <td>0.0</td>\n",
              "      <td>0.0</td>\n",
              "      <td>1.0</td>\n",
              "      <td>0.0</td>\n",
              "      <td>1.0</td>\n",
              "      <td>0.0</td>\n",
              "      <td>0.0</td>\n",
              "      <td>0.0</td>\n",
              "      <td>0.0</td>\n",
              "      <td>4.0</td>\n",
              "    </tr>\n",
              "    <tr>\n",
              "      <th>2</th>\n",
              "      <td>2015</td>\n",
              "      <td>1</td>\n",
              "      <td>Aguascalientes</td>\n",
              "      <td>1001</td>\n",
              "      <td>Aguascalientes</td>\n",
              "      <td>La vida y la Integridad corporal</td>\n",
              "      <td>Homicidio</td>\n",
              "      <td>Homicidio doloso</td>\n",
              "      <td>Con otro elemento</td>\n",
              "      <td>0</td>\n",
              "      <td>0.0</td>\n",
              "      <td>1.0</td>\n",
              "      <td>1.0</td>\n",
              "      <td>3.0</td>\n",
              "      <td>2.0</td>\n",
              "      <td>0.0</td>\n",
              "      <td>1.0</td>\n",
              "      <td>2.0</td>\n",
              "      <td>0.0</td>\n",
              "      <td>0.0</td>\n",
              "      <td>0.0</td>\n",
              "      <td>10.0</td>\n",
              "    </tr>\n",
              "  </tbody>\n",
              "</table>\n",
              "</div>"
            ],
            "text/plain": [
              "    año  clave_entidad         entidad  ...  noviembre diciembre total_anual\n",
              "0  2015              1  Aguascalientes  ...        0.0       1.0        10.0\n",
              "1  2015              1  Aguascalientes  ...        0.0       0.0         4.0\n",
              "2  2015              1  Aguascalientes  ...        0.0       0.0        10.0\n",
              "\n",
              "[3 rows x 22 columns]"
            ]
          },
          "metadata": {
            "tags": []
          },
          "execution_count": 17
        }
      ]
    },
    {
      "cell_type": "markdown",
      "metadata": {
        "id": "HYmYaQYHBada"
      },
      "source": [
        "## **4. ¿Nuestros datos presentan NAs?**"
      ]
    },
    {
      "cell_type": "code",
      "metadata": {
        "colab": {
          "base_uri": "https://localhost:8080/"
        },
        "id": "-_n0P0ZpBmk-",
        "outputId": "61ec2698-9634-4f64-83c7-bea796b60a38"
      },
      "source": [
        "df_municipios.isna().sum()"
      ],
      "execution_count": 18,
      "outputs": [
        {
          "output_type": "execute_result",
          "data": {
            "text/plain": [
              "año                            0\n",
              "clave_entidad                  0\n",
              "entidad                        0\n",
              "clave_municipio                0\n",
              "municipio                      0\n",
              "bien_juridico_afectado         0\n",
              "tipo_de_delito                 0\n",
              "subtipo_de_delito              0\n",
              "modalidad                      0\n",
              "enero                          0\n",
              "febrero                   242158\n",
              "marzo                     242158\n",
              "abril                     242158\n",
              "mayo                      242158\n",
              "junio                     242158\n",
              "julio                     242158\n",
              "agosto                    242158\n",
              "septiembre                242158\n",
              "octubre                   242158\n",
              "noviembre                 242158\n",
              "diciembre                 242158\n",
              "total_anual                    0\n",
              "dtype: int64"
            ]
          },
          "metadata": {
            "tags": []
          },
          "execution_count": 18
        }
      ]
    },
    {
      "cell_type": "markdown",
      "metadata": {
        "id": "uviWsF7nB4cB"
      },
      "source": [
        "*Como podemos observar, si tenemos una gran cantidad de valores que presentan NA, es por eso mismo que estos serán eliminados de nuestros datos, justificando el hecho dado que tenemos muchos registros por lo cual no afectaría en el posterior análisis.*"
      ]
    },
    {
      "cell_type": "code",
      "metadata": {
        "id": "W27AXAo4CNw4"
      },
      "source": [
        "df_municipios = df_municipios.dropna()"
      ],
      "execution_count": 19,
      "outputs": []
    },
    {
      "cell_type": "code",
      "metadata": {
        "colab": {
          "base_uri": "https://localhost:8080/"
        },
        "id": "FlOarh9aCTey",
        "outputId": "d6beb505-e202-4d94-a95c-68f236111fa5"
      },
      "source": [
        "#Para verificar que efectivamente ya no se presentan valores NA\n",
        "df_municipios.isna().sum()"
      ],
      "execution_count": 20,
      "outputs": [
        {
          "output_type": "execute_result",
          "data": {
            "text/plain": [
              "año                       0\n",
              "clave_entidad             0\n",
              "entidad                   0\n",
              "clave_municipio           0\n",
              "municipio                 0\n",
              "bien_juridico_afectado    0\n",
              "tipo_de_delito            0\n",
              "subtipo_de_delito         0\n",
              "modalidad                 0\n",
              "enero                     0\n",
              "febrero                   0\n",
              "marzo                     0\n",
              "abril                     0\n",
              "mayo                      0\n",
              "junio                     0\n",
              "julio                     0\n",
              "agosto                    0\n",
              "septiembre                0\n",
              "octubre                   0\n",
              "noviembre                 0\n",
              "diciembre                 0\n",
              "total_anual               0\n",
              "dtype: int64"
            ]
          },
          "metadata": {
            "tags": []
          },
          "execution_count": 20
        }
      ]
    },
    {
      "cell_type": "markdown",
      "metadata": {
        "id": "nVXKdJlmQ0No"
      },
      "source": [
        "Al eliminar registros, resetearemos el index para tener limpio nuestro dataset."
      ]
    },
    {
      "cell_type": "code",
      "metadata": {
        "colab": {
          "base_uri": "https://localhost:8080/",
          "height": 213
        },
        "id": "XQ3rtdIvQ9_z",
        "outputId": "e754c2b1-7b7b-42ca-9f2b-1140aadce601"
      },
      "source": [
        "df_municipios.reset_index(drop=True).head(3)"
      ],
      "execution_count": 21,
      "outputs": [
        {
          "output_type": "execute_result",
          "data": {
            "text/html": [
              "<div>\n",
              "<style scoped>\n",
              "    .dataframe tbody tr th:only-of-type {\n",
              "        vertical-align: middle;\n",
              "    }\n",
              "\n",
              "    .dataframe tbody tr th {\n",
              "        vertical-align: top;\n",
              "    }\n",
              "\n",
              "    .dataframe thead th {\n",
              "        text-align: right;\n",
              "    }\n",
              "</style>\n",
              "<table border=\"1\" class=\"dataframe\">\n",
              "  <thead>\n",
              "    <tr style=\"text-align: right;\">\n",
              "      <th></th>\n",
              "      <th>año</th>\n",
              "      <th>clave_entidad</th>\n",
              "      <th>entidad</th>\n",
              "      <th>clave_municipio</th>\n",
              "      <th>municipio</th>\n",
              "      <th>bien_juridico_afectado</th>\n",
              "      <th>tipo_de_delito</th>\n",
              "      <th>subtipo_de_delito</th>\n",
              "      <th>modalidad</th>\n",
              "      <th>enero</th>\n",
              "      <th>febrero</th>\n",
              "      <th>marzo</th>\n",
              "      <th>abril</th>\n",
              "      <th>mayo</th>\n",
              "      <th>junio</th>\n",
              "      <th>julio</th>\n",
              "      <th>agosto</th>\n",
              "      <th>septiembre</th>\n",
              "      <th>octubre</th>\n",
              "      <th>noviembre</th>\n",
              "      <th>diciembre</th>\n",
              "      <th>total_anual</th>\n",
              "    </tr>\n",
              "  </thead>\n",
              "  <tbody>\n",
              "    <tr>\n",
              "      <th>0</th>\n",
              "      <td>2015</td>\n",
              "      <td>1</td>\n",
              "      <td>Aguascalientes</td>\n",
              "      <td>1001</td>\n",
              "      <td>Aguascalientes</td>\n",
              "      <td>La vida y la Integridad corporal</td>\n",
              "      <td>Homicidio</td>\n",
              "      <td>Homicidio doloso</td>\n",
              "      <td>Con arma de fuego</td>\n",
              "      <td>2</td>\n",
              "      <td>0.0</td>\n",
              "      <td>1.0</td>\n",
              "      <td>1.0</td>\n",
              "      <td>0.0</td>\n",
              "      <td>1.0</td>\n",
              "      <td>1.0</td>\n",
              "      <td>0.0</td>\n",
              "      <td>2.0</td>\n",
              "      <td>1.0</td>\n",
              "      <td>0.0</td>\n",
              "      <td>1.0</td>\n",
              "      <td>10.0</td>\n",
              "    </tr>\n",
              "    <tr>\n",
              "      <th>1</th>\n",
              "      <td>2015</td>\n",
              "      <td>1</td>\n",
              "      <td>Aguascalientes</td>\n",
              "      <td>1001</td>\n",
              "      <td>Aguascalientes</td>\n",
              "      <td>La vida y la Integridad corporal</td>\n",
              "      <td>Homicidio</td>\n",
              "      <td>Homicidio doloso</td>\n",
              "      <td>Con arma blanca</td>\n",
              "      <td>1</td>\n",
              "      <td>1.0</td>\n",
              "      <td>0.0</td>\n",
              "      <td>0.0</td>\n",
              "      <td>0.0</td>\n",
              "      <td>1.0</td>\n",
              "      <td>0.0</td>\n",
              "      <td>1.0</td>\n",
              "      <td>0.0</td>\n",
              "      <td>0.0</td>\n",
              "      <td>0.0</td>\n",
              "      <td>0.0</td>\n",
              "      <td>4.0</td>\n",
              "    </tr>\n",
              "    <tr>\n",
              "      <th>2</th>\n",
              "      <td>2015</td>\n",
              "      <td>1</td>\n",
              "      <td>Aguascalientes</td>\n",
              "      <td>1001</td>\n",
              "      <td>Aguascalientes</td>\n",
              "      <td>La vida y la Integridad corporal</td>\n",
              "      <td>Homicidio</td>\n",
              "      <td>Homicidio doloso</td>\n",
              "      <td>Con otro elemento</td>\n",
              "      <td>0</td>\n",
              "      <td>0.0</td>\n",
              "      <td>1.0</td>\n",
              "      <td>1.0</td>\n",
              "      <td>3.0</td>\n",
              "      <td>2.0</td>\n",
              "      <td>0.0</td>\n",
              "      <td>1.0</td>\n",
              "      <td>2.0</td>\n",
              "      <td>0.0</td>\n",
              "      <td>0.0</td>\n",
              "      <td>0.0</td>\n",
              "      <td>10.0</td>\n",
              "    </tr>\n",
              "  </tbody>\n",
              "</table>\n",
              "</div>"
            ],
            "text/plain": [
              "    año  clave_entidad         entidad  ...  noviembre diciembre total_anual\n",
              "0  2015              1  Aguascalientes  ...        0.0       1.0        10.0\n",
              "1  2015              1  Aguascalientes  ...        0.0       0.0         4.0\n",
              "2  2015              1  Aguascalientes  ...        0.0       0.0        10.0\n",
              "\n",
              "[3 rows x 22 columns]"
            ]
          },
          "metadata": {
            "tags": []
          },
          "execution_count": 21
        }
      ]
    },
    {
      "cell_type": "markdown",
      "metadata": {
        "id": "_D-jNJyhPZ2O"
      },
      "source": [
        "## **5. ¿Qué tipos de datos tengo en cada columna? ¿Parecen ser el tipo correcto de datos? ¿O es un tipo de datos \"incorrecto\"?** "
      ]
    },
    {
      "cell_type": "code",
      "metadata": {
        "id": "rMMA2n2QPaXE",
        "colab": {
          "base_uri": "https://localhost:8080/"
        },
        "outputId": "323ffcc8-edf6-4b04-ee9a-2cab04052134"
      },
      "source": [
        "df_municipios.dtypes"
      ],
      "execution_count": 22,
      "outputs": [
        {
          "output_type": "execute_result",
          "data": {
            "text/plain": [
              "año                         int64\n",
              "clave_entidad               int64\n",
              "entidad                    object\n",
              "clave_municipio             int64\n",
              "municipio                  object\n",
              "bien_juridico_afectado     object\n",
              "tipo_de_delito             object\n",
              "subtipo_de_delito          object\n",
              "modalidad                  object\n",
              "enero                       int64\n",
              "febrero                   float64\n",
              "marzo                     float64\n",
              "abril                     float64\n",
              "mayo                      float64\n",
              "junio                     float64\n",
              "julio                     float64\n",
              "agosto                    float64\n",
              "septiembre                float64\n",
              "octubre                   float64\n",
              "noviembre                 float64\n",
              "diciembre                 float64\n",
              "total_anual               float64\n",
              "dtype: object"
            ]
          },
          "metadata": {
            "tags": []
          },
          "execution_count": 22
        }
      ]
    },
    {
      "cell_type": "markdown",
      "metadata": {
        "id": "HD3Ai9YqKJKl"
      },
      "source": [
        "*Las columnas en su mayoría tienen el tipo de dato correcto, sin embargo los meses, al igual que la columna de **`total_anual`** es preferible que tengan un tipo de dato entero, como es el caso del año y las claves tanto de municipio y de entidad. Por lo cual seran cambiados.*"
      ]
    },
    {
      "cell_type": "code",
      "metadata": {
        "colab": {
          "base_uri": "https://localhost:8080/"
        },
        "id": "MOp5WNuGBGqi",
        "outputId": "c310528a-ec19-4abb-81fa-ec8936ee2246"
      },
      "source": [
        "columnas_tipo_dato_incorrecto = df_municipios.columns[10:22]\n",
        "columnas_tipo_dato_incorrecto"
      ],
      "execution_count": 23,
      "outputs": [
        {
          "output_type": "execute_result",
          "data": {
            "text/plain": [
              "Index(['febrero', 'marzo', 'abril', 'mayo', 'junio', 'julio', 'agosto',\n",
              "       'septiembre', 'octubre', 'noviembre', 'diciembre', 'total_anual'],\n",
              "      dtype='object')"
            ]
          },
          "metadata": {
            "tags": []
          },
          "execution_count": 23
        }
      ]
    },
    {
      "cell_type": "code",
      "metadata": {
        "id": "cA0w8ad6AsaU"
      },
      "source": [
        "for i in columnas_tipo_dato_incorrecto:\n",
        "    df_municipios[i] = df_municipios[i].astype(int)"
      ],
      "execution_count": 24,
      "outputs": []
    },
    {
      "cell_type": "code",
      "metadata": {
        "id": "pfRbxiNkCtBU",
        "colab": {
          "base_uri": "https://localhost:8080/"
        },
        "outputId": "1487c892-1ce7-4ce5-a5ae-6c1cd65e88ba"
      },
      "source": [
        "df_municipios.dtypes"
      ],
      "execution_count": 25,
      "outputs": [
        {
          "output_type": "execute_result",
          "data": {
            "text/plain": [
              "año                        int64\n",
              "clave_entidad              int64\n",
              "entidad                   object\n",
              "clave_municipio            int64\n",
              "municipio                 object\n",
              "bien_juridico_afectado    object\n",
              "tipo_de_delito            object\n",
              "subtipo_de_delito         object\n",
              "modalidad                 object\n",
              "enero                      int64\n",
              "febrero                    int64\n",
              "marzo                      int64\n",
              "abril                      int64\n",
              "mayo                       int64\n",
              "junio                      int64\n",
              "julio                      int64\n",
              "agosto                     int64\n",
              "septiembre                 int64\n",
              "octubre                    int64\n",
              "noviembre                  int64\n",
              "diciembre                  int64\n",
              "total_anual                int64\n",
              "dtype: object"
            ]
          },
          "metadata": {
            "tags": []
          },
          "execution_count": 25
        }
      ]
    },
    {
      "cell_type": "markdown",
      "metadata": {
        "id": "yEp_AZ3iPazv"
      },
      "source": [
        "## **6. Si selecciono algunas filas al azar y las observo, ¿estoy obteniendo los datos que debería? ¿o hay datos que parecen estar \"sucios\" o \"incorrectos\"?** "
      ]
    },
    {
      "cell_type": "code",
      "metadata": {
        "id": "OU3PfuhxPbfn",
        "colab": {
          "base_uri": "https://localhost:8080/",
          "height": 255
        },
        "outputId": "712fda25-fe7d-4b00-e2c4-9f0ee0fdf975"
      },
      "source": [
        "df_municipios.loc[[0,182,1112,45932,158775], ['año', 'entidad', 'municipio', 'tipo_de_delito','modalidad', 'enero' ]]"
      ],
      "execution_count": 26,
      "outputs": [
        {
          "output_type": "execute_result",
          "data": {
            "text/html": [
              "<div>\n",
              "<style scoped>\n",
              "    .dataframe tbody tr th:only-of-type {\n",
              "        vertical-align: middle;\n",
              "    }\n",
              "\n",
              "    .dataframe tbody tr th {\n",
              "        vertical-align: top;\n",
              "    }\n",
              "\n",
              "    .dataframe thead th {\n",
              "        text-align: right;\n",
              "    }\n",
              "</style>\n",
              "<table border=\"1\" class=\"dataframe\">\n",
              "  <thead>\n",
              "    <tr style=\"text-align: right;\">\n",
              "      <th></th>\n",
              "      <th>año</th>\n",
              "      <th>entidad</th>\n",
              "      <th>municipio</th>\n",
              "      <th>tipo_de_delito</th>\n",
              "      <th>modalidad</th>\n",
              "      <th>enero</th>\n",
              "    </tr>\n",
              "  </thead>\n",
              "  <tbody>\n",
              "    <tr>\n",
              "      <th>0</th>\n",
              "      <td>2015</td>\n",
              "      <td>Aguascalientes</td>\n",
              "      <td>Aguascalientes</td>\n",
              "      <td>Homicidio</td>\n",
              "      <td>Con arma de fuego</td>\n",
              "      <td>2</td>\n",
              "    </tr>\n",
              "    <tr>\n",
              "      <th>182</th>\n",
              "      <td>2015</td>\n",
              "      <td>Aguascalientes</td>\n",
              "      <td>Asientos</td>\n",
              "      <td>Otros delitos contra la familia</td>\n",
              "      <td>Otros delitos contra la familia</td>\n",
              "      <td>0</td>\n",
              "    </tr>\n",
              "    <tr>\n",
              "      <th>1112</th>\n",
              "      <td>2015</td>\n",
              "      <td>Baja California</td>\n",
              "      <td>Ensenada</td>\n",
              "      <td>Hostigamiento sexual</td>\n",
              "      <td>Hostigamiento sexual</td>\n",
              "      <td>4</td>\n",
              "    </tr>\n",
              "    <tr>\n",
              "      <th>45932</th>\n",
              "      <td>2015</td>\n",
              "      <td>Hidalgo</td>\n",
              "      <td>Emiliano Zapata</td>\n",
              "      <td>Robo</td>\n",
              "      <td>Robo de herramienta industrial o agrícola Sin ...</td>\n",
              "      <td>0</td>\n",
              "    </tr>\n",
              "    <tr>\n",
              "      <th>158775</th>\n",
              "      <td>2015</td>\n",
              "      <td>Veracruz de Ignacio de la Llave</td>\n",
              "      <td>Fortín</td>\n",
              "      <td>Lesiones</td>\n",
              "      <td>En accidente de tránsito</td>\n",
              "      <td>1</td>\n",
              "    </tr>\n",
              "  </tbody>\n",
              "</table>\n",
              "</div>"
            ],
            "text/plain": [
              "         año  ... enero\n",
              "0       2015  ...     2\n",
              "182     2015  ...     0\n",
              "1112    2015  ...     4\n",
              "45932   2015  ...     0\n",
              "158775  2015  ...     1\n",
              "\n",
              "[5 rows x 6 columns]"
            ]
          },
          "metadata": {
            "tags": []
          },
          "execution_count": 26
        }
      ]
    },
    {
      "cell_type": "markdown",
      "metadata": {
        "id": "hT6CakauMt47"
      },
      "source": [
        "*Tras haber hecho limpieza y exploración de los datos parace que éstos muestran correctamente los registros sin parecer sucios o incorrectos*"
      ]
    },
    {
      "cell_type": "markdown",
      "metadata": {
        "id": "-nele1MDiF3s"
      },
      "source": [
        "## **7. ¿Cuáles son los 5 tipos de delitos con mayor número de casos?**"
      ]
    },
    {
      "cell_type": "code",
      "metadata": {
        "id": "wfku0CSbTXeT",
        "colab": {
          "base_uri": "https://localhost:8080/",
          "height": 204
        },
        "outputId": "df1e5d7a-20f3-494f-c7d5-eaa10b45382c"
      },
      "source": [
        "tipo_delito = df_municipios.groupby('tipo_de_delito', as_index=False).sum()\n",
        "tipo_delito[['tipo_de_delito','total_anual']].sort_values('total_anual', ascending=False).head(5)"
      ],
      "execution_count": 27,
      "outputs": [
        {
          "output_type": "execute_result",
          "data": {
            "text/html": [
              "<div>\n",
              "<style scoped>\n",
              "    .dataframe tbody tr th:only-of-type {\n",
              "        vertical-align: middle;\n",
              "    }\n",
              "\n",
              "    .dataframe tbody tr th {\n",
              "        vertical-align: top;\n",
              "    }\n",
              "\n",
              "    .dataframe thead th {\n",
              "        text-align: right;\n",
              "    }\n",
              "</style>\n",
              "<table border=\"1\" class=\"dataframe\">\n",
              "  <thead>\n",
              "    <tr style=\"text-align: right;\">\n",
              "      <th></th>\n",
              "      <th>tipo_de_delito</th>\n",
              "      <th>total_anual</th>\n",
              "    </tr>\n",
              "  </thead>\n",
              "  <tbody>\n",
              "    <tr>\n",
              "      <th>32</th>\n",
              "      <td>Robo</td>\n",
              "      <td>4323925</td>\n",
              "    </tr>\n",
              "    <tr>\n",
              "      <th>22</th>\n",
              "      <td>Lesiones</td>\n",
              "      <td>1200288</td>\n",
              "    </tr>\n",
              "    <tr>\n",
              "      <th>39</th>\n",
              "      <td>Violencia familiar</td>\n",
              "      <td>1061280</td>\n",
              "    </tr>\n",
              "    <tr>\n",
              "      <th>27</th>\n",
              "      <td>Otros delitos del Fuero Común</td>\n",
              "      <td>1052710</td>\n",
              "    </tr>\n",
              "    <tr>\n",
              "      <th>8</th>\n",
              "      <td>Daño a la propiedad</td>\n",
              "      <td>757240</td>\n",
              "    </tr>\n",
              "  </tbody>\n",
              "</table>\n",
              "</div>"
            ],
            "text/plain": [
              "                   tipo_de_delito  total_anual\n",
              "32                           Robo      4323925\n",
              "22                       Lesiones      1200288\n",
              "39             Violencia familiar      1061280\n",
              "27  Otros delitos del Fuero Común      1052710\n",
              "8             Daño a la propiedad       757240"
            ]
          },
          "metadata": {
            "tags": []
          },
          "execution_count": 27
        }
      ]
    },
    {
      "cell_type": "markdown",
      "metadata": {
        "id": "qMxg0k-zNqzE"
      },
      "source": [
        "# **CLASIFICACIÓN (PREDICCIÓN)**"
      ]
    },
    {
      "cell_type": "markdown",
      "metadata": {
        "id": "g30xOJkZj5rq"
      },
      "source": [
        "El objetivo principal del modelo de machine learning será el de predecir mediante la clasificación de a que tipo de delito pertenece, tomando como base los casos que se presentaron en los distintos estados y municipios para los años 2015-2020.\n",
        "\n",
        "Para tomaremos únicamente dos tipos de delitos que fueron los más presentados y que estaban relacionados con la cuarentena debido al COVID-19, y su vez pudieron tener un mayor impacto debido a esto mismo."
      ]
    },
    {
      "cell_type": "code",
      "metadata": {
        "id": "RVQz7sr3lL-M",
        "colab": {
          "base_uri": "https://localhost:8080/",
          "height": 204
        },
        "outputId": "fdb3859c-621e-4bf5-bbff-cfcecbff1cfa"
      },
      "source": [
        "tipo_delito[['tipo_de_delito','total_anual']].sort_values('total_anual', ascending=False).head(5)"
      ],
      "execution_count": 28,
      "outputs": [
        {
          "output_type": "execute_result",
          "data": {
            "text/html": [
              "<div>\n",
              "<style scoped>\n",
              "    .dataframe tbody tr th:only-of-type {\n",
              "        vertical-align: middle;\n",
              "    }\n",
              "\n",
              "    .dataframe tbody tr th {\n",
              "        vertical-align: top;\n",
              "    }\n",
              "\n",
              "    .dataframe thead th {\n",
              "        text-align: right;\n",
              "    }\n",
              "</style>\n",
              "<table border=\"1\" class=\"dataframe\">\n",
              "  <thead>\n",
              "    <tr style=\"text-align: right;\">\n",
              "      <th></th>\n",
              "      <th>tipo_de_delito</th>\n",
              "      <th>total_anual</th>\n",
              "    </tr>\n",
              "  </thead>\n",
              "  <tbody>\n",
              "    <tr>\n",
              "      <th>32</th>\n",
              "      <td>Robo</td>\n",
              "      <td>4323925</td>\n",
              "    </tr>\n",
              "    <tr>\n",
              "      <th>22</th>\n",
              "      <td>Lesiones</td>\n",
              "      <td>1200288</td>\n",
              "    </tr>\n",
              "    <tr>\n",
              "      <th>39</th>\n",
              "      <td>Violencia familiar</td>\n",
              "      <td>1061280</td>\n",
              "    </tr>\n",
              "    <tr>\n",
              "      <th>27</th>\n",
              "      <td>Otros delitos del Fuero Común</td>\n",
              "      <td>1052710</td>\n",
              "    </tr>\n",
              "    <tr>\n",
              "      <th>8</th>\n",
              "      <td>Daño a la propiedad</td>\n",
              "      <td>757240</td>\n",
              "    </tr>\n",
              "  </tbody>\n",
              "</table>\n",
              "</div>"
            ],
            "text/plain": [
              "                   tipo_de_delito  total_anual\n",
              "32                           Robo      4323925\n",
              "22                       Lesiones      1200288\n",
              "39             Violencia familiar      1061280\n",
              "27  Otros delitos del Fuero Común      1052710\n",
              "8             Daño a la propiedad       757240"
            ]
          },
          "metadata": {
            "tags": []
          },
          "execution_count": 28
        }
      ]
    },
    {
      "cell_type": "markdown",
      "metadata": {
        "id": "v1gcxwFPlP2K"
      },
      "source": [
        "Los tipos de delitos seleecionados para usarlo como base para el modelo de clasificación de machine learning fueron los siguientes:\n",
        "\n",
        "- Violencia familiar\n",
        "- Daño a la propiedad\n",
        "\n",
        "Una vez determinando los delitos a los cuales nos vamos a enfocar, es necesario filtrar nuestro dataframe de tal manera que solo tengamos registros de los estados y municipios de estos tipos de delitos."
      ]
    },
    {
      "cell_type": "code",
      "metadata": {
        "id": "MBTIPuVXlz02"
      },
      "source": [
        "df = df_municipios[(df_municipios['tipo_de_delito']=='Violencia familiar') | (df_municipios['tipo_de_delito']=='Daño a la propiedad')]"
      ],
      "execution_count": 29,
      "outputs": []
    },
    {
      "cell_type": "code",
      "metadata": {
        "id": "PLp2ir2wmQwy",
        "colab": {
          "base_uri": "https://localhost:8080/",
          "height": 309
        },
        "outputId": "cae61527-9ae6-40c1-8355-aff21da67492"
      },
      "source": [
        "df.head()"
      ],
      "execution_count": 30,
      "outputs": [
        {
          "output_type": "execute_result",
          "data": {
            "text/html": [
              "<div>\n",
              "<style scoped>\n",
              "    .dataframe tbody tr th:only-of-type {\n",
              "        vertical-align: middle;\n",
              "    }\n",
              "\n",
              "    .dataframe tbody tr th {\n",
              "        vertical-align: top;\n",
              "    }\n",
              "\n",
              "    .dataframe thead th {\n",
              "        text-align: right;\n",
              "    }\n",
              "</style>\n",
              "<table border=\"1\" class=\"dataframe\">\n",
              "  <thead>\n",
              "    <tr style=\"text-align: right;\">\n",
              "      <th></th>\n",
              "      <th>año</th>\n",
              "      <th>clave_entidad</th>\n",
              "      <th>entidad</th>\n",
              "      <th>clave_municipio</th>\n",
              "      <th>municipio</th>\n",
              "      <th>bien_juridico_afectado</th>\n",
              "      <th>tipo_de_delito</th>\n",
              "      <th>subtipo_de_delito</th>\n",
              "      <th>modalidad</th>\n",
              "      <th>enero</th>\n",
              "      <th>febrero</th>\n",
              "      <th>marzo</th>\n",
              "      <th>abril</th>\n",
              "      <th>mayo</th>\n",
              "      <th>junio</th>\n",
              "      <th>julio</th>\n",
              "      <th>agosto</th>\n",
              "      <th>septiembre</th>\n",
              "      <th>octubre</th>\n",
              "      <th>noviembre</th>\n",
              "      <th>diciembre</th>\n",
              "      <th>total_anual</th>\n",
              "    </tr>\n",
              "  </thead>\n",
              "  <tbody>\n",
              "    <tr>\n",
              "      <th>78</th>\n",
              "      <td>2015</td>\n",
              "      <td>1</td>\n",
              "      <td>Aguascalientes</td>\n",
              "      <td>1001</td>\n",
              "      <td>Aguascalientes</td>\n",
              "      <td>El patrimonio</td>\n",
              "      <td>Daño a la propiedad</td>\n",
              "      <td>Daño a la propiedad</td>\n",
              "      <td>Daño a la propiedad</td>\n",
              "      <td>166</td>\n",
              "      <td>147</td>\n",
              "      <td>158</td>\n",
              "      <td>128</td>\n",
              "      <td>97</td>\n",
              "      <td>123</td>\n",
              "      <td>122</td>\n",
              "      <td>120</td>\n",
              "      <td>138</td>\n",
              "      <td>113</td>\n",
              "      <td>103</td>\n",
              "      <td>96</td>\n",
              "      <td>1511</td>\n",
              "    </tr>\n",
              "    <tr>\n",
              "      <th>81</th>\n",
              "      <td>2015</td>\n",
              "      <td>1</td>\n",
              "      <td>Aguascalientes</td>\n",
              "      <td>1001</td>\n",
              "      <td>Aguascalientes</td>\n",
              "      <td>La familia</td>\n",
              "      <td>Violencia familiar</td>\n",
              "      <td>Violencia familiar</td>\n",
              "      <td>Violencia familiar</td>\n",
              "      <td>18</td>\n",
              "      <td>36</td>\n",
              "      <td>24</td>\n",
              "      <td>24</td>\n",
              "      <td>28</td>\n",
              "      <td>28</td>\n",
              "      <td>35</td>\n",
              "      <td>38</td>\n",
              "      <td>47</td>\n",
              "      <td>53</td>\n",
              "      <td>40</td>\n",
              "      <td>39</td>\n",
              "      <td>410</td>\n",
              "    </tr>\n",
              "    <tr>\n",
              "      <th>176</th>\n",
              "      <td>2015</td>\n",
              "      <td>1</td>\n",
              "      <td>Aguascalientes</td>\n",
              "      <td>1002</td>\n",
              "      <td>Asientos</td>\n",
              "      <td>El patrimonio</td>\n",
              "      <td>Daño a la propiedad</td>\n",
              "      <td>Daño a la propiedad</td>\n",
              "      <td>Daño a la propiedad</td>\n",
              "      <td>1</td>\n",
              "      <td>1</td>\n",
              "      <td>0</td>\n",
              "      <td>1</td>\n",
              "      <td>0</td>\n",
              "      <td>3</td>\n",
              "      <td>3</td>\n",
              "      <td>0</td>\n",
              "      <td>1</td>\n",
              "      <td>1</td>\n",
              "      <td>2</td>\n",
              "      <td>1</td>\n",
              "      <td>14</td>\n",
              "    </tr>\n",
              "    <tr>\n",
              "      <th>179</th>\n",
              "      <td>2015</td>\n",
              "      <td>1</td>\n",
              "      <td>Aguascalientes</td>\n",
              "      <td>1002</td>\n",
              "      <td>Asientos</td>\n",
              "      <td>La familia</td>\n",
              "      <td>Violencia familiar</td>\n",
              "      <td>Violencia familiar</td>\n",
              "      <td>Violencia familiar</td>\n",
              "      <td>2</td>\n",
              "      <td>0</td>\n",
              "      <td>0</td>\n",
              "      <td>3</td>\n",
              "      <td>1</td>\n",
              "      <td>1</td>\n",
              "      <td>0</td>\n",
              "      <td>1</td>\n",
              "      <td>0</td>\n",
              "      <td>1</td>\n",
              "      <td>1</td>\n",
              "      <td>0</td>\n",
              "      <td>10</td>\n",
              "    </tr>\n",
              "    <tr>\n",
              "      <th>274</th>\n",
              "      <td>2015</td>\n",
              "      <td>1</td>\n",
              "      <td>Aguascalientes</td>\n",
              "      <td>1003</td>\n",
              "      <td>Calvillo</td>\n",
              "      <td>El patrimonio</td>\n",
              "      <td>Daño a la propiedad</td>\n",
              "      <td>Daño a la propiedad</td>\n",
              "      <td>Daño a la propiedad</td>\n",
              "      <td>5</td>\n",
              "      <td>1</td>\n",
              "      <td>3</td>\n",
              "      <td>3</td>\n",
              "      <td>2</td>\n",
              "      <td>4</td>\n",
              "      <td>4</td>\n",
              "      <td>3</td>\n",
              "      <td>3</td>\n",
              "      <td>4</td>\n",
              "      <td>4</td>\n",
              "      <td>9</td>\n",
              "      <td>45</td>\n",
              "    </tr>\n",
              "  </tbody>\n",
              "</table>\n",
              "</div>"
            ],
            "text/plain": [
              "      año  clave_entidad         entidad  ...  noviembre diciembre total_anual\n",
              "78   2015              1  Aguascalientes  ...        103        96        1511\n",
              "81   2015              1  Aguascalientes  ...         40        39         410\n",
              "176  2015              1  Aguascalientes  ...          2         1          14\n",
              "179  2015              1  Aguascalientes  ...          1         0          10\n",
              "274  2015              1  Aguascalientes  ...          4         9          45\n",
              "\n",
              "[5 rows x 22 columns]"
            ]
          },
          "metadata": {
            "tags": []
          },
          "execution_count": 30
        }
      ]
    },
    {
      "cell_type": "markdown",
      "metadata": {
        "id": "K4dwOKX1mimb"
      },
      "source": [
        "Asimismo, para los modelos de machine learning en general, es necesario modificar nuestras entradas y salidas al algoritmo, de tal manera que estos puedan ser de tipo númerico, haciendo referencia a un valor verdadero y falso, o un valor opuesto al otro, etc. \n",
        "\n",
        "Lo importante es tener en mente que numero significa cada tipo de delito determinado.\n",
        "\n",
        "- 0 = Violencia familiar\n",
        "- 1 = Daño a la propiedad"
      ]
    },
    {
      "cell_type": "code",
      "metadata": {
        "id": "YQmyiGLYnC6U",
        "colab": {
          "base_uri": "https://localhost:8080/",
          "height": 417
        },
        "outputId": "21eaccab-c713-4a6b-baa8-c073543e51f4"
      },
      "source": [
        "df['tipo_de_delito'] = df['tipo_de_delito'].replace(['Violencia familiar'],[0])\n",
        "df['tipo_de_delito'] = df['tipo_de_delito'].replace(['Daño a la propiedad'],[1])\n",
        "df = df.reset_index(drop=True)\n",
        "df.head(3)"
      ],
      "execution_count": 31,
      "outputs": [
        {
          "output_type": "stream",
          "text": [
            "/usr/local/lib/python3.7/dist-packages/ipykernel_launcher.py:1: SettingWithCopyWarning: \n",
            "A value is trying to be set on a copy of a slice from a DataFrame.\n",
            "Try using .loc[row_indexer,col_indexer] = value instead\n",
            "\n",
            "See the caveats in the documentation: https://pandas.pydata.org/pandas-docs/stable/user_guide/indexing.html#returning-a-view-versus-a-copy\n",
            "  \"\"\"Entry point for launching an IPython kernel.\n",
            "/usr/local/lib/python3.7/dist-packages/ipykernel_launcher.py:2: SettingWithCopyWarning: \n",
            "A value is trying to be set on a copy of a slice from a DataFrame.\n",
            "Try using .loc[row_indexer,col_indexer] = value instead\n",
            "\n",
            "See the caveats in the documentation: https://pandas.pydata.org/pandas-docs/stable/user_guide/indexing.html#returning-a-view-versus-a-copy\n",
            "  \n"
          ],
          "name": "stderr"
        },
        {
          "output_type": "execute_result",
          "data": {
            "text/html": [
              "<div>\n",
              "<style scoped>\n",
              "    .dataframe tbody tr th:only-of-type {\n",
              "        vertical-align: middle;\n",
              "    }\n",
              "\n",
              "    .dataframe tbody tr th {\n",
              "        vertical-align: top;\n",
              "    }\n",
              "\n",
              "    .dataframe thead th {\n",
              "        text-align: right;\n",
              "    }\n",
              "</style>\n",
              "<table border=\"1\" class=\"dataframe\">\n",
              "  <thead>\n",
              "    <tr style=\"text-align: right;\">\n",
              "      <th></th>\n",
              "      <th>año</th>\n",
              "      <th>clave_entidad</th>\n",
              "      <th>entidad</th>\n",
              "      <th>clave_municipio</th>\n",
              "      <th>municipio</th>\n",
              "      <th>bien_juridico_afectado</th>\n",
              "      <th>tipo_de_delito</th>\n",
              "      <th>subtipo_de_delito</th>\n",
              "      <th>modalidad</th>\n",
              "      <th>enero</th>\n",
              "      <th>febrero</th>\n",
              "      <th>marzo</th>\n",
              "      <th>abril</th>\n",
              "      <th>mayo</th>\n",
              "      <th>junio</th>\n",
              "      <th>julio</th>\n",
              "      <th>agosto</th>\n",
              "      <th>septiembre</th>\n",
              "      <th>octubre</th>\n",
              "      <th>noviembre</th>\n",
              "      <th>diciembre</th>\n",
              "      <th>total_anual</th>\n",
              "    </tr>\n",
              "  </thead>\n",
              "  <tbody>\n",
              "    <tr>\n",
              "      <th>0</th>\n",
              "      <td>2015</td>\n",
              "      <td>1</td>\n",
              "      <td>Aguascalientes</td>\n",
              "      <td>1001</td>\n",
              "      <td>Aguascalientes</td>\n",
              "      <td>El patrimonio</td>\n",
              "      <td>1</td>\n",
              "      <td>Daño a la propiedad</td>\n",
              "      <td>Daño a la propiedad</td>\n",
              "      <td>166</td>\n",
              "      <td>147</td>\n",
              "      <td>158</td>\n",
              "      <td>128</td>\n",
              "      <td>97</td>\n",
              "      <td>123</td>\n",
              "      <td>122</td>\n",
              "      <td>120</td>\n",
              "      <td>138</td>\n",
              "      <td>113</td>\n",
              "      <td>103</td>\n",
              "      <td>96</td>\n",
              "      <td>1511</td>\n",
              "    </tr>\n",
              "    <tr>\n",
              "      <th>1</th>\n",
              "      <td>2015</td>\n",
              "      <td>1</td>\n",
              "      <td>Aguascalientes</td>\n",
              "      <td>1001</td>\n",
              "      <td>Aguascalientes</td>\n",
              "      <td>La familia</td>\n",
              "      <td>0</td>\n",
              "      <td>Violencia familiar</td>\n",
              "      <td>Violencia familiar</td>\n",
              "      <td>18</td>\n",
              "      <td>36</td>\n",
              "      <td>24</td>\n",
              "      <td>24</td>\n",
              "      <td>28</td>\n",
              "      <td>28</td>\n",
              "      <td>35</td>\n",
              "      <td>38</td>\n",
              "      <td>47</td>\n",
              "      <td>53</td>\n",
              "      <td>40</td>\n",
              "      <td>39</td>\n",
              "      <td>410</td>\n",
              "    </tr>\n",
              "    <tr>\n",
              "      <th>2</th>\n",
              "      <td>2015</td>\n",
              "      <td>1</td>\n",
              "      <td>Aguascalientes</td>\n",
              "      <td>1002</td>\n",
              "      <td>Asientos</td>\n",
              "      <td>El patrimonio</td>\n",
              "      <td>1</td>\n",
              "      <td>Daño a la propiedad</td>\n",
              "      <td>Daño a la propiedad</td>\n",
              "      <td>1</td>\n",
              "      <td>1</td>\n",
              "      <td>0</td>\n",
              "      <td>1</td>\n",
              "      <td>0</td>\n",
              "      <td>3</td>\n",
              "      <td>3</td>\n",
              "      <td>0</td>\n",
              "      <td>1</td>\n",
              "      <td>1</td>\n",
              "      <td>2</td>\n",
              "      <td>1</td>\n",
              "      <td>14</td>\n",
              "    </tr>\n",
              "  </tbody>\n",
              "</table>\n",
              "</div>"
            ],
            "text/plain": [
              "    año  clave_entidad         entidad  ...  noviembre diciembre total_anual\n",
              "0  2015              1  Aguascalientes  ...        103        96        1511\n",
              "1  2015              1  Aguascalientes  ...         40        39         410\n",
              "2  2015              1  Aguascalientes  ...          2         1          14\n",
              "\n",
              "[3 rows x 22 columns]"
            ]
          },
          "metadata": {
            "tags": []
          },
          "execution_count": 31
        }
      ]
    },
    {
      "cell_type": "markdown",
      "metadata": {
        "id": "uL2kdZs7nmHd"
      },
      "source": [
        "Como ya fue mencionado, únicamente es necesario abordar clasificaciones de tipo numérico, por lo cual al usar un modelo de machine learning de clasificación de tipo relacional, determinaremos aquellas columnas que tengan relación con el tipo de delito, mediante una matriz de correlación."
      ]
    },
    {
      "cell_type": "code",
      "metadata": {
        "id": "WlIRJbgAnDBx",
        "colab": {
          "base_uri": "https://localhost:8080/",
          "height": 795
        },
        "outputId": "387a386e-9ff2-4f60-9d5d-9f9e23bdce8e"
      },
      "source": [
        "figure(figsize=(13, 10), dpi=80)\n",
        "sns.heatmap(df.corr(), annot = True, cmap=\"YlGnBu\")\n",
        "plt.title(\"Matriz de correlación de delitos cometidos en México\", fontsize=25, pad=15)\n",
        "plt.xlabel(\"Características de delitos\",fontsize=15)\n",
        "plt.ylabel(\"Características de delitos\",fontsize=15)\n",
        "plt.show()"
      ],
      "execution_count": 32,
      "outputs": [
        {
          "output_type": "display_data",
          "data": {
            "image/png": "[encoded data removed]",
            "text/plain": [
              "<Figure size 1040x800 with 2 Axes>"
            ]
          },
          "metadata": {
            "tags": [],
            "needs_background": "light"
          }
        }
      ]
    },
    {
      "cell_type": "code",
      "metadata": {
        "id": "acD61ypCrMva"
      },
      "source": [
        "df = df.drop(columns=(['entidad','municipio','bien_juridico_afectado','subtipo_de_delito','modalidad']))"
      ],
      "execution_count": 33,
      "outputs": []
    },
    {
      "cell_type": "markdown",
      "metadata": {
        "id": "MGefAe45r_cY"
      },
      "source": [
        "Ahora si, ya teniendo listos nuestros datos podemos pasar a clasificar nuestras entradas y salidas del modelo donde la salida será el **`Tipo de delito`**, mientras que las entradas serán todas las demás variables.\n",
        "\n",
        "- X = Entradas\n",
        "- Y = Salidas"
      ]
    },
    {
      "cell_type": "code",
      "metadata": {
        "id": "BKluCC0bf8Z9"
      },
      "source": [
        "X = df.drop(columns='tipo_de_delito')\n",
        "Y = df['tipo_de_delito']"
      ],
      "execution_count": 34,
      "outputs": []
    },
    {
      "cell_type": "code",
      "metadata": {
        "id": "5UvbzIF462V_"
      },
      "source": [
        "X = np.array(X)\n",
        "Y = np.array(Y)"
      ],
      "execution_count": 35,
      "outputs": []
    },
    {
      "cell_type": "markdown",
      "metadata": {
        "id": "cc9aQgqXsrL0"
      },
      "source": [
        "Finalmente antes de pasar a cada modelo de clasificación, será necesario dividir nuestros datos en prueba y entrenamiento. Para esto caso siendo que tenemos una gran cantidad de datos, con un porcentaje 60% entrenamiento y 40% prueba son más que suficientes para que el modelo pueda entrenarse de la mejor manera y tenga una gran cantidad de datos de prueba para verificar y comprobar el modelo.\n",
        "\n",
        "- Entrenamiento = 60% de los datos\n",
        "- Prueba = 40% de los datos"
      ]
    },
    {
      "cell_type": "code",
      "metadata": {
        "id": "XQ30v5DF64cs"
      },
      "source": [
        "x_entrenamiento, x_pruebas, y_entrenamiento, y_pruebas = train_test_split(X, Y, test_size =0.40)"
      ],
      "execution_count": 36,
      "outputs": []
    },
    {
      "cell_type": "markdown",
      "metadata": {
        "id": "0lNRydGy92iX"
      },
      "source": [
        "Los modelos de machine learning usados para clasificar el tipo de delito en base a los datos son los modelos de aprendizaje supervisado, y en este caso se compararán el modelo de *Redes Neuronales Artificiales, Random Forest, Support Vector Machine (SVM)* y *Naïve Bayes*"
      ]
    },
    {
      "cell_type": "markdown",
      "metadata": {
        "id": "GErIEQ3CeFaw"
      },
      "source": [
        "### Redes Neuronales Artificiales"
      ]
    },
    {
      "cell_type": "code",
      "metadata": {
        "id": "0crNKi_seFaw",
        "colab": {
          "base_uri": "https://localhost:8080/"
        },
        "outputId": "ac78a4d8-6d61-4727-b5f2-693d76cbefc2"
      },
      "source": [
        "redNeuronal = MLPClassifier(hidden_layer_sizes=(4,2),\n",
        "                            max_iter=20000,\n",
        "                            activation ='logistic',\n",
        "                            tol= 1e-7)\n",
        "\n",
        "redNeuronal.fit(x_entrenamiento, y_entrenamiento)\n",
        "y_pred_nn = redNeuronal.predict(x_pruebas)\n",
        "print(\"Entrenamiento completado!\")"
      ],
      "execution_count": 37,
      "outputs": [
        {
          "output_type": "stream",
          "text": [
            "Entrenamiento completado!\n"
          ],
          "name": "stdout"
        }
      ]
    },
    {
      "cell_type": "code",
      "metadata": {
        "id": "PezSwSh-eFay",
        "colab": {
          "base_uri": "https://localhost:8080/",
          "height": 681
        },
        "outputId": "d0641192-7027-4950-f5a1-f272dec0789c"
      },
      "source": [
        "evaluar(y_pruebas, y_pred_nn)"
      ],
      "execution_count": 38,
      "outputs": [
        {
          "output_type": "stream",
          "text": [
            "[[  36 5512]\n",
            " [  28 5417]]\n",
            "True positives: 5417\n",
            "True negatives: 36\n",
            "False positives: 5512\n",
            "False negative: 28\n",
            "Precision:49.60429364140817%\n",
            "Exactitud:49.60429364140817%\n",
            "Sensibilidad:99.48576675849404%\n",
            "Especificidad:0.6488824801730353%\n"
          ],
          "name": "stdout"
        },
        {
          "output_type": "display_data",
          "data": {
            "image/png": "[encoded data removed]",
            "text/plain": [
              "<Figure size 640x480 with 1 Axes>"
            ]
          },
          "metadata": {
            "tags": [],
            "needs_background": "light"
          }
        }
      ]
    },
    {
      "cell_type": "markdown",
      "metadata": {
        "id": "z9SGb9bqeFaz"
      },
      "source": [
        "### Random Forest"
      ]
    },
    {
      "cell_type": "code",
      "metadata": {
        "id": "C0Qo6GMleFaz",
        "colab": {
          "base_uri": "https://localhost:8080/"
        },
        "outputId": "6c9f2601-276a-4544-da3a-b6d733d7b0a3"
      },
      "source": [
        "bosque = forest(n_estimators = 600)\n",
        "bosque.fit(x_entrenamiento, y_entrenamiento)\n",
        "y_pred_rf = bosque.predict(x_pruebas)\n",
        "print(\"Entrenamiento completado!\")"
      ],
      "execution_count": 39,
      "outputs": [
        {
          "output_type": "stream",
          "text": [
            "Entrenamiento completado!\n"
          ],
          "name": "stdout"
        }
      ]
    },
    {
      "cell_type": "code",
      "metadata": {
        "id": "bPOeRKzReFa0",
        "colab": {
          "base_uri": "https://localhost:8080/",
          "height": 681
        },
        "outputId": "19086897-b000-46cf-90be-4bd7228bafd5"
      },
      "source": [
        "evaluar(y_pruebas, y_pred_rf)"
      ],
      "execution_count": 40,
      "outputs": [
        {
          "output_type": "stream",
          "text": [
            "[[2777 2771]\n",
            " [2679 2766]]\n",
            "True positives: 2766\n",
            "True negatives: 2777\n",
            "False positives: 2771\n",
            "False negative: 2679\n",
            "Precision:50.42299645228782%\n",
            "Exactitud:50.42299645228782%\n",
            "Sensibilidad:50.798898071625345%\n",
            "Especificidad:50.05407354001442%\n"
          ],
          "name": "stdout"
        },
        {
          "output_type": "display_data",
          "data": {
            "image/png": "[encoded data removed]",
            "text/plain": [
              "<Figure size 640x480 with 1 Axes>"
            ]
          },
          "metadata": {
            "tags": [],
            "needs_background": "light"
          }
        }
      ]
    },
    {
      "cell_type": "markdown",
      "metadata": {
        "id": "OqhSAHRqeFa1"
      },
      "source": [
        "### Support Vector Machine (SVM)"
      ]
    },
    {
      "cell_type": "code",
      "metadata": {
        "id": "lUhyVoDMeFa2",
        "colab": {
          "base_uri": "https://localhost:8080/"
        },
        "outputId": "f48cddc5-e741-492f-e3a0-fc0ffb0a518f"
      },
      "source": [
        "SupportVectorMachine = SVC()\n",
        "SupportVectorMachine.fit(x_entrenamiento, y_entrenamiento) \n",
        "y_pred_svm = SupportVectorMachine.predict(x_pruebas) \n",
        "print(\"Entrenamiento completado!\")"
      ],
      "execution_count": 41,
      "outputs": [
        {
          "output_type": "stream",
          "text": [
            "Entrenamiento completado!\n"
          ],
          "name": "stdout"
        }
      ]
    },
    {
      "cell_type": "code",
      "metadata": {
        "id": "0q5ke-cweFa2",
        "colab": {
          "base_uri": "https://localhost:8080/",
          "height": 681
        },
        "outputId": "0c7e612e-1596-4c52-891d-200e359abebc"
      },
      "source": [
        "evaluar(y_pruebas, y_pred_svm)"
      ],
      "execution_count": 42,
      "outputs": [
        {
          "output_type": "stream",
          "text": [
            "[[ 595 4953]\n",
            " [ 528 4917]]\n",
            "True positives: 4917\n",
            "True negatives: 595\n",
            "False positives: 4953\n",
            "False negative: 528\n",
            "Precision:50.14099881742927%\n",
            "Exactitud:50.14099881742927%\n",
            "Sensibilidad:90.30303030303031%\n",
            "Especificidad:10.724585436193221%\n"
          ],
          "name": "stdout"
        },
        {
          "output_type": "display_data",
          "data": {
            "image/png": "[encoded data removed]",
            "text/plain": [
              "<Figure size 640x480 with 1 Axes>"
            ]
          },
          "metadata": {
            "tags": [],
            "needs_background": "light"
          }
        }
      ]
    },
    {
      "cell_type": "markdown",
      "metadata": {
        "id": "VHC_FsAseYtG"
      },
      "source": [
        "### Naïve Bayes"
      ]
    },
    {
      "cell_type": "code",
      "metadata": {
        "id": "ALjcuR3mehiE",
        "colab": {
          "base_uri": "https://localhost:8080/"
        },
        "outputId": "37165299-d6eb-4b8a-c800-253cab06e225"
      },
      "source": [
        "NaiveBayes = GaussianNB()\n",
        "NaiveBayes.fit(x_entrenamiento, y_entrenamiento) \n",
        "y_pred_nb = NaiveBayes.predict(x_pruebas) \n",
        "print(\"Entrenamiento completado!\")"
      ],
      "execution_count": 43,
      "outputs": [
        {
          "output_type": "stream",
          "text": [
            "Entrenamiento completado!\n"
          ],
          "name": "stdout"
        }
      ]
    },
    {
      "cell_type": "code",
      "metadata": {
        "scrolled": true,
        "id": "OOkTIY4lehiF",
        "colab": {
          "base_uri": "https://localhost:8080/",
          "height": 681
        },
        "outputId": "d81dc9d6-832d-4ca0-9fe3-f04c62f52c86"
      },
      "source": [
        "evaluar(y_pruebas, y_pred_nb)"
      ],
      "execution_count": 44,
      "outputs": [
        {
          "output_type": "stream",
          "text": [
            "[[ 271 5277]\n",
            " [ 215 5230]]\n",
            "True positives: 5230\n",
            "True negatives: 271\n",
            "False positives: 5277\n",
            "False negative: 215\n",
            "Precision:50.040935140543986%\n",
            "Exactitud:50.040935140543986%\n",
            "Sensibilidad:96.05142332415059%\n",
            "Especificidad:4.884643114635905%\n"
          ],
          "name": "stdout"
        },
        {
          "output_type": "display_data",
          "data": {
            "image/png": "[encoded data removed]",
            "text/plain": [
              "<Figure size 640x480 with 1 Axes>"
            ]
          },
          "metadata": {
            "tags": [],
            "needs_background": "light"
          }
        }
      ]
    },
    {
      "cell_type": "markdown",
      "metadata": {
        "id": "7iBAImoyvBtx"
      },
      "source": [
        "# **CONCLUSIONES**"
      ]
    },
    {
      "cell_type": "markdown",
      "metadata": {
        "id": "jFG7hhDNUA5q"
      },
      "source": [
        "En base a los resultados de los modelos de machine learning basados en aprendizaje supervisado, podemos deducir que ningún modelo es lo suficientemente factible para poder clasificar correctamente los tipos de delito, ya sea violencia familiar o daño a la propiedad, los cuales eran los delitos con mayor relación al aislamiento ocasionado por el COVID-19.\n",
        "\n",
        "Primeramente, el modelo creado a base de redes neuronales artificiales deja resultados bastante pobres, refiriendonos al objetivo principal del proyecto el cual es clasificar los tipos de delitos en base a los registros, siendo que únicamente fue capaz de predecir la clase negativa incorrecta y correctamente por igual, teniendo una precisión y exactitud de alrededor del 50%, sin embargo no pudo predecir ningún caso en el que el delito predicho fuera realmente el tipo de delito en base a los datos.\n",
        "\n",
        "Despúes tenemos a un modelo bastante sencillo el cual no es normalmente usado por su simplicidad, el modelo de naïve bayes sin embargo fue ligeramente superior en base a las metricas de desempeño con respecto al realizado por redes neuronales artificiales, siendo que este por su parte tuvo una sensibilidad del 95% y una exactitud y precisión del 50%, y esto es principalmente porque a diferencia del modelo anterior, este por su parte clasificó la mayoría de los valores como positivos, sin embargo no puede ser validado dado que clasificó erroneamente la mitad de los mismos al tomarlos como verdaderos cuando en su caso fueron falsos, caso inverso al obtenido de redes neuronales.\n",
        "\n",
        "Luego, tenemos el modelo creado por Support Vector Machine (SVM), en donde principalmente clasifica al separar las muestras en dos espacios, siendo los tipos de delitos, por lo que al tener los datos se ponen en correspondencia con dicho modelo en función al tipo de delito que pertenecen. Dicho esto, tomando como base las metricas de desempeño, este modelo fue capaz de clasificar una mayor cantidad de valores positivos, sin embargo también fue capaz de clasificar una cantidad significativa de valores negativos, logrando así obtener una sensibilidad de alrededor del 76% y una especificidad del 23%, no obstante la precisión y la exactitud se mantienen al 50% estableciendo que el modelo todavía clasifica de manera errónea una gran cantidad de datos.\n",
        "\n",
        "Por último, tenemos el modelo con los mejores resultados a diferencia de los mostrados anteriormente. El modelo de machine learning de random forest fue capaz de mantener todas sus metricas de desempeño alrededor del 50%, lo cual quiere decir que es una moneda al aire si nuestro modelo clasifica correcta o incorrectamente nuestra información. \n",
        "\n",
        "Esto a comparación de los demás modelos, nos indica que el modelo de random forest es superior al obtener mejores resultados que los demás, sin embargo no es lo suficiente como para validar el proyecto dado que no es capaz de clasificar correctamente la información y tener un margen de error minimo, siendo que en este caso el margen de error es del 50%.\n",
        "\n",
        "Aunado a esto, ningun modelo de clasificación de machine learning se ajustó al objetivo del proyecto y esto fue principalmente a la naturaleza de los datos, dado que éstos únicamente mostraban información de los delitos cometidos mensualmente durante el periodo de 2015 a 2020, sin embargo no mostraba características de los mismos los cuales pudieran ayudar al modelo a entrenarse de una mejor manera para que pudiera ser capaz de clasificar un delito de otro, por lo que un objetivo erróneo considerando la naturaleza de la información."
      ]
    }
  ]
}