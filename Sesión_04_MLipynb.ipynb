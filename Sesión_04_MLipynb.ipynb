{
  "nbformat": 4,
  "nbformat_minor": 0,
  "metadata": {
    "colab": {
      "name": "Sesión_04_MLipynb",
      "provenance": [],
      "collapsed_sections": [
        "V-XfDhstUHLI"
      ],
      "toc_visible": true,
      "mount_file_id": "15VHJPpcxw5kx9pOt6srfBqa4NJEwnjgO",
      "authorship_tag": "ABX9TyOzHbVkkj5BRSU1IdMPQIkN",
      "include_colab_link": true
    },
    "kernelspec": {
      "name": "python3",
      "display_name": "Python 3"
    },
    "language_info": {
      "name": "python"
    }
  },
  "cells": [
    {
      "cell_type": "markdown",
      "metadata": {
        "id": "view-in-github",
        "colab_type": "text"
      },
      "source": [
        "<a href=\"https://colab.research.google.com/github/ArredondoF99/VIOLENCIA-FAMILIAR-EN-TIEMPOS-DE-COVID-19/blob/main/Sesi%C3%B3n_04_MLipynb.ipynb\" target=\"_parent\"><img src=\"https://colab.research.google.com/assets/colab-badge.svg\" alt=\"Open In Colab\"/></a>"
      ]
    },
    {
      "cell_type": "code",
      "metadata": {
        "id": "Vc8ht0IsJtOf"
      },
      "source": [
        "import MLUtilities as MLU"
      ],
      "execution_count": 16,
      "outputs": []
    },
    {
      "cell_type": "markdown",
      "metadata": {
        "id": "Ru3MW2W5UE5k"
      },
      "source": [
        "# Ejemplo 01\n",
        "\n",
        "En este ejemplo vamos a cargar datos de viviendas de boston y con ellos vamos a entrenar un modelo de regresión lineal. Para ello vamos a cargar un dataset y veremos sus características."
      ]
    },
    {
      "cell_type": "code",
      "metadata": {
        "id": "B00BZZgIUE5s"
      },
      "source": [
        "import numpy as np\n",
        "import pandas as pd\n",
        "import seaborn as sns\n",
        "from sklearn.datasets import load_boston\n",
        "from sklearn.model_selection import train_test_split\n",
        "from sklearn.linear_model import LinearRegression\n",
        "from sklearn.metrics import mean_squared_error"
      ],
      "execution_count": 114,
      "outputs": []
    },
    {
      "cell_type": "code",
      "metadata": {
        "id": "oYN0QX_9UE5u",
        "colab": {
          "base_uri": "https://localhost:8080/",
          "height": 204
        },
        "outputId": "2890552a-a39d-4c0d-cc6f-3096ad89fbfb"
      },
      "source": [
        "boston_dataset = load_boston()\n",
        "bostonDataFrame = pd.DataFrame(boston_dataset.data, columns=boston_dataset.feature_names)\n",
        "bostonDataFrame['MEDV'] = boston_dataset.target\n",
        "bostonDataFrame.head()"
      ],
      "execution_count": 18,
      "outputs": [
        {
          "output_type": "execute_result",
          "data": {
            "text/html": [
              "<div>\n",
              "<style scoped>\n",
              "    .dataframe tbody tr th:only-of-type {\n",
              "        vertical-align: middle;\n",
              "    }\n",
              "\n",
              "    .dataframe tbody tr th {\n",
              "        vertical-align: top;\n",
              "    }\n",
              "\n",
              "    .dataframe thead th {\n",
              "        text-align: right;\n",
              "    }\n",
              "</style>\n",
              "<table border=\"1\" class=\"dataframe\">\n",
              "  <thead>\n",
              "    <tr style=\"text-align: right;\">\n",
              "      <th></th>\n",
              "      <th>CRIM</th>\n",
              "      <th>ZN</th>\n",
              "      <th>INDUS</th>\n",
              "      <th>CHAS</th>\n",
              "      <th>NOX</th>\n",
              "      <th>RM</th>\n",
              "      <th>AGE</th>\n",
              "      <th>DIS</th>\n",
              "      <th>RAD</th>\n",
              "      <th>TAX</th>\n",
              "      <th>PTRATIO</th>\n",
              "      <th>B</th>\n",
              "      <th>LSTAT</th>\n",
              "      <th>MEDV</th>\n",
              "    </tr>\n",
              "  </thead>\n",
              "  <tbody>\n",
              "    <tr>\n",
              "      <th>0</th>\n",
              "      <td>0.00632</td>\n",
              "      <td>18.0</td>\n",
              "      <td>2.31</td>\n",
              "      <td>0.0</td>\n",
              "      <td>0.538</td>\n",
              "      <td>6.575</td>\n",
              "      <td>65.2</td>\n",
              "      <td>4.0900</td>\n",
              "      <td>1.0</td>\n",
              "      <td>296.0</td>\n",
              "      <td>15.3</td>\n",
              "      <td>396.90</td>\n",
              "      <td>4.98</td>\n",
              "      <td>24.0</td>\n",
              "    </tr>\n",
              "    <tr>\n",
              "      <th>1</th>\n",
              "      <td>0.02731</td>\n",
              "      <td>0.0</td>\n",
              "      <td>7.07</td>\n",
              "      <td>0.0</td>\n",
              "      <td>0.469</td>\n",
              "      <td>6.421</td>\n",
              "      <td>78.9</td>\n",
              "      <td>4.9671</td>\n",
              "      <td>2.0</td>\n",
              "      <td>242.0</td>\n",
              "      <td>17.8</td>\n",
              "      <td>396.90</td>\n",
              "      <td>9.14</td>\n",
              "      <td>21.6</td>\n",
              "    </tr>\n",
              "    <tr>\n",
              "      <th>2</th>\n",
              "      <td>0.02729</td>\n",
              "      <td>0.0</td>\n",
              "      <td>7.07</td>\n",
              "      <td>0.0</td>\n",
              "      <td>0.469</td>\n",
              "      <td>7.185</td>\n",
              "      <td>61.1</td>\n",
              "      <td>4.9671</td>\n",
              "      <td>2.0</td>\n",
              "      <td>242.0</td>\n",
              "      <td>17.8</td>\n",
              "      <td>392.83</td>\n",
              "      <td>4.03</td>\n",
              "      <td>34.7</td>\n",
              "    </tr>\n",
              "    <tr>\n",
              "      <th>3</th>\n",
              "      <td>0.03237</td>\n",
              "      <td>0.0</td>\n",
              "      <td>2.18</td>\n",
              "      <td>0.0</td>\n",
              "      <td>0.458</td>\n",
              "      <td>6.998</td>\n",
              "      <td>45.8</td>\n",
              "      <td>6.0622</td>\n",
              "      <td>3.0</td>\n",
              "      <td>222.0</td>\n",
              "      <td>18.7</td>\n",
              "      <td>394.63</td>\n",
              "      <td>2.94</td>\n",
              "      <td>33.4</td>\n",
              "    </tr>\n",
              "    <tr>\n",
              "      <th>4</th>\n",
              "      <td>0.06905</td>\n",
              "      <td>0.0</td>\n",
              "      <td>2.18</td>\n",
              "      <td>0.0</td>\n",
              "      <td>0.458</td>\n",
              "      <td>7.147</td>\n",
              "      <td>54.2</td>\n",
              "      <td>6.0622</td>\n",
              "      <td>3.0</td>\n",
              "      <td>222.0</td>\n",
              "      <td>18.7</td>\n",
              "      <td>396.90</td>\n",
              "      <td>5.33</td>\n",
              "      <td>36.2</td>\n",
              "    </tr>\n",
              "  </tbody>\n",
              "</table>\n",
              "</div>"
            ],
            "text/plain": [
              "      CRIM    ZN  INDUS  CHAS    NOX  ...    TAX  PTRATIO       B  LSTAT  MEDV\n",
              "0  0.00632  18.0   2.31   0.0  0.538  ...  296.0     15.3  396.90   4.98  24.0\n",
              "1  0.02731   0.0   7.07   0.0  0.469  ...  242.0     17.8  396.90   9.14  21.6\n",
              "2  0.02729   0.0   7.07   0.0  0.469  ...  242.0     17.8  392.83   4.03  34.7\n",
              "3  0.03237   0.0   2.18   0.0  0.458  ...  222.0     18.7  394.63   2.94  33.4\n",
              "4  0.06905   0.0   2.18   0.0  0.458  ...  222.0     18.7  396.90   5.33  36.2\n",
              "\n",
              "[5 rows x 14 columns]"
            ]
          },
          "metadata": {
            "tags": []
          },
          "execution_count": 18
        }
      ]
    },
    {
      "cell_type": "markdown",
      "metadata": {
        "id": "FVWaqQoiUE5v"
      },
      "source": [
        "Los datos disponibles del dataset son:\n",
        "- CRIM: Tasa de crimen per-capita. \n",
        "- ZN: Proporción de tierras para uso residenciales.\n",
        "- INDUS: Proporción de acres de negocios por pueblo.\n",
        "- CHAS: 1 si la propiedad colinda con el rio Charles, 0 sino.\n",
        "- NOX: Concentracón de ácido nítrico. (parte por 10 millones)\n",
        "- RM: Cantidad promedio de habitaciones por vivienda.\n",
        "- AGE: Proporción de unidades construidas antes de 1940 con dueño.\n",
        "- DIS: Distancias a 5 centros de empleo de Boston.\n",
        "- RAD: Índice de accesibilidad a vías rápidas.\n",
        "- TAX: Impuestos por cada 10,000 USD de costo.\n",
        "- PTRATIO: Radio maestro-pupilo por pueblo. \n",
        "- B: 1000(Bk — 0.63)², donde Bk es la proporcion de personas descendientes de afroamericanos.\n",
        "- LSTAT: Porcentaje de personas de estratos bajos de la población.\n",
        "\n",
        "Y el dato a predecir es:\n",
        "- MEDV: Valor promedio de casas ocupadas (en miles)."
      ]
    },
    {
      "cell_type": "code",
      "metadata": {
        "id": "B4SQ7-ZcUE5w"
      },
      "source": [
        "#Aqui elegiremos 2 campos: Porcentaje de personas de estatos bajos, y cantidad promedio de habitaciones por vivienda.\n",
        "X = bostonDataFrame[['LSTAT', 'RM']]\n",
        "Y = bostonDataFrame['MEDV']"
      ],
      "execution_count": 19,
      "outputs": []
    },
    {
      "cell_type": "markdown",
      "metadata": {
        "id": "r_QWqJsNUE5x"
      },
      "source": [
        "Aqui vamos a dividir los datos en Train y Test y entrenaremos un regresor lineal para obtener lo mejor que pueda una predicción sobre el precio"
      ]
    },
    {
      "cell_type": "code",
      "metadata": {
        "id": "VR0sZZ3qUE5x",
        "colab": {
          "base_uri": "https://localhost:8080/"
        },
        "outputId": "f2cb1328-da77-4f25-f9a8-2c7c2746d3a1"
      },
      "source": [
        "X_train, X_test, Y_train, Y_test = train_test_split(X, Y, test_size = 0.4)\n",
        "print(X_train.shape)\n",
        "print(X_test.shape)\n",
        "print(Y_train.shape)\n",
        "print(Y_test.shape)"
      ],
      "execution_count": 20,
      "outputs": [
        {
          "output_type": "stream",
          "text": [
            "(303, 2)\n",
            "(203, 2)\n",
            "(303,)\n",
            "(203,)\n"
          ],
          "name": "stdout"
        }
      ]
    },
    {
      "cell_type": "markdown",
      "metadata": {
        "id": "A5QGJ9sMUE5z"
      },
      "source": [
        "### Entrenamiento y predicciones:\n",
        "Trataremos de predecir que tal funciona el regresor lineal. "
      ]
    },
    {
      "cell_type": "code",
      "metadata": {
        "id": "LSrD1ZEHUE50",
        "colab": {
          "base_uri": "https://localhost:8080/"
        },
        "outputId": "4715fc0a-5a35-417c-dfa0-a877dcb39006"
      },
      "source": [
        "lin_model = LinearRegression()\n",
        "lin_model.fit(X_train, Y_train)"
      ],
      "execution_count": 21,
      "outputs": [
        {
          "output_type": "execute_result",
          "data": {
            "text/plain": [
              "LinearRegression(copy_X=True, fit_intercept=True, n_jobs=None, normalize=False)"
            ]
          },
          "metadata": {
            "tags": []
          },
          "execution_count": 21
        }
      ]
    },
    {
      "cell_type": "code",
      "metadata": {
        "id": "82j9_eAfUE51",
        "outputId": "be6ac249-5417-434f-fe09-229e480fef88"
      },
      "source": [
        "y_train_predict = lin_model.predict(X_train)\n",
        "MSE = mean_squared_error(Y_train,y_train_predict)\n",
        "print(\"Entrenamiento: MSE =\"+str(MSE))\n",
        "\n",
        "y_test_predict = lin_model.predict(X_test)\n",
        "MSE = (mean_squared_error(Y_test, y_test_predict))\n",
        "print(\"Pruebas: MSE =\"+str(MSE))"
      ],
      "execution_count": null,
      "outputs": [
        {
          "output_type": "stream",
          "text": [
            "Entrenamiento: MSE =28.139615508258466\n",
            "Pruebas: MSE =34.283593661377765\n"
          ],
          "name": "stdout"
        }
      ]
    },
    {
      "cell_type": "markdown",
      "metadata": {
        "id": "-mN7nH1fUE51"
      },
      "source": [
        "### Predicciones:\n",
        "Ahora, veamos que tal predijo nuestro modelo poniendo lado a lado las predicciones y los valores reales"
      ]
    },
    {
      "cell_type": "code",
      "metadata": {
        "id": "rfUHZxY0UE52",
        "outputId": "225c558d-0acc-42a4-9dac-76d0db7ec50d"
      },
      "source": [
        "df_predicciones = pd.DataFrame({'valor_real':Y_test, 'prediccion':y_test_predict})\n",
        "df_predicciones = df_predicciones.reset_index(drop = True)\n",
        "df_predicciones.head(10)"
      ],
      "execution_count": null,
      "outputs": [
        {
          "output_type": "execute_result",
          "data": {
            "text/html": [
              "<div>\n",
              "<style scoped>\n",
              "    .dataframe tbody tr th:only-of-type {\n",
              "        vertical-align: middle;\n",
              "    }\n",
              "\n",
              "    .dataframe tbody tr th {\n",
              "        vertical-align: top;\n",
              "    }\n",
              "\n",
              "    .dataframe thead th {\n",
              "        text-align: right;\n",
              "    }\n",
              "</style>\n",
              "<table border=\"1\" class=\"dataframe\">\n",
              "  <thead>\n",
              "    <tr style=\"text-align: right;\">\n",
              "      <th></th>\n",
              "      <th>valor_real</th>\n",
              "      <th>prediccion</th>\n",
              "    </tr>\n",
              "  </thead>\n",
              "  <tbody>\n",
              "    <tr>\n",
              "      <th>0</th>\n",
              "      <td>37.6</td>\n",
              "      <td>37.647015</td>\n",
              "    </tr>\n",
              "    <tr>\n",
              "      <th>1</th>\n",
              "      <td>27.9</td>\n",
              "      <td>29.032609</td>\n",
              "    </tr>\n",
              "    <tr>\n",
              "      <th>2</th>\n",
              "      <td>22.6</td>\n",
              "      <td>25.444085</td>\n",
              "    </tr>\n",
              "    <tr>\n",
              "      <th>3</th>\n",
              "      <td>13.8</td>\n",
              "      <td>1.874892</td>\n",
              "    </tr>\n",
              "    <tr>\n",
              "      <th>4</th>\n",
              "      <td>35.2</td>\n",
              "      <td>33.706810</td>\n",
              "    </tr>\n",
              "    <tr>\n",
              "      <th>5</th>\n",
              "      <td>10.4</td>\n",
              "      <td>8.846136</td>\n",
              "    </tr>\n",
              "    <tr>\n",
              "      <th>6</th>\n",
              "      <td>23.9</td>\n",
              "      <td>30.363831</td>\n",
              "    </tr>\n",
              "    <tr>\n",
              "      <th>7</th>\n",
              "      <td>29.0</td>\n",
              "      <td>27.577564</td>\n",
              "    </tr>\n",
              "    <tr>\n",
              "      <th>8</th>\n",
              "      <td>22.8</td>\n",
              "      <td>26.271478</td>\n",
              "    </tr>\n",
              "    <tr>\n",
              "      <th>9</th>\n",
              "      <td>23.2</td>\n",
              "      <td>22.275428</td>\n",
              "    </tr>\n",
              "  </tbody>\n",
              "</table>\n",
              "</div>"
            ],
            "text/plain": [
              "   valor_real  prediccion\n",
              "0        37.6   37.647015\n",
              "1        27.9   29.032609\n",
              "2        22.6   25.444085\n",
              "3        13.8    1.874892\n",
              "4        35.2   33.706810\n",
              "5        10.4    8.846136\n",
              "6        23.9   30.363831\n",
              "7        29.0   27.577564\n",
              "8        22.8   26.271478\n",
              "9        23.2   22.275428"
            ]
          },
          "metadata": {
            "tags": []
          },
          "execution_count": 7
        }
      ]
    },
    {
      "cell_type": "markdown",
      "metadata": {
        "id": "dgYfSQEZUGFG"
      },
      "source": [
        "# Ejemplo 02\n",
        "\n",
        "En este ejemplo crearemos un sistema de regresión polinomial: Utilizaremos los grados de un polinomio para curvear la línea (o el plano) y evaluar que tal mejora una predicción"
      ]
    },
    {
      "cell_type": "code",
      "metadata": {
        "id": "rN0paWO2UGFL"
      },
      "source": [
        "import numpy as np\n",
        "import pandas as pd\n",
        "from sklearn.datasets import load_boston\n",
        "from sklearn.model_selection import train_test_split\n",
        "from sklearn.linear_model import LinearRegression\n",
        "from sklearn.preprocessing import PolynomialFeatures\n",
        "from sklearn.metrics import mean_squared_error"
      ],
      "execution_count": 73,
      "outputs": []
    },
    {
      "cell_type": "code",
      "metadata": {
        "id": "V-QWoS4IUGFN"
      },
      "source": [
        "boston_dataset = load_boston()\n",
        "bostonDataFrame = pd.DataFrame(boston_dataset.data, columns=boston_dataset.feature_names)\n",
        "bostonDataFrame['MEDV'] = boston_dataset.target\n",
        "X = bostonDataFrame[['LSTAT', 'RM']]\n",
        "Y = bostonDataFrame['MEDV']\n",
        "X_train, X_test, Y_train, Y_test = train_test_split(X, Y, test_size = 0.4)"
      ],
      "execution_count": null,
      "outputs": []
    },
    {
      "cell_type": "markdown",
      "metadata": {
        "id": "CoWXaKQlUGFO"
      },
      "source": [
        "### Ejemplo lineal:\n",
        "Primero probaremos con predicciones lineales"
      ]
    },
    {
      "cell_type": "code",
      "metadata": {
        "id": "0zqaqVFDUGFP",
        "outputId": "126c202e-1ed8-4bf9-e4e2-928281975930"
      },
      "source": [
        "lin_model = LinearRegression()\n",
        "lin_model.fit(X_train, Y_train)\n",
        "y_train_predict = lin_model.predict(X_train)\n",
        "MSE = mean_squared_error(Y_train,y_train_predict)\n",
        "print(\"Entrenamiento: MSE =\"+str(MSE))\n",
        "\n",
        "y_test_predict = lin_model.predict(X_test)\n",
        "MSE = (mean_squared_error(Y_test, y_test_predict))\n",
        "print(\"Pruebas: MSE =\"+str(MSE))\n",
        "\n",
        "df_predicciones = pd.DataFrame({'valor_real':Y_test, 'prediccion':y_test_predict, 'diferencia':Y_test-y_test_predict})\n",
        "df_predicciones = df_predicciones.reset_index(drop = True)\n",
        "df_predicciones.head(10)"
      ],
      "execution_count": null,
      "outputs": [
        {
          "output_type": "stream",
          "text": [
            "Entrenamiento: MSE =27.848989524596842\n",
            "Pruebas: MSE =35.02148193171412\n"
          ],
          "name": "stdout"
        },
        {
          "output_type": "execute_result",
          "data": {
            "text/html": [
              "<div>\n",
              "<style scoped>\n",
              "    .dataframe tbody tr th:only-of-type {\n",
              "        vertical-align: middle;\n",
              "    }\n",
              "\n",
              "    .dataframe tbody tr th {\n",
              "        vertical-align: top;\n",
              "    }\n",
              "\n",
              "    .dataframe thead th {\n",
              "        text-align: right;\n",
              "    }\n",
              "</style>\n",
              "<table border=\"1\" class=\"dataframe\">\n",
              "  <thead>\n",
              "    <tr style=\"text-align: right;\">\n",
              "      <th></th>\n",
              "      <th>valor_real</th>\n",
              "      <th>prediccion</th>\n",
              "      <th>diferencia</th>\n",
              "    </tr>\n",
              "  </thead>\n",
              "  <tbody>\n",
              "    <tr>\n",
              "      <th>0</th>\n",
              "      <td>21.4</td>\n",
              "      <td>22.636146</td>\n",
              "      <td>-1.236146</td>\n",
              "    </tr>\n",
              "    <tr>\n",
              "      <th>1</th>\n",
              "      <td>13.4</td>\n",
              "      <td>16.581412</td>\n",
              "      <td>-3.181412</td>\n",
              "    </tr>\n",
              "    <tr>\n",
              "      <th>2</th>\n",
              "      <td>20.0</td>\n",
              "      <td>18.762216</td>\n",
              "      <td>1.237784</td>\n",
              "    </tr>\n",
              "    <tr>\n",
              "      <th>3</th>\n",
              "      <td>19.6</td>\n",
              "      <td>22.941739</td>\n",
              "      <td>-3.341739</td>\n",
              "    </tr>\n",
              "    <tr>\n",
              "      <th>4</th>\n",
              "      <td>23.1</td>\n",
              "      <td>24.427308</td>\n",
              "      <td>-1.327308</td>\n",
              "    </tr>\n",
              "    <tr>\n",
              "      <th>5</th>\n",
              "      <td>16.2</td>\n",
              "      <td>16.154536</td>\n",
              "      <td>0.045464</td>\n",
              "    </tr>\n",
              "    <tr>\n",
              "      <th>6</th>\n",
              "      <td>14.6</td>\n",
              "      <td>3.610760</td>\n",
              "      <td>10.989240</td>\n",
              "    </tr>\n",
              "    <tr>\n",
              "      <th>7</th>\n",
              "      <td>18.5</td>\n",
              "      <td>14.817992</td>\n",
              "      <td>3.682008</td>\n",
              "    </tr>\n",
              "    <tr>\n",
              "      <th>8</th>\n",
              "      <td>13.6</td>\n",
              "      <td>16.993392</td>\n",
              "      <td>-3.393392</td>\n",
              "    </tr>\n",
              "    <tr>\n",
              "      <th>9</th>\n",
              "      <td>17.5</td>\n",
              "      <td>17.002229</td>\n",
              "      <td>0.497771</td>\n",
              "    </tr>\n",
              "  </tbody>\n",
              "</table>\n",
              "</div>"
            ],
            "text/plain": [
              "   valor_real  prediccion  diferencia\n",
              "0        21.4   22.636146   -1.236146\n",
              "1        13.4   16.581412   -3.181412\n",
              "2        20.0   18.762216    1.237784\n",
              "3        19.6   22.941739   -3.341739\n",
              "4        23.1   24.427308   -1.327308\n",
              "5        16.2   16.154536    0.045464\n",
              "6        14.6    3.610760   10.989240\n",
              "7        18.5   14.817992    3.682008\n",
              "8        13.6   16.993392   -3.393392\n",
              "9        17.5   17.002229    0.497771"
            ]
          },
          "metadata": {
            "tags": []
          },
          "execution_count": 6
        }
      ]
    },
    {
      "cell_type": "markdown",
      "metadata": {
        "id": "T9D-PXg3UGFS"
      },
      "source": [
        "### Ejemplo de polinomio de grado 2\n",
        "Ahora probaremos con un polinomio de grado 2"
      ]
    },
    {
      "cell_type": "code",
      "metadata": {
        "id": "rp2DQG26UGFT",
        "outputId": "d61bdb63-edbf-42de-8b6b-b48a858029fa"
      },
      "source": [
        "poly_model = LinearRegression()\n",
        "poly = PolynomialFeatures(degree=2)\n",
        "\n",
        "Xpolytrain = poly.fit_transform(X_train)\n",
        "Xpolytest = poly.fit_transform(X_test)\n",
        "\n",
        "poly_model.fit(Xpolytrain, Y_train)\n",
        "y_train_predict = poly_model.predict(Xpolytrain)\n",
        "\n",
        "MSE = mean_squared_error(Y_train,y_train_predict)\n",
        "print(\"Entrenamiento: MSE =\"+str(MSE))\n",
        "\n",
        "y_test_predict = poly_model.predict(Xpolytest)\n",
        "MSE = (mean_squared_error(Y_test, y_test_predict))\n",
        "print(\"Pruebas: MSE =\"+str(MSE))\n",
        "\n",
        "df_predicciones = pd.DataFrame({'valor_real':Y_test, 'prediccion':y_test_predict, 'diferencia':Y_test-y_test_predict})\n",
        "df_predicciones = df_predicciones.reset_index(drop = True)\n",
        "df_predicciones.head(10)"
      ],
      "execution_count": null,
      "outputs": [
        {
          "output_type": "stream",
          "text": [
            "Entrenamiento: MSE =20.6035876339334\n",
            "Pruebas: MSE =20.73109193466297\n"
          ],
          "name": "stdout"
        },
        {
          "output_type": "execute_result",
          "data": {
            "text/html": [
              "<div>\n",
              "<style scoped>\n",
              "    .dataframe tbody tr th:only-of-type {\n",
              "        vertical-align: middle;\n",
              "    }\n",
              "\n",
              "    .dataframe tbody tr th {\n",
              "        vertical-align: top;\n",
              "    }\n",
              "\n",
              "    .dataframe thead th {\n",
              "        text-align: right;\n",
              "    }\n",
              "</style>\n",
              "<table border=\"1\" class=\"dataframe\">\n",
              "  <thead>\n",
              "    <tr style=\"text-align: right;\">\n",
              "      <th></th>\n",
              "      <th>valor_real</th>\n",
              "      <th>prediccion</th>\n",
              "      <th>diferencia</th>\n",
              "    </tr>\n",
              "  </thead>\n",
              "  <tbody>\n",
              "    <tr>\n",
              "      <th>0</th>\n",
              "      <td>21.4</td>\n",
              "      <td>21.242792</td>\n",
              "      <td>0.157208</td>\n",
              "    </tr>\n",
              "    <tr>\n",
              "      <th>1</th>\n",
              "      <td>13.4</td>\n",
              "      <td>12.751130</td>\n",
              "      <td>0.648870</td>\n",
              "    </tr>\n",
              "    <tr>\n",
              "      <th>2</th>\n",
              "      <td>20.0</td>\n",
              "      <td>18.288925</td>\n",
              "      <td>1.711075</td>\n",
              "    </tr>\n",
              "    <tr>\n",
              "      <th>3</th>\n",
              "      <td>19.6</td>\n",
              "      <td>22.466176</td>\n",
              "      <td>-2.866176</td>\n",
              "    </tr>\n",
              "    <tr>\n",
              "      <th>4</th>\n",
              "      <td>23.1</td>\n",
              "      <td>22.852479</td>\n",
              "      <td>0.247521</td>\n",
              "    </tr>\n",
              "    <tr>\n",
              "      <th>5</th>\n",
              "      <td>16.2</td>\n",
              "      <td>16.190515</td>\n",
              "      <td>0.009485</td>\n",
              "    </tr>\n",
              "    <tr>\n",
              "      <th>6</th>\n",
              "      <td>14.6</td>\n",
              "      <td>13.401655</td>\n",
              "      <td>1.198345</td>\n",
              "    </tr>\n",
              "    <tr>\n",
              "      <th>7</th>\n",
              "      <td>18.5</td>\n",
              "      <td>15.453336</td>\n",
              "      <td>3.046664</td>\n",
              "    </tr>\n",
              "    <tr>\n",
              "      <th>8</th>\n",
              "      <td>13.6</td>\n",
              "      <td>15.695916</td>\n",
              "      <td>-2.095916</td>\n",
              "    </tr>\n",
              "    <tr>\n",
              "      <th>9</th>\n",
              "      <td>17.5</td>\n",
              "      <td>17.530889</td>\n",
              "      <td>-0.030889</td>\n",
              "    </tr>\n",
              "  </tbody>\n",
              "</table>\n",
              "</div>"
            ],
            "text/plain": [
              "   valor_real  prediccion  diferencia\n",
              "0        21.4   21.242792    0.157208\n",
              "1        13.4   12.751130    0.648870\n",
              "2        20.0   18.288925    1.711075\n",
              "3        19.6   22.466176   -2.866176\n",
              "4        23.1   22.852479    0.247521\n",
              "5        16.2   16.190515    0.009485\n",
              "6        14.6   13.401655    1.198345\n",
              "7        18.5   15.453336    3.046664\n",
              "8        13.6   15.695916   -2.095916\n",
              "9        17.5   17.530889   -0.030889"
            ]
          },
          "metadata": {
            "tags": []
          },
          "execution_count": 7
        }
      ]
    },
    {
      "cell_type": "code",
      "metadata": {
        "id": "ZTguPVsIUGFV"
      },
      "source": [
        ""
      ],
      "execution_count": null,
      "outputs": []
    },
    {
      "cell_type": "markdown",
      "metadata": {
        "id": "V-XfDhstUHLI"
      },
      "source": [
        "# Ejemplo 03\n",
        "**_Dr. Antonio Arista Jalife._**\n",
        "\n",
        "En este ejemplo vamos a tomar una serie de tiempo de temperatura y con base en los datos de 10 días anteriores, trataremos de predecir la temperatura del día siguiente. Esto nos muestra como algo tan volátil de predecir como el clima puede ser predicho con un algoritmo de regresión lineal."
      ]
    },
    {
      "cell_type": "code",
      "metadata": {
        "collapsed": true,
        "id": "YQ3IDwbhUHLd"
      },
      "source": [
        "import numpy as np\n",
        "import pandas as pd\n",
        "from sklearn.datasets import load_boston\n",
        "from sklearn.model_selection import train_test_split\n",
        "from sklearn.linear_model import LinearRegression\n",
        "from sklearn.metrics import mean_squared_error"
      ],
      "execution_count": null,
      "outputs": []
    },
    {
      "cell_type": "markdown",
      "metadata": {
        "id": "nYo5gaJSUHLf"
      },
      "source": [
        "### Serie de tiempo a Dataset.\n",
        "Esta función transforma una serie de tiempo en un dataset, como vimos en clase: toma N valores y el N+1 lo vuelve una salida esperada."
      ]
    },
    {
      "cell_type": "code",
      "metadata": {
        "collapsed": true,
        "id": "rc2j2QIgUHLf"
      },
      "source": [
        "def transformarSerieADataset(serie, elementosPorMuestra):\n",
        "    dataset = None\n",
        "    salidasDataset = None\n",
        "    for counter in range (len(serie)-elementosPorMuestra-1):        \n",
        "        muestra = np.array([serie[counter:counter+elementosPorMuestra]])        \n",
        "        salida = np.array([serie[counter+elementosPorMuestra]])\n",
        "        if dataset is None:\n",
        "            dataset = muestra\n",
        "        else:\n",
        "            dataset = np.append(dataset,muestra,axis = 0)\n",
        "        if salidasDataset is None:\n",
        "            salidasDataset = salida    \n",
        "        else:        \n",
        "            salidasDataset = np.append(salidasDataset,salida)\n",
        "    return dataset, salidasDataset"
      ],
      "execution_count": null,
      "outputs": []
    },
    {
      "cell_type": "code",
      "metadata": {
        "collapsed": true,
        "id": "XL6qIFv9UHLh"
      },
      "source": [
        "df_timeseries = pd.read_csv('timeseries-temperature.csv')\n",
        "df_timeseries['Temp']\n",
        "serie = df_timeseries['Temp'].to_numpy()\n",
        "\n",
        "X, Y = transformarSerieADataset(serie, elementosPorMuestra = 10)"
      ],
      "execution_count": null,
      "outputs": []
    },
    {
      "cell_type": "markdown",
      "metadata": {
        "id": "M9EajN0CUHLh"
      },
      "source": [
        "Aqui vamos a dividir los datos en Train y Test y entrenaremos un regresor lineal para obtener lo mejor que pueda una predicción sobre el clima"
      ]
    },
    {
      "cell_type": "code",
      "metadata": {
        "id": "fUsSbortUHLi",
        "outputId": "c862bd75-074d-41dc-f883-23b5e49954c6"
      },
      "source": [
        "X_train, X_test, Y_train, Y_test = train_test_split(X, Y, test_size = 0.4, random_state=5)\n",
        "print(X_train.shape)\n",
        "print(X_test.shape)\n",
        "print(Y_train.shape)\n",
        "print(Y_test.shape)"
      ],
      "execution_count": null,
      "outputs": [
        {
          "output_type": "stream",
          "text": [
            "(2183, 10)\n",
            "(1456, 10)\n",
            "(2183,)\n",
            "(1456,)\n"
          ],
          "name": "stdout"
        }
      ]
    },
    {
      "cell_type": "markdown",
      "metadata": {
        "id": "zII7PyTrUHLj"
      },
      "source": [
        "### Entrenamiento y predicciones:\n",
        "Trataremos de predecir que tal funciona el regresor lineal. "
      ]
    },
    {
      "cell_type": "code",
      "metadata": {
        "id": "X06v4GM-UHLk",
        "outputId": "fa84c577-bfd8-4a8b-d257-7d8bb8bfa9da"
      },
      "source": [
        "lin_model = LinearRegression()\n",
        "lin_model.fit(X_train, Y_train)"
      ],
      "execution_count": null,
      "outputs": [
        {
          "output_type": "execute_result",
          "data": {
            "text/plain": [
              "LinearRegression(copy_X=True, fit_intercept=True, n_jobs=None, normalize=False)"
            ]
          },
          "metadata": {
            "tags": []
          },
          "execution_count": 5
        }
      ]
    },
    {
      "cell_type": "code",
      "metadata": {
        "id": "GAhEg9R-UHLl",
        "outputId": "1db872a6-9bf6-47ed-a972-c49195b7a4c6"
      },
      "source": [
        "y_train_predict = lin_model.predict(X_train)\n",
        "MSE = mean_squared_error(Y_train,y_train_predict)\n",
        "print(\"Entrenamiento: MSE =\"+str(MSE))\n",
        "\n",
        "y_test_predict = lin_model.predict(X_test)\n",
        "MSE = (mean_squared_error(Y_test, y_test_predict))\n",
        "print(\"Pruebas: MSE =\"+str(MSE))"
      ],
      "execution_count": null,
      "outputs": [
        {
          "output_type": "stream",
          "text": [
            "Entrenamiento: MSE =5.938930927900749\n",
            "Pruebas: MSE =5.804442996215095\n"
          ],
          "name": "stdout"
        }
      ]
    },
    {
      "cell_type": "markdown",
      "metadata": {
        "id": "BaxUoV8xUHLl"
      },
      "source": [
        "### Predicciones:\n",
        "Ahora, veamos que tal predijo nuestro modelo poniendo lado a lado las predicciones y los valores reales"
      ]
    },
    {
      "cell_type": "code",
      "metadata": {
        "id": "bIkwdrX7UHLm",
        "outputId": "5ec5be7d-773b-445c-8741-4afff561ca27"
      },
      "source": [
        "df_predicciones = pd.DataFrame({'valor real':Y_test, 'prediccion':y_test_predict, 'diferencia':Y_test-y_test_predict})\n",
        "df_predicciones = df_predicciones.reset_index(drop = True)\n",
        "df_predicciones.head(10)"
      ],
      "execution_count": null,
      "outputs": [
        {
          "output_type": "execute_result",
          "data": {
            "text/html": [
              "<div>\n",
              "<style scoped>\n",
              "    .dataframe tbody tr th:only-of-type {\n",
              "        vertical-align: middle;\n",
              "    }\n",
              "\n",
              "    .dataframe tbody tr th {\n",
              "        vertical-align: top;\n",
              "    }\n",
              "\n",
              "    .dataframe thead th {\n",
              "        text-align: right;\n",
              "    }\n",
              "</style>\n",
              "<table border=\"1\" class=\"dataframe\">\n",
              "  <thead>\n",
              "    <tr style=\"text-align: right;\">\n",
              "      <th></th>\n",
              "      <th>diferencia</th>\n",
              "      <th>prediccion</th>\n",
              "      <th>valor real</th>\n",
              "    </tr>\n",
              "  </thead>\n",
              "  <tbody>\n",
              "    <tr>\n",
              "      <th>0</th>\n",
              "      <td>-0.742427</td>\n",
              "      <td>7.842427</td>\n",
              "      <td>7.1</td>\n",
              "    </tr>\n",
              "    <tr>\n",
              "      <th>1</th>\n",
              "      <td>3.512457</td>\n",
              "      <td>12.787543</td>\n",
              "      <td>16.3</td>\n",
              "    </tr>\n",
              "    <tr>\n",
              "      <th>2</th>\n",
              "      <td>0.291408</td>\n",
              "      <td>9.808592</td>\n",
              "      <td>10.1</td>\n",
              "    </tr>\n",
              "    <tr>\n",
              "      <th>3</th>\n",
              "      <td>0.866023</td>\n",
              "      <td>4.433977</td>\n",
              "      <td>5.3</td>\n",
              "    </tr>\n",
              "    <tr>\n",
              "      <th>4</th>\n",
              "      <td>0.573464</td>\n",
              "      <td>5.126536</td>\n",
              "      <td>5.7</td>\n",
              "    </tr>\n",
              "    <tr>\n",
              "      <th>5</th>\n",
              "      <td>-1.312273</td>\n",
              "      <td>12.512273</td>\n",
              "      <td>11.2</td>\n",
              "    </tr>\n",
              "    <tr>\n",
              "      <th>6</th>\n",
              "      <td>-0.093590</td>\n",
              "      <td>16.193590</td>\n",
              "      <td>16.1</td>\n",
              "    </tr>\n",
              "    <tr>\n",
              "      <th>7</th>\n",
              "      <td>-0.344948</td>\n",
              "      <td>9.344948</td>\n",
              "      <td>9.0</td>\n",
              "    </tr>\n",
              "    <tr>\n",
              "      <th>8</th>\n",
              "      <td>-1.691188</td>\n",
              "      <td>8.291188</td>\n",
              "      <td>6.6</td>\n",
              "    </tr>\n",
              "    <tr>\n",
              "      <th>9</th>\n",
              "      <td>-2.004833</td>\n",
              "      <td>8.004833</td>\n",
              "      <td>6.0</td>\n",
              "    </tr>\n",
              "  </tbody>\n",
              "</table>\n",
              "</div>"
            ],
            "text/plain": [
              "   diferencia  prediccion  valor real\n",
              "0   -0.742427    7.842427         7.1\n",
              "1    3.512457   12.787543        16.3\n",
              "2    0.291408    9.808592        10.1\n",
              "3    0.866023    4.433977         5.3\n",
              "4    0.573464    5.126536         5.7\n",
              "5   -1.312273   12.512273        11.2\n",
              "6   -0.093590   16.193590        16.1\n",
              "7   -0.344948    9.344948         9.0\n",
              "8   -1.691188    8.291188         6.6\n",
              "9   -2.004833    8.004833         6.0"
            ]
          },
          "metadata": {
            "tags": []
          },
          "execution_count": 7
        }
      ]
    },
    {
      "cell_type": "code",
      "metadata": {
        "collapsed": true,
        "id": "w6q4_1UAUHLm"
      },
      "source": [
        ""
      ],
      "execution_count": null,
      "outputs": []
    },
    {
      "cell_type": "markdown",
      "metadata": {
        "id": "p5MUSpwEd9PD"
      },
      "source": [
        "# Reto 1"
      ]
    },
    {
      "cell_type": "code",
      "metadata": {
        "colab": {
          "base_uri": "https://localhost:8080/",
          "height": 513
        },
        "id": "WkLCKV-teB6F",
        "outputId": "f02368d5-1b35-4a10-941d-2c8a3a6ed19d"
      },
      "source": [
        "df = pd.read_csv('/content/drive/MyDrive/Proyecto Python/Municipal-Delitos-2015-2021_ene2021.csv', encoding='latin-1')\n",
        "df.head()"
      ],
      "execution_count": 103,
      "outputs": [
        {
          "output_type": "execute_result",
          "data": {
            "text/html": [
              "<div>\n",
              "<style scoped>\n",
              "    .dataframe tbody tr th:only-of-type {\n",
              "        vertical-align: middle;\n",
              "    }\n",
              "\n",
              "    .dataframe tbody tr th {\n",
              "        vertical-align: top;\n",
              "    }\n",
              "\n",
              "    .dataframe thead th {\n",
              "        text-align: right;\n",
              "    }\n",
              "</style>\n",
              "<table border=\"1\" class=\"dataframe\">\n",
              "  <thead>\n",
              "    <tr style=\"text-align: right;\">\n",
              "      <th></th>\n",
              "      <th>Año</th>\n",
              "      <th>Clave_Ent</th>\n",
              "      <th>Entidad</th>\n",
              "      <th>Cve. Municipio</th>\n",
              "      <th>Municipio</th>\n",
              "      <th>Bien jurídico afectado</th>\n",
              "      <th>Tipo de delito</th>\n",
              "      <th>Subtipo de delito</th>\n",
              "      <th>Modalidad</th>\n",
              "      <th>Enero</th>\n",
              "      <th>Febrero</th>\n",
              "      <th>Marzo</th>\n",
              "      <th>Abril</th>\n",
              "      <th>Mayo</th>\n",
              "      <th>Junio</th>\n",
              "      <th>Julio</th>\n",
              "      <th>Agosto</th>\n",
              "      <th>Septiembre</th>\n",
              "      <th>Octubre</th>\n",
              "      <th>Noviembre</th>\n",
              "      <th>Diciembre</th>\n",
              "    </tr>\n",
              "  </thead>\n",
              "  <tbody>\n",
              "    <tr>\n",
              "      <th>0</th>\n",
              "      <td>2015</td>\n",
              "      <td>1</td>\n",
              "      <td>Aguascalientes</td>\n",
              "      <td>1001</td>\n",
              "      <td>Aguascalientes</td>\n",
              "      <td>La vida y la Integridad corporal</td>\n",
              "      <td>Homicidio</td>\n",
              "      <td>Homicidio doloso</td>\n",
              "      <td>Con arma de fuego</td>\n",
              "      <td>2</td>\n",
              "      <td>0.0</td>\n",
              "      <td>1.0</td>\n",
              "      <td>1.0</td>\n",
              "      <td>0.0</td>\n",
              "      <td>1.0</td>\n",
              "      <td>1.0</td>\n",
              "      <td>0.0</td>\n",
              "      <td>2.0</td>\n",
              "      <td>1.0</td>\n",
              "      <td>0.0</td>\n",
              "      <td>1.0</td>\n",
              "    </tr>\n",
              "    <tr>\n",
              "      <th>1</th>\n",
              "      <td>2015</td>\n",
              "      <td>1</td>\n",
              "      <td>Aguascalientes</td>\n",
              "      <td>1001</td>\n",
              "      <td>Aguascalientes</td>\n",
              "      <td>La vida y la Integridad corporal</td>\n",
              "      <td>Homicidio</td>\n",
              "      <td>Homicidio doloso</td>\n",
              "      <td>Con arma blanca</td>\n",
              "      <td>1</td>\n",
              "      <td>1.0</td>\n",
              "      <td>0.0</td>\n",
              "      <td>0.0</td>\n",
              "      <td>0.0</td>\n",
              "      <td>1.0</td>\n",
              "      <td>0.0</td>\n",
              "      <td>1.0</td>\n",
              "      <td>0.0</td>\n",
              "      <td>0.0</td>\n",
              "      <td>0.0</td>\n",
              "      <td>0.0</td>\n",
              "    </tr>\n",
              "    <tr>\n",
              "      <th>2</th>\n",
              "      <td>2015</td>\n",
              "      <td>1</td>\n",
              "      <td>Aguascalientes</td>\n",
              "      <td>1001</td>\n",
              "      <td>Aguascalientes</td>\n",
              "      <td>La vida y la Integridad corporal</td>\n",
              "      <td>Homicidio</td>\n",
              "      <td>Homicidio doloso</td>\n",
              "      <td>Con otro elemento</td>\n",
              "      <td>0</td>\n",
              "      <td>0.0</td>\n",
              "      <td>1.0</td>\n",
              "      <td>1.0</td>\n",
              "      <td>3.0</td>\n",
              "      <td>2.0</td>\n",
              "      <td>0.0</td>\n",
              "      <td>1.0</td>\n",
              "      <td>2.0</td>\n",
              "      <td>0.0</td>\n",
              "      <td>0.0</td>\n",
              "      <td>0.0</td>\n",
              "    </tr>\n",
              "    <tr>\n",
              "      <th>3</th>\n",
              "      <td>2015</td>\n",
              "      <td>1</td>\n",
              "      <td>Aguascalientes</td>\n",
              "      <td>1001</td>\n",
              "      <td>Aguascalientes</td>\n",
              "      <td>La vida y la Integridad corporal</td>\n",
              "      <td>Homicidio</td>\n",
              "      <td>Homicidio doloso</td>\n",
              "      <td>No especificado</td>\n",
              "      <td>1</td>\n",
              "      <td>0.0</td>\n",
              "      <td>0.0</td>\n",
              "      <td>1.0</td>\n",
              "      <td>0.0</td>\n",
              "      <td>0.0</td>\n",
              "      <td>0.0</td>\n",
              "      <td>0.0</td>\n",
              "      <td>0.0</td>\n",
              "      <td>0.0</td>\n",
              "      <td>0.0</td>\n",
              "      <td>0.0</td>\n",
              "    </tr>\n",
              "    <tr>\n",
              "      <th>4</th>\n",
              "      <td>2015</td>\n",
              "      <td>1</td>\n",
              "      <td>Aguascalientes</td>\n",
              "      <td>1001</td>\n",
              "      <td>Aguascalientes</td>\n",
              "      <td>La vida y la Integridad corporal</td>\n",
              "      <td>Homicidio</td>\n",
              "      <td>Homicidio culposo</td>\n",
              "      <td>Con arma de fuego</td>\n",
              "      <td>0</td>\n",
              "      <td>0.0</td>\n",
              "      <td>0.0</td>\n",
              "      <td>0.0</td>\n",
              "      <td>1.0</td>\n",
              "      <td>0.0</td>\n",
              "      <td>0.0</td>\n",
              "      <td>0.0</td>\n",
              "      <td>0.0</td>\n",
              "      <td>0.0</td>\n",
              "      <td>0.0</td>\n",
              "      <td>0.0</td>\n",
              "    </tr>\n",
              "  </tbody>\n",
              "</table>\n",
              "</div>"
            ],
            "text/plain": [
              "    Año  Clave_Ent         Entidad  ...  Octubre Noviembre Diciembre\n",
              "0  2015          1  Aguascalientes  ...      1.0       0.0       1.0\n",
              "1  2015          1  Aguascalientes  ...      0.0       0.0       0.0\n",
              "2  2015          1  Aguascalientes  ...      0.0       0.0       0.0\n",
              "3  2015          1  Aguascalientes  ...      0.0       0.0       0.0\n",
              "4  2015          1  Aguascalientes  ...      0.0       0.0       0.0\n",
              "\n",
              "[5 rows x 21 columns]"
            ]
          },
          "metadata": {
            "tags": []
          },
          "execution_count": 103
        }
      ]
    },
    {
      "cell_type": "code",
      "metadata": {
        "colab": {
          "base_uri": "https://localhost:8080/"
        },
        "id": "K0G_HQVFfOAr",
        "outputId": "bc474713-beab-469d-8cda-59dbabd6f3b1"
      },
      "source": [
        "df['Tipo de delito'].unique()"
      ],
      "execution_count": 104,
      "outputs": [
        {
          "output_type": "execute_result",
          "data": {
            "text/plain": [
              "array(['Homicidio', 'Lesiones', 'Feminicidio', 'Aborto',\n",
              "       'Otros delitos que atentan contra la vida y la integridad corporal',\n",
              "       'Secuestro', 'Tráfico de menores', 'Rapto',\n",
              "       'Otros delitos que atentan contra la libertad personal',\n",
              "       'Abuso sexual', 'Acoso sexual', 'Hostigamiento sexual',\n",
              "       'Violación simple', 'Violación equiparada', 'Incesto',\n",
              "       'Otros delitos que atentan contra la libertad y la seguridad sexual',\n",
              "       'Robo', 'Fraude', 'Abuso de confianza', 'Extorsión',\n",
              "       'Daño a la propiedad', 'Despojo',\n",
              "       'Otros delitos contra el patrimonio', 'Violencia familiar',\n",
              "       'Violencia de género en todas sus modalidades distinta a la violencia familiar',\n",
              "       'Incumplimiento de obligaciones de asistencia familiar',\n",
              "       'Otros delitos contra la familia', 'Corrupción de menores',\n",
              "       'Trata de personas', 'Otros delitos contra la sociedad',\n",
              "       'Narcomenudeo', 'Amenazas', 'Allanamiento de morada',\n",
              "       'Evasión de presos', 'Falsedad', 'Falsificación',\n",
              "       'Contra el medio ambiente',\n",
              "       'Delitos cometidos por servidores públicos', 'Electorales',\n",
              "       'Otros delitos del Fuero Común'], dtype=object)"
            ]
          },
          "metadata": {
            "tags": []
          },
          "execution_count": 104
        }
      ]
    },
    {
      "cell_type": "code",
      "metadata": {
        "id": "1h_lXr7TfEDl"
      },
      "source": [
        "df = df[df['Tipo de delito'] == 'Violencia familiar']"
      ],
      "execution_count": 105,
      "outputs": []
    },
    {
      "cell_type": "code",
      "metadata": {
        "id": "5F2yeCTKfbjy"
      },
      "source": [
        "df = df.dropna()"
      ],
      "execution_count": 106,
      "outputs": []
    },
    {
      "cell_type": "code",
      "metadata": {
        "colab": {
          "base_uri": "https://localhost:8080/",
          "height": 343
        },
        "id": "NNWSoOOFffQx",
        "outputId": "1e756a13-ea95-4607-947d-df3b4ef7175f"
      },
      "source": [
        "df.head()"
      ],
      "execution_count": 107,
      "outputs": [
        {
          "output_type": "execute_result",
          "data": {
            "text/html": [
              "<div>\n",
              "<style scoped>\n",
              "    .dataframe tbody tr th:only-of-type {\n",
              "        vertical-align: middle;\n",
              "    }\n",
              "\n",
              "    .dataframe tbody tr th {\n",
              "        vertical-align: top;\n",
              "    }\n",
              "\n",
              "    .dataframe thead th {\n",
              "        text-align: right;\n",
              "    }\n",
              "</style>\n",
              "<table border=\"1\" class=\"dataframe\">\n",
              "  <thead>\n",
              "    <tr style=\"text-align: right;\">\n",
              "      <th></th>\n",
              "      <th>Año</th>\n",
              "      <th>Clave_Ent</th>\n",
              "      <th>Entidad</th>\n",
              "      <th>Cve. Municipio</th>\n",
              "      <th>Municipio</th>\n",
              "      <th>Bien jurídico afectado</th>\n",
              "      <th>Tipo de delito</th>\n",
              "      <th>Subtipo de delito</th>\n",
              "      <th>Modalidad</th>\n",
              "      <th>Enero</th>\n",
              "      <th>Febrero</th>\n",
              "      <th>Marzo</th>\n",
              "      <th>Abril</th>\n",
              "      <th>Mayo</th>\n",
              "      <th>Junio</th>\n",
              "      <th>Julio</th>\n",
              "      <th>Agosto</th>\n",
              "      <th>Septiembre</th>\n",
              "      <th>Octubre</th>\n",
              "      <th>Noviembre</th>\n",
              "      <th>Diciembre</th>\n",
              "    </tr>\n",
              "  </thead>\n",
              "  <tbody>\n",
              "    <tr>\n",
              "      <th>81</th>\n",
              "      <td>2015</td>\n",
              "      <td>1</td>\n",
              "      <td>Aguascalientes</td>\n",
              "      <td>1001</td>\n",
              "      <td>Aguascalientes</td>\n",
              "      <td>La familia</td>\n",
              "      <td>Violencia familiar</td>\n",
              "      <td>Violencia familiar</td>\n",
              "      <td>Violencia familiar</td>\n",
              "      <td>18</td>\n",
              "      <td>36.0</td>\n",
              "      <td>24.0</td>\n",
              "      <td>24.0</td>\n",
              "      <td>28.0</td>\n",
              "      <td>28.0</td>\n",
              "      <td>35.0</td>\n",
              "      <td>38.0</td>\n",
              "      <td>47.0</td>\n",
              "      <td>53.0</td>\n",
              "      <td>40.0</td>\n",
              "      <td>39.0</td>\n",
              "    </tr>\n",
              "    <tr>\n",
              "      <th>179</th>\n",
              "      <td>2015</td>\n",
              "      <td>1</td>\n",
              "      <td>Aguascalientes</td>\n",
              "      <td>1002</td>\n",
              "      <td>Asientos</td>\n",
              "      <td>La familia</td>\n",
              "      <td>Violencia familiar</td>\n",
              "      <td>Violencia familiar</td>\n",
              "      <td>Violencia familiar</td>\n",
              "      <td>2</td>\n",
              "      <td>0.0</td>\n",
              "      <td>0.0</td>\n",
              "      <td>3.0</td>\n",
              "      <td>1.0</td>\n",
              "      <td>1.0</td>\n",
              "      <td>0.0</td>\n",
              "      <td>1.0</td>\n",
              "      <td>0.0</td>\n",
              "      <td>1.0</td>\n",
              "      <td>1.0</td>\n",
              "      <td>0.0</td>\n",
              "    </tr>\n",
              "    <tr>\n",
              "      <th>277</th>\n",
              "      <td>2015</td>\n",
              "      <td>1</td>\n",
              "      <td>Aguascalientes</td>\n",
              "      <td>1003</td>\n",
              "      <td>Calvillo</td>\n",
              "      <td>La familia</td>\n",
              "      <td>Violencia familiar</td>\n",
              "      <td>Violencia familiar</td>\n",
              "      <td>Violencia familiar</td>\n",
              "      <td>0</td>\n",
              "      <td>1.0</td>\n",
              "      <td>0.0</td>\n",
              "      <td>3.0</td>\n",
              "      <td>2.0</td>\n",
              "      <td>2.0</td>\n",
              "      <td>0.0</td>\n",
              "      <td>1.0</td>\n",
              "      <td>1.0</td>\n",
              "      <td>1.0</td>\n",
              "      <td>0.0</td>\n",
              "      <td>1.0</td>\n",
              "    </tr>\n",
              "    <tr>\n",
              "      <th>375</th>\n",
              "      <td>2015</td>\n",
              "      <td>1</td>\n",
              "      <td>Aguascalientes</td>\n",
              "      <td>1004</td>\n",
              "      <td>Cosío</td>\n",
              "      <td>La familia</td>\n",
              "      <td>Violencia familiar</td>\n",
              "      <td>Violencia familiar</td>\n",
              "      <td>Violencia familiar</td>\n",
              "      <td>0</td>\n",
              "      <td>0.0</td>\n",
              "      <td>0.0</td>\n",
              "      <td>0.0</td>\n",
              "      <td>0.0</td>\n",
              "      <td>0.0</td>\n",
              "      <td>0.0</td>\n",
              "      <td>0.0</td>\n",
              "      <td>0.0</td>\n",
              "      <td>0.0</td>\n",
              "      <td>0.0</td>\n",
              "      <td>0.0</td>\n",
              "    </tr>\n",
              "    <tr>\n",
              "      <th>473</th>\n",
              "      <td>2015</td>\n",
              "      <td>1</td>\n",
              "      <td>Aguascalientes</td>\n",
              "      <td>1005</td>\n",
              "      <td>Jesús María</td>\n",
              "      <td>La familia</td>\n",
              "      <td>Violencia familiar</td>\n",
              "      <td>Violencia familiar</td>\n",
              "      <td>Violencia familiar</td>\n",
              "      <td>3</td>\n",
              "      <td>1.0</td>\n",
              "      <td>0.0</td>\n",
              "      <td>1.0</td>\n",
              "      <td>0.0</td>\n",
              "      <td>2.0</td>\n",
              "      <td>0.0</td>\n",
              "      <td>2.0</td>\n",
              "      <td>0.0</td>\n",
              "      <td>1.0</td>\n",
              "      <td>1.0</td>\n",
              "      <td>0.0</td>\n",
              "    </tr>\n",
              "  </tbody>\n",
              "</table>\n",
              "</div>"
            ],
            "text/plain": [
              "      Año  Clave_Ent         Entidad  ...  Octubre Noviembre Diciembre\n",
              "81   2015          1  Aguascalientes  ...     53.0      40.0      39.0\n",
              "179  2015          1  Aguascalientes  ...      1.0       1.0       0.0\n",
              "277  2015          1  Aguascalientes  ...      1.0       0.0       1.0\n",
              "375  2015          1  Aguascalientes  ...      0.0       0.0       0.0\n",
              "473  2015          1  Aguascalientes  ...      1.0       1.0       0.0\n",
              "\n",
              "[5 rows x 21 columns]"
            ]
          },
          "metadata": {
            "tags": []
          },
          "execution_count": 107
        }
      ]
    },
    {
      "cell_type": "code",
      "metadata": {
        "colab": {
          "base_uri": "https://localhost:8080/"
        },
        "id": "Pge_nvQasyIl",
        "outputId": "b81f2626-d41f-4503-bfeb-cc2a2f1bc136"
      },
      "source": [
        "df.dtypes"
      ],
      "execution_count": 108,
      "outputs": [
        {
          "output_type": "execute_result",
          "data": {
            "text/plain": [
              "Año                         int64\n",
              "Clave_Ent                   int64\n",
              "Entidad                    object\n",
              "Cve. Municipio              int64\n",
              "Municipio                  object\n",
              "Bien jurídico afectado     object\n",
              "Tipo de delito             object\n",
              "Subtipo de delito          object\n",
              "Modalidad                  object\n",
              "Enero                       int64\n",
              "Febrero                   float64\n",
              "Marzo                     float64\n",
              "Abril                     float64\n",
              "Mayo                      float64\n",
              "Junio                     float64\n",
              "Julio                     float64\n",
              "Agosto                    float64\n",
              "Septiembre                float64\n",
              "Octubre                   float64\n",
              "Noviembre                 float64\n",
              "Diciembre                 float64\n",
              "dtype: object"
            ]
          },
          "metadata": {
            "tags": []
          },
          "execution_count": 108
        }
      ]
    },
    {
      "cell_type": "code",
      "metadata": {
        "id": "u1KljUmds2Xr"
      },
      "source": [
        "meses = ['Enero', 'Febrero','Marzo','Abril','Mayo','Junio','Julio','Agosto','Septiembre','Octubre','Noviembre','Diciembre']"
      ],
      "execution_count": 109,
      "outputs": []
    },
    {
      "cell_type": "code",
      "metadata": {
        "id": "q07WUakTsemh"
      },
      "source": [
        "for i in meses:\n",
        "    df[i] = df[i].astype(int)"
      ],
      "execution_count": 111,
      "outputs": []
    },
    {
      "cell_type": "code",
      "metadata": {
        "colab": {
          "base_uri": "https://localhost:8080/"
        },
        "id": "l8HDyAOaurRw",
        "outputId": "31a99842-df80-4adc-ea02-023140757bf5"
      },
      "source": [
        "df.dtypes"
      ],
      "execution_count": 112,
      "outputs": [
        {
          "output_type": "execute_result",
          "data": {
            "text/plain": [
              "Año                        int64\n",
              "Clave_Ent                  int64\n",
              "Entidad                   object\n",
              "Cve. Municipio             int64\n",
              "Municipio                 object\n",
              "Bien jurídico afectado    object\n",
              "Tipo de delito            object\n",
              "Subtipo de delito         object\n",
              "Modalidad                 object\n",
              "Enero                      int64\n",
              "Febrero                    int64\n",
              "Marzo                      int64\n",
              "Abril                      int64\n",
              "Mayo                       int64\n",
              "Junio                      int64\n",
              "Julio                      int64\n",
              "Agosto                     int64\n",
              "Septiembre                 int64\n",
              "Octubre                    int64\n",
              "Noviembre                  int64\n",
              "Diciembre                  int64\n",
              "dtype: object"
            ]
          },
          "metadata": {
            "tags": []
          },
          "execution_count": 112
        }
      ]
    },
    {
      "cell_type": "code",
      "metadata": {
        "colab": {
          "base_uri": "https://localhost:8080/",
          "height": 568
        },
        "id": "efI0Z2gTf8K5",
        "outputId": "81700193-c0e5-4b34-e927-1edb674a0580"
      },
      "source": [
        "df.corr()"
      ],
      "execution_count": 113,
      "outputs": [
        {
          "output_type": "execute_result",
          "data": {
            "text/html": [
              "<div>\n",
              "<style scoped>\n",
              "    .dataframe tbody tr th:only-of-type {\n",
              "        vertical-align: middle;\n",
              "    }\n",
              "\n",
              "    .dataframe tbody tr th {\n",
              "        vertical-align: top;\n",
              "    }\n",
              "\n",
              "    .dataframe thead th {\n",
              "        text-align: right;\n",
              "    }\n",
              "</style>\n",
              "<table border=\"1\" class=\"dataframe\">\n",
              "  <thead>\n",
              "    <tr style=\"text-align: right;\">\n",
              "      <th></th>\n",
              "      <th>Año</th>\n",
              "      <th>Clave_Ent</th>\n",
              "      <th>Cve. Municipio</th>\n",
              "      <th>Enero</th>\n",
              "      <th>Febrero</th>\n",
              "      <th>Marzo</th>\n",
              "      <th>Abril</th>\n",
              "      <th>Mayo</th>\n",
              "      <th>Junio</th>\n",
              "      <th>Julio</th>\n",
              "      <th>Agosto</th>\n",
              "      <th>Septiembre</th>\n",
              "      <th>Octubre</th>\n",
              "      <th>Noviembre</th>\n",
              "      <th>Diciembre</th>\n",
              "    </tr>\n",
              "  </thead>\n",
              "  <tbody>\n",
              "    <tr>\n",
              "      <th>Año</th>\n",
              "      <td>1.000000</td>\n",
              "      <td>0.008210</td>\n",
              "      <td>0.010522</td>\n",
              "      <td>0.028226</td>\n",
              "      <td>0.028758</td>\n",
              "      <td>0.030139</td>\n",
              "      <td>0.007350</td>\n",
              "      <td>0.007948</td>\n",
              "      <td>0.013507</td>\n",
              "      <td>0.022293</td>\n",
              "      <td>0.019152</td>\n",
              "      <td>0.019108</td>\n",
              "      <td>0.023176</td>\n",
              "      <td>0.015006</td>\n",
              "      <td>0.020901</td>\n",
              "    </tr>\n",
              "    <tr>\n",
              "      <th>Clave_Ent</th>\n",
              "      <td>0.008210</td>\n",
              "      <td>1.000000</td>\n",
              "      <td>0.999857</td>\n",
              "      <td>-0.115913</td>\n",
              "      <td>-0.116632</td>\n",
              "      <td>-0.117602</td>\n",
              "      <td>-0.115886</td>\n",
              "      <td>-0.114439</td>\n",
              "      <td>-0.118889</td>\n",
              "      <td>-0.116112</td>\n",
              "      <td>-0.120844</td>\n",
              "      <td>-0.118454</td>\n",
              "      <td>-0.118604</td>\n",
              "      <td>-0.120052</td>\n",
              "      <td>-0.119112</td>\n",
              "    </tr>\n",
              "    <tr>\n",
              "      <th>Cve. Municipio</th>\n",
              "      <td>0.010522</td>\n",
              "      <td>0.999857</td>\n",
              "      <td>1.000000</td>\n",
              "      <td>-0.117324</td>\n",
              "      <td>-0.118061</td>\n",
              "      <td>-0.119017</td>\n",
              "      <td>-0.117307</td>\n",
              "      <td>-0.115846</td>\n",
              "      <td>-0.120278</td>\n",
              "      <td>-0.117502</td>\n",
              "      <td>-0.122159</td>\n",
              "      <td>-0.119837</td>\n",
              "      <td>-0.120071</td>\n",
              "      <td>-0.121422</td>\n",
              "      <td>-0.120521</td>\n",
              "    </tr>\n",
              "    <tr>\n",
              "      <th>Enero</th>\n",
              "      <td>0.028226</td>\n",
              "      <td>-0.115913</td>\n",
              "      <td>-0.117324</td>\n",
              "      <td>1.000000</td>\n",
              "      <td>0.975024</td>\n",
              "      <td>0.976988</td>\n",
              "      <td>0.959454</td>\n",
              "      <td>0.955069</td>\n",
              "      <td>0.953420</td>\n",
              "      <td>0.955292</td>\n",
              "      <td>0.951204</td>\n",
              "      <td>0.948062</td>\n",
              "      <td>0.944563</td>\n",
              "      <td>0.938448</td>\n",
              "      <td>0.939061</td>\n",
              "    </tr>\n",
              "    <tr>\n",
              "      <th>Febrero</th>\n",
              "      <td>0.028758</td>\n",
              "      <td>-0.116632</td>\n",
              "      <td>-0.118061</td>\n",
              "      <td>0.975024</td>\n",
              "      <td>1.000000</td>\n",
              "      <td>0.979412</td>\n",
              "      <td>0.958750</td>\n",
              "      <td>0.955822</td>\n",
              "      <td>0.957699</td>\n",
              "      <td>0.954810</td>\n",
              "      <td>0.958566</td>\n",
              "      <td>0.953099</td>\n",
              "      <td>0.951651</td>\n",
              "      <td>0.942038</td>\n",
              "      <td>0.943546</td>\n",
              "    </tr>\n",
              "    <tr>\n",
              "      <th>Marzo</th>\n",
              "      <td>0.030139</td>\n",
              "      <td>-0.117602</td>\n",
              "      <td>-0.119017</td>\n",
              "      <td>0.976988</td>\n",
              "      <td>0.979412</td>\n",
              "      <td>1.000000</td>\n",
              "      <td>0.964069</td>\n",
              "      <td>0.961118</td>\n",
              "      <td>0.961390</td>\n",
              "      <td>0.958566</td>\n",
              "      <td>0.958415</td>\n",
              "      <td>0.954932</td>\n",
              "      <td>0.951088</td>\n",
              "      <td>0.946574</td>\n",
              "      <td>0.946690</td>\n",
              "    </tr>\n",
              "    <tr>\n",
              "      <th>Abril</th>\n",
              "      <td>0.007350</td>\n",
              "      <td>-0.115886</td>\n",
              "      <td>-0.117307</td>\n",
              "      <td>0.959454</td>\n",
              "      <td>0.958750</td>\n",
              "      <td>0.964069</td>\n",
              "      <td>1.000000</td>\n",
              "      <td>0.975449</td>\n",
              "      <td>0.966898</td>\n",
              "      <td>0.955708</td>\n",
              "      <td>0.949661</td>\n",
              "      <td>0.942540</td>\n",
              "      <td>0.934383</td>\n",
              "      <td>0.931643</td>\n",
              "      <td>0.933511</td>\n",
              "    </tr>\n",
              "    <tr>\n",
              "      <th>Mayo</th>\n",
              "      <td>0.007948</td>\n",
              "      <td>-0.114439</td>\n",
              "      <td>-0.115846</td>\n",
              "      <td>0.955069</td>\n",
              "      <td>0.955822</td>\n",
              "      <td>0.961118</td>\n",
              "      <td>0.975449</td>\n",
              "      <td>1.000000</td>\n",
              "      <td>0.968450</td>\n",
              "      <td>0.954963</td>\n",
              "      <td>0.954286</td>\n",
              "      <td>0.945523</td>\n",
              "      <td>0.936541</td>\n",
              "      <td>0.934655</td>\n",
              "      <td>0.935402</td>\n",
              "    </tr>\n",
              "    <tr>\n",
              "      <th>Junio</th>\n",
              "      <td>0.013507</td>\n",
              "      <td>-0.118889</td>\n",
              "      <td>-0.120278</td>\n",
              "      <td>0.953420</td>\n",
              "      <td>0.957699</td>\n",
              "      <td>0.961390</td>\n",
              "      <td>0.966898</td>\n",
              "      <td>0.968450</td>\n",
              "      <td>1.000000</td>\n",
              "      <td>0.976323</td>\n",
              "      <td>0.976229</td>\n",
              "      <td>0.968522</td>\n",
              "      <td>0.957756</td>\n",
              "      <td>0.950663</td>\n",
              "      <td>0.946100</td>\n",
              "    </tr>\n",
              "    <tr>\n",
              "      <th>Julio</th>\n",
              "      <td>0.022293</td>\n",
              "      <td>-0.116112</td>\n",
              "      <td>-0.117502</td>\n",
              "      <td>0.955292</td>\n",
              "      <td>0.954810</td>\n",
              "      <td>0.958566</td>\n",
              "      <td>0.955708</td>\n",
              "      <td>0.954963</td>\n",
              "      <td>0.976323</td>\n",
              "      <td>1.000000</td>\n",
              "      <td>0.977784</td>\n",
              "      <td>0.971845</td>\n",
              "      <td>0.963768</td>\n",
              "      <td>0.954282</td>\n",
              "      <td>0.950702</td>\n",
              "    </tr>\n",
              "    <tr>\n",
              "      <th>Agosto</th>\n",
              "      <td>0.019152</td>\n",
              "      <td>-0.120844</td>\n",
              "      <td>-0.122159</td>\n",
              "      <td>0.951204</td>\n",
              "      <td>0.958566</td>\n",
              "      <td>0.958415</td>\n",
              "      <td>0.949661</td>\n",
              "      <td>0.954286</td>\n",
              "      <td>0.976229</td>\n",
              "      <td>0.977784</td>\n",
              "      <td>1.000000</td>\n",
              "      <td>0.982551</td>\n",
              "      <td>0.971068</td>\n",
              "      <td>0.965135</td>\n",
              "      <td>0.953874</td>\n",
              "    </tr>\n",
              "    <tr>\n",
              "      <th>Septiembre</th>\n",
              "      <td>0.019108</td>\n",
              "      <td>-0.118454</td>\n",
              "      <td>-0.119837</td>\n",
              "      <td>0.948062</td>\n",
              "      <td>0.953099</td>\n",
              "      <td>0.954932</td>\n",
              "      <td>0.942540</td>\n",
              "      <td>0.945523</td>\n",
              "      <td>0.968522</td>\n",
              "      <td>0.971845</td>\n",
              "      <td>0.982551</td>\n",
              "      <td>1.000000</td>\n",
              "      <td>0.978708</td>\n",
              "      <td>0.971168</td>\n",
              "      <td>0.963292</td>\n",
              "    </tr>\n",
              "    <tr>\n",
              "      <th>Octubre</th>\n",
              "      <td>0.023176</td>\n",
              "      <td>-0.118604</td>\n",
              "      <td>-0.120071</td>\n",
              "      <td>0.944563</td>\n",
              "      <td>0.951651</td>\n",
              "      <td>0.951088</td>\n",
              "      <td>0.934383</td>\n",
              "      <td>0.936541</td>\n",
              "      <td>0.957756</td>\n",
              "      <td>0.963768</td>\n",
              "      <td>0.971068</td>\n",
              "      <td>0.978708</td>\n",
              "      <td>1.000000</td>\n",
              "      <td>0.978585</td>\n",
              "      <td>0.969004</td>\n",
              "    </tr>\n",
              "    <tr>\n",
              "      <th>Noviembre</th>\n",
              "      <td>0.015006</td>\n",
              "      <td>-0.120052</td>\n",
              "      <td>-0.121422</td>\n",
              "      <td>0.938448</td>\n",
              "      <td>0.942038</td>\n",
              "      <td>0.946574</td>\n",
              "      <td>0.931643</td>\n",
              "      <td>0.934655</td>\n",
              "      <td>0.950663</td>\n",
              "      <td>0.954282</td>\n",
              "      <td>0.965135</td>\n",
              "      <td>0.971168</td>\n",
              "      <td>0.978585</td>\n",
              "      <td>1.000000</td>\n",
              "      <td>0.973144</td>\n",
              "    </tr>\n",
              "    <tr>\n",
              "      <th>Diciembre</th>\n",
              "      <td>0.020901</td>\n",
              "      <td>-0.119112</td>\n",
              "      <td>-0.120521</td>\n",
              "      <td>0.939061</td>\n",
              "      <td>0.943546</td>\n",
              "      <td>0.946690</td>\n",
              "      <td>0.933511</td>\n",
              "      <td>0.935402</td>\n",
              "      <td>0.946100</td>\n",
              "      <td>0.950702</td>\n",
              "      <td>0.953874</td>\n",
              "      <td>0.963292</td>\n",
              "      <td>0.969004</td>\n",
              "      <td>0.973144</td>\n",
              "      <td>1.000000</td>\n",
              "    </tr>\n",
              "  </tbody>\n",
              "</table>\n",
              "</div>"
            ],
            "text/plain": [
              "                     Año  Clave_Ent  ...  Noviembre  Diciembre\n",
              "Año             1.000000   0.008210  ...   0.015006   0.020901\n",
              "Clave_Ent       0.008210   1.000000  ...  -0.120052  -0.119112\n",
              "Cve. Municipio  0.010522   0.999857  ...  -0.121422  -0.120521\n",
              "Enero           0.028226  -0.115913  ...   0.938448   0.939061\n",
              "Febrero         0.028758  -0.116632  ...   0.942038   0.943546\n",
              "Marzo           0.030139  -0.117602  ...   0.946574   0.946690\n",
              "Abril           0.007350  -0.115886  ...   0.931643   0.933511\n",
              "Mayo            0.007948  -0.114439  ...   0.934655   0.935402\n",
              "Junio           0.013507  -0.118889  ...   0.950663   0.946100\n",
              "Julio           0.022293  -0.116112  ...   0.954282   0.950702\n",
              "Agosto          0.019152  -0.120844  ...   0.965135   0.953874\n",
              "Septiembre      0.019108  -0.118454  ...   0.971168   0.963292\n",
              "Octubre         0.023176  -0.118604  ...   0.978585   0.969004\n",
              "Noviembre       0.015006  -0.120052  ...   1.000000   0.973144\n",
              "Diciembre       0.020901  -0.119112  ...   0.973144   1.000000\n",
              "\n",
              "[15 rows x 15 columns]"
            ]
          },
          "metadata": {
            "tags": []
          },
          "execution_count": 113
        }
      ]
    },
    {
      "cell_type": "code",
      "metadata": {
        "id": "czSMLGWwuvAw"
      },
      "source": [
        "sns.pairplot(df)"
      ],
      "execution_count": null,
      "outputs": []
    },
    {
      "cell_type": "code",
      "metadata": {
        "id": "BKluCC0bf8Z9"
      },
      "source": [
        "X = df[['Año', 'Clave_Ent', 'Cve. Municipio', 'Enero', 'Febrero','Marzo','Abril','Mayo','Junio','Julio','Agosto','Septiembre','Octubre','Noviembre']]\n",
        "Y = df['Diciembre']"
      ],
      "execution_count": 131,
      "outputs": []
    },
    {
      "cell_type": "code",
      "metadata": {
        "colab": {
          "base_uri": "https://localhost:8080/"
        },
        "id": "1AF3Ubd_f8Z-",
        "outputId": "561d75f0-5a9c-4dd0-c815-921b730f0096"
      },
      "source": [
        "X_train, X_test, Y_train, Y_test = train_test_split(X, Y, test_size = 0.4)\n",
        "print(X_train.shape)\n",
        "print(X_test.shape)\n",
        "print(Y_train.shape)\n",
        "print(Y_test.shape)"
      ],
      "execution_count": 132,
      "outputs": [
        {
          "output_type": "stream",
          "text": [
            "(8244, 14)\n",
            "(5497, 14)\n",
            "(8244,)\n",
            "(5497,)\n"
          ],
          "name": "stdout"
        }
      ]
    },
    {
      "cell_type": "code",
      "metadata": {
        "colab": {
          "base_uri": "https://localhost:8080/"
        },
        "id": "y31QxPoAh2D_",
        "outputId": "ac1c4490-23aa-4802-c7a7-23209a5298f2"
      },
      "source": [
        "lin_model = LinearRegression()\n",
        "lin_model.fit(X_train, Y_train)"
      ],
      "execution_count": 133,
      "outputs": [
        {
          "output_type": "execute_result",
          "data": {
            "text/plain": [
              "LinearRegression(copy_X=True, fit_intercept=True, n_jobs=None, normalize=False)"
            ]
          },
          "metadata": {
            "tags": []
          },
          "execution_count": 133
        }
      ]
    },
    {
      "cell_type": "code",
      "metadata": {
        "colab": {
          "base_uri": "https://localhost:8080/"
        },
        "id": "4bS0jLUmh2EB",
        "outputId": "74589dfb-806e-480d-d565-88476dde5bfe"
      },
      "source": [
        "y_train_predict = lin_model.predict(X_train)\n",
        "MSE = mean_squared_error(Y_train,y_train_predict)\n",
        "print(\"Entrenamiento: MSE =\"+str(MSE))\n",
        "\n",
        "y_test_predict = lin_model.predict(X_test)\n",
        "MSE = (mean_squared_error(Y_test, y_test_predict))\n",
        "print(\"Pruebas: MSE =\"+str(MSE))"
      ],
      "execution_count": 134,
      "outputs": [
        {
          "output_type": "stream",
          "text": [
            "Entrenamiento: MSE =28.565187009923267\n",
            "Pruebas: MSE =29.731059034730347\n"
          ],
          "name": "stdout"
        }
      ]
    },
    {
      "cell_type": "code",
      "metadata": {
        "colab": {
          "base_uri": "https://localhost:8080/",
          "height": 359
        },
        "id": "C55yfoHGiKEA",
        "outputId": "c6533145-0f06-49ce-96ac-6950218bf13e"
      },
      "source": [
        "df_predicciones_vf = pd.DataFrame({'valor_real':Y_test, 'prediccion':y_test_predict})\n",
        "df_predicciones_vf = df_predicciones_vf.reset_index(drop = True)\n",
        "df_predicciones_vf.head(10)"
      ],
      "execution_count": 135,
      "outputs": [
        {
          "output_type": "execute_result",
          "data": {
            "text/html": [
              "<div>\n",
              "<style scoped>\n",
              "    .dataframe tbody tr th:only-of-type {\n",
              "        vertical-align: middle;\n",
              "    }\n",
              "\n",
              "    .dataframe tbody tr th {\n",
              "        vertical-align: top;\n",
              "    }\n",
              "\n",
              "    .dataframe thead th {\n",
              "        text-align: right;\n",
              "    }\n",
              "</style>\n",
              "<table border=\"1\" class=\"dataframe\">\n",
              "  <thead>\n",
              "    <tr style=\"text-align: right;\">\n",
              "      <th></th>\n",
              "      <th>valor_real</th>\n",
              "      <th>prediccion</th>\n",
              "    </tr>\n",
              "  </thead>\n",
              "  <tbody>\n",
              "    <tr>\n",
              "      <th>0</th>\n",
              "      <td>0</td>\n",
              "      <td>0.224431</td>\n",
              "    </tr>\n",
              "    <tr>\n",
              "      <th>1</th>\n",
              "      <td>0</td>\n",
              "      <td>0.402632</td>\n",
              "    </tr>\n",
              "    <tr>\n",
              "      <th>2</th>\n",
              "      <td>0</td>\n",
              "      <td>0.246217</td>\n",
              "    </tr>\n",
              "    <tr>\n",
              "      <th>3</th>\n",
              "      <td>0</td>\n",
              "      <td>0.050716</td>\n",
              "    </tr>\n",
              "    <tr>\n",
              "      <th>4</th>\n",
              "      <td>87</td>\n",
              "      <td>71.588645</td>\n",
              "    </tr>\n",
              "    <tr>\n",
              "      <th>5</th>\n",
              "      <td>0</td>\n",
              "      <td>0.091473</td>\n",
              "    </tr>\n",
              "    <tr>\n",
              "      <th>6</th>\n",
              "      <td>0</td>\n",
              "      <td>-0.060584</td>\n",
              "    </tr>\n",
              "    <tr>\n",
              "      <th>7</th>\n",
              "      <td>2</td>\n",
              "      <td>1.389736</td>\n",
              "    </tr>\n",
              "    <tr>\n",
              "      <th>8</th>\n",
              "      <td>1</td>\n",
              "      <td>2.506679</td>\n",
              "    </tr>\n",
              "    <tr>\n",
              "      <th>9</th>\n",
              "      <td>0</td>\n",
              "      <td>0.016495</td>\n",
              "    </tr>\n",
              "  </tbody>\n",
              "</table>\n",
              "</div>"
            ],
            "text/plain": [
              "   valor_real  prediccion\n",
              "0           0    0.224431\n",
              "1           0    0.402632\n",
              "2           0    0.246217\n",
              "3           0    0.050716\n",
              "4          87   71.588645\n",
              "5           0    0.091473\n",
              "6           0   -0.060584\n",
              "7           2    1.389736\n",
              "8           1    2.506679\n",
              "9           0    0.016495"
            ]
          },
          "metadata": {
            "tags": []
          },
          "execution_count": 135
        }
      ]
    },
    {
      "cell_type": "markdown",
      "metadata": {
        "id": "zV-tagxFpCrX"
      },
      "source": [
        "# Reto 2"
      ]
    },
    {
      "cell_type": "markdown",
      "metadata": {
        "id": "iBrlXlrDplo2"
      },
      "source": [
        "## Lineal"
      ]
    },
    {
      "cell_type": "code",
      "metadata": {
        "colab": {
          "base_uri": "https://localhost:8080/",
          "height": 393
        },
        "id": "sTCRkTAVpvbc",
        "outputId": "6f23216a-d95b-445d-d4aa-ca81d1e451bf"
      },
      "source": [
        "y_train_predict = lin_model.predict(X_train)\n",
        "MSE = mean_squared_error(Y_train,y_train_predict)\n",
        "print(\"Entrenamiento: MSE =\"+str(MSE))\n",
        "\n",
        "y_test_predict = lin_model.predict(X_test)\n",
        "MSE = (mean_squared_error(Y_test, y_test_predict))\n",
        "print(\"Pruebas: MSE =\"+str(MSE))\n",
        "\n",
        "df_predicciones_vf = pd.DataFrame({'valor_real':Y_test, 'prediccion':y_test_predict})\n",
        "df_predicciones_vf = df_predicciones_vf.reset_index(drop = True)\n",
        "df_predicciones_vf.head(10)"
      ],
      "execution_count": 136,
      "outputs": [
        {
          "output_type": "stream",
          "text": [
            "Entrenamiento: MSE =28.565187009923267\n",
            "Pruebas: MSE =29.731059034730347\n"
          ],
          "name": "stdout"
        },
        {
          "output_type": "execute_result",
          "data": {
            "text/html": [
              "<div>\n",
              "<style scoped>\n",
              "    .dataframe tbody tr th:only-of-type {\n",
              "        vertical-align: middle;\n",
              "    }\n",
              "\n",
              "    .dataframe tbody tr th {\n",
              "        vertical-align: top;\n",
              "    }\n",
              "\n",
              "    .dataframe thead th {\n",
              "        text-align: right;\n",
              "    }\n",
              "</style>\n",
              "<table border=\"1\" class=\"dataframe\">\n",
              "  <thead>\n",
              "    <tr style=\"text-align: right;\">\n",
              "      <th></th>\n",
              "      <th>valor_real</th>\n",
              "      <th>prediccion</th>\n",
              "    </tr>\n",
              "  </thead>\n",
              "  <tbody>\n",
              "    <tr>\n",
              "      <th>0</th>\n",
              "      <td>0</td>\n",
              "      <td>0.224431</td>\n",
              "    </tr>\n",
              "    <tr>\n",
              "      <th>1</th>\n",
              "      <td>0</td>\n",
              "      <td>0.402632</td>\n",
              "    </tr>\n",
              "    <tr>\n",
              "      <th>2</th>\n",
              "      <td>0</td>\n",
              "      <td>0.246217</td>\n",
              "    </tr>\n",
              "    <tr>\n",
              "      <th>3</th>\n",
              "      <td>0</td>\n",
              "      <td>0.050716</td>\n",
              "    </tr>\n",
              "    <tr>\n",
              "      <th>4</th>\n",
              "      <td>87</td>\n",
              "      <td>71.588645</td>\n",
              "    </tr>\n",
              "    <tr>\n",
              "      <th>5</th>\n",
              "      <td>0</td>\n",
              "      <td>0.091473</td>\n",
              "    </tr>\n",
              "    <tr>\n",
              "      <th>6</th>\n",
              "      <td>0</td>\n",
              "      <td>-0.060584</td>\n",
              "    </tr>\n",
              "    <tr>\n",
              "      <th>7</th>\n",
              "      <td>2</td>\n",
              "      <td>1.389736</td>\n",
              "    </tr>\n",
              "    <tr>\n",
              "      <th>8</th>\n",
              "      <td>1</td>\n",
              "      <td>2.506679</td>\n",
              "    </tr>\n",
              "    <tr>\n",
              "      <th>9</th>\n",
              "      <td>0</td>\n",
              "      <td>0.016495</td>\n",
              "    </tr>\n",
              "  </tbody>\n",
              "</table>\n",
              "</div>"
            ],
            "text/plain": [
              "   valor_real  prediccion\n",
              "0           0    0.224431\n",
              "1           0    0.402632\n",
              "2           0    0.246217\n",
              "3           0    0.050716\n",
              "4          87   71.588645\n",
              "5           0    0.091473\n",
              "6           0   -0.060584\n",
              "7           2    1.389736\n",
              "8           1    2.506679\n",
              "9           0    0.016495"
            ]
          },
          "metadata": {
            "tags": []
          },
          "execution_count": 136
        }
      ]
    },
    {
      "cell_type": "markdown",
      "metadata": {
        "id": "Tdtffz80pf9p"
      },
      "source": [
        "## Polinomio de grado 2"
      ]
    },
    {
      "cell_type": "code",
      "metadata": {
        "colab": {
          "base_uri": "https://localhost:8080/",
          "height": 393
        },
        "id": "D1OG_J-rpQHM",
        "outputId": "094e8442-8c4d-48e5-eab4-2c8c0efb3853"
      },
      "source": [
        "poly_model = LinearRegression()\n",
        "poly = PolynomialFeatures(degree=2)\n",
        "\n",
        "Xpolytrain = poly.fit_transform(X_train)\n",
        "Xpolytest = poly.fit_transform(X_test)\n",
        "\n",
        "poly_model.fit(Xpolytrain, Y_train)\n",
        "y_train_predict = poly_model.predict(Xpolytrain)\n",
        "\n",
        "MSE = mean_squared_error(Y_train,y_train_predict)\n",
        "print(\"Entrenamiento: MSE =\"+str(MSE))\n",
        "\n",
        "y_test_predict = poly_model.predict(Xpolytest)\n",
        "MSE = (mean_squared_error(Y_test, y_test_predict))\n",
        "print(\"Pruebas: MSE =\"+str(MSE))\n",
        "\n",
        "df_predicciones = pd.DataFrame({'valor_real':Y_test, 'prediccion':y_test_predict, 'diferencia':Y_test-y_test_predict})\n",
        "df_predicciones = df_predicciones.reset_index(drop = True)\n",
        "df_predicciones.head(10)"
      ],
      "execution_count": 137,
      "outputs": [
        {
          "output_type": "stream",
          "text": [
            "Entrenamiento: MSE =12.964287221133088\n",
            "Pruebas: MSE =105.32400408491333\n"
          ],
          "name": "stdout"
        },
        {
          "output_type": "execute_result",
          "data": {
            "text/html": [
              "<div>\n",
              "<style scoped>\n",
              "    .dataframe tbody tr th:only-of-type {\n",
              "        vertical-align: middle;\n",
              "    }\n",
              "\n",
              "    .dataframe tbody tr th {\n",
              "        vertical-align: top;\n",
              "    }\n",
              "\n",
              "    .dataframe thead th {\n",
              "        text-align: right;\n",
              "    }\n",
              "</style>\n",
              "<table border=\"1\" class=\"dataframe\">\n",
              "  <thead>\n",
              "    <tr style=\"text-align: right;\">\n",
              "      <th></th>\n",
              "      <th>valor_real</th>\n",
              "      <th>prediccion</th>\n",
              "      <th>diferencia</th>\n",
              "    </tr>\n",
              "  </thead>\n",
              "  <tbody>\n",
              "    <tr>\n",
              "      <th>0</th>\n",
              "      <td>0</td>\n",
              "      <td>0.198859</td>\n",
              "      <td>-0.198859</td>\n",
              "    </tr>\n",
              "    <tr>\n",
              "      <th>1</th>\n",
              "      <td>0</td>\n",
              "      <td>-0.130314</td>\n",
              "      <td>0.130314</td>\n",
              "    </tr>\n",
              "    <tr>\n",
              "      <th>2</th>\n",
              "      <td>0</td>\n",
              "      <td>0.140284</td>\n",
              "      <td>-0.140284</td>\n",
              "    </tr>\n",
              "    <tr>\n",
              "      <th>3</th>\n",
              "      <td>0</td>\n",
              "      <td>-0.020912</td>\n",
              "      <td>0.020912</td>\n",
              "    </tr>\n",
              "    <tr>\n",
              "      <th>4</th>\n",
              "      <td>87</td>\n",
              "      <td>61.072957</td>\n",
              "      <td>25.927043</td>\n",
              "    </tr>\n",
              "    <tr>\n",
              "      <th>5</th>\n",
              "      <td>0</td>\n",
              "      <td>2.614500</td>\n",
              "      <td>-2.614500</td>\n",
              "    </tr>\n",
              "    <tr>\n",
              "      <th>6</th>\n",
              "      <td>0</td>\n",
              "      <td>0.294765</td>\n",
              "      <td>-0.294765</td>\n",
              "    </tr>\n",
              "    <tr>\n",
              "      <th>7</th>\n",
              "      <td>2</td>\n",
              "      <td>2.189471</td>\n",
              "      <td>-0.189471</td>\n",
              "    </tr>\n",
              "    <tr>\n",
              "      <th>8</th>\n",
              "      <td>1</td>\n",
              "      <td>1.810908</td>\n",
              "      <td>-0.810908</td>\n",
              "    </tr>\n",
              "    <tr>\n",
              "      <th>9</th>\n",
              "      <td>0</td>\n",
              "      <td>-0.125217</td>\n",
              "      <td>0.125217</td>\n",
              "    </tr>\n",
              "  </tbody>\n",
              "</table>\n",
              "</div>"
            ],
            "text/plain": [
              "   valor_real  prediccion  diferencia\n",
              "0           0    0.198859   -0.198859\n",
              "1           0   -0.130314    0.130314\n",
              "2           0    0.140284   -0.140284\n",
              "3           0   -0.020912    0.020912\n",
              "4          87   61.072957   25.927043\n",
              "5           0    2.614500   -2.614500\n",
              "6           0    0.294765   -0.294765\n",
              "7           2    2.189471   -0.189471\n",
              "8           1    1.810908   -0.810908\n",
              "9           0   -0.125217    0.125217"
            ]
          },
          "metadata": {
            "tags": []
          },
          "execution_count": 137
        }
      ]
    }
  ]
}