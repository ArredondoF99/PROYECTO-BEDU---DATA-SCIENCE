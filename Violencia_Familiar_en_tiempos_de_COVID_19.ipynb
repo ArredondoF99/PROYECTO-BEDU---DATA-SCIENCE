{
  "nbformat": 4,
  "nbformat_minor": 0,
  "metadata": {
    "colab": {
      "name": "Violencia Familiar en tiempos de COVID-19.ipynb",
      "provenance": [],
      "collapsed_sections": [],
      "toc_visible": true,
      "authorship_tag": "ABX9TyNCV/hZW7CyMUd8rBJ7+Zn8",
      "include_colab_link": true
    },
    "kernelspec": {
      "name": "python3",
      "display_name": "Python 3"
    },
    "language_info": {
      "name": "python"
    }
  },
  "cells": [
    {
      "cell_type": "markdown",
      "metadata": {
        "id": "view-in-github",
        "colab_type": "text"
      },
      "source": [
        "<a href=\"https://colab.research.google.com/github/ArredondoF99/VIOLENCIA-FAMILIAR-EN-TIEMPOS-DE-COVID-19/blob/main/Violencia_Familiar_en_tiempos_de_COVID_19.ipynb\" target=\"_parent\"><img src=\"https://colab.research.google.com/assets/colab-badge.svg\" alt=\"Open In Colab\"/></a>"
      ]
    },
    {
      "cell_type": "markdown",
      "metadata": {
        "id": "SSX7XKMF4V5L"
      },
      "source": [
        "# **VIOLENCIA FAMILIAR EN TIEMPOS DE COVID-19**"
      ]
    },
    {
      "cell_type": "code",
      "metadata": {
        "id": "pcbZZR2-4K83"
      },
      "source": [
        "import numpy as np\n",
        "import pandas as pd\n",
        "import seaborn as sns\n",
        "from sklearn.model_selection import train_test_split\n",
        "from sklearn.linear_model import LinearRegression\n",
        "from sklearn.metrics import mean_squared_error\n",
        "from sklearn.preprocessing import PolynomialFeatures"
      ],
      "execution_count": null,
      "outputs": []
    },
    {
      "cell_type": "markdown",
      "metadata": {
        "id": "p5MUSpwEd9PD"
      },
      "source": [
        "## Limpieza de datos"
      ]
    },
    {
      "cell_type": "code",
      "metadata": {
        "colab": {
          "base_uri": "https://localhost:8080/",
          "height": 513
        },
        "id": "WkLCKV-teB6F",
        "outputId": "f02368d5-1b35-4a10-941d-2c8a3a6ed19d"
      },
      "source": [
        "df = pd.read_csv('/content/drive/MyDrive/Proyecto Python/Municipal-Delitos-2015-2021_ene2021.csv', encoding='latin-1')\n",
        "df.head()"
      ],
      "execution_count": null,
      "outputs": [
        {
          "output_type": "execute_result",
          "data": {
            "text/html": [
              "<div>\n",
              "<style scoped>\n",
              "    .dataframe tbody tr th:only-of-type {\n",
              "        vertical-align: middle;\n",
              "    }\n",
              "\n",
              "    .dataframe tbody tr th {\n",
              "        vertical-align: top;\n",
              "    }\n",
              "\n",
              "    .dataframe thead th {\n",
              "        text-align: right;\n",
              "    }\n",
              "</style>\n",
              "<table border=\"1\" class=\"dataframe\">\n",
              "  <thead>\n",
              "    <tr style=\"text-align: right;\">\n",
              "      <th></th>\n",
              "      <th>Año</th>\n",
              "      <th>Clave_Ent</th>\n",
              "      <th>Entidad</th>\n",
              "      <th>Cve. Municipio</th>\n",
              "      <th>Municipio</th>\n",
              "      <th>Bien jurídico afectado</th>\n",
              "      <th>Tipo de delito</th>\n",
              "      <th>Subtipo de delito</th>\n",
              "      <th>Modalidad</th>\n",
              "      <th>Enero</th>\n",
              "      <th>Febrero</th>\n",
              "      <th>Marzo</th>\n",
              "      <th>Abril</th>\n",
              "      <th>Mayo</th>\n",
              "      <th>Junio</th>\n",
              "      <th>Julio</th>\n",
              "      <th>Agosto</th>\n",
              "      <th>Septiembre</th>\n",
              "      <th>Octubre</th>\n",
              "      <th>Noviembre</th>\n",
              "      <th>Diciembre</th>\n",
              "    </tr>\n",
              "  </thead>\n",
              "  <tbody>\n",
              "    <tr>\n",
              "      <th>0</th>\n",
              "      <td>2015</td>\n",
              "      <td>1</td>\n",
              "      <td>Aguascalientes</td>\n",
              "      <td>1001</td>\n",
              "      <td>Aguascalientes</td>\n",
              "      <td>La vida y la Integridad corporal</td>\n",
              "      <td>Homicidio</td>\n",
              "      <td>Homicidio doloso</td>\n",
              "      <td>Con arma de fuego</td>\n",
              "      <td>2</td>\n",
              "      <td>0.0</td>\n",
              "      <td>1.0</td>\n",
              "      <td>1.0</td>\n",
              "      <td>0.0</td>\n",
              "      <td>1.0</td>\n",
              "      <td>1.0</td>\n",
              "      <td>0.0</td>\n",
              "      <td>2.0</td>\n",
              "      <td>1.0</td>\n",
              "      <td>0.0</td>\n",
              "      <td>1.0</td>\n",
              "    </tr>\n",
              "    <tr>\n",
              "      <th>1</th>\n",
              "      <td>2015</td>\n",
              "      <td>1</td>\n",
              "      <td>Aguascalientes</td>\n",
              "      <td>1001</td>\n",
              "      <td>Aguascalientes</td>\n",
              "      <td>La vida y la Integridad corporal</td>\n",
              "      <td>Homicidio</td>\n",
              "      <td>Homicidio doloso</td>\n",
              "      <td>Con arma blanca</td>\n",
              "      <td>1</td>\n",
              "      <td>1.0</td>\n",
              "      <td>0.0</td>\n",
              "      <td>0.0</td>\n",
              "      <td>0.0</td>\n",
              "      <td>1.0</td>\n",
              "      <td>0.0</td>\n",
              "      <td>1.0</td>\n",
              "      <td>0.0</td>\n",
              "      <td>0.0</td>\n",
              "      <td>0.0</td>\n",
              "      <td>0.0</td>\n",
              "    </tr>\n",
              "    <tr>\n",
              "      <th>2</th>\n",
              "      <td>2015</td>\n",
              "      <td>1</td>\n",
              "      <td>Aguascalientes</td>\n",
              "      <td>1001</td>\n",
              "      <td>Aguascalientes</td>\n",
              "      <td>La vida y la Integridad corporal</td>\n",
              "      <td>Homicidio</td>\n",
              "      <td>Homicidio doloso</td>\n",
              "      <td>Con otro elemento</td>\n",
              "      <td>0</td>\n",
              "      <td>0.0</td>\n",
              "      <td>1.0</td>\n",
              "      <td>1.0</td>\n",
              "      <td>3.0</td>\n",
              "      <td>2.0</td>\n",
              "      <td>0.0</td>\n",
              "      <td>1.0</td>\n",
              "      <td>2.0</td>\n",
              "      <td>0.0</td>\n",
              "      <td>0.0</td>\n",
              "      <td>0.0</td>\n",
              "    </tr>\n",
              "    <tr>\n",
              "      <th>3</th>\n",
              "      <td>2015</td>\n",
              "      <td>1</td>\n",
              "      <td>Aguascalientes</td>\n",
              "      <td>1001</td>\n",
              "      <td>Aguascalientes</td>\n",
              "      <td>La vida y la Integridad corporal</td>\n",
              "      <td>Homicidio</td>\n",
              "      <td>Homicidio doloso</td>\n",
              "      <td>No especificado</td>\n",
              "      <td>1</td>\n",
              "      <td>0.0</td>\n",
              "      <td>0.0</td>\n",
              "      <td>1.0</td>\n",
              "      <td>0.0</td>\n",
              "      <td>0.0</td>\n",
              "      <td>0.0</td>\n",
              "      <td>0.0</td>\n",
              "      <td>0.0</td>\n",
              "      <td>0.0</td>\n",
              "      <td>0.0</td>\n",
              "      <td>0.0</td>\n",
              "    </tr>\n",
              "    <tr>\n",
              "      <th>4</th>\n",
              "      <td>2015</td>\n",
              "      <td>1</td>\n",
              "      <td>Aguascalientes</td>\n",
              "      <td>1001</td>\n",
              "      <td>Aguascalientes</td>\n",
              "      <td>La vida y la Integridad corporal</td>\n",
              "      <td>Homicidio</td>\n",
              "      <td>Homicidio culposo</td>\n",
              "      <td>Con arma de fuego</td>\n",
              "      <td>0</td>\n",
              "      <td>0.0</td>\n",
              "      <td>0.0</td>\n",
              "      <td>0.0</td>\n",
              "      <td>1.0</td>\n",
              "      <td>0.0</td>\n",
              "      <td>0.0</td>\n",
              "      <td>0.0</td>\n",
              "      <td>0.0</td>\n",
              "      <td>0.0</td>\n",
              "      <td>0.0</td>\n",
              "      <td>0.0</td>\n",
              "    </tr>\n",
              "  </tbody>\n",
              "</table>\n",
              "</div>"
            ],
            "text/plain": [
              "    Año  Clave_Ent         Entidad  ...  Octubre Noviembre Diciembre\n",
              "0  2015          1  Aguascalientes  ...      1.0       0.0       1.0\n",
              "1  2015          1  Aguascalientes  ...      0.0       0.0       0.0\n",
              "2  2015          1  Aguascalientes  ...      0.0       0.0       0.0\n",
              "3  2015          1  Aguascalientes  ...      0.0       0.0       0.0\n",
              "4  2015          1  Aguascalientes  ...      0.0       0.0       0.0\n",
              "\n",
              "[5 rows x 21 columns]"
            ]
          },
          "metadata": {
            "tags": []
          },
          "execution_count": 103
        }
      ]
    },
    {
      "cell_type": "code",
      "metadata": {
        "colab": {
          "base_uri": "https://localhost:8080/"
        },
        "id": "K0G_HQVFfOAr",
        "outputId": "bc474713-beab-469d-8cda-59dbabd6f3b1"
      },
      "source": [
        "df['Tipo de delito'].unique()"
      ],
      "execution_count": null,
      "outputs": [
        {
          "output_type": "execute_result",
          "data": {
            "text/plain": [
              "array(['Homicidio', 'Lesiones', 'Feminicidio', 'Aborto',\n",
              "       'Otros delitos que atentan contra la vida y la integridad corporal',\n",
              "       'Secuestro', 'Tráfico de menores', 'Rapto',\n",
              "       'Otros delitos que atentan contra la libertad personal',\n",
              "       'Abuso sexual', 'Acoso sexual', 'Hostigamiento sexual',\n",
              "       'Violación simple', 'Violación equiparada', 'Incesto',\n",
              "       'Otros delitos que atentan contra la libertad y la seguridad sexual',\n",
              "       'Robo', 'Fraude', 'Abuso de confianza', 'Extorsión',\n",
              "       'Daño a la propiedad', 'Despojo',\n",
              "       'Otros delitos contra el patrimonio', 'Violencia familiar',\n",
              "       'Violencia de género en todas sus modalidades distinta a la violencia familiar',\n",
              "       'Incumplimiento de obligaciones de asistencia familiar',\n",
              "       'Otros delitos contra la familia', 'Corrupción de menores',\n",
              "       'Trata de personas', 'Otros delitos contra la sociedad',\n",
              "       'Narcomenudeo', 'Amenazas', 'Allanamiento de morada',\n",
              "       'Evasión de presos', 'Falsedad', 'Falsificación',\n",
              "       'Contra el medio ambiente',\n",
              "       'Delitos cometidos por servidores públicos', 'Electorales',\n",
              "       'Otros delitos del Fuero Común'], dtype=object)"
            ]
          },
          "metadata": {
            "tags": []
          },
          "execution_count": 104
        }
      ]
    },
    {
      "cell_type": "code",
      "metadata": {
        "id": "1h_lXr7TfEDl"
      },
      "source": [
        "df = df[df['Tipo de delito'] == 'Violencia familiar']"
      ],
      "execution_count": null,
      "outputs": []
    },
    {
      "cell_type": "code",
      "metadata": {
        "id": "5F2yeCTKfbjy"
      },
      "source": [
        "df = df.dropna()"
      ],
      "execution_count": null,
      "outputs": []
    },
    {
      "cell_type": "code",
      "metadata": {
        "colab": {
          "base_uri": "https://localhost:8080/",
          "height": 343
        },
        "id": "NNWSoOOFffQx",
        "outputId": "1e756a13-ea95-4607-947d-df3b4ef7175f"
      },
      "source": [
        "df.head()"
      ],
      "execution_count": null,
      "outputs": [
        {
          "output_type": "execute_result",
          "data": {
            "text/html": [
              "<div>\n",
              "<style scoped>\n",
              "    .dataframe tbody tr th:only-of-type {\n",
              "        vertical-align: middle;\n",
              "    }\n",
              "\n",
              "    .dataframe tbody tr th {\n",
              "        vertical-align: top;\n",
              "    }\n",
              "\n",
              "    .dataframe thead th {\n",
              "        text-align: right;\n",
              "    }\n",
              "</style>\n",
              "<table border=\"1\" class=\"dataframe\">\n",
              "  <thead>\n",
              "    <tr style=\"text-align: right;\">\n",
              "      <th></th>\n",
              "      <th>Año</th>\n",
              "      <th>Clave_Ent</th>\n",
              "      <th>Entidad</th>\n",
              "      <th>Cve. Municipio</th>\n",
              "      <th>Municipio</th>\n",
              "      <th>Bien jurídico afectado</th>\n",
              "      <th>Tipo de delito</th>\n",
              "      <th>Subtipo de delito</th>\n",
              "      <th>Modalidad</th>\n",
              "      <th>Enero</th>\n",
              "      <th>Febrero</th>\n",
              "      <th>Marzo</th>\n",
              "      <th>Abril</th>\n",
              "      <th>Mayo</th>\n",
              "      <th>Junio</th>\n",
              "      <th>Julio</th>\n",
              "      <th>Agosto</th>\n",
              "      <th>Septiembre</th>\n",
              "      <th>Octubre</th>\n",
              "      <th>Noviembre</th>\n",
              "      <th>Diciembre</th>\n",
              "    </tr>\n",
              "  </thead>\n",
              "  <tbody>\n",
              "    <tr>\n",
              "      <th>81</th>\n",
              "      <td>2015</td>\n",
              "      <td>1</td>\n",
              "      <td>Aguascalientes</td>\n",
              "      <td>1001</td>\n",
              "      <td>Aguascalientes</td>\n",
              "      <td>La familia</td>\n",
              "      <td>Violencia familiar</td>\n",
              "      <td>Violencia familiar</td>\n",
              "      <td>Violencia familiar</td>\n",
              "      <td>18</td>\n",
              "      <td>36.0</td>\n",
              "      <td>24.0</td>\n",
              "      <td>24.0</td>\n",
              "      <td>28.0</td>\n",
              "      <td>28.0</td>\n",
              "      <td>35.0</td>\n",
              "      <td>38.0</td>\n",
              "      <td>47.0</td>\n",
              "      <td>53.0</td>\n",
              "      <td>40.0</td>\n",
              "      <td>39.0</td>\n",
              "    </tr>\n",
              "    <tr>\n",
              "      <th>179</th>\n",
              "      <td>2015</td>\n",
              "      <td>1</td>\n",
              "      <td>Aguascalientes</td>\n",
              "      <td>1002</td>\n",
              "      <td>Asientos</td>\n",
              "      <td>La familia</td>\n",
              "      <td>Violencia familiar</td>\n",
              "      <td>Violencia familiar</td>\n",
              "      <td>Violencia familiar</td>\n",
              "      <td>2</td>\n",
              "      <td>0.0</td>\n",
              "      <td>0.0</td>\n",
              "      <td>3.0</td>\n",
              "      <td>1.0</td>\n",
              "      <td>1.0</td>\n",
              "      <td>0.0</td>\n",
              "      <td>1.0</td>\n",
              "      <td>0.0</td>\n",
              "      <td>1.0</td>\n",
              "      <td>1.0</td>\n",
              "      <td>0.0</td>\n",
              "    </tr>\n",
              "    <tr>\n",
              "      <th>277</th>\n",
              "      <td>2015</td>\n",
              "      <td>1</td>\n",
              "      <td>Aguascalientes</td>\n",
              "      <td>1003</td>\n",
              "      <td>Calvillo</td>\n",
              "      <td>La familia</td>\n",
              "      <td>Violencia familiar</td>\n",
              "      <td>Violencia familiar</td>\n",
              "      <td>Violencia familiar</td>\n",
              "      <td>0</td>\n",
              "      <td>1.0</td>\n",
              "      <td>0.0</td>\n",
              "      <td>3.0</td>\n",
              "      <td>2.0</td>\n",
              "      <td>2.0</td>\n",
              "      <td>0.0</td>\n",
              "      <td>1.0</td>\n",
              "      <td>1.0</td>\n",
              "      <td>1.0</td>\n",
              "      <td>0.0</td>\n",
              "      <td>1.0</td>\n",
              "    </tr>\n",
              "    <tr>\n",
              "      <th>375</th>\n",
              "      <td>2015</td>\n",
              "      <td>1</td>\n",
              "      <td>Aguascalientes</td>\n",
              "      <td>1004</td>\n",
              "      <td>Cosío</td>\n",
              "      <td>La familia</td>\n",
              "      <td>Violencia familiar</td>\n",
              "      <td>Violencia familiar</td>\n",
              "      <td>Violencia familiar</td>\n",
              "      <td>0</td>\n",
              "      <td>0.0</td>\n",
              "      <td>0.0</td>\n",
              "      <td>0.0</td>\n",
              "      <td>0.0</td>\n",
              "      <td>0.0</td>\n",
              "      <td>0.0</td>\n",
              "      <td>0.0</td>\n",
              "      <td>0.0</td>\n",
              "      <td>0.0</td>\n",
              "      <td>0.0</td>\n",
              "      <td>0.0</td>\n",
              "    </tr>\n",
              "    <tr>\n",
              "      <th>473</th>\n",
              "      <td>2015</td>\n",
              "      <td>1</td>\n",
              "      <td>Aguascalientes</td>\n",
              "      <td>1005</td>\n",
              "      <td>Jesús María</td>\n",
              "      <td>La familia</td>\n",
              "      <td>Violencia familiar</td>\n",
              "      <td>Violencia familiar</td>\n",
              "      <td>Violencia familiar</td>\n",
              "      <td>3</td>\n",
              "      <td>1.0</td>\n",
              "      <td>0.0</td>\n",
              "      <td>1.0</td>\n",
              "      <td>0.0</td>\n",
              "      <td>2.0</td>\n",
              "      <td>0.0</td>\n",
              "      <td>2.0</td>\n",
              "      <td>0.0</td>\n",
              "      <td>1.0</td>\n",
              "      <td>1.0</td>\n",
              "      <td>0.0</td>\n",
              "    </tr>\n",
              "  </tbody>\n",
              "</table>\n",
              "</div>"
            ],
            "text/plain": [
              "      Año  Clave_Ent         Entidad  ...  Octubre Noviembre Diciembre\n",
              "81   2015          1  Aguascalientes  ...     53.0      40.0      39.0\n",
              "179  2015          1  Aguascalientes  ...      1.0       1.0       0.0\n",
              "277  2015          1  Aguascalientes  ...      1.0       0.0       1.0\n",
              "375  2015          1  Aguascalientes  ...      0.0       0.0       0.0\n",
              "473  2015          1  Aguascalientes  ...      1.0       1.0       0.0\n",
              "\n",
              "[5 rows x 21 columns]"
            ]
          },
          "metadata": {
            "tags": []
          },
          "execution_count": 107
        }
      ]
    },
    {
      "cell_type": "code",
      "metadata": {
        "colab": {
          "base_uri": "https://localhost:8080/"
        },
        "id": "Pge_nvQasyIl",
        "outputId": "b81f2626-d41f-4503-bfeb-cc2a2f1bc136"
      },
      "source": [
        "df.dtypes"
      ],
      "execution_count": null,
      "outputs": [
        {
          "output_type": "execute_result",
          "data": {
            "text/plain": [
              "Año                         int64\n",
              "Clave_Ent                   int64\n",
              "Entidad                    object\n",
              "Cve. Municipio              int64\n",
              "Municipio                  object\n",
              "Bien jurídico afectado     object\n",
              "Tipo de delito             object\n",
              "Subtipo de delito          object\n",
              "Modalidad                  object\n",
              "Enero                       int64\n",
              "Febrero                   float64\n",
              "Marzo                     float64\n",
              "Abril                     float64\n",
              "Mayo                      float64\n",
              "Junio                     float64\n",
              "Julio                     float64\n",
              "Agosto                    float64\n",
              "Septiembre                float64\n",
              "Octubre                   float64\n",
              "Noviembre                 float64\n",
              "Diciembre                 float64\n",
              "dtype: object"
            ]
          },
          "metadata": {
            "tags": []
          },
          "execution_count": 108
        }
      ]
    },
    {
      "cell_type": "code",
      "metadata": {
        "id": "u1KljUmds2Xr"
      },
      "source": [
        "meses = ['Enero', 'Febrero','Marzo','Abril','Mayo','Junio','Julio','Agosto','Septiembre','Octubre','Noviembre','Diciembre']"
      ],
      "execution_count": null,
      "outputs": []
    },
    {
      "cell_type": "code",
      "metadata": {
        "id": "q07WUakTsemh"
      },
      "source": [
        "for i in meses:\n",
        "    df[i] = df[i].astype(int)"
      ],
      "execution_count": null,
      "outputs": []
    },
    {
      "cell_type": "code",
      "metadata": {
        "colab": {
          "base_uri": "https://localhost:8080/"
        },
        "id": "l8HDyAOaurRw",
        "outputId": "31a99842-df80-4adc-ea02-023140757bf5"
      },
      "source": [
        "df.dtypes"
      ],
      "execution_count": null,
      "outputs": [
        {
          "output_type": "execute_result",
          "data": {
            "text/plain": [
              "Año                        int64\n",
              "Clave_Ent                  int64\n",
              "Entidad                   object\n",
              "Cve. Municipio             int64\n",
              "Municipio                 object\n",
              "Bien jurídico afectado    object\n",
              "Tipo de delito            object\n",
              "Subtipo de delito         object\n",
              "Modalidad                 object\n",
              "Enero                      int64\n",
              "Febrero                    int64\n",
              "Marzo                      int64\n",
              "Abril                      int64\n",
              "Mayo                       int64\n",
              "Junio                      int64\n",
              "Julio                      int64\n",
              "Agosto                     int64\n",
              "Septiembre                 int64\n",
              "Octubre                    int64\n",
              "Noviembre                  int64\n",
              "Diciembre                  int64\n",
              "dtype: object"
            ]
          },
          "metadata": {
            "tags": []
          },
          "execution_count": 112
        }
      ]
    },
    {
      "cell_type": "code",
      "metadata": {
        "colab": {
          "base_uri": "https://localhost:8080/",
          "height": 568
        },
        "id": "efI0Z2gTf8K5",
        "outputId": "81700193-c0e5-4b34-e927-1edb674a0580"
      },
      "source": [
        "df.corr()"
      ],
      "execution_count": null,
      "outputs": [
        {
          "output_type": "execute_result",
          "data": {
            "text/html": [
              "<div>\n",
              "<style scoped>\n",
              "    .dataframe tbody tr th:only-of-type {\n",
              "        vertical-align: middle;\n",
              "    }\n",
              "\n",
              "    .dataframe tbody tr th {\n",
              "        vertical-align: top;\n",
              "    }\n",
              "\n",
              "    .dataframe thead th {\n",
              "        text-align: right;\n",
              "    }\n",
              "</style>\n",
              "<table border=\"1\" class=\"dataframe\">\n",
              "  <thead>\n",
              "    <tr style=\"text-align: right;\">\n",
              "      <th></th>\n",
              "      <th>Año</th>\n",
              "      <th>Clave_Ent</th>\n",
              "      <th>Cve. Municipio</th>\n",
              "      <th>Enero</th>\n",
              "      <th>Febrero</th>\n",
              "      <th>Marzo</th>\n",
              "      <th>Abril</th>\n",
              "      <th>Mayo</th>\n",
              "      <th>Junio</th>\n",
              "      <th>Julio</th>\n",
              "      <th>Agosto</th>\n",
              "      <th>Septiembre</th>\n",
              "      <th>Octubre</th>\n",
              "      <th>Noviembre</th>\n",
              "      <th>Diciembre</th>\n",
              "    </tr>\n",
              "  </thead>\n",
              "  <tbody>\n",
              "    <tr>\n",
              "      <th>Año</th>\n",
              "      <td>1.000000</td>\n",
              "      <td>0.008210</td>\n",
              "      <td>0.010522</td>\n",
              "      <td>0.028226</td>\n",
              "      <td>0.028758</td>\n",
              "      <td>0.030139</td>\n",
              "      <td>0.007350</td>\n",
              "      <td>0.007948</td>\n",
              "      <td>0.013507</td>\n",
              "      <td>0.022293</td>\n",
              "      <td>0.019152</td>\n",
              "      <td>0.019108</td>\n",
              "      <td>0.023176</td>\n",
              "      <td>0.015006</td>\n",
              "      <td>0.020901</td>\n",
              "    </tr>\n",
              "    <tr>\n",
              "      <th>Clave_Ent</th>\n",
              "      <td>0.008210</td>\n",
              "      <td>1.000000</td>\n",
              "      <td>0.999857</td>\n",
              "      <td>-0.115913</td>\n",
              "      <td>-0.116632</td>\n",
              "      <td>-0.117602</td>\n",
              "      <td>-0.115886</td>\n",
              "      <td>-0.114439</td>\n",
              "      <td>-0.118889</td>\n",
              "      <td>-0.116112</td>\n",
              "      <td>-0.120844</td>\n",
              "      <td>-0.118454</td>\n",
              "      <td>-0.118604</td>\n",
              "      <td>-0.120052</td>\n",
              "      <td>-0.119112</td>\n",
              "    </tr>\n",
              "    <tr>\n",
              "      <th>Cve. Municipio</th>\n",
              "      <td>0.010522</td>\n",
              "      <td>0.999857</td>\n",
              "      <td>1.000000</td>\n",
              "      <td>-0.117324</td>\n",
              "      <td>-0.118061</td>\n",
              "      <td>-0.119017</td>\n",
              "      <td>-0.117307</td>\n",
              "      <td>-0.115846</td>\n",
              "      <td>-0.120278</td>\n",
              "      <td>-0.117502</td>\n",
              "      <td>-0.122159</td>\n",
              "      <td>-0.119837</td>\n",
              "      <td>-0.120071</td>\n",
              "      <td>-0.121422</td>\n",
              "      <td>-0.120521</td>\n",
              "    </tr>\n",
              "    <tr>\n",
              "      <th>Enero</th>\n",
              "      <td>0.028226</td>\n",
              "      <td>-0.115913</td>\n",
              "      <td>-0.117324</td>\n",
              "      <td>1.000000</td>\n",
              "      <td>0.975024</td>\n",
              "      <td>0.976988</td>\n",
              "      <td>0.959454</td>\n",
              "      <td>0.955069</td>\n",
              "      <td>0.953420</td>\n",
              "      <td>0.955292</td>\n",
              "      <td>0.951204</td>\n",
              "      <td>0.948062</td>\n",
              "      <td>0.944563</td>\n",
              "      <td>0.938448</td>\n",
              "      <td>0.939061</td>\n",
              "    </tr>\n",
              "    <tr>\n",
              "      <th>Febrero</th>\n",
              "      <td>0.028758</td>\n",
              "      <td>-0.116632</td>\n",
              "      <td>-0.118061</td>\n",
              "      <td>0.975024</td>\n",
              "      <td>1.000000</td>\n",
              "      <td>0.979412</td>\n",
              "      <td>0.958750</td>\n",
              "      <td>0.955822</td>\n",
              "      <td>0.957699</td>\n",
              "      <td>0.954810</td>\n",
              "      <td>0.958566</td>\n",
              "      <td>0.953099</td>\n",
              "      <td>0.951651</td>\n",
              "      <td>0.942038</td>\n",
              "      <td>0.943546</td>\n",
              "    </tr>\n",
              "    <tr>\n",
              "      <th>Marzo</th>\n",
              "      <td>0.030139</td>\n",
              "      <td>-0.117602</td>\n",
              "      <td>-0.119017</td>\n",
              "      <td>0.976988</td>\n",
              "      <td>0.979412</td>\n",
              "      <td>1.000000</td>\n",
              "      <td>0.964069</td>\n",
              "      <td>0.961118</td>\n",
              "      <td>0.961390</td>\n",
              "      <td>0.958566</td>\n",
              "      <td>0.958415</td>\n",
              "      <td>0.954932</td>\n",
              "      <td>0.951088</td>\n",
              "      <td>0.946574</td>\n",
              "      <td>0.946690</td>\n",
              "    </tr>\n",
              "    <tr>\n",
              "      <th>Abril</th>\n",
              "      <td>0.007350</td>\n",
              "      <td>-0.115886</td>\n",
              "      <td>-0.117307</td>\n",
              "      <td>0.959454</td>\n",
              "      <td>0.958750</td>\n",
              "      <td>0.964069</td>\n",
              "      <td>1.000000</td>\n",
              "      <td>0.975449</td>\n",
              "      <td>0.966898</td>\n",
              "      <td>0.955708</td>\n",
              "      <td>0.949661</td>\n",
              "      <td>0.942540</td>\n",
              "      <td>0.934383</td>\n",
              "      <td>0.931643</td>\n",
              "      <td>0.933511</td>\n",
              "    </tr>\n",
              "    <tr>\n",
              "      <th>Mayo</th>\n",
              "      <td>0.007948</td>\n",
              "      <td>-0.114439</td>\n",
              "      <td>-0.115846</td>\n",
              "      <td>0.955069</td>\n",
              "      <td>0.955822</td>\n",
              "      <td>0.961118</td>\n",
              "      <td>0.975449</td>\n",
              "      <td>1.000000</td>\n",
              "      <td>0.968450</td>\n",
              "      <td>0.954963</td>\n",
              "      <td>0.954286</td>\n",
              "      <td>0.945523</td>\n",
              "      <td>0.936541</td>\n",
              "      <td>0.934655</td>\n",
              "      <td>0.935402</td>\n",
              "    </tr>\n",
              "    <tr>\n",
              "      <th>Junio</th>\n",
              "      <td>0.013507</td>\n",
              "      <td>-0.118889</td>\n",
              "      <td>-0.120278</td>\n",
              "      <td>0.953420</td>\n",
              "      <td>0.957699</td>\n",
              "      <td>0.961390</td>\n",
              "      <td>0.966898</td>\n",
              "      <td>0.968450</td>\n",
              "      <td>1.000000</td>\n",
              "      <td>0.976323</td>\n",
              "      <td>0.976229</td>\n",
              "      <td>0.968522</td>\n",
              "      <td>0.957756</td>\n",
              "      <td>0.950663</td>\n",
              "      <td>0.946100</td>\n",
              "    </tr>\n",
              "    <tr>\n",
              "      <th>Julio</th>\n",
              "      <td>0.022293</td>\n",
              "      <td>-0.116112</td>\n",
              "      <td>-0.117502</td>\n",
              "      <td>0.955292</td>\n",
              "      <td>0.954810</td>\n",
              "      <td>0.958566</td>\n",
              "      <td>0.955708</td>\n",
              "      <td>0.954963</td>\n",
              "      <td>0.976323</td>\n",
              "      <td>1.000000</td>\n",
              "      <td>0.977784</td>\n",
              "      <td>0.971845</td>\n",
              "      <td>0.963768</td>\n",
              "      <td>0.954282</td>\n",
              "      <td>0.950702</td>\n",
              "    </tr>\n",
              "    <tr>\n",
              "      <th>Agosto</th>\n",
              "      <td>0.019152</td>\n",
              "      <td>-0.120844</td>\n",
              "      <td>-0.122159</td>\n",
              "      <td>0.951204</td>\n",
              "      <td>0.958566</td>\n",
              "      <td>0.958415</td>\n",
              "      <td>0.949661</td>\n",
              "      <td>0.954286</td>\n",
              "      <td>0.976229</td>\n",
              "      <td>0.977784</td>\n",
              "      <td>1.000000</td>\n",
              "      <td>0.982551</td>\n",
              "      <td>0.971068</td>\n",
              "      <td>0.965135</td>\n",
              "      <td>0.953874</td>\n",
              "    </tr>\n",
              "    <tr>\n",
              "      <th>Septiembre</th>\n",
              "      <td>0.019108</td>\n",
              "      <td>-0.118454</td>\n",
              "      <td>-0.119837</td>\n",
              "      <td>0.948062</td>\n",
              "      <td>0.953099</td>\n",
              "      <td>0.954932</td>\n",
              "      <td>0.942540</td>\n",
              "      <td>0.945523</td>\n",
              "      <td>0.968522</td>\n",
              "      <td>0.971845</td>\n",
              "      <td>0.982551</td>\n",
              "      <td>1.000000</td>\n",
              "      <td>0.978708</td>\n",
              "      <td>0.971168</td>\n",
              "      <td>0.963292</td>\n",
              "    </tr>\n",
              "    <tr>\n",
              "      <th>Octubre</th>\n",
              "      <td>0.023176</td>\n",
              "      <td>-0.118604</td>\n",
              "      <td>-0.120071</td>\n",
              "      <td>0.944563</td>\n",
              "      <td>0.951651</td>\n",
              "      <td>0.951088</td>\n",
              "      <td>0.934383</td>\n",
              "      <td>0.936541</td>\n",
              "      <td>0.957756</td>\n",
              "      <td>0.963768</td>\n",
              "      <td>0.971068</td>\n",
              "      <td>0.978708</td>\n",
              "      <td>1.000000</td>\n",
              "      <td>0.978585</td>\n",
              "      <td>0.969004</td>\n",
              "    </tr>\n",
              "    <tr>\n",
              "      <th>Noviembre</th>\n",
              "      <td>0.015006</td>\n",
              "      <td>-0.120052</td>\n",
              "      <td>-0.121422</td>\n",
              "      <td>0.938448</td>\n",
              "      <td>0.942038</td>\n",
              "      <td>0.946574</td>\n",
              "      <td>0.931643</td>\n",
              "      <td>0.934655</td>\n",
              "      <td>0.950663</td>\n",
              "      <td>0.954282</td>\n",
              "      <td>0.965135</td>\n",
              "      <td>0.971168</td>\n",
              "      <td>0.978585</td>\n",
              "      <td>1.000000</td>\n",
              "      <td>0.973144</td>\n",
              "    </tr>\n",
              "    <tr>\n",
              "      <th>Diciembre</th>\n",
              "      <td>0.020901</td>\n",
              "      <td>-0.119112</td>\n",
              "      <td>-0.120521</td>\n",
              "      <td>0.939061</td>\n",
              "      <td>0.943546</td>\n",
              "      <td>0.946690</td>\n",
              "      <td>0.933511</td>\n",
              "      <td>0.935402</td>\n",
              "      <td>0.946100</td>\n",
              "      <td>0.950702</td>\n",
              "      <td>0.953874</td>\n",
              "      <td>0.963292</td>\n",
              "      <td>0.969004</td>\n",
              "      <td>0.973144</td>\n",
              "      <td>1.000000</td>\n",
              "    </tr>\n",
              "  </tbody>\n",
              "</table>\n",
              "</div>"
            ],
            "text/plain": [
              "                     Año  Clave_Ent  ...  Noviembre  Diciembre\n",
              "Año             1.000000   0.008210  ...   0.015006   0.020901\n",
              "Clave_Ent       0.008210   1.000000  ...  -0.120052  -0.119112\n",
              "Cve. Municipio  0.010522   0.999857  ...  -0.121422  -0.120521\n",
              "Enero           0.028226  -0.115913  ...   0.938448   0.939061\n",
              "Febrero         0.028758  -0.116632  ...   0.942038   0.943546\n",
              "Marzo           0.030139  -0.117602  ...   0.946574   0.946690\n",
              "Abril           0.007350  -0.115886  ...   0.931643   0.933511\n",
              "Mayo            0.007948  -0.114439  ...   0.934655   0.935402\n",
              "Junio           0.013507  -0.118889  ...   0.950663   0.946100\n",
              "Julio           0.022293  -0.116112  ...   0.954282   0.950702\n",
              "Agosto          0.019152  -0.120844  ...   0.965135   0.953874\n",
              "Septiembre      0.019108  -0.118454  ...   0.971168   0.963292\n",
              "Octubre         0.023176  -0.118604  ...   0.978585   0.969004\n",
              "Noviembre       0.015006  -0.120052  ...   1.000000   0.973144\n",
              "Diciembre       0.020901  -0.119112  ...   0.973144   1.000000\n",
              "\n",
              "[15 rows x 15 columns]"
            ]
          },
          "metadata": {
            "tags": []
          },
          "execution_count": 113
        }
      ]
    },
    {
      "cell_type": "code",
      "metadata": {
        "id": "czSMLGWwuvAw"
      },
      "source": [
        "sns.pairplot(df)"
      ],
      "execution_count": null,
      "outputs": []
    },
    {
      "cell_type": "code",
      "metadata": {
        "id": "BKluCC0bf8Z9"
      },
      "source": [
        "X = df[['Año', 'Clave_Ent', 'Cve. Municipio', 'Enero', 'Febrero','Marzo','Abril','Mayo','Junio','Julio','Agosto','Septiembre','Octubre','Noviembre']]\n",
        "Y = df['Diciembre']"
      ],
      "execution_count": null,
      "outputs": []
    },
    {
      "cell_type": "code",
      "metadata": {
        "colab": {
          "base_uri": "https://localhost:8080/"
        },
        "id": "1AF3Ubd_f8Z-",
        "outputId": "561d75f0-5a9c-4dd0-c815-921b730f0096"
      },
      "source": [
        "X_train, X_test, Y_train, Y_test = train_test_split(X, Y, test_size = 0.4)\n",
        "print(X_train.shape)\n",
        "print(X_test.shape)\n",
        "print(Y_train.shape)\n",
        "print(Y_test.shape)"
      ],
      "execution_count": null,
      "outputs": [
        {
          "output_type": "stream",
          "text": [
            "(8244, 14)\n",
            "(5497, 14)\n",
            "(8244,)\n",
            "(5497,)\n"
          ],
          "name": "stdout"
        }
      ]
    },
    {
      "cell_type": "code",
      "metadata": {
        "colab": {
          "base_uri": "https://localhost:8080/"
        },
        "id": "y31QxPoAh2D_",
        "outputId": "ac1c4490-23aa-4802-c7a7-23209a5298f2"
      },
      "source": [
        "lin_model = LinearRegression()\n",
        "lin_model.fit(X_train, Y_train)"
      ],
      "execution_count": null,
      "outputs": [
        {
          "output_type": "execute_result",
          "data": {
            "text/plain": [
              "LinearRegression(copy_X=True, fit_intercept=True, n_jobs=None, normalize=False)"
            ]
          },
          "metadata": {
            "tags": []
          },
          "execution_count": 133
        }
      ]
    },
    {
      "cell_type": "code",
      "metadata": {
        "colab": {
          "base_uri": "https://localhost:8080/"
        },
        "id": "4bS0jLUmh2EB",
        "outputId": "74589dfb-806e-480d-d565-88476dde5bfe"
      },
      "source": [
        "y_train_predict = lin_model.predict(X_train)\n",
        "MSE = mean_squared_error(Y_train,y_train_predict)\n",
        "print(\"Entrenamiento: MSE =\"+str(MSE))\n",
        "\n",
        "y_test_predict = lin_model.predict(X_test)\n",
        "MSE = (mean_squared_error(Y_test, y_test_predict))\n",
        "print(\"Pruebas: MSE =\"+str(MSE))"
      ],
      "execution_count": null,
      "outputs": [
        {
          "output_type": "stream",
          "text": [
            "Entrenamiento: MSE =28.565187009923267\n",
            "Pruebas: MSE =29.731059034730347\n"
          ],
          "name": "stdout"
        }
      ]
    },
    {
      "cell_type": "code",
      "metadata": {
        "colab": {
          "base_uri": "https://localhost:8080/",
          "height": 359
        },
        "id": "C55yfoHGiKEA",
        "outputId": "c6533145-0f06-49ce-96ac-6950218bf13e"
      },
      "source": [
        "df_predicciones_vf = pd.DataFrame({'valor_real':Y_test, 'prediccion':y_test_predict})\n",
        "df_predicciones_vf = df_predicciones_vf.reset_index(drop = True)\n",
        "df_predicciones_vf.head(10)"
      ],
      "execution_count": null,
      "outputs": [
        {
          "output_type": "execute_result",
          "data": {
            "text/html": [
              "<div>\n",
              "<style scoped>\n",
              "    .dataframe tbody tr th:only-of-type {\n",
              "        vertical-align: middle;\n",
              "    }\n",
              "\n",
              "    .dataframe tbody tr th {\n",
              "        vertical-align: top;\n",
              "    }\n",
              "\n",
              "    .dataframe thead th {\n",
              "        text-align: right;\n",
              "    }\n",
              "</style>\n",
              "<table border=\"1\" class=\"dataframe\">\n",
              "  <thead>\n",
              "    <tr style=\"text-align: right;\">\n",
              "      <th></th>\n",
              "      <th>valor_real</th>\n",
              "      <th>prediccion</th>\n",
              "    </tr>\n",
              "  </thead>\n",
              "  <tbody>\n",
              "    <tr>\n",
              "      <th>0</th>\n",
              "      <td>0</td>\n",
              "      <td>0.224431</td>\n",
              "    </tr>\n",
              "    <tr>\n",
              "      <th>1</th>\n",
              "      <td>0</td>\n",
              "      <td>0.402632</td>\n",
              "    </tr>\n",
              "    <tr>\n",
              "      <th>2</th>\n",
              "      <td>0</td>\n",
              "      <td>0.246217</td>\n",
              "    </tr>\n",
              "    <tr>\n",
              "      <th>3</th>\n",
              "      <td>0</td>\n",
              "      <td>0.050716</td>\n",
              "    </tr>\n",
              "    <tr>\n",
              "      <th>4</th>\n",
              "      <td>87</td>\n",
              "      <td>71.588645</td>\n",
              "    </tr>\n",
              "    <tr>\n",
              "      <th>5</th>\n",
              "      <td>0</td>\n",
              "      <td>0.091473</td>\n",
              "    </tr>\n",
              "    <tr>\n",
              "      <th>6</th>\n",
              "      <td>0</td>\n",
              "      <td>-0.060584</td>\n",
              "    </tr>\n",
              "    <tr>\n",
              "      <th>7</th>\n",
              "      <td>2</td>\n",
              "      <td>1.389736</td>\n",
              "    </tr>\n",
              "    <tr>\n",
              "      <th>8</th>\n",
              "      <td>1</td>\n",
              "      <td>2.506679</td>\n",
              "    </tr>\n",
              "    <tr>\n",
              "      <th>9</th>\n",
              "      <td>0</td>\n",
              "      <td>0.016495</td>\n",
              "    </tr>\n",
              "  </tbody>\n",
              "</table>\n",
              "</div>"
            ],
            "text/plain": [
              "   valor_real  prediccion\n",
              "0           0    0.224431\n",
              "1           0    0.402632\n",
              "2           0    0.246217\n",
              "3           0    0.050716\n",
              "4          87   71.588645\n",
              "5           0    0.091473\n",
              "6           0   -0.060584\n",
              "7           2    1.389736\n",
              "8           1    2.506679\n",
              "9           0    0.016495"
            ]
          },
          "metadata": {
            "tags": []
          },
          "execution_count": 135
        }
      ]
    },
    {
      "cell_type": "markdown",
      "metadata": {
        "id": "zV-tagxFpCrX"
      },
      "source": [
        "## Modelo de Regresión Lineal"
      ]
    },
    {
      "cell_type": "markdown",
      "metadata": {
        "id": "iBrlXlrDplo2"
      },
      "source": [
        "### Lineal"
      ]
    },
    {
      "cell_type": "code",
      "metadata": {
        "colab": {
          "base_uri": "https://localhost:8080/",
          "height": 393
        },
        "id": "sTCRkTAVpvbc",
        "outputId": "6f23216a-d95b-445d-d4aa-ca81d1e451bf"
      },
      "source": [
        "y_train_predict = lin_model.predict(X_train)\n",
        "MSE = mean_squared_error(Y_train,y_train_predict)\n",
        "print(\"Entrenamiento: MSE =\"+str(MSE))\n",
        "\n",
        "y_test_predict = lin_model.predict(X_test)\n",
        "MSE = (mean_squared_error(Y_test, y_test_predict))\n",
        "print(\"Pruebas: MSE =\"+str(MSE))\n",
        "\n",
        "df_predicciones_vf = pd.DataFrame({'valor_real':Y_test, 'prediccion':y_test_predict})\n",
        "df_predicciones_vf = df_predicciones_vf.reset_index(drop = True)\n",
        "df_predicciones_vf.head(10)"
      ],
      "execution_count": null,
      "outputs": [
        {
          "output_type": "stream",
          "text": [
            "Entrenamiento: MSE =28.565187009923267\n",
            "Pruebas: MSE =29.731059034730347\n"
          ],
          "name": "stdout"
        },
        {
          "output_type": "execute_result",
          "data": {
            "text/html": [
              "<div>\n",
              "<style scoped>\n",
              "    .dataframe tbody tr th:only-of-type {\n",
              "        vertical-align: middle;\n",
              "    }\n",
              "\n",
              "    .dataframe tbody tr th {\n",
              "        vertical-align: top;\n",
              "    }\n",
              "\n",
              "    .dataframe thead th {\n",
              "        text-align: right;\n",
              "    }\n",
              "</style>\n",
              "<table border=\"1\" class=\"dataframe\">\n",
              "  <thead>\n",
              "    <tr style=\"text-align: right;\">\n",
              "      <th></th>\n",
              "      <th>valor_real</th>\n",
              "      <th>prediccion</th>\n",
              "    </tr>\n",
              "  </thead>\n",
              "  <tbody>\n",
              "    <tr>\n",
              "      <th>0</th>\n",
              "      <td>0</td>\n",
              "      <td>0.224431</td>\n",
              "    </tr>\n",
              "    <tr>\n",
              "      <th>1</th>\n",
              "      <td>0</td>\n",
              "      <td>0.402632</td>\n",
              "    </tr>\n",
              "    <tr>\n",
              "      <th>2</th>\n",
              "      <td>0</td>\n",
              "      <td>0.246217</td>\n",
              "    </tr>\n",
              "    <tr>\n",
              "      <th>3</th>\n",
              "      <td>0</td>\n",
              "      <td>0.050716</td>\n",
              "    </tr>\n",
              "    <tr>\n",
              "      <th>4</th>\n",
              "      <td>87</td>\n",
              "      <td>71.588645</td>\n",
              "    </tr>\n",
              "    <tr>\n",
              "      <th>5</th>\n",
              "      <td>0</td>\n",
              "      <td>0.091473</td>\n",
              "    </tr>\n",
              "    <tr>\n",
              "      <th>6</th>\n",
              "      <td>0</td>\n",
              "      <td>-0.060584</td>\n",
              "    </tr>\n",
              "    <tr>\n",
              "      <th>7</th>\n",
              "      <td>2</td>\n",
              "      <td>1.389736</td>\n",
              "    </tr>\n",
              "    <tr>\n",
              "      <th>8</th>\n",
              "      <td>1</td>\n",
              "      <td>2.506679</td>\n",
              "    </tr>\n",
              "    <tr>\n",
              "      <th>9</th>\n",
              "      <td>0</td>\n",
              "      <td>0.016495</td>\n",
              "    </tr>\n",
              "  </tbody>\n",
              "</table>\n",
              "</div>"
            ],
            "text/plain": [
              "   valor_real  prediccion\n",
              "0           0    0.224431\n",
              "1           0    0.402632\n",
              "2           0    0.246217\n",
              "3           0    0.050716\n",
              "4          87   71.588645\n",
              "5           0    0.091473\n",
              "6           0   -0.060584\n",
              "7           2    1.389736\n",
              "8           1    2.506679\n",
              "9           0    0.016495"
            ]
          },
          "metadata": {
            "tags": []
          },
          "execution_count": 136
        }
      ]
    },
    {
      "cell_type": "markdown",
      "metadata": {
        "id": "Tdtffz80pf9p"
      },
      "source": [
        "### Polinomio de grado 2"
      ]
    },
    {
      "cell_type": "code",
      "metadata": {
        "colab": {
          "base_uri": "https://localhost:8080/",
          "height": 393
        },
        "id": "D1OG_J-rpQHM",
        "outputId": "094e8442-8c4d-48e5-eab4-2c8c0efb3853"
      },
      "source": [
        "poly_model = LinearRegression()\n",
        "poly = PolynomialFeatures(degree=2)\n",
        "\n",
        "Xpolytrain = poly.fit_transform(X_train)\n",
        "Xpolytest = poly.fit_transform(X_test)\n",
        "\n",
        "poly_model.fit(Xpolytrain, Y_train)\n",
        "y_train_predict = poly_model.predict(Xpolytrain)\n",
        "\n",
        "MSE = mean_squared_error(Y_train,y_train_predict)\n",
        "print(\"Entrenamiento: MSE =\"+str(MSE))\n",
        "\n",
        "y_test_predict = poly_model.predict(Xpolytest)\n",
        "MSE = (mean_squared_error(Y_test, y_test_predict))\n",
        "print(\"Pruebas: MSE =\"+str(MSE))\n",
        "\n",
        "df_predicciones = pd.DataFrame({'valor_real':Y_test, 'prediccion':y_test_predict, 'diferencia':Y_test-y_test_predict})\n",
        "df_predicciones = df_predicciones.reset_index(drop = True)\n",
        "df_predicciones.head(10)"
      ],
      "execution_count": null,
      "outputs": [
        {
          "output_type": "stream",
          "text": [
            "Entrenamiento: MSE =12.964287221133088\n",
            "Pruebas: MSE =105.32400408491333\n"
          ],
          "name": "stdout"
        },
        {
          "output_type": "execute_result",
          "data": {
            "text/html": [
              "<div>\n",
              "<style scoped>\n",
              "    .dataframe tbody tr th:only-of-type {\n",
              "        vertical-align: middle;\n",
              "    }\n",
              "\n",
              "    .dataframe tbody tr th {\n",
              "        vertical-align: top;\n",
              "    }\n",
              "\n",
              "    .dataframe thead th {\n",
              "        text-align: right;\n",
              "    }\n",
              "</style>\n",
              "<table border=\"1\" class=\"dataframe\">\n",
              "  <thead>\n",
              "    <tr style=\"text-align: right;\">\n",
              "      <th></th>\n",
              "      <th>valor_real</th>\n",
              "      <th>prediccion</th>\n",
              "      <th>diferencia</th>\n",
              "    </tr>\n",
              "  </thead>\n",
              "  <tbody>\n",
              "    <tr>\n",
              "      <th>0</th>\n",
              "      <td>0</td>\n",
              "      <td>0.198859</td>\n",
              "      <td>-0.198859</td>\n",
              "    </tr>\n",
              "    <tr>\n",
              "      <th>1</th>\n",
              "      <td>0</td>\n",
              "      <td>-0.130314</td>\n",
              "      <td>0.130314</td>\n",
              "    </tr>\n",
              "    <tr>\n",
              "      <th>2</th>\n",
              "      <td>0</td>\n",
              "      <td>0.140284</td>\n",
              "      <td>-0.140284</td>\n",
              "    </tr>\n",
              "    <tr>\n",
              "      <th>3</th>\n",
              "      <td>0</td>\n",
              "      <td>-0.020912</td>\n",
              "      <td>0.020912</td>\n",
              "    </tr>\n",
              "    <tr>\n",
              "      <th>4</th>\n",
              "      <td>87</td>\n",
              "      <td>61.072957</td>\n",
              "      <td>25.927043</td>\n",
              "    </tr>\n",
              "    <tr>\n",
              "      <th>5</th>\n",
              "      <td>0</td>\n",
              "      <td>2.614500</td>\n",
              "      <td>-2.614500</td>\n",
              "    </tr>\n",
              "    <tr>\n",
              "      <th>6</th>\n",
              "      <td>0</td>\n",
              "      <td>0.294765</td>\n",
              "      <td>-0.294765</td>\n",
              "    </tr>\n",
              "    <tr>\n",
              "      <th>7</th>\n",
              "      <td>2</td>\n",
              "      <td>2.189471</td>\n",
              "      <td>-0.189471</td>\n",
              "    </tr>\n",
              "    <tr>\n",
              "      <th>8</th>\n",
              "      <td>1</td>\n",
              "      <td>1.810908</td>\n",
              "      <td>-0.810908</td>\n",
              "    </tr>\n",
              "    <tr>\n",
              "      <th>9</th>\n",
              "      <td>0</td>\n",
              "      <td>-0.125217</td>\n",
              "      <td>0.125217</td>\n",
              "    </tr>\n",
              "  </tbody>\n",
              "</table>\n",
              "</div>"
            ],
            "text/plain": [
              "   valor_real  prediccion  diferencia\n",
              "0           0    0.198859   -0.198859\n",
              "1           0   -0.130314    0.130314\n",
              "2           0    0.140284   -0.140284\n",
              "3           0   -0.020912    0.020912\n",
              "4          87   61.072957   25.927043\n",
              "5           0    2.614500   -2.614500\n",
              "6           0    0.294765   -0.294765\n",
              "7           2    2.189471   -0.189471\n",
              "8           1    1.810908   -0.810908\n",
              "9           0   -0.125217    0.125217"
            ]
          },
          "metadata": {
            "tags": []
          },
          "execution_count": 137
        }
      ]
    }
  ]
}