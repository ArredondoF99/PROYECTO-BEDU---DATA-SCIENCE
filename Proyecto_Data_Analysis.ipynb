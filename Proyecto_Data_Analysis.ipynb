{
  "nbformat": 4,
  "nbformat_minor": 0,
  "metadata": {
    "colab": {
      "name": "Proyecto_Data_Analysis.ipynb",
      "provenance": [],
      "collapsed_sections": [],
      "toc_visible": true,
      "include_colab_link": true
    },
    "kernelspec": {
      "name": "python3",
      "display_name": "Python 3"
    }
  },
  "cells": [
    {
      "cell_type": "markdown",
      "metadata": {
        "id": "view-in-github",
        "colab_type": "text"
      },
      "source": [
        "<a href=\"https://colab.research.google.com/github/ArredondoF99/VIOLENCIA-FAMILIAR-EN-TIEMPOS-DE-COVID-19/blob/main/Proyecto_Data_Analysis.ipynb\" target=\"_parent\"><img src=\"https://colab.research.google.com/assets/colab-badge.svg\" alt=\"Open In Colab\"/></a>"
      ]
    },
    {
      "cell_type": "markdown",
      "metadata": {
        "id": "M-y7toeQNnym"
      },
      "source": [
        "# **Casos de violencia familiar y su relación con el aislamiento por COVID-19**\n",
        "\n",
        "###Integrantes\n",
        "\n",
        "* Francisco Ricardo Arredondo Almuina - frankk_arredondo@hotmail.com\n",
        "* Jesus Emanuel Serrano Molina - emanuel.serm@gmail.com\n",
        "* Carlos Eduardo Vidal Villeda - charlie.lalo@hotmail.com"
      ]
    },
    {
      "cell_type": "markdown",
      "metadata": {
        "id": "rHIZUa0bgSH5"
      },
      "source": [
        "#  **IDENTIFICACIÓN DEL PROBLEMA**\n",
        "\n",
        "## Problemáticas\n",
        "\n",
        "1. Violencia familiar en tiempos de COVID – 19\n",
        "\n",
        "2. Violencia de género en tiempos de COVID – 19\n",
        "\n",
        "## Investigación \n",
        "- Díaz Olavarrieta, C., & Phillips, V. (s.f.). COVID-19 y Violencia Basada en Género/Violencia Intrafamiliar. Recuperado el 24 de Febrero de 2021, de ACADEMIA NACIONAL DE MEDICINA DE MÉXICO: https://www.anmm.org.mx/descargas/COVID-19-y-Violencia-Basada-en-Genero-Violencia-Intrafamiliar.pdf\n",
        "\n",
        "- EQUIS Justicia para las Mujeres, l. R. (s.f.). LAS DOS PANDEMIAS: VIOLENCIA CONTRA LAS MUJERES EN MÉXICO EN EL CONTEXTO DEL COVID-19. Recuperado el 24 de Febrero de 2021, de EQUIS Justicia para las Mujeres: https://equis.org.mx/wp-content/uploads/2020/08/informe-dospandemiasmexico.pdf\n",
        "\n",
        "- Fenández Nicto, B. (3 de Mayo de 2020). Violencia Doméstica en México durante el confinamiento por la pandemia COVID-19. (I. Yánez Soria, & M. Antonia Bravo, Editores) Recuperado el 24 de Febrero de 2021, de DATA-POP ALLIANCE: https://datapopalliance.org/violencia-domestica-en-mexico-durante-el-confinamiento-por-la-pandemia-covid-19/\n",
        "\n",
        "- Gómez Macfarland, C. A., & Sánchez Ramírez, M. C. (Junio de 2020). Violencia familiar en tiempos de Covid. Recuperado el 24 de Febrero de 2021, de Instituto Belisario Domínguez: http://bibliodigitalibd.senado.gob.mx/bitstream/handle/123456789/4891/ML_187.pdf?sequence=1&isAllowed=y\n",
        "\n",
        "- Llamas Caballero, R. (s.f.). Violencia doméstica y de género en tiempos de COVID-19. Recuperado el 24 de Febrero de 2021, de Anáhuac México: https://www.anahuac.mx/mexico/noticias/Violencia-domestica-y-de-genero-en-tiempos-de-COVID-19\n",
        "\n",
        "- Monroy, J. (16 de Abril de 2020). Segob: violencia intrafamiliar aumentó 120% desde la emergencia del Covid-19. Recuperado el 24 de Febrero de 2021, de EL ECONOMISTA: https://www.eleconomista.com.mx/politica/Segob-violencia-intrafamiliar-aumento-120-desde-la-emergencia-del-Covid-19-20200416-0111.html\n",
        "\n",
        "- Núñez Trejo, A. (7 de Junio de 2020). Crece la violencia intrafamiliar en México, por el COVID-19. Recuperado el 24 de Febrero de 2021, de FORO JURÍDICO: https://forojuridico.mx/crece-la-violencia-intrafamiliar-en-mexico-por-el-covid-19/\n",
        "\n",
        "- Rodríguez Pedraza, Y. (2020). La feminización de la pandemia COVID19. Recuperado el 24 de Febrero de 2021, de Redalyc: https://www.redalyc.org/articulo.oa?id=29063559023\n",
        "\n",
        "## Medidas ante las problemáticas \n",
        "\n",
        "\n",
        "\n",
        "*   Órdenes de protección.\n",
        "*   Si identifica que usted experimenta una de las características del ciclo de la violencia, acuda al Agente del Ministerio Público y busque ayuda.\n",
        "*  Resguarde sus documentos, así como los de sus hijos, en una casa de algún familiar.\n",
        "*  Si su pareja o el agresor se pone violento, retírese inmediatamente.\n",
        "*  Acuda a buscar ayuda a las instituciones especializadas (UAVI, Unidad de Atención de Violencia Intrafamiliar, IJM Instituto Jalisciense de las Mujeres, DIF Municipales) para buscar refugio temporal\n",
        "*  Llame al 066 para pedir ayuda la policía.\n",
        "\n",
        "#### *Fuentes para medidas ante las problemáticas*\n",
        "\n",
        "- Hernández, R. (s.f.). MEDIDAS PREVENTIVAS PARA EVITAR LA VIOLENCIA INTRAFAMILIAR. Recuperado el 25 de Febrero de 2021, de FISCALIA GENERAL DEL ESTADO. GOBIERNO DEL ESTADO DE JALISCO: https://fge.jalisco.gob.mx/prevencion-social/medidas-preventivas-para-evitar-la-violencia-intrafamiliar\n",
        "\n"
      ]
    },
    {
      "cell_type": "markdown",
      "metadata": {
        "id": "H2lPboE6jNbo"
      },
      "source": [
        "# **PLANTEAMIENTO DE PREGUNTAS CLAVE**\n",
        "\n",
        "### 1. ¿Cuáles son los estados con mayor violencia familiar en México?\n",
        "\n",
        "### 2. ¿Cuáles son los estados con menos incidencia de violencia familiar?\n",
        "\n",
        "### 3. ¿Cuál es el mes con mayor incidencia de violencia familiar?\n",
        "\n",
        "### 4. ¿Cuál es el año con mayor incidencia de violencia familiar?\n",
        "\n",
        "### 5. ¿Es cierto que en el 2020 el crecimiento en incidencia de violencia familiar aumento debido a la pandemia?\n",
        "\n",
        "### 6. ¿Este fenómeno se repitió en otros países o solo en México?"
      ]
    },
    {
      "cell_type": "markdown",
      "metadata": {
        "id": "WWCTiNY291mw"
      },
      "source": [
        "# **COLECCIÓN DE DATOS**\n",
        "La colección de datos es una parte fundamental dentro de un proyecto de ciencia de datos, siendo que es importante tener una fuente confiable y segura de los datos que van a ser sometidos a un análisis. Existen distintas fuentes para extraer bases de datos, entre las más destacadas se encuentran sitios como Kaggle, APIs públicas o privadas, Instituciones gubernamentales o privadas, entre otras.\n",
        "\n",
        "Siendo que nuestro proyecto esta dirigido a analizar la \"Violencia familiar en tiempos de COVID-19\" y la \"Violencia de género en tiempos de COVID-19\", es fundamental obtener nuestros datos de una fuente confiable y que realmente nos ayude a poder analizar los delitos cometidos en México.\n",
        "\n",
        "Para la obtención de los datos en cuanto a la República Mexicana fue usado el website del Gobierno de México, dado que para poder obtener los delitos en cada uno de los Estados y Municipios del país, deben de ser obtenido mediante una entidad gubernamental por temas de confidencialidad y resguardo de datos, por lo que en la siguiente dirección URL se encuentran los datos abiertos de incidencia delictiva en los últimos 5 años:\n",
        "\n",
        "https://www.gob.mx/sesnsp/acciones-y-programas/datos-abiertos-de-incidencia-delictiva\n",
        "\n",
        "Cabe destacar que de dicha dirección se obtuvieron dos archivos .CSV con los distintos delitos cometidos en los diferentes Estados de la República Mexicana, asimismo como en cada Municipio de los mismos, lo cual posteriormente nos brindará un análisis más completo de acuerdo con el fin del proyecto.\n",
        "\n",
        "Para leer lor achivos mencionados en Python, es posible realizarlo mediante dos maneras, importandolo desde los archivos guardados de la computadora, o previamente haberlo guardado en Google Drive e importarlo directamente a Google Colaboratory. Ambas maneras consiguen obtener los archivos .CSV que servirán para realizar un Análisis Exploratorio, Limpieza y Transformación de nuestros datos."
      ]
    },
    {
      "cell_type": "markdown",
      "metadata": {
        "id": "7VPhSrw91C_Z"
      },
      "source": [
        "###**Import from Files**"
      ]
    },
    {
      "cell_type": "markdown",
      "metadata": {
        "id": "wdwKFo6DuNkf"
      },
      "source": [
        "Primeramente se importaron las librerías necesarias."
      ]
    },
    {
      "cell_type": "code",
      "metadata": {
        "id": "haNkfDIckn33"
      },
      "source": [
        "import pandas as pd"
      ],
      "execution_count": null,
      "outputs": []
    },
    {
      "cell_type": "markdown",
      "metadata": {
        "id": "H2gyEkWgmTvC"
      },
      "source": [
        "Después, tras ya tener los archivos correspondientes en nuestra computadora, correremos el siguiente código para poder elegir estos archivos y que Google colaboratory pueda leerlos y almacenarlos en los archivos de la Notebook."
      ]
    },
    {
      "cell_type": "code",
      "metadata": {
        "colab": {
          "resources": {
            "http://localhost:8080/nbextensions/google.colab/files.js": {
              "data": "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",
              "ok": true,
              "headers": [
                [
                  "content-type",
                  "application/javascript"
                ]
              ],
              "status": 200,
              "status_text": ""
            }
          },
          "base_uri": "https://localhost:8080/",
          "height": 106
        },
        "id": "5fWW56aC4wg5",
        "outputId": "ecd3dc54-9a58-4ff6-da02-91d2a2fd8775"
      },
      "source": [
        "from google.colab import files\n",
        "files.upload()"
      ],
      "execution_count": null,
      "outputs": [
        {
          "output_type": "display_data",
          "data": {
            "text/html": [
              "\n",
              "     <input type=\"file\" id=\"files-502f6bb2-b325-4636-b7aa-7acf4b0ee503\" name=\"files[]\" multiple disabled\n",
              "        style=\"border:none\" />\n",
              "     <output id=\"result-502f6bb2-b325-4636-b7aa-7acf4b0ee503\">\n",
              "      Upload widget is only available when the cell has been executed in the\n",
              "      current browser session. Please rerun this cell to enable.\n",
              "      </output>\n",
              "      <script src=\"/nbextensions/google.colab/files.js\"></script> "
            ],
            "text/plain": [
              "<IPython.core.display.HTML object>"
            ]
          },
          "metadata": {
            "tags": []
          }
        },
        {
          "output_type": "stream",
          "text": [
            "Saving Estatal-Delitos-2015-2021_ene2021.csv to Estatal-Delitos-2015-2021_ene2021.csv\n",
            "Saving Municipal-Delitos-2015-2021_ene2021.csv to Municipal-Delitos-2015-2021_ene2021.csv\n"
          ],
          "name": "stdout"
        }
      ]
    },
    {
      "cell_type": "markdown",
      "metadata": {
        "id": "NbsJdTRkm_rI"
      },
      "source": [
        "Tras almacenar los datos dentro de los archivos del Notebook, copiaremos la ruta de los mismos para poder leerlos mediante pandas. Nombrando al dataframe con los datos de delincuencia de los Estados y Municipios de México como \"df_estados\" y \"df_municipios\", respectivamente.\n",
        "\n",
        "Cabe destacar que para que puedan ser leidos los documentos estos deben de tener un encoding de \"latin-1\" para que python pueda leerlo en base al idioma de los datos. "
      ]
    },
    {
      "cell_type": "code",
      "metadata": {
        "id": "NA3Pd2wxnKR5"
      },
      "source": [
        "df_estados = pd.read_csv(\"/content/Estatal-Delitos-2015-2021_ene2021.csv\", encoding=\"latin-1\")\n",
        "df_municipios = pd.read_csv(\"/content/Municipal-Delitos-2015-2021_ene2021.csv\", encoding=\"latin-1\")"
      ],
      "execution_count": null,
      "outputs": []
    },
    {
      "cell_type": "markdown",
      "metadata": {
        "id": "FGw9szHjoRE2"
      },
      "source": [
        "Finalmente para ver que nuestro dataframes fueron almacenados correctamente y explorar un poco su información se usó el comando \"head\""
      ]
    },
    {
      "cell_type": "code",
      "metadata": {
        "id": "7jFHIz1soYIG",
        "colab": {
          "base_uri": "https://localhost:8080/",
          "height": 269
        },
        "outputId": "ff96f6ff-a970-43cb-bb6f-bbefca79517d"
      },
      "source": [
        "df_estados.head(2)"
      ],
      "execution_count": null,
      "outputs": [
        {
          "output_type": "execute_result",
          "data": {
            "text/html": [
              "<div>\n",
              "<style scoped>\n",
              "    .dataframe tbody tr th:only-of-type {\n",
              "        vertical-align: middle;\n",
              "    }\n",
              "\n",
              "    .dataframe tbody tr th {\n",
              "        vertical-align: top;\n",
              "    }\n",
              "\n",
              "    .dataframe thead th {\n",
              "        text-align: right;\n",
              "    }\n",
              "</style>\n",
              "<table border=\"1\" class=\"dataframe\">\n",
              "  <thead>\n",
              "    <tr style=\"text-align: right;\">\n",
              "      <th></th>\n",
              "      <th>Año</th>\n",
              "      <th>Clave_Ent</th>\n",
              "      <th>Entidad</th>\n",
              "      <th>Bien jurídico afectado</th>\n",
              "      <th>Tipo de delito</th>\n",
              "      <th>Subtipo de delito</th>\n",
              "      <th>Modalidad</th>\n",
              "      <th>Enero</th>\n",
              "      <th>Febrero</th>\n",
              "      <th>Marzo</th>\n",
              "      <th>Abril</th>\n",
              "      <th>Mayo</th>\n",
              "      <th>Junio</th>\n",
              "      <th>Julio</th>\n",
              "      <th>Agosto</th>\n",
              "      <th>Septiembre</th>\n",
              "      <th>Octubre</th>\n",
              "      <th>Noviembre</th>\n",
              "      <th>Diciembre</th>\n",
              "    </tr>\n",
              "  </thead>\n",
              "  <tbody>\n",
              "    <tr>\n",
              "      <th>0</th>\n",
              "      <td>2015</td>\n",
              "      <td>1</td>\n",
              "      <td>Aguascalientes</td>\n",
              "      <td>La vida y la Integridad corporal</td>\n",
              "      <td>Homicidio</td>\n",
              "      <td>Homicidio doloso</td>\n",
              "      <td>Con arma de fuego</td>\n",
              "      <td>3</td>\n",
              "      <td>0</td>\n",
              "      <td>2</td>\n",
              "      <td>1</td>\n",
              "      <td>1</td>\n",
              "      <td>1</td>\n",
              "      <td>2</td>\n",
              "      <td>1</td>\n",
              "      <td>2</td>\n",
              "      <td>2</td>\n",
              "      <td>2.0</td>\n",
              "      <td>1.0</td>\n",
              "    </tr>\n",
              "    <tr>\n",
              "      <th>1</th>\n",
              "      <td>2015</td>\n",
              "      <td>1</td>\n",
              "      <td>Aguascalientes</td>\n",
              "      <td>La vida y la Integridad corporal</td>\n",
              "      <td>Homicidio</td>\n",
              "      <td>Homicidio doloso</td>\n",
              "      <td>Con arma blanca</td>\n",
              "      <td>1</td>\n",
              "      <td>1</td>\n",
              "      <td>0</td>\n",
              "      <td>0</td>\n",
              "      <td>0</td>\n",
              "      <td>1</td>\n",
              "      <td>0</td>\n",
              "      <td>1</td>\n",
              "      <td>0</td>\n",
              "      <td>0</td>\n",
              "      <td>0.0</td>\n",
              "      <td>1.0</td>\n",
              "    </tr>\n",
              "  </tbody>\n",
              "</table>\n",
              "</div>"
            ],
            "text/plain": [
              "    Año  Clave_Ent         Entidad  ... Octubre Noviembre Diciembre\n",
              "0  2015          1  Aguascalientes  ...       2       2.0       1.0\n",
              "1  2015          1  Aguascalientes  ...       0       0.0       1.0\n",
              "\n",
              "[2 rows x 19 columns]"
            ]
          },
          "metadata": {
            "tags": []
          },
          "execution_count": 10
        }
      ]
    },
    {
      "cell_type": "code",
      "metadata": {
        "id": "k77Ik4GPoZuI",
        "colab": {
          "base_uri": "https://localhost:8080/",
          "height": 269
        },
        "outputId": "49ea889b-af6f-4b87-c0fc-4fad7e7530f9"
      },
      "source": [
        "df_municipios.head(2)"
      ],
      "execution_count": null,
      "outputs": [
        {
          "output_type": "execute_result",
          "data": {
            "text/html": [
              "<div>\n",
              "<style scoped>\n",
              "    .dataframe tbody tr th:only-of-type {\n",
              "        vertical-align: middle;\n",
              "    }\n",
              "\n",
              "    .dataframe tbody tr th {\n",
              "        vertical-align: top;\n",
              "    }\n",
              "\n",
              "    .dataframe thead th {\n",
              "        text-align: right;\n",
              "    }\n",
              "</style>\n",
              "<table border=\"1\" class=\"dataframe\">\n",
              "  <thead>\n",
              "    <tr style=\"text-align: right;\">\n",
              "      <th></th>\n",
              "      <th>Año</th>\n",
              "      <th>Clave_Ent</th>\n",
              "      <th>Entidad</th>\n",
              "      <th>Cve. Municipio</th>\n",
              "      <th>Municipio</th>\n",
              "      <th>Bien jurídico afectado</th>\n",
              "      <th>Tipo de delito</th>\n",
              "      <th>Subtipo de delito</th>\n",
              "      <th>Modalidad</th>\n",
              "      <th>Enero</th>\n",
              "      <th>Febrero</th>\n",
              "      <th>Marzo</th>\n",
              "      <th>Abril</th>\n",
              "      <th>Mayo</th>\n",
              "      <th>Junio</th>\n",
              "      <th>Julio</th>\n",
              "      <th>Agosto</th>\n",
              "      <th>Septiembre</th>\n",
              "      <th>Octubre</th>\n",
              "      <th>Noviembre</th>\n",
              "      <th>Diciembre</th>\n",
              "    </tr>\n",
              "  </thead>\n",
              "  <tbody>\n",
              "    <tr>\n",
              "      <th>0</th>\n",
              "      <td>2015</td>\n",
              "      <td>1</td>\n",
              "      <td>Aguascalientes</td>\n",
              "      <td>1001</td>\n",
              "      <td>Aguascalientes</td>\n",
              "      <td>La vida y la Integridad corporal</td>\n",
              "      <td>Homicidio</td>\n",
              "      <td>Homicidio doloso</td>\n",
              "      <td>Con arma de fuego</td>\n",
              "      <td>2</td>\n",
              "      <td>0.0</td>\n",
              "      <td>1.0</td>\n",
              "      <td>1.0</td>\n",
              "      <td>0.0</td>\n",
              "      <td>1.0</td>\n",
              "      <td>1.0</td>\n",
              "      <td>0.0</td>\n",
              "      <td>2.0</td>\n",
              "      <td>1.0</td>\n",
              "      <td>0.0</td>\n",
              "      <td>1.0</td>\n",
              "    </tr>\n",
              "    <tr>\n",
              "      <th>1</th>\n",
              "      <td>2015</td>\n",
              "      <td>1</td>\n",
              "      <td>Aguascalientes</td>\n",
              "      <td>1001</td>\n",
              "      <td>Aguascalientes</td>\n",
              "      <td>La vida y la Integridad corporal</td>\n",
              "      <td>Homicidio</td>\n",
              "      <td>Homicidio doloso</td>\n",
              "      <td>Con arma blanca</td>\n",
              "      <td>1</td>\n",
              "      <td>1.0</td>\n",
              "      <td>0.0</td>\n",
              "      <td>0.0</td>\n",
              "      <td>0.0</td>\n",
              "      <td>1.0</td>\n",
              "      <td>0.0</td>\n",
              "      <td>1.0</td>\n",
              "      <td>0.0</td>\n",
              "      <td>0.0</td>\n",
              "      <td>0.0</td>\n",
              "      <td>0.0</td>\n",
              "    </tr>\n",
              "  </tbody>\n",
              "</table>\n",
              "</div>"
            ],
            "text/plain": [
              "    Año  Clave_Ent         Entidad  ...  Octubre Noviembre Diciembre\n",
              "0  2015          1  Aguascalientes  ...      1.0       0.0       1.0\n",
              "1  2015          1  Aguascalientes  ...      0.0       0.0       0.0\n",
              "\n",
              "[2 rows x 21 columns]"
            ]
          },
          "metadata": {
            "tags": []
          },
          "execution_count": 11
        }
      ]
    },
    {
      "cell_type": "markdown",
      "metadata": {
        "id": "ExFDw82teuJ2"
      },
      "source": [
        "###**Import from Drive**"
      ]
    },
    {
      "cell_type": "markdown",
      "metadata": {
        "id": "7miBJEXkmLUK"
      },
      "source": [
        "Primeramente se importaron las librerías necesarias, tal cual el caso anterior."
      ]
    },
    {
      "cell_type": "code",
      "metadata": {
        "id": "dIBpGkrGqFVd"
      },
      "source": [
        "import pandas as pd"
      ],
      "execution_count": null,
      "outputs": []
    },
    {
      "cell_type": "markdown",
      "metadata": {
        "id": "Ehush0kSuToa"
      },
      "source": [
        "A diferencia de importar los archivos desde nuestra computadora, aquí son almacenados previamente desde Google Drive, y mediante el siguiente código podemos traerlos a los archivos de nuestra Notebook. \n",
        "\n",
        "Cabe destacar que la dirección de la cual son obtenidos los archivos desde Google Drive varía de acuerdo a donde esté almacenado, por lo que en nuestro caso fue el siguiente."
      ]
    },
    {
      "cell_type": "code",
      "metadata": {
        "id": "XUDJSnwjqGVj",
        "colab": {
          "base_uri": "https://localhost:8080/"
        },
        "outputId": "47e40ac2-2171-497b-e461-85d9b927256f"
      },
      "source": [
        "from google.colab import drive\n",
        "drive.mount('/content/drive/')\n",
        "!ls \"/content/drive/MyDrive/Data_Proy\""
      ],
      "execution_count": null,
      "outputs": [
        {
          "output_type": "stream",
          "text": [
            "Mounted at /content/drive/\n",
            "'description analysis exploratorio.aac'\n",
            " Estatal-Delitos-2015-2021_ene2021.csv\n",
            " Municipal-Delitos-2015-2021_ene2021.csv\n"
          ],
          "name": "stdout"
        }
      ]
    },
    {
      "cell_type": "markdown",
      "metadata": {
        "id": "_UzFE2QRuca6"
      },
      "source": [
        "Una vez teniendo dichos archivos ya en el Notebook, se realiza la misma secuencia para leer los archivos .CSV mediante pandas, nombrándolos como \"df_estados\" y \"df_municipios\"."
      ]
    },
    {
      "cell_type": "code",
      "metadata": {
        "id": "S1oGzkMbrdzR"
      },
      "source": [
        "df_estados = pd.read_csv(\"/content/drive/MyDrive/Data_Proy/Estatal-Delitos-2015-2021_ene2021.csv\", encoding=\"latin-1\")\n",
        "df_municipios = pd.read_csv(\"/content/drive/MyDrive/Data_Proy/Municipal-Delitos-2015-2021_ene2021.csv\", encoding=\"latin-1\")"
      ],
      "execution_count": null,
      "outputs": []
    },
    {
      "cell_type": "markdown",
      "metadata": {
        "id": "pBi1sW1uulg9"
      },
      "source": [
        "Finalmente para ver que nuestro dataframes fueron almacenados correctamente y explorar un poco su información se usó el comando \"head\""
      ]
    },
    {
      "cell_type": "code",
      "metadata": {
        "id": "WBkVdcyxuHVg",
        "colab": {
          "base_uri": "https://localhost:8080/",
          "height": 269
        },
        "outputId": "c2766c8c-e42a-468c-975a-6e02b3750268"
      },
      "source": [
        "df_estados.head(2)"
      ],
      "execution_count": null,
      "outputs": [
        {
          "output_type": "execute_result",
          "data": {
            "text/html": [
              "<div>\n",
              "<style scoped>\n",
              "    .dataframe tbody tr th:only-of-type {\n",
              "        vertical-align: middle;\n",
              "    }\n",
              "\n",
              "    .dataframe tbody tr th {\n",
              "        vertical-align: top;\n",
              "    }\n",
              "\n",
              "    .dataframe thead th {\n",
              "        text-align: right;\n",
              "    }\n",
              "</style>\n",
              "<table border=\"1\" class=\"dataframe\">\n",
              "  <thead>\n",
              "    <tr style=\"text-align: right;\">\n",
              "      <th></th>\n",
              "      <th>Año</th>\n",
              "      <th>Clave_Ent</th>\n",
              "      <th>Entidad</th>\n",
              "      <th>Bien jurídico afectado</th>\n",
              "      <th>Tipo de delito</th>\n",
              "      <th>Subtipo de delito</th>\n",
              "      <th>Modalidad</th>\n",
              "      <th>Enero</th>\n",
              "      <th>Febrero</th>\n",
              "      <th>Marzo</th>\n",
              "      <th>Abril</th>\n",
              "      <th>Mayo</th>\n",
              "      <th>Junio</th>\n",
              "      <th>Julio</th>\n",
              "      <th>Agosto</th>\n",
              "      <th>Septiembre</th>\n",
              "      <th>Octubre</th>\n",
              "      <th>Noviembre</th>\n",
              "      <th>Diciembre</th>\n",
              "    </tr>\n",
              "  </thead>\n",
              "  <tbody>\n",
              "    <tr>\n",
              "      <th>0</th>\n",
              "      <td>2015</td>\n",
              "      <td>1</td>\n",
              "      <td>Aguascalientes</td>\n",
              "      <td>La vida y la Integridad corporal</td>\n",
              "      <td>Homicidio</td>\n",
              "      <td>Homicidio doloso</td>\n",
              "      <td>Con arma de fuego</td>\n",
              "      <td>3</td>\n",
              "      <td>0</td>\n",
              "      <td>2</td>\n",
              "      <td>1</td>\n",
              "      <td>1</td>\n",
              "      <td>1</td>\n",
              "      <td>2</td>\n",
              "      <td>1</td>\n",
              "      <td>2</td>\n",
              "      <td>2</td>\n",
              "      <td>2.0</td>\n",
              "      <td>1.0</td>\n",
              "    </tr>\n",
              "    <tr>\n",
              "      <th>1</th>\n",
              "      <td>2015</td>\n",
              "      <td>1</td>\n",
              "      <td>Aguascalientes</td>\n",
              "      <td>La vida y la Integridad corporal</td>\n",
              "      <td>Homicidio</td>\n",
              "      <td>Homicidio doloso</td>\n",
              "      <td>Con arma blanca</td>\n",
              "      <td>1</td>\n",
              "      <td>1</td>\n",
              "      <td>0</td>\n",
              "      <td>0</td>\n",
              "      <td>0</td>\n",
              "      <td>1</td>\n",
              "      <td>0</td>\n",
              "      <td>1</td>\n",
              "      <td>0</td>\n",
              "      <td>0</td>\n",
              "      <td>0.0</td>\n",
              "      <td>1.0</td>\n",
              "    </tr>\n",
              "  </tbody>\n",
              "</table>\n",
              "</div>"
            ],
            "text/plain": [
              "    Año  Clave_Ent         Entidad  ... Octubre Noviembre Diciembre\n",
              "0  2015          1  Aguascalientes  ...       2       2.0       1.0\n",
              "1  2015          1  Aguascalientes  ...       0       0.0       1.0\n",
              "\n",
              "[2 rows x 19 columns]"
            ]
          },
          "metadata": {
            "tags": []
          },
          "execution_count": 14
        }
      ]
    },
    {
      "cell_type": "code",
      "metadata": {
        "id": "iGkmsumsCibk",
        "colab": {
          "base_uri": "https://localhost:8080/",
          "height": 269
        },
        "outputId": "0a549d2f-3890-4f7a-ae96-8d3dd2e46527"
      },
      "source": [
        "df_municipios.head(2)"
      ],
      "execution_count": null,
      "outputs": [
        {
          "output_type": "execute_result",
          "data": {
            "text/html": [
              "<div>\n",
              "<style scoped>\n",
              "    .dataframe tbody tr th:only-of-type {\n",
              "        vertical-align: middle;\n",
              "    }\n",
              "\n",
              "    .dataframe tbody tr th {\n",
              "        vertical-align: top;\n",
              "    }\n",
              "\n",
              "    .dataframe thead th {\n",
              "        text-align: right;\n",
              "    }\n",
              "</style>\n",
              "<table border=\"1\" class=\"dataframe\">\n",
              "  <thead>\n",
              "    <tr style=\"text-align: right;\">\n",
              "      <th></th>\n",
              "      <th>Año</th>\n",
              "      <th>Clave_Ent</th>\n",
              "      <th>Entidad</th>\n",
              "      <th>Cve. Municipio</th>\n",
              "      <th>Municipio</th>\n",
              "      <th>Bien jurídico afectado</th>\n",
              "      <th>Tipo de delito</th>\n",
              "      <th>Subtipo de delito</th>\n",
              "      <th>Modalidad</th>\n",
              "      <th>Enero</th>\n",
              "      <th>Febrero</th>\n",
              "      <th>Marzo</th>\n",
              "      <th>Abril</th>\n",
              "      <th>Mayo</th>\n",
              "      <th>Junio</th>\n",
              "      <th>Julio</th>\n",
              "      <th>Agosto</th>\n",
              "      <th>Septiembre</th>\n",
              "      <th>Octubre</th>\n",
              "      <th>Noviembre</th>\n",
              "      <th>Diciembre</th>\n",
              "    </tr>\n",
              "  </thead>\n",
              "  <tbody>\n",
              "    <tr>\n",
              "      <th>0</th>\n",
              "      <td>2015</td>\n",
              "      <td>1</td>\n",
              "      <td>Aguascalientes</td>\n",
              "      <td>1001</td>\n",
              "      <td>Aguascalientes</td>\n",
              "      <td>La vida y la Integridad corporal</td>\n",
              "      <td>Homicidio</td>\n",
              "      <td>Homicidio doloso</td>\n",
              "      <td>Con arma de fuego</td>\n",
              "      <td>2</td>\n",
              "      <td>0.0</td>\n",
              "      <td>1.0</td>\n",
              "      <td>1.0</td>\n",
              "      <td>0.0</td>\n",
              "      <td>1.0</td>\n",
              "      <td>1.0</td>\n",
              "      <td>0.0</td>\n",
              "      <td>2.0</td>\n",
              "      <td>1.0</td>\n",
              "      <td>0.0</td>\n",
              "      <td>1.0</td>\n",
              "    </tr>\n",
              "    <tr>\n",
              "      <th>1</th>\n",
              "      <td>2015</td>\n",
              "      <td>1</td>\n",
              "      <td>Aguascalientes</td>\n",
              "      <td>1001</td>\n",
              "      <td>Aguascalientes</td>\n",
              "      <td>La vida y la Integridad corporal</td>\n",
              "      <td>Homicidio</td>\n",
              "      <td>Homicidio doloso</td>\n",
              "      <td>Con arma blanca</td>\n",
              "      <td>1</td>\n",
              "      <td>1.0</td>\n",
              "      <td>0.0</td>\n",
              "      <td>0.0</td>\n",
              "      <td>0.0</td>\n",
              "      <td>1.0</td>\n",
              "      <td>0.0</td>\n",
              "      <td>1.0</td>\n",
              "      <td>0.0</td>\n",
              "      <td>0.0</td>\n",
              "      <td>0.0</td>\n",
              "      <td>0.0</td>\n",
              "    </tr>\n",
              "  </tbody>\n",
              "</table>\n",
              "</div>"
            ],
            "text/plain": [
              "    Año  Clave_Ent         Entidad  ...  Octubre Noviembre Diciembre\n",
              "0  2015          1  Aguascalientes  ...      1.0       0.0       1.0\n",
              "1  2015          1  Aguascalientes  ...      0.0       0.0       0.0\n",
              "\n",
              "[2 rows x 21 columns]"
            ]
          },
          "metadata": {
            "tags": []
          },
          "execution_count": 4
        }
      ]
    },
    {
      "cell_type": "markdown",
      "metadata": {
        "id": "MxzG00JVNoMl"
      },
      "source": [
        "# **ANÁLISIS EXPLORATORIO DE DATOS**\n",
        "\n",
        "Una vez que hemos importado nuestros archivos vamos a empezar a analizar nuestro conjunto de datos usando pandas. Nos ayudamos con algunas preguntas que nos indicarán si nuestra información recolectada nos será de ayuda o no.\n"
      ]
    },
    {
      "cell_type": "markdown",
      "metadata": {
        "id": "uK_Ir6DsETws"
      },
      "source": [
        "##  **1. ¿El conjunto de datos que tengo realmente me sirve para responder algunas de las preguntas que me planteé?**"
      ]
    },
    {
      "cell_type": "code",
      "metadata": {
        "colab": {
          "base_uri": "https://localhost:8080/",
          "height": 269
        },
        "id": "MEhkui93-_Im",
        "outputId": "ca658896-cd57-459f-af9e-f170648b47f6"
      },
      "source": [
        "#previamente se cargaron nuestros archivos csv y se asignaron a las variables df_estados y df_municipios\n",
        "df_estados = pd.DataFrame(df_estados)\n",
        "df_estados.head(2)"
      ],
      "execution_count": null,
      "outputs": [
        {
          "output_type": "execute_result",
          "data": {
            "text/html": [
              "<div>\n",
              "<style scoped>\n",
              "    .dataframe tbody tr th:only-of-type {\n",
              "        vertical-align: middle;\n",
              "    }\n",
              "\n",
              "    .dataframe tbody tr th {\n",
              "        vertical-align: top;\n",
              "    }\n",
              "\n",
              "    .dataframe thead th {\n",
              "        text-align: right;\n",
              "    }\n",
              "</style>\n",
              "<table border=\"1\" class=\"dataframe\">\n",
              "  <thead>\n",
              "    <tr style=\"text-align: right;\">\n",
              "      <th></th>\n",
              "      <th>Año</th>\n",
              "      <th>Clave_Ent</th>\n",
              "      <th>Entidad</th>\n",
              "      <th>Bien jurídico afectado</th>\n",
              "      <th>Tipo de delito</th>\n",
              "      <th>Subtipo de delito</th>\n",
              "      <th>Modalidad</th>\n",
              "      <th>Enero</th>\n",
              "      <th>Febrero</th>\n",
              "      <th>Marzo</th>\n",
              "      <th>Abril</th>\n",
              "      <th>Mayo</th>\n",
              "      <th>Junio</th>\n",
              "      <th>Julio</th>\n",
              "      <th>Agosto</th>\n",
              "      <th>Septiembre</th>\n",
              "      <th>Octubre</th>\n",
              "      <th>Noviembre</th>\n",
              "      <th>Diciembre</th>\n",
              "    </tr>\n",
              "  </thead>\n",
              "  <tbody>\n",
              "    <tr>\n",
              "      <th>0</th>\n",
              "      <td>2015</td>\n",
              "      <td>1</td>\n",
              "      <td>Aguascalientes</td>\n",
              "      <td>La vida y la Integridad corporal</td>\n",
              "      <td>Homicidio</td>\n",
              "      <td>Homicidio doloso</td>\n",
              "      <td>Con arma de fuego</td>\n",
              "      <td>3</td>\n",
              "      <td>0</td>\n",
              "      <td>2</td>\n",
              "      <td>1</td>\n",
              "      <td>1</td>\n",
              "      <td>1</td>\n",
              "      <td>2</td>\n",
              "      <td>1</td>\n",
              "      <td>2</td>\n",
              "      <td>2</td>\n",
              "      <td>2.0</td>\n",
              "      <td>1.0</td>\n",
              "    </tr>\n",
              "    <tr>\n",
              "      <th>1</th>\n",
              "      <td>2015</td>\n",
              "      <td>1</td>\n",
              "      <td>Aguascalientes</td>\n",
              "      <td>La vida y la Integridad corporal</td>\n",
              "      <td>Homicidio</td>\n",
              "      <td>Homicidio doloso</td>\n",
              "      <td>Con arma blanca</td>\n",
              "      <td>1</td>\n",
              "      <td>1</td>\n",
              "      <td>0</td>\n",
              "      <td>0</td>\n",
              "      <td>0</td>\n",
              "      <td>1</td>\n",
              "      <td>0</td>\n",
              "      <td>1</td>\n",
              "      <td>0</td>\n",
              "      <td>0</td>\n",
              "      <td>0.0</td>\n",
              "      <td>1.0</td>\n",
              "    </tr>\n",
              "  </tbody>\n",
              "</table>\n",
              "</div>"
            ],
            "text/plain": [
              "    Año  Clave_Ent         Entidad  ... Octubre Noviembre Diciembre\n",
              "0  2015          1  Aguascalientes  ...       2       2.0       1.0\n",
              "1  2015          1  Aguascalientes  ...       0       0.0       1.0\n",
              "\n",
              "[2 rows x 19 columns]"
            ]
          },
          "metadata": {
            "tags": []
          },
          "execution_count": 5
        }
      ]
    },
    {
      "cell_type": "code",
      "metadata": {
        "colab": {
          "base_uri": "https://localhost:8080/",
          "height": 269
        },
        "id": "aLGaSPMt9Se-",
        "outputId": "c48ce173-b879-4c7b-b318-90c984a361eb"
      },
      "source": [
        "df_municipios = pd.DataFrame(df_municipios)\n",
        "df_municipios.head(2)"
      ],
      "execution_count": null,
      "outputs": [
        {
          "output_type": "execute_result",
          "data": {
            "text/html": [
              "<div>\n",
              "<style scoped>\n",
              "    .dataframe tbody tr th:only-of-type {\n",
              "        vertical-align: middle;\n",
              "    }\n",
              "\n",
              "    .dataframe tbody tr th {\n",
              "        vertical-align: top;\n",
              "    }\n",
              "\n",
              "    .dataframe thead th {\n",
              "        text-align: right;\n",
              "    }\n",
              "</style>\n",
              "<table border=\"1\" class=\"dataframe\">\n",
              "  <thead>\n",
              "    <tr style=\"text-align: right;\">\n",
              "      <th></th>\n",
              "      <th>Año</th>\n",
              "      <th>Clave_Ent</th>\n",
              "      <th>Entidad</th>\n",
              "      <th>Cve. Municipio</th>\n",
              "      <th>Municipio</th>\n",
              "      <th>Bien jurídico afectado</th>\n",
              "      <th>Tipo de delito</th>\n",
              "      <th>Subtipo de delito</th>\n",
              "      <th>Modalidad</th>\n",
              "      <th>Enero</th>\n",
              "      <th>Febrero</th>\n",
              "      <th>Marzo</th>\n",
              "      <th>Abril</th>\n",
              "      <th>Mayo</th>\n",
              "      <th>Junio</th>\n",
              "      <th>Julio</th>\n",
              "      <th>Agosto</th>\n",
              "      <th>Septiembre</th>\n",
              "      <th>Octubre</th>\n",
              "      <th>Noviembre</th>\n",
              "      <th>Diciembre</th>\n",
              "    </tr>\n",
              "  </thead>\n",
              "  <tbody>\n",
              "    <tr>\n",
              "      <th>0</th>\n",
              "      <td>2015</td>\n",
              "      <td>1</td>\n",
              "      <td>Aguascalientes</td>\n",
              "      <td>1001</td>\n",
              "      <td>Aguascalientes</td>\n",
              "      <td>La vida y la Integridad corporal</td>\n",
              "      <td>Homicidio</td>\n",
              "      <td>Homicidio doloso</td>\n",
              "      <td>Con arma de fuego</td>\n",
              "      <td>2</td>\n",
              "      <td>0.0</td>\n",
              "      <td>1.0</td>\n",
              "      <td>1.0</td>\n",
              "      <td>0.0</td>\n",
              "      <td>1.0</td>\n",
              "      <td>1.0</td>\n",
              "      <td>0.0</td>\n",
              "      <td>2.0</td>\n",
              "      <td>1.0</td>\n",
              "      <td>0.0</td>\n",
              "      <td>1.0</td>\n",
              "    </tr>\n",
              "    <tr>\n",
              "      <th>1</th>\n",
              "      <td>2015</td>\n",
              "      <td>1</td>\n",
              "      <td>Aguascalientes</td>\n",
              "      <td>1001</td>\n",
              "      <td>Aguascalientes</td>\n",
              "      <td>La vida y la Integridad corporal</td>\n",
              "      <td>Homicidio</td>\n",
              "      <td>Homicidio doloso</td>\n",
              "      <td>Con arma blanca</td>\n",
              "      <td>1</td>\n",
              "      <td>1.0</td>\n",
              "      <td>0.0</td>\n",
              "      <td>0.0</td>\n",
              "      <td>0.0</td>\n",
              "      <td>1.0</td>\n",
              "      <td>0.0</td>\n",
              "      <td>1.0</td>\n",
              "      <td>0.0</td>\n",
              "      <td>0.0</td>\n",
              "      <td>0.0</td>\n",
              "      <td>0.0</td>\n",
              "    </tr>\n",
              "  </tbody>\n",
              "</table>\n",
              "</div>"
            ],
            "text/plain": [
              "    Año  Clave_Ent         Entidad  ...  Octubre Noviembre Diciembre\n",
              "0  2015          1  Aguascalientes  ...      1.0       0.0       1.0\n",
              "1  2015          1  Aguascalientes  ...      0.0       0.0       0.0\n",
              "\n",
              "[2 rows x 21 columns]"
            ]
          },
          "metadata": {
            "tags": []
          },
          "execution_count": 6
        }
      ]
    },
    {
      "cell_type": "code",
      "metadata": {
        "colab": {
          "base_uri": "https://localhost:8080/",
          "height": 338
        },
        "id": "6b7hwAZhHY6s",
        "outputId": "41ba2fd5-9bbf-46f1-f80b-f560dd95accb"
      },
      "source": [
        "df_municipios.tail(2)"
      ],
      "execution_count": null,
      "outputs": [
        {
          "output_type": "execute_result",
          "data": {
            "text/html": [
              "<div>\n",
              "<style scoped>\n",
              "    .dataframe tbody tr th:only-of-type {\n",
              "        vertical-align: middle;\n",
              "    }\n",
              "\n",
              "    .dataframe tbody tr th {\n",
              "        vertical-align: top;\n",
              "    }\n",
              "\n",
              "    .dataframe thead th {\n",
              "        text-align: right;\n",
              "    }\n",
              "</style>\n",
              "<table border=\"1\" class=\"dataframe\">\n",
              "  <thead>\n",
              "    <tr style=\"text-align: right;\">\n",
              "      <th></th>\n",
              "      <th>Año</th>\n",
              "      <th>Clave_Ent</th>\n",
              "      <th>Entidad</th>\n",
              "      <th>Cve. Municipio</th>\n",
              "      <th>Municipio</th>\n",
              "      <th>Bien jurídico afectado</th>\n",
              "      <th>Tipo de delito</th>\n",
              "      <th>Subtipo de delito</th>\n",
              "      <th>Modalidad</th>\n",
              "      <th>Enero</th>\n",
              "      <th>Febrero</th>\n",
              "      <th>Marzo</th>\n",
              "      <th>Abril</th>\n",
              "      <th>Mayo</th>\n",
              "      <th>Junio</th>\n",
              "      <th>Julio</th>\n",
              "      <th>Agosto</th>\n",
              "      <th>Septiembre</th>\n",
              "      <th>Octubre</th>\n",
              "      <th>Noviembre</th>\n",
              "      <th>Diciembre</th>\n",
              "    </tr>\n",
              "  </thead>\n",
              "  <tbody>\n",
              "    <tr>\n",
              "      <th>1588774</th>\n",
              "      <td>2021</td>\n",
              "      <td>32</td>\n",
              "      <td>Zacatecas</td>\n",
              "      <td>32058</td>\n",
              "      <td>Santa María de la Paz</td>\n",
              "      <td>Otros bienes jurídicos afectados (del fuero co...</td>\n",
              "      <td>Electorales</td>\n",
              "      <td>Electorales</td>\n",
              "      <td>Electorales</td>\n",
              "      <td>0</td>\n",
              "      <td>NaN</td>\n",
              "      <td>NaN</td>\n",
              "      <td>NaN</td>\n",
              "      <td>NaN</td>\n",
              "      <td>NaN</td>\n",
              "      <td>NaN</td>\n",
              "      <td>NaN</td>\n",
              "      <td>NaN</td>\n",
              "      <td>NaN</td>\n",
              "      <td>NaN</td>\n",
              "      <td>NaN</td>\n",
              "    </tr>\n",
              "    <tr>\n",
              "      <th>1588775</th>\n",
              "      <td>2021</td>\n",
              "      <td>32</td>\n",
              "      <td>Zacatecas</td>\n",
              "      <td>32058</td>\n",
              "      <td>Santa María de la Paz</td>\n",
              "      <td>Otros bienes jurídicos afectados (del fuero co...</td>\n",
              "      <td>Otros delitos del Fuero Común</td>\n",
              "      <td>Otros delitos del Fuero Común</td>\n",
              "      <td>Otros delitos del Fuero Común</td>\n",
              "      <td>0</td>\n",
              "      <td>NaN</td>\n",
              "      <td>NaN</td>\n",
              "      <td>NaN</td>\n",
              "      <td>NaN</td>\n",
              "      <td>NaN</td>\n",
              "      <td>NaN</td>\n",
              "      <td>NaN</td>\n",
              "      <td>NaN</td>\n",
              "      <td>NaN</td>\n",
              "      <td>NaN</td>\n",
              "      <td>NaN</td>\n",
              "    </tr>\n",
              "  </tbody>\n",
              "</table>\n",
              "</div>"
            ],
            "text/plain": [
              "          Año  Clave_Ent    Entidad  ...  Octubre Noviembre Diciembre\n",
              "1588774  2021         32  Zacatecas  ...      NaN       NaN       NaN\n",
              "1588775  2021         32  Zacatecas  ...      NaN       NaN       NaN\n",
              "\n",
              "[2 rows x 21 columns]"
            ]
          },
          "metadata": {
            "tags": []
          },
          "execution_count": 18
        }
      ]
    },
    {
      "cell_type": "markdown",
      "metadata": {
        "id": "lfaDpmt69XTx"
      },
      "source": [
        "_*Con un análisis rápido de nuestros data sets encotramos datos que incluyen información relevante a nuestra investigación, como lo son: tipos de delitos, estado de la República mexicana en donde ocurrieron y fecha en la que ocurrieron.\n",
        "Por lo tanto podemos ser positivos de que nuestras preguntas serán respondidas*_\n"
      ]
    },
    {
      "cell_type": "markdown",
      "metadata": {
        "id": "QEHZaqzFO2bX"
      },
      "source": [
        "## **2. ¿Qué tamaño tiene mi conjunto de datos? ¿Serán datos suficientes?**"
      ]
    },
    {
      "cell_type": "code",
      "metadata": {
        "colab": {
          "base_uri": "https://localhost:8080/"
        },
        "id": "KZNqYKnm-tlC",
        "outputId": "feff7bab-d785-4be8-ccab-01084c7772af"
      },
      "source": [
        "df_estados.shape"
      ],
      "execution_count": null,
      "outputs": [
        {
          "output_type": "execute_result",
          "data": {
            "text/plain": [
              "(21952, 19)"
            ]
          },
          "metadata": {
            "tags": []
          },
          "execution_count": 5
        }
      ]
    },
    {
      "cell_type": "code",
      "metadata": {
        "id": "aYugxLEiO3RV",
        "colab": {
          "base_uri": "https://localhost:8080/"
        },
        "outputId": "1c399a15-5f43-4c4e-d697-d065960c13ca"
      },
      "source": [
        "df_municipios.shape"
      ],
      "execution_count": null,
      "outputs": [
        {
          "output_type": "execute_result",
          "data": {
            "text/plain": [
              "(1588776, 21)"
            ]
          },
          "metadata": {
            "tags": []
          },
          "execution_count": 6
        }
      ]
    },
    {
      "cell_type": "markdown",
      "metadata": {
        "id": "bqnVmRzDCtLr"
      },
      "source": [
        "*Vemos que nuestro data frame **`df_estados`** tiene 19 columnas y 21952 filas,, mientras que el data frame **`df_municipios`** cuenta con 21 columnas y 1588776 filas, esta diferencia de filas es posible que se deba a que nuestro segundo data frame agrega la información en donde los actos de violencia fueron registrados (columna de municipios).\n",
        "Debido a esto y a que ambos data sets fueron obtenidos del mismo lugar, en adelante solo se considerará **`df_municipios`** ya que la información está más completa agragando el campo de los municipios, mientras que **`df_estados`** es una recopilación de estos y estaríamos cometiendo un error de replica de datos*"
      ]
    },
    {
      "cell_type": "markdown",
      "metadata": {
        "id": "NWmkDP2YOLFM"
      },
      "source": [
        "## **3. ¿Qué columnas tengo y qué información tengo en cada una de esas columnas?**"
      ]
    },
    {
      "cell_type": "code",
      "metadata": {
        "id": "bPFjtk6iO3wM",
        "colab": {
          "base_uri": "https://localhost:8080/"
        },
        "outputId": "71d7ae35-5622-40b2-cbf0-cfb83423717f"
      },
      "source": [
        "df_municipios.columns"
      ],
      "execution_count": null,
      "outputs": [
        {
          "output_type": "execute_result",
          "data": {
            "text/plain": [
              "Index(['Año', 'Clave_Ent', 'Entidad', 'Cve. Municipio', 'Municipio',\n",
              "       'Bien jurídico afectado', 'Tipo de delito', 'Subtipo de delito',\n",
              "       'Modalidad', 'Enero', 'Febrero', 'Marzo', 'Abril', 'Mayo', 'Junio',\n",
              "       'Julio', 'Agosto', 'Septiembre', 'Octubre', 'Noviembre', 'Diciembre'],\n",
              "      dtype='object')"
            ]
          },
          "metadata": {
            "tags": []
          },
          "execution_count": 7
        }
      ]
    },
    {
      "cell_type": "markdown",
      "metadata": {
        "id": "sb6qN9NAG34p"
      },
      "source": [
        "- En la columna **`Año`** tenemos registros que empiezan en el 2015 y llegan hasta el 2021.\n",
        "- En **`Entidad`** yacen los nombres de los estados donde ocurren los hechos mientras que **`Caleve_Ent`** es la calve federativa de este estado.\n",
        "- Así en **`Municipio`** se agregan el municipio del estado correspondiente y **`Cve. Municipio`** es su clave única.\n",
        "- **`Bien jurídico afectado`** , **`Tipo de delito`**, **`Subtipo de delito`** y **`Modalidad`** son columnas que describen los delitos registrados.\n",
        "- Las columnas de **`Enero`**, **`Febrero`**, **`Marzo`**, **`Abril`**, **`Mayo`**, **`Junio`**, **`Julio`**, **`Agosto`**, **`Septiembre`**, **`Octubre`**, **`Noviembre`**, **`Diciembre`** son las sumas acumuladas de los registros por tipos de delito.\n"
      ]
    },
    {
      "cell_type": "markdown",
      "metadata": {
        "id": "IGT7kMBSO4Hm"
      },
      "source": [
        "## **4. Los nombres que tienen mis columnas, ¿son el nombre más apropiado?** "
      ]
    },
    {
      "cell_type": "markdown",
      "metadata": {
        "id": "tf3PgQK_Jsok"
      },
      "source": [
        "- *Si, son descriptivas, simples y van de acuerdo a a la información que queremos obtener*"
      ]
    },
    {
      "cell_type": "markdown",
      "metadata": {
        "id": "_D-jNJyhPZ2O"
      },
      "source": [
        "## **5. ¿Qué tipos de datos tengo en cada columna? ¿Parecen ser el tipo correcto de datos? ¿O es un tipo de datos \"incorrecto\"?** "
      ]
    },
    {
      "cell_type": "code",
      "metadata": {
        "id": "rMMA2n2QPaXE",
        "colab": {
          "base_uri": "https://localhost:8080/"
        },
        "outputId": "4ce1fccd-b7b5-41b4-ed11-fd955380e7ee"
      },
      "source": [
        "df_municipios.dtypes"
      ],
      "execution_count": null,
      "outputs": [
        {
          "output_type": "execute_result",
          "data": {
            "text/plain": [
              "Año                         int64\n",
              "Clave_Ent                   int64\n",
              "Entidad                    object\n",
              "Cve. Municipio              int64\n",
              "Municipio                  object\n",
              "Bien jurídico afectado     object\n",
              "Tipo de delito             object\n",
              "Subtipo de delito          object\n",
              "Modalidad                  object\n",
              "Enero                       int64\n",
              "Febrero                   float64\n",
              "Marzo                     float64\n",
              "Abril                     float64\n",
              "Mayo                      float64\n",
              "Junio                     float64\n",
              "Julio                     float64\n",
              "Agosto                    float64\n",
              "Septiembre                float64\n",
              "Octubre                   float64\n",
              "Noviembre                 float64\n",
              "Diciembre                 float64\n",
              "dtype: object"
            ]
          },
          "metadata": {
            "tags": []
          },
          "execution_count": 8
        }
      ]
    },
    {
      "cell_type": "markdown",
      "metadata": {
        "id": "HD3Ai9YqKJKl"
      },
      "source": [
        "- *Las columnas tienen el tipo de dato correcto, especialmente nos interesa que las columnas de fecha como `Año` y los casos acumulados sean datos de tipo númerico.*"
      ]
    },
    {
      "cell_type": "markdown",
      "metadata": {
        "id": "yEp_AZ3iPazv"
      },
      "source": [
        "## **6. Si selecciono algunas filas al azar y las observo, ¿estoy obteniendo los datos que debería? ¿o hay datos que parecen estar \"sucios\" o \"incorrectos\"?** "
      ]
    },
    {
      "cell_type": "code",
      "metadata": {
        "id": "OU3PfuhxPbfn",
        "colab": {
          "base_uri": "https://localhost:8080/",
          "height": 202
        },
        "outputId": "95e11542-f512-4ceb-9de2-41422eab55d0"
      },
      "source": [
        "df_municipios.loc[[0,182,1112,45932,1588775], ['Año', 'Entidad', 'Municipio', 'Tipo de delito','Modalidad', 'Enero' ]]"
      ],
      "execution_count": null,
      "outputs": [
        {
          "output_type": "execute_result",
          "data": {
            "text/html": [
              "<div>\n",
              "<style scoped>\n",
              "    .dataframe tbody tr th:only-of-type {\n",
              "        vertical-align: middle;\n",
              "    }\n",
              "\n",
              "    .dataframe tbody tr th {\n",
              "        vertical-align: top;\n",
              "    }\n",
              "\n",
              "    .dataframe thead th {\n",
              "        text-align: right;\n",
              "    }\n",
              "</style>\n",
              "<table border=\"1\" class=\"dataframe\">\n",
              "  <thead>\n",
              "    <tr style=\"text-align: right;\">\n",
              "      <th></th>\n",
              "      <th>Año</th>\n",
              "      <th>Entidad</th>\n",
              "      <th>Municipio</th>\n",
              "      <th>Tipo de delito</th>\n",
              "      <th>Modalidad</th>\n",
              "      <th>Enero</th>\n",
              "    </tr>\n",
              "  </thead>\n",
              "  <tbody>\n",
              "    <tr>\n",
              "      <th>0</th>\n",
              "      <td>2015</td>\n",
              "      <td>Aguascalientes</td>\n",
              "      <td>Aguascalientes</td>\n",
              "      <td>Homicidio</td>\n",
              "      <td>Con arma de fuego</td>\n",
              "      <td>2</td>\n",
              "    </tr>\n",
              "    <tr>\n",
              "      <th>182</th>\n",
              "      <td>2015</td>\n",
              "      <td>Aguascalientes</td>\n",
              "      <td>Asientos</td>\n",
              "      <td>Otros delitos contra la familia</td>\n",
              "      <td>Otros delitos contra la familia</td>\n",
              "      <td>0</td>\n",
              "    </tr>\n",
              "    <tr>\n",
              "      <th>1112</th>\n",
              "      <td>2015</td>\n",
              "      <td>Baja California</td>\n",
              "      <td>Ensenada</td>\n",
              "      <td>Hostigamiento sexual</td>\n",
              "      <td>Hostigamiento sexual</td>\n",
              "      <td>4</td>\n",
              "    </tr>\n",
              "    <tr>\n",
              "      <th>45932</th>\n",
              "      <td>2015</td>\n",
              "      <td>Hidalgo</td>\n",
              "      <td>Emiliano Zapata</td>\n",
              "      <td>Robo</td>\n",
              "      <td>Robo de herramienta industrial o agrícola Sin ...</td>\n",
              "      <td>0</td>\n",
              "    </tr>\n",
              "    <tr>\n",
              "      <th>1588775</th>\n",
              "      <td>2021</td>\n",
              "      <td>Zacatecas</td>\n",
              "      <td>Santa María de la Paz</td>\n",
              "      <td>Otros delitos del Fuero Común</td>\n",
              "      <td>Otros delitos del Fuero Común</td>\n",
              "      <td>0</td>\n",
              "    </tr>\n",
              "  </tbody>\n",
              "</table>\n",
              "</div>"
            ],
            "text/plain": [
              "          Año  ... Enero\n",
              "0        2015  ...     2\n",
              "182      2015  ...     0\n",
              "1112     2015  ...     4\n",
              "45932    2015  ...     0\n",
              "1588775  2021  ...     0\n",
              "\n",
              "[5 rows x 6 columns]"
            ]
          },
          "metadata": {
            "tags": []
          },
          "execution_count": 9
        }
      ]
    },
    {
      "cell_type": "markdown",
      "metadata": {
        "id": "hT6CakauMt47"
      },
      "source": [
        "- *Hasta el momento todo parece ser correcto, los datos no muestran estar sucios*"
      ]
    },
    {
      "cell_type": "markdown",
      "metadata": {
        "id": "8Gh50OI8No4F"
      },
      "source": [
        "# **LIMPIEZA DE DATOS**\n",
        "\n"
      ]
    },
    {
      "cell_type": "code",
      "metadata": {
        "colab": {
          "base_uri": "https://localhost:8080/",
          "height": 861
        },
        "id": "BaMkRozF5uhK",
        "outputId": "49728cd7-6b53-40fc-b02d-143ffc9e22a6"
      },
      "source": [
        "#Este el el dataframe de los datos organizados por municipio\n",
        "df_municipios"
      ],
      "execution_count": null,
      "outputs": [
        {
          "output_type": "execute_result",
          "data": {
            "text/html": [
              "<div>\n",
              "<style scoped>\n",
              "    .dataframe tbody tr th:only-of-type {\n",
              "        vertical-align: middle;\n",
              "    }\n",
              "\n",
              "    .dataframe tbody tr th {\n",
              "        vertical-align: top;\n",
              "    }\n",
              "\n",
              "    .dataframe thead th {\n",
              "        text-align: right;\n",
              "    }\n",
              "</style>\n",
              "<table border=\"1\" class=\"dataframe\">\n",
              "  <thead>\n",
              "    <tr style=\"text-align: right;\">\n",
              "      <th></th>\n",
              "      <th>Año</th>\n",
              "      <th>Clave_Ent</th>\n",
              "      <th>Entidad</th>\n",
              "      <th>Cve. Municipio</th>\n",
              "      <th>Municipio</th>\n",
              "      <th>Bien jurídico afectado</th>\n",
              "      <th>Tipo de delito</th>\n",
              "      <th>Subtipo de delito</th>\n",
              "      <th>Modalidad</th>\n",
              "      <th>Enero</th>\n",
              "      <th>Febrero</th>\n",
              "      <th>Marzo</th>\n",
              "      <th>Abril</th>\n",
              "      <th>Mayo</th>\n",
              "      <th>Junio</th>\n",
              "      <th>Julio</th>\n",
              "      <th>Agosto</th>\n",
              "      <th>Septiembre</th>\n",
              "      <th>Octubre</th>\n",
              "      <th>Noviembre</th>\n",
              "      <th>Diciembre</th>\n",
              "    </tr>\n",
              "  </thead>\n",
              "  <tbody>\n",
              "    <tr>\n",
              "      <th>0</th>\n",
              "      <td>2015</td>\n",
              "      <td>1</td>\n",
              "      <td>Aguascalientes</td>\n",
              "      <td>1001</td>\n",
              "      <td>Aguascalientes</td>\n",
              "      <td>La vida y la Integridad corporal</td>\n",
              "      <td>Homicidio</td>\n",
              "      <td>Homicidio doloso</td>\n",
              "      <td>Con arma de fuego</td>\n",
              "      <td>2</td>\n",
              "      <td>0.0</td>\n",
              "      <td>1.0</td>\n",
              "      <td>1.0</td>\n",
              "      <td>0.0</td>\n",
              "      <td>1.0</td>\n",
              "      <td>1.0</td>\n",
              "      <td>0.0</td>\n",
              "      <td>2.0</td>\n",
              "      <td>1.0</td>\n",
              "      <td>0.0</td>\n",
              "      <td>1.0</td>\n",
              "    </tr>\n",
              "    <tr>\n",
              "      <th>1</th>\n",
              "      <td>2015</td>\n",
              "      <td>1</td>\n",
              "      <td>Aguascalientes</td>\n",
              "      <td>1001</td>\n",
              "      <td>Aguascalientes</td>\n",
              "      <td>La vida y la Integridad corporal</td>\n",
              "      <td>Homicidio</td>\n",
              "      <td>Homicidio doloso</td>\n",
              "      <td>Con arma blanca</td>\n",
              "      <td>1</td>\n",
              "      <td>1.0</td>\n",
              "      <td>0.0</td>\n",
              "      <td>0.0</td>\n",
              "      <td>0.0</td>\n",
              "      <td>1.0</td>\n",
              "      <td>0.0</td>\n",
              "      <td>1.0</td>\n",
              "      <td>0.0</td>\n",
              "      <td>0.0</td>\n",
              "      <td>0.0</td>\n",
              "      <td>0.0</td>\n",
              "    </tr>\n",
              "    <tr>\n",
              "      <th>2</th>\n",
              "      <td>2015</td>\n",
              "      <td>1</td>\n",
              "      <td>Aguascalientes</td>\n",
              "      <td>1001</td>\n",
              "      <td>Aguascalientes</td>\n",
              "      <td>La vida y la Integridad corporal</td>\n",
              "      <td>Homicidio</td>\n",
              "      <td>Homicidio doloso</td>\n",
              "      <td>Con otro elemento</td>\n",
              "      <td>0</td>\n",
              "      <td>0.0</td>\n",
              "      <td>1.0</td>\n",
              "      <td>1.0</td>\n",
              "      <td>3.0</td>\n",
              "      <td>2.0</td>\n",
              "      <td>0.0</td>\n",
              "      <td>1.0</td>\n",
              "      <td>2.0</td>\n",
              "      <td>0.0</td>\n",
              "      <td>0.0</td>\n",
              "      <td>0.0</td>\n",
              "    </tr>\n",
              "    <tr>\n",
              "      <th>3</th>\n",
              "      <td>2015</td>\n",
              "      <td>1</td>\n",
              "      <td>Aguascalientes</td>\n",
              "      <td>1001</td>\n",
              "      <td>Aguascalientes</td>\n",
              "      <td>La vida y la Integridad corporal</td>\n",
              "      <td>Homicidio</td>\n",
              "      <td>Homicidio doloso</td>\n",
              "      <td>No especificado</td>\n",
              "      <td>1</td>\n",
              "      <td>0.0</td>\n",
              "      <td>0.0</td>\n",
              "      <td>1.0</td>\n",
              "      <td>0.0</td>\n",
              "      <td>0.0</td>\n",
              "      <td>0.0</td>\n",
              "      <td>0.0</td>\n",
              "      <td>0.0</td>\n",
              "      <td>0.0</td>\n",
              "      <td>0.0</td>\n",
              "      <td>0.0</td>\n",
              "    </tr>\n",
              "    <tr>\n",
              "      <th>4</th>\n",
              "      <td>2015</td>\n",
              "      <td>1</td>\n",
              "      <td>Aguascalientes</td>\n",
              "      <td>1001</td>\n",
              "      <td>Aguascalientes</td>\n",
              "      <td>La vida y la Integridad corporal</td>\n",
              "      <td>Homicidio</td>\n",
              "      <td>Homicidio culposo</td>\n",
              "      <td>Con arma de fuego</td>\n",
              "      <td>0</td>\n",
              "      <td>0.0</td>\n",
              "      <td>0.0</td>\n",
              "      <td>0.0</td>\n",
              "      <td>1.0</td>\n",
              "      <td>0.0</td>\n",
              "      <td>0.0</td>\n",
              "      <td>0.0</td>\n",
              "      <td>0.0</td>\n",
              "      <td>0.0</td>\n",
              "      <td>0.0</td>\n",
              "      <td>0.0</td>\n",
              "    </tr>\n",
              "    <tr>\n",
              "      <th>...</th>\n",
              "      <td>...</td>\n",
              "      <td>...</td>\n",
              "      <td>...</td>\n",
              "      <td>...</td>\n",
              "      <td>...</td>\n",
              "      <td>...</td>\n",
              "      <td>...</td>\n",
              "      <td>...</td>\n",
              "      <td>...</td>\n",
              "      <td>...</td>\n",
              "      <td>...</td>\n",
              "      <td>...</td>\n",
              "      <td>...</td>\n",
              "      <td>...</td>\n",
              "      <td>...</td>\n",
              "      <td>...</td>\n",
              "      <td>...</td>\n",
              "      <td>...</td>\n",
              "      <td>...</td>\n",
              "      <td>...</td>\n",
              "      <td>...</td>\n",
              "    </tr>\n",
              "    <tr>\n",
              "      <th>1588771</th>\n",
              "      <td>2021</td>\n",
              "      <td>32</td>\n",
              "      <td>Zacatecas</td>\n",
              "      <td>32058</td>\n",
              "      <td>Santa María de la Paz</td>\n",
              "      <td>Otros bienes jurídicos afectados (del fuero co...</td>\n",
              "      <td>Falsificación</td>\n",
              "      <td>Falsificación</td>\n",
              "      <td>Falsificación</td>\n",
              "      <td>0</td>\n",
              "      <td>NaN</td>\n",
              "      <td>NaN</td>\n",
              "      <td>NaN</td>\n",
              "      <td>NaN</td>\n",
              "      <td>NaN</td>\n",
              "      <td>NaN</td>\n",
              "      <td>NaN</td>\n",
              "      <td>NaN</td>\n",
              "      <td>NaN</td>\n",
              "      <td>NaN</td>\n",
              "      <td>NaN</td>\n",
              "    </tr>\n",
              "    <tr>\n",
              "      <th>1588772</th>\n",
              "      <td>2021</td>\n",
              "      <td>32</td>\n",
              "      <td>Zacatecas</td>\n",
              "      <td>32058</td>\n",
              "      <td>Santa María de la Paz</td>\n",
              "      <td>Otros bienes jurídicos afectados (del fuero co...</td>\n",
              "      <td>Contra el medio ambiente</td>\n",
              "      <td>Contra el medio ambiente</td>\n",
              "      <td>Contra el medio ambiente</td>\n",
              "      <td>0</td>\n",
              "      <td>NaN</td>\n",
              "      <td>NaN</td>\n",
              "      <td>NaN</td>\n",
              "      <td>NaN</td>\n",
              "      <td>NaN</td>\n",
              "      <td>NaN</td>\n",
              "      <td>NaN</td>\n",
              "      <td>NaN</td>\n",
              "      <td>NaN</td>\n",
              "      <td>NaN</td>\n",
              "      <td>NaN</td>\n",
              "    </tr>\n",
              "    <tr>\n",
              "      <th>1588773</th>\n",
              "      <td>2021</td>\n",
              "      <td>32</td>\n",
              "      <td>Zacatecas</td>\n",
              "      <td>32058</td>\n",
              "      <td>Santa María de la Paz</td>\n",
              "      <td>Otros bienes jurídicos afectados (del fuero co...</td>\n",
              "      <td>Delitos cometidos por servidores públicos</td>\n",
              "      <td>Delitos cometidos por servidores públicos</td>\n",
              "      <td>Delitos cometidos por servidores públicos</td>\n",
              "      <td>0</td>\n",
              "      <td>NaN</td>\n",
              "      <td>NaN</td>\n",
              "      <td>NaN</td>\n",
              "      <td>NaN</td>\n",
              "      <td>NaN</td>\n",
              "      <td>NaN</td>\n",
              "      <td>NaN</td>\n",
              "      <td>NaN</td>\n",
              "      <td>NaN</td>\n",
              "      <td>NaN</td>\n",
              "      <td>NaN</td>\n",
              "    </tr>\n",
              "    <tr>\n",
              "      <th>1588774</th>\n",
              "      <td>2021</td>\n",
              "      <td>32</td>\n",
              "      <td>Zacatecas</td>\n",
              "      <td>32058</td>\n",
              "      <td>Santa María de la Paz</td>\n",
              "      <td>Otros bienes jurídicos afectados (del fuero co...</td>\n",
              "      <td>Electorales</td>\n",
              "      <td>Electorales</td>\n",
              "      <td>Electorales</td>\n",
              "      <td>0</td>\n",
              "      <td>NaN</td>\n",
              "      <td>NaN</td>\n",
              "      <td>NaN</td>\n",
              "      <td>NaN</td>\n",
              "      <td>NaN</td>\n",
              "      <td>NaN</td>\n",
              "      <td>NaN</td>\n",
              "      <td>NaN</td>\n",
              "      <td>NaN</td>\n",
              "      <td>NaN</td>\n",
              "      <td>NaN</td>\n",
              "    </tr>\n",
              "    <tr>\n",
              "      <th>1588775</th>\n",
              "      <td>2021</td>\n",
              "      <td>32</td>\n",
              "      <td>Zacatecas</td>\n",
              "      <td>32058</td>\n",
              "      <td>Santa María de la Paz</td>\n",
              "      <td>Otros bienes jurídicos afectados (del fuero co...</td>\n",
              "      <td>Otros delitos del Fuero Común</td>\n",
              "      <td>Otros delitos del Fuero Común</td>\n",
              "      <td>Otros delitos del Fuero Común</td>\n",
              "      <td>0</td>\n",
              "      <td>NaN</td>\n",
              "      <td>NaN</td>\n",
              "      <td>NaN</td>\n",
              "      <td>NaN</td>\n",
              "      <td>NaN</td>\n",
              "      <td>NaN</td>\n",
              "      <td>NaN</td>\n",
              "      <td>NaN</td>\n",
              "      <td>NaN</td>\n",
              "      <td>NaN</td>\n",
              "      <td>NaN</td>\n",
              "    </tr>\n",
              "  </tbody>\n",
              "</table>\n",
              "<p>1588776 rows × 21 columns</p>\n",
              "</div>"
            ],
            "text/plain": [
              "          Año  Clave_Ent         Entidad  ...  Octubre Noviembre Diciembre\n",
              "0        2015          1  Aguascalientes  ...      1.0       0.0       1.0\n",
              "1        2015          1  Aguascalientes  ...      0.0       0.0       0.0\n",
              "2        2015          1  Aguascalientes  ...      0.0       0.0       0.0\n",
              "3        2015          1  Aguascalientes  ...      0.0       0.0       0.0\n",
              "4        2015          1  Aguascalientes  ...      0.0       0.0       0.0\n",
              "...       ...        ...             ...  ...      ...       ...       ...\n",
              "1588771  2021         32       Zacatecas  ...      NaN       NaN       NaN\n",
              "1588772  2021         32       Zacatecas  ...      NaN       NaN       NaN\n",
              "1588773  2021         32       Zacatecas  ...      NaN       NaN       NaN\n",
              "1588774  2021         32       Zacatecas  ...      NaN       NaN       NaN\n",
              "1588775  2021         32       Zacatecas  ...      NaN       NaN       NaN\n",
              "\n",
              "[1588776 rows x 21 columns]"
            ]
          },
          "metadata": {
            "tags": []
          },
          "execution_count": 92
        }
      ]
    },
    {
      "cell_type": "code",
      "metadata": {
        "colab": {
          "base_uri": "https://localhost:8080/"
        },
        "id": "DTn5wYZy28R2",
        "outputId": "6f50f09c-eb51-4342-a1bb-16bc63d0c844"
      },
      "source": [
        "#En este bloque se analiza si existe prescencias de nans en nuetsro dataframe\n",
        "df_municipios.isna().sum(axis=0)"
      ],
      "execution_count": null,
      "outputs": [
        {
          "output_type": "execute_result",
          "data": {
            "text/plain": [
              "Año                            0\n",
              "Clave_Ent                      0\n",
              "Entidad                        0\n",
              "Cve. Municipio                 0\n",
              "Municipio                      0\n",
              "Bien jurídico afectado         0\n",
              "Tipo de delito                 0\n",
              "Subtipo de delito              0\n",
              "Modalidad                      0\n",
              "Enero                          0\n",
              "Febrero                   242158\n",
              "Marzo                     242158\n",
              "Abril                     242158\n",
              "Mayo                      242158\n",
              "Junio                     242158\n",
              "Julio                     242158\n",
              "Agosto                    242158\n",
              "Septiembre                242158\n",
              "Octubre                   242158\n",
              "Noviembre                 242158\n",
              "Diciembre                 242158\n",
              "dtype: int64"
            ]
          },
          "metadata": {
            "tags": []
          },
          "execution_count": 10
        }
      ]
    },
    {
      "cell_type": "code",
      "metadata": {
        "id": "oml0HS2p5pMO"
      },
      "source": [
        "#En este bloque se elimina los nans\n",
        "df_municipios_limpio= df_municipios.dropna(axis=0, how='any')"
      ],
      "execution_count": null,
      "outputs": []
    },
    {
      "cell_type": "code",
      "metadata": {
        "colab": {
          "base_uri": "https://localhost:8080/"
        },
        "id": "i1y3Gnso9a_V",
        "outputId": "c41fdcff-c991-468b-f8cc-da1e4d8d5263"
      },
      "source": [
        "#Aqui se corrobora si el codigo anterior se ejecuto de manera correcta\n",
        "df_municipios_limpio.isna().sum(axis=0)"
      ],
      "execution_count": null,
      "outputs": [
        {
          "output_type": "execute_result",
          "data": {
            "text/plain": [
              "Año                       0\n",
              "Clave_Ent                 0\n",
              "Entidad                   0\n",
              "Cve. Municipio            0\n",
              "Municipio                 0\n",
              "Bien jurídico afectado    0\n",
              "Tipo de delito            0\n",
              "Subtipo de delito         0\n",
              "Modalidad                 0\n",
              "Enero                     0\n",
              "Febrero                   0\n",
              "Marzo                     0\n",
              "Abril                     0\n",
              "Mayo                      0\n",
              "Junio                     0\n",
              "Julio                     0\n",
              "Agosto                    0\n",
              "Septiembre                0\n",
              "Octubre                   0\n",
              "Noviembre                 0\n",
              "Diciembre                 0\n",
              "dtype: int64"
            ]
          },
          "metadata": {
            "tags": []
          },
          "execution_count": 12
        }
      ]
    },
    {
      "cell_type": "code",
      "metadata": {
        "colab": {
          "base_uri": "https://localhost:8080/",
          "height": 1000
        },
        "id": "KJmE82-u9fsW",
        "outputId": "7557cead-2a19-405e-caa9-98b829750cea"
      },
      "source": [
        "df_municipios_limpio"
      ],
      "execution_count": null,
      "outputs": [
        {
          "output_type": "execute_result",
          "data": {
            "text/html": [
              "<div>\n",
              "<style scoped>\n",
              "    .dataframe tbody tr th:only-of-type {\n",
              "        vertical-align: middle;\n",
              "    }\n",
              "\n",
              "    .dataframe tbody tr th {\n",
              "        vertical-align: top;\n",
              "    }\n",
              "\n",
              "    .dataframe thead th {\n",
              "        text-align: right;\n",
              "    }\n",
              "</style>\n",
              "<table border=\"1\" class=\"dataframe\">\n",
              "  <thead>\n",
              "    <tr style=\"text-align: right;\">\n",
              "      <th></th>\n",
              "      <th>Año</th>\n",
              "      <th>Clave_Ent</th>\n",
              "      <th>Entidad</th>\n",
              "      <th>Cve. Municipio</th>\n",
              "      <th>Municipio</th>\n",
              "      <th>Bien jurídico afectado</th>\n",
              "      <th>Tipo de delito</th>\n",
              "      <th>Subtipo de delito</th>\n",
              "      <th>Modalidad</th>\n",
              "      <th>Enero</th>\n",
              "      <th>Febrero</th>\n",
              "      <th>Marzo</th>\n",
              "      <th>Abril</th>\n",
              "      <th>Mayo</th>\n",
              "      <th>Junio</th>\n",
              "      <th>Julio</th>\n",
              "      <th>Agosto</th>\n",
              "      <th>Septiembre</th>\n",
              "      <th>Octubre</th>\n",
              "      <th>Noviembre</th>\n",
              "      <th>Diciembre</th>\n",
              "    </tr>\n",
              "  </thead>\n",
              "  <tbody>\n",
              "    <tr>\n",
              "      <th>0</th>\n",
              "      <td>2015</td>\n",
              "      <td>1</td>\n",
              "      <td>Aguascalientes</td>\n",
              "      <td>1001</td>\n",
              "      <td>Aguascalientes</td>\n",
              "      <td>La vida y la Integridad corporal</td>\n",
              "      <td>Homicidio</td>\n",
              "      <td>Homicidio doloso</td>\n",
              "      <td>Con arma de fuego</td>\n",
              "      <td>2</td>\n",
              "      <td>0.0</td>\n",
              "      <td>1.0</td>\n",
              "      <td>1.0</td>\n",
              "      <td>0.0</td>\n",
              "      <td>1.0</td>\n",
              "      <td>1.0</td>\n",
              "      <td>0.0</td>\n",
              "      <td>2.0</td>\n",
              "      <td>1.0</td>\n",
              "      <td>0.0</td>\n",
              "      <td>1.0</td>\n",
              "    </tr>\n",
              "    <tr>\n",
              "      <th>1</th>\n",
              "      <td>2015</td>\n",
              "      <td>1</td>\n",
              "      <td>Aguascalientes</td>\n",
              "      <td>1001</td>\n",
              "      <td>Aguascalientes</td>\n",
              "      <td>La vida y la Integridad corporal</td>\n",
              "      <td>Homicidio</td>\n",
              "      <td>Homicidio doloso</td>\n",
              "      <td>Con arma blanca</td>\n",
              "      <td>1</td>\n",
              "      <td>1.0</td>\n",
              "      <td>0.0</td>\n",
              "      <td>0.0</td>\n",
              "      <td>0.0</td>\n",
              "      <td>1.0</td>\n",
              "      <td>0.0</td>\n",
              "      <td>1.0</td>\n",
              "      <td>0.0</td>\n",
              "      <td>0.0</td>\n",
              "      <td>0.0</td>\n",
              "      <td>0.0</td>\n",
              "    </tr>\n",
              "    <tr>\n",
              "      <th>2</th>\n",
              "      <td>2015</td>\n",
              "      <td>1</td>\n",
              "      <td>Aguascalientes</td>\n",
              "      <td>1001</td>\n",
              "      <td>Aguascalientes</td>\n",
              "      <td>La vida y la Integridad corporal</td>\n",
              "      <td>Homicidio</td>\n",
              "      <td>Homicidio doloso</td>\n",
              "      <td>Con otro elemento</td>\n",
              "      <td>0</td>\n",
              "      <td>0.0</td>\n",
              "      <td>1.0</td>\n",
              "      <td>1.0</td>\n",
              "      <td>3.0</td>\n",
              "      <td>2.0</td>\n",
              "      <td>0.0</td>\n",
              "      <td>1.0</td>\n",
              "      <td>2.0</td>\n",
              "      <td>0.0</td>\n",
              "      <td>0.0</td>\n",
              "      <td>0.0</td>\n",
              "    </tr>\n",
              "    <tr>\n",
              "      <th>3</th>\n",
              "      <td>2015</td>\n",
              "      <td>1</td>\n",
              "      <td>Aguascalientes</td>\n",
              "      <td>1001</td>\n",
              "      <td>Aguascalientes</td>\n",
              "      <td>La vida y la Integridad corporal</td>\n",
              "      <td>Homicidio</td>\n",
              "      <td>Homicidio doloso</td>\n",
              "      <td>No especificado</td>\n",
              "      <td>1</td>\n",
              "      <td>0.0</td>\n",
              "      <td>0.0</td>\n",
              "      <td>1.0</td>\n",
              "      <td>0.0</td>\n",
              "      <td>0.0</td>\n",
              "      <td>0.0</td>\n",
              "      <td>0.0</td>\n",
              "      <td>0.0</td>\n",
              "      <td>0.0</td>\n",
              "      <td>0.0</td>\n",
              "      <td>0.0</td>\n",
              "    </tr>\n",
              "    <tr>\n",
              "      <th>4</th>\n",
              "      <td>2015</td>\n",
              "      <td>1</td>\n",
              "      <td>Aguascalientes</td>\n",
              "      <td>1001</td>\n",
              "      <td>Aguascalientes</td>\n",
              "      <td>La vida y la Integridad corporal</td>\n",
              "      <td>Homicidio</td>\n",
              "      <td>Homicidio culposo</td>\n",
              "      <td>Con arma de fuego</td>\n",
              "      <td>0</td>\n",
              "      <td>0.0</td>\n",
              "      <td>0.0</td>\n",
              "      <td>0.0</td>\n",
              "      <td>1.0</td>\n",
              "      <td>0.0</td>\n",
              "      <td>0.0</td>\n",
              "      <td>0.0</td>\n",
              "      <td>0.0</td>\n",
              "      <td>0.0</td>\n",
              "      <td>0.0</td>\n",
              "      <td>0.0</td>\n",
              "    </tr>\n",
              "    <tr>\n",
              "      <th>...</th>\n",
              "      <td>...</td>\n",
              "      <td>...</td>\n",
              "      <td>...</td>\n",
              "      <td>...</td>\n",
              "      <td>...</td>\n",
              "      <td>...</td>\n",
              "      <td>...</td>\n",
              "      <td>...</td>\n",
              "      <td>...</td>\n",
              "      <td>...</td>\n",
              "      <td>...</td>\n",
              "      <td>...</td>\n",
              "      <td>...</td>\n",
              "      <td>...</td>\n",
              "      <td>...</td>\n",
              "      <td>...</td>\n",
              "      <td>...</td>\n",
              "      <td>...</td>\n",
              "      <td>...</td>\n",
              "      <td>...</td>\n",
              "      <td>...</td>\n",
              "    </tr>\n",
              "    <tr>\n",
              "      <th>1346613</th>\n",
              "      <td>2020</td>\n",
              "      <td>32</td>\n",
              "      <td>Zacatecas</td>\n",
              "      <td>32058</td>\n",
              "      <td>Santa María de la Paz</td>\n",
              "      <td>Otros bienes jurídicos afectados (del fuero co...</td>\n",
              "      <td>Falsificación</td>\n",
              "      <td>Falsificación</td>\n",
              "      <td>Falsificación</td>\n",
              "      <td>0</td>\n",
              "      <td>0.0</td>\n",
              "      <td>0.0</td>\n",
              "      <td>0.0</td>\n",
              "      <td>0.0</td>\n",
              "      <td>0.0</td>\n",
              "      <td>0.0</td>\n",
              "      <td>0.0</td>\n",
              "      <td>0.0</td>\n",
              "      <td>0.0</td>\n",
              "      <td>0.0</td>\n",
              "      <td>0.0</td>\n",
              "    </tr>\n",
              "    <tr>\n",
              "      <th>1346614</th>\n",
              "      <td>2020</td>\n",
              "      <td>32</td>\n",
              "      <td>Zacatecas</td>\n",
              "      <td>32058</td>\n",
              "      <td>Santa María de la Paz</td>\n",
              "      <td>Otros bienes jurídicos afectados (del fuero co...</td>\n",
              "      <td>Contra el medio ambiente</td>\n",
              "      <td>Contra el medio ambiente</td>\n",
              "      <td>Contra el medio ambiente</td>\n",
              "      <td>0</td>\n",
              "      <td>0.0</td>\n",
              "      <td>0.0</td>\n",
              "      <td>0.0</td>\n",
              "      <td>0.0</td>\n",
              "      <td>0.0</td>\n",
              "      <td>0.0</td>\n",
              "      <td>0.0</td>\n",
              "      <td>0.0</td>\n",
              "      <td>0.0</td>\n",
              "      <td>0.0</td>\n",
              "      <td>0.0</td>\n",
              "    </tr>\n",
              "    <tr>\n",
              "      <th>1346615</th>\n",
              "      <td>2020</td>\n",
              "      <td>32</td>\n",
              "      <td>Zacatecas</td>\n",
              "      <td>32058</td>\n",
              "      <td>Santa María de la Paz</td>\n",
              "      <td>Otros bienes jurídicos afectados (del fuero co...</td>\n",
              "      <td>Delitos cometidos por servidores públicos</td>\n",
              "      <td>Delitos cometidos por servidores públicos</td>\n",
              "      <td>Delitos cometidos por servidores públicos</td>\n",
              "      <td>0</td>\n",
              "      <td>0.0</td>\n",
              "      <td>0.0</td>\n",
              "      <td>0.0</td>\n",
              "      <td>0.0</td>\n",
              "      <td>0.0</td>\n",
              "      <td>0.0</td>\n",
              "      <td>0.0</td>\n",
              "      <td>0.0</td>\n",
              "      <td>0.0</td>\n",
              "      <td>0.0</td>\n",
              "      <td>0.0</td>\n",
              "    </tr>\n",
              "    <tr>\n",
              "      <th>1346616</th>\n",
              "      <td>2020</td>\n",
              "      <td>32</td>\n",
              "      <td>Zacatecas</td>\n",
              "      <td>32058</td>\n",
              "      <td>Santa María de la Paz</td>\n",
              "      <td>Otros bienes jurídicos afectados (del fuero co...</td>\n",
              "      <td>Electorales</td>\n",
              "      <td>Electorales</td>\n",
              "      <td>Electorales</td>\n",
              "      <td>0</td>\n",
              "      <td>0.0</td>\n",
              "      <td>0.0</td>\n",
              "      <td>0.0</td>\n",
              "      <td>0.0</td>\n",
              "      <td>0.0</td>\n",
              "      <td>0.0</td>\n",
              "      <td>0.0</td>\n",
              "      <td>0.0</td>\n",
              "      <td>0.0</td>\n",
              "      <td>0.0</td>\n",
              "      <td>0.0</td>\n",
              "    </tr>\n",
              "    <tr>\n",
              "      <th>1346617</th>\n",
              "      <td>2020</td>\n",
              "      <td>32</td>\n",
              "      <td>Zacatecas</td>\n",
              "      <td>32058</td>\n",
              "      <td>Santa María de la Paz</td>\n",
              "      <td>Otros bienes jurídicos afectados (del fuero co...</td>\n",
              "      <td>Otros delitos del Fuero Común</td>\n",
              "      <td>Otros delitos del Fuero Común</td>\n",
              "      <td>Otros delitos del Fuero Común</td>\n",
              "      <td>1</td>\n",
              "      <td>0.0</td>\n",
              "      <td>0.0</td>\n",
              "      <td>0.0</td>\n",
              "      <td>0.0</td>\n",
              "      <td>0.0</td>\n",
              "      <td>0.0</td>\n",
              "      <td>0.0</td>\n",
              "      <td>0.0</td>\n",
              "      <td>1.0</td>\n",
              "      <td>0.0</td>\n",
              "      <td>1.0</td>\n",
              "    </tr>\n",
              "  </tbody>\n",
              "</table>\n",
              "<p>1346618 rows × 21 columns</p>\n",
              "</div>"
            ],
            "text/plain": [
              "          Año  Clave_Ent         Entidad  ...  Octubre Noviembre Diciembre\n",
              "0        2015          1  Aguascalientes  ...      1.0       0.0       1.0\n",
              "1        2015          1  Aguascalientes  ...      0.0       0.0       0.0\n",
              "2        2015          1  Aguascalientes  ...      0.0       0.0       0.0\n",
              "3        2015          1  Aguascalientes  ...      0.0       0.0       0.0\n",
              "4        2015          1  Aguascalientes  ...      0.0       0.0       0.0\n",
              "...       ...        ...             ...  ...      ...       ...       ...\n",
              "1346613  2020         32       Zacatecas  ...      0.0       0.0       0.0\n",
              "1346614  2020         32       Zacatecas  ...      0.0       0.0       0.0\n",
              "1346615  2020         32       Zacatecas  ...      0.0       0.0       0.0\n",
              "1346616  2020         32       Zacatecas  ...      0.0       0.0       0.0\n",
              "1346617  2020         32       Zacatecas  ...      1.0       0.0       1.0\n",
              "\n",
              "[1346618 rows x 21 columns]"
            ]
          },
          "metadata": {
            "tags": []
          },
          "execution_count": 10
        }
      ]
    },
    {
      "cell_type": "code",
      "metadata": {
        "colab": {
          "base_uri": "https://localhost:8080/"
        },
        "id": "06XDwTncFvSY",
        "outputId": "b14fbab6-fea9-4242-cf28-d3dc7414dd09"
      },
      "source": [
        "#En esta parte scaamos la suma por mes de todos los años\n",
        "mes=['Enero', 'Febrero', 'Marzo', 'Abril', 'Mayo', 'Junio', 'Julio', 'Agosto', 'Septiembre','Octubre','Noviembre','Diciembre']\n",
        "for i in range(0,11):\n",
        "  print('La suma del mes de ', mes[i], ' = ',  df_municipios_limpio[mes[i]].sum())"
      ],
      "execution_count": null,
      "outputs": [
        {
          "output_type": "stream",
          "text": [
            "La suma del mes de  Enero  =  894267\n",
            "La suma del mes de  Febrero  =  896080.0\n",
            "La suma del mes de  Marzo  =  970568.0\n",
            "La suma del mes de  Abril  =  902224.0\n",
            "La suma del mes de  Mayo  =  951787.0\n",
            "La suma del mes de  Junio  =  949497.0\n",
            "La suma del mes de  Julio  =  948792.0\n",
            "La suma del mes de  Agosto  =  973212.0\n",
            "La suma del mes de  Septiembre  =  950207.0\n",
            "La suma del mes de  Octubre  =  1001677.0\n",
            "La suma del mes de  Noviembre  =  928524.0\n"
          ],
          "name": "stdout"
        }
      ]
    },
    {
      "cell_type": "code",
      "metadata": {
        "colab": {
          "base_uri": "https://localhost:8080/"
        },
        "id": "OV9-WC57Xqul",
        "outputId": "874a1942-7fa7-4b7a-b3b4-a531ef2ff9af"
      },
      "source": [
        "#En esta parte sacamos el minimo por mes de todos los años\n",
        "for i in range(0,11):\n",
        "  print('El min del mes de ', mes[i], ' =',  df_municipios_limpio[mes[i]].min())"
      ],
      "execution_count": null,
      "outputs": [
        {
          "output_type": "stream",
          "text": [
            "El min del mes de  Enero  = 0\n",
            "El min del mes de  Febrero  = 0.0\n",
            "El min del mes de  Marzo  = 0.0\n",
            "El min del mes de  Abril  = 0.0\n",
            "El min del mes de  Mayo  = -1.0\n",
            "El min del mes de  Junio  = 0.0\n",
            "El min del mes de  Julio  = 0.0\n",
            "El min del mes de  Agosto  = 0.0\n",
            "El min del mes de  Septiembre  = -1.0\n",
            "El min del mes de  Octubre  = 0.0\n",
            "El min del mes de  Noviembre  = 0.0\n"
          ],
          "name": "stdout"
        }
      ]
    },
    {
      "cell_type": "code",
      "metadata": {
        "id": "Rii4DEYQXuFS"
      },
      "source": [
        "#Nos percatamos que habia un error en nuestro dataframe donde habia un -1 cuando\n",
        "#suponemos que tendria que ser 1 por ende tenemos que limpiar los datos nuevamente"
      ],
      "execution_count": null,
      "outputs": []
    },
    {
      "cell_type": "code",
      "metadata": {
        "colab": {
          "base_uri": "https://localhost:8080/"
        },
        "id": "p5x0PWsLZXDf",
        "outputId": "240534d2-515b-4162-d635-f2cadd1deec0"
      },
      "source": [
        "df_municipios_limpio['Mayo']=df_municipios_limpio['Mayo'].replace([-1],1)\n",
        "df_municipios_limpio['Septiembre']=df_municipios_limpio['Septiembre'].replace([-1],1)"
      ],
      "execution_count": null,
      "outputs": [
        {
          "output_type": "stream",
          "text": [
            "/usr/local/lib/python3.7/dist-packages/ipykernel_launcher.py:1: SettingWithCopyWarning: \n",
            "A value is trying to be set on a copy of a slice from a DataFrame.\n",
            "Try using .loc[row_indexer,col_indexer] = value instead\n",
            "\n",
            "See the caveats in the documentation: https://pandas.pydata.org/pandas-docs/stable/user_guide/indexing.html#returning-a-view-versus-a-copy\n",
            "  \"\"\"Entry point for launching an IPython kernel.\n",
            "/usr/local/lib/python3.7/dist-packages/ipykernel_launcher.py:2: SettingWithCopyWarning: \n",
            "A value is trying to be set on a copy of a slice from a DataFrame.\n",
            "Try using .loc[row_indexer,col_indexer] = value instead\n",
            "\n",
            "See the caveats in the documentation: https://pandas.pydata.org/pandas-docs/stable/user_guide/indexing.html#returning-a-view-versus-a-copy\n",
            "  \n"
          ],
          "name": "stderr"
        }
      ]
    },
    {
      "cell_type": "code",
      "metadata": {
        "colab": {
          "base_uri": "https://localhost:8080/"
        },
        "id": "HNs8nFdLZrTs",
        "outputId": "c743f339-70fa-4187-9fa7-5d53bbd52449"
      },
      "source": [
        "#En esta parte sacamos el minimo por mes de todos los años\n",
        "for i in range(0,11):\n",
        "  print('El min del mes de ', mes[i], ' =',  df_municipios_limpio[mes[i]].min())"
      ],
      "execution_count": null,
      "outputs": [
        {
          "output_type": "stream",
          "text": [
            "El min del mes de  Enero  = 0\n",
            "El min del mes de  Febrero  = 0.0\n",
            "El min del mes de  Marzo  = 0.0\n",
            "El min del mes de  Abril  = 0.0\n",
            "El min del mes de  Mayo  = 0.0\n",
            "El min del mes de  Junio  = 0.0\n",
            "El min del mes de  Julio  = 0.0\n",
            "El min del mes de  Agosto  = 0.0\n",
            "El min del mes de  Septiembre  = 0.0\n",
            "El min del mes de  Octubre  = 0.0\n",
            "El min del mes de  Noviembre  = 0.0\n"
          ],
          "name": "stdout"
        }
      ]
    },
    {
      "cell_type": "code",
      "metadata": {
        "colab": {
          "base_uri": "https://localhost:8080/"
        },
        "id": "rdML-icObbZg",
        "outputId": "30f44484-10a8-4e30-8c75-d6c03060936f"
      },
      "source": [
        "#En esta parte sacamos el maximo por mes de todos los años\n",
        "for i in range(0,11):\n",
        "  print('El max del mes de ', mes[i], ' =',  df_municipios_limpio[mes[i]].max())"
      ],
      "execution_count": null,
      "outputs": [
        {
          "output_type": "stream",
          "text": [
            "El max del mes de  Enero  = 1146\n",
            "El max del mes de  Febrero  = 1212.0\n",
            "El max del mes de  Marzo  = 1471.0\n",
            "El max del mes de  Abril  = 1445.0\n",
            "El max del mes de  Mayo  = 1444.0\n",
            "El max del mes de  Junio  = 958.0\n",
            "El max del mes de  Julio  = 1219.0\n",
            "El max del mes de  Agosto  = 1140.0\n",
            "El max del mes de  Septiembre  = 1099.0\n",
            "El max del mes de  Octubre  = 1023.0\n",
            "El max del mes de  Noviembre  = 1156.0\n"
          ],
          "name": "stdout"
        }
      ]
    },
    {
      "cell_type": "markdown",
      "metadata": {
        "id": "qMxg0k-zNqzE"
      },
      "source": [
        "# **TRANSFORMACIÓN DE DATOS**"
      ]
    },
    {
      "cell_type": "markdown",
      "metadata": {
        "id": "HI2t2tXpabhW"
      },
      "source": [
        "Ha llegado el momento de aplicar técnicas comunes de procesamiento de datos a nuestro conjunto de datos. Para preparar la información para un posterior análisis.\n",
        "\n",
        "Con base en los previos pasos de nuestro proyecto, hasta el momento tenemos un dataframe llamado `df_estados_limpio` en el cual tenemos la información de cada uno de los Estados, asímismo como de los Municipios, de todos los delitos que se han cometido desde 2015 hasta la fecha por mes de acuerdo al tipo de delito. \n",
        "\n",
        "Tras ya tener el dataframe limpio podemos pasar a la filtración, transformación y reordenamiento de nuestros datos. \n",
        "\n",
        "Primeramente necesitamos ver cuales son los tipos de dato para cada columna y si es que estos son correctos."
      ]
    },
    {
      "cell_type": "code",
      "metadata": {
        "colab": {
          "base_uri": "https://localhost:8080/"
        },
        "id": "5WDObsMMLcxh",
        "outputId": "a2cd78ff-a1e6-470e-9a36-71ff1859ca3b"
      },
      "source": [
        "df_municipios_limpio.dtypes"
      ],
      "execution_count": null,
      "outputs": [
        {
          "output_type": "execute_result",
          "data": {
            "text/plain": [
              "Año                         int64\n",
              "Clave_Ent                   int64\n",
              "Entidad                    object\n",
              "Cve. Municipio              int64\n",
              "Municipio                  object\n",
              "Bien jurídico afectado     object\n",
              "Tipo de delito             object\n",
              "Subtipo de delito          object\n",
              "Modalidad                  object\n",
              "Enero                       int64\n",
              "Febrero                   float64\n",
              "Marzo                     float64\n",
              "Abril                     float64\n",
              "Mayo                      float64\n",
              "Junio                     float64\n",
              "Julio                     float64\n",
              "Agosto                    float64\n",
              "Septiembre                float64\n",
              "Octubre                   float64\n",
              "Noviembre                 float64\n",
              "Diciembre                 float64\n",
              "dtype: object"
            ]
          },
          "metadata": {
            "tags": []
          },
          "execution_count": 18
        }
      ]
    },
    {
      "cell_type": "markdown",
      "metadata": {
        "id": "CLo1qNOpNa3M"
      },
      "source": [
        "Como podemos observar tras usar el comando *dtypes* a nuestro dataframe, todas las columnas tienen un tipo de dato correcto, únicamente las columnas de los meses de Febrero a Diciembre tienen un tipo de dato flotante que hace referencia a los casos delictivos que hubo en esos meses. \n",
        "\n",
        "A primer instancia podríamos considerar correctos siendo tipo *float64* dado que son números las cantidades de casos en cada mes, pero lo más correcto es considerar estas cantidades como números enteros, por lo cual deben de estar como tipo de dato *int64* como está la columna del mes de Enero.\n",
        "\n",
        "Para esto crearemos un diccionario de conversión en el cual colocaremos cada uno de los meses con el nuevo tipo de dato que queremos obtener, siendo *int64*."
      ]
    },
    {
      "cell_type": "code",
      "metadata": {
        "id": "YxwV5yyzLqTA"
      },
      "source": [
        "diccionario_de_conversion = {\n",
        "    \"Febrero\": \"int64\",\n",
        "    \"Marzo\": \"int64\",\n",
        "    \"Abril\": \"int64\",\n",
        "    \"Mayo\": \"int64\",\n",
        "    \"Junio\": \"int64\",\n",
        "    \"Julio\": \"int64\",\n",
        "    \"Agosto\": \"int64\",\n",
        "    \"Septiembre\": \"int64\",\n",
        "    \"Octubre\": \"int64\",\n",
        "    \"Noviembre\": \"int64\",\n",
        "    \"Diciembre\": \"int64\",\n",
        "}"
      ],
      "execution_count": null,
      "outputs": []
    },
    {
      "cell_type": "markdown",
      "metadata": {
        "id": "uhjQo_DJO1fv"
      },
      "source": [
        "Posteriormente, usaremos el comando *astype* para que de nuestro dataframe de `df_municipios_limpio` seleccione las columnas que se encuentran en el `diccionario_de_conversion` y las convierta en el nuevo tipo de dato. Renombraremos a este nuevo dataframe con los tipo de datos correctos, como `df_municipios` (anteriormente asignado) por temas de simplicidad en el nombre de las variables. \n",
        "\n",
        "Una vez hecho esto, podremos darnos cuenta que al volver a correr el código *dtypes*, nuestras columnas de los meses tienen el tipo de dato correctamente."
      ]
    },
    {
      "cell_type": "code",
      "metadata": {
        "colab": {
          "base_uri": "https://localhost:8080/"
        },
        "id": "-7oWJ9QOM2O9",
        "outputId": "bcd9c14b-f387-4669-c4a6-584d04ce09a5"
      },
      "source": [
        "df_municipios = df_municipios_limpio.astype(diccionario_de_conversion)\n",
        "df_municipios.dtypes"
      ],
      "execution_count": null,
      "outputs": [
        {
          "output_type": "execute_result",
          "data": {
            "text/plain": [
              "Año                        int64\n",
              "Clave_Ent                  int64\n",
              "Entidad                   object\n",
              "Cve. Municipio             int64\n",
              "Municipio                 object\n",
              "Bien jurídico afectado    object\n",
              "Tipo de delito            object\n",
              "Subtipo de delito         object\n",
              "Modalidad                 object\n",
              "Enero                      int64\n",
              "Febrero                    int64\n",
              "Marzo                      int64\n",
              "Abril                      int64\n",
              "Mayo                       int64\n",
              "Junio                      int64\n",
              "Julio                      int64\n",
              "Agosto                     int64\n",
              "Septiembre                 int64\n",
              "Octubre                    int64\n",
              "Noviembre                  int64\n",
              "Diciembre                  int64\n",
              "dtype: object"
            ]
          },
          "metadata": {
            "tags": []
          },
          "execution_count": 20
        }
      ]
    },
    {
      "cell_type": "code",
      "metadata": {
        "colab": {
          "base_uri": "https://localhost:8080/",
          "height": 269
        },
        "id": "_BIiZsLymkX5",
        "outputId": "c974f32d-27d6-4ae7-925d-69ee39a05ac2"
      },
      "source": [
        "df_municipios.head(2)"
      ],
      "execution_count": null,
      "outputs": [
        {
          "output_type": "execute_result",
          "data": {
            "text/html": [
              "<div>\n",
              "<style scoped>\n",
              "    .dataframe tbody tr th:only-of-type {\n",
              "        vertical-align: middle;\n",
              "    }\n",
              "\n",
              "    .dataframe tbody tr th {\n",
              "        vertical-align: top;\n",
              "    }\n",
              "\n",
              "    .dataframe thead th {\n",
              "        text-align: right;\n",
              "    }\n",
              "</style>\n",
              "<table border=\"1\" class=\"dataframe\">\n",
              "  <thead>\n",
              "    <tr style=\"text-align: right;\">\n",
              "      <th></th>\n",
              "      <th>Año</th>\n",
              "      <th>Clave_Ent</th>\n",
              "      <th>Entidad</th>\n",
              "      <th>Cve. Municipio</th>\n",
              "      <th>Municipio</th>\n",
              "      <th>Bien jurídico afectado</th>\n",
              "      <th>Tipo de delito</th>\n",
              "      <th>Subtipo de delito</th>\n",
              "      <th>Modalidad</th>\n",
              "      <th>Enero</th>\n",
              "      <th>Febrero</th>\n",
              "      <th>Marzo</th>\n",
              "      <th>Abril</th>\n",
              "      <th>Mayo</th>\n",
              "      <th>Junio</th>\n",
              "      <th>Julio</th>\n",
              "      <th>Agosto</th>\n",
              "      <th>Septiembre</th>\n",
              "      <th>Octubre</th>\n",
              "      <th>Noviembre</th>\n",
              "      <th>Diciembre</th>\n",
              "    </tr>\n",
              "  </thead>\n",
              "  <tbody>\n",
              "    <tr>\n",
              "      <th>0</th>\n",
              "      <td>2015</td>\n",
              "      <td>1</td>\n",
              "      <td>Aguascalientes</td>\n",
              "      <td>1001</td>\n",
              "      <td>Aguascalientes</td>\n",
              "      <td>La vida y la Integridad corporal</td>\n",
              "      <td>Homicidio</td>\n",
              "      <td>Homicidio doloso</td>\n",
              "      <td>Con arma de fuego</td>\n",
              "      <td>2</td>\n",
              "      <td>0</td>\n",
              "      <td>1</td>\n",
              "      <td>1</td>\n",
              "      <td>0</td>\n",
              "      <td>1</td>\n",
              "      <td>1</td>\n",
              "      <td>0</td>\n",
              "      <td>2</td>\n",
              "      <td>1</td>\n",
              "      <td>0</td>\n",
              "      <td>1</td>\n",
              "    </tr>\n",
              "    <tr>\n",
              "      <th>1</th>\n",
              "      <td>2015</td>\n",
              "      <td>1</td>\n",
              "      <td>Aguascalientes</td>\n",
              "      <td>1001</td>\n",
              "      <td>Aguascalientes</td>\n",
              "      <td>La vida y la Integridad corporal</td>\n",
              "      <td>Homicidio</td>\n",
              "      <td>Homicidio doloso</td>\n",
              "      <td>Con arma blanca</td>\n",
              "      <td>1</td>\n",
              "      <td>1</td>\n",
              "      <td>0</td>\n",
              "      <td>0</td>\n",
              "      <td>0</td>\n",
              "      <td>1</td>\n",
              "      <td>0</td>\n",
              "      <td>1</td>\n",
              "      <td>0</td>\n",
              "      <td>0</td>\n",
              "      <td>0</td>\n",
              "      <td>0</td>\n",
              "    </tr>\n",
              "  </tbody>\n",
              "</table>\n",
              "</div>"
            ],
            "text/plain": [
              "    Año  Clave_Ent         Entidad  ...  Octubre Noviembre Diciembre\n",
              "0  2015          1  Aguascalientes  ...        1         0         1\n",
              "1  2015          1  Aguascalientes  ...        0         0         0\n",
              "\n",
              "[2 rows x 21 columns]"
            ]
          },
          "metadata": {
            "tags": []
          },
          "execution_count": 21
        }
      ]
    },
    {
      "cell_type": "markdown",
      "metadata": {
        "id": "MAPch8fGmy7M"
      },
      "source": [
        "Después, dentro de la estética de nuestros datos, tenemos que algunos nombres de columnas no se encuentran dentro del \"formato recomendado\" para el código por Python, en el cual se usan minúsculas y palabras separadas por guiones bajos, además de que la columna \"Cve. Municipio\" puede llegar a malinterpretarse por el acrónimo que hace referencia a la palabra \"Clave\". Dicho esto renombraremos algunas de las columnas usando un diccionario al cual llamaremos *diccionario_de_renombramiento*."
      ]
    },
    {
      "cell_type": "code",
      "metadata": {
        "id": "WT9cBmUfny2q"
      },
      "source": [
        "diccionario_de_renombramiento = {\n",
        "    \"Año\": \"año\",\n",
        "    \"Clave_Ent\": \"clave_entidad\",\n",
        "    \"Entidad\": \"entidad\",\n",
        "    \"Cve. Municipio\": \"clave_municipio\",\n",
        "    \"Municipio\": \"municipio\",\n",
        "    \"Bien jurídico afectado\": \"bien_juridico_afectado\",\n",
        "    \"Tipo de delito\": \"tipo_delito\",\n",
        "    \"Subtipo de delito\": \"subtipo_delito\",\n",
        "    \"Modalidad\": \"modalidad\",\n",
        "    \"Enero\": \"enero\",\n",
        "    \"Febrero\": \"febrero\",\n",
        "    \"Marzo\": \"marzo\",\n",
        "    \"Abril\": \"abril\",\n",
        "    \"Mayo\": \"mayo\",\n",
        "    \"Junio\": \"junio\",\n",
        "    \"Julio\": \"julio\",\n",
        "    \"Agosto\": \"agosto\",\n",
        "    \"Septiembre\": \"septiembre\",\n",
        "    \"Octubre\": \"octubre\",\n",
        "    \"Noviembre\": \"noviembre\",\n",
        "    \"Diciembre\": \"diciembre\"\n",
        "}"
      ],
      "execution_count": null,
      "outputs": []
    },
    {
      "cell_type": "markdown",
      "metadata": {
        "id": "Er7FCwnPo9zH"
      },
      "source": [
        "Con el diccionario de renombramiento nosotros asignamos mediante una llave-valor, el nuevo nombre de las columnas asignadas a cada nombre previo, por lo que usando el comando *rename*, se asigna el renombramiento de las columnas a nuestro dataframe *df_municipios* y al sobrescribirlo en el mismo dataframe veremos que las columnas han sido cambiadas a nuestro formato."
      ]
    },
    {
      "cell_type": "code",
      "metadata": {
        "colab": {
          "base_uri": "https://localhost:8080/",
          "height": 165
        },
        "id": "qhsQ2tc4o-ZG",
        "outputId": "4c59b40b-6b7a-4014-afbf-29fc0f647192"
      },
      "source": [
        "df_municipios = df_municipios.rename(columns=(diccionario_de_renombramiento))\n",
        "df_municipios.head(2)"
      ],
      "execution_count": null,
      "outputs": [
        {
          "output_type": "execute_result",
          "data": {
            "text/html": [
              "<div>\n",
              "<style scoped>\n",
              "    .dataframe tbody tr th:only-of-type {\n",
              "        vertical-align: middle;\n",
              "    }\n",
              "\n",
              "    .dataframe tbody tr th {\n",
              "        vertical-align: top;\n",
              "    }\n",
              "\n",
              "    .dataframe thead th {\n",
              "        text-align: right;\n",
              "    }\n",
              "</style>\n",
              "<table border=\"1\" class=\"dataframe\">\n",
              "  <thead>\n",
              "    <tr style=\"text-align: right;\">\n",
              "      <th></th>\n",
              "      <th>año</th>\n",
              "      <th>clave_entidad</th>\n",
              "      <th>entidad</th>\n",
              "      <th>clave_municipio</th>\n",
              "      <th>municipio</th>\n",
              "      <th>bien_juridico_afectado</th>\n",
              "      <th>tipo_delito</th>\n",
              "      <th>subtipo_delito</th>\n",
              "      <th>modalidad</th>\n",
              "      <th>enero</th>\n",
              "      <th>febrero</th>\n",
              "      <th>marzo</th>\n",
              "      <th>abril</th>\n",
              "      <th>mayo</th>\n",
              "      <th>junio</th>\n",
              "      <th>julio</th>\n",
              "      <th>agosto</th>\n",
              "      <th>septiembre</th>\n",
              "      <th>octubre</th>\n",
              "      <th>noviembre</th>\n",
              "      <th>diciembre</th>\n",
              "    </tr>\n",
              "  </thead>\n",
              "  <tbody>\n",
              "    <tr>\n",
              "      <th>0</th>\n",
              "      <td>2015</td>\n",
              "      <td>1</td>\n",
              "      <td>Aguascalientes</td>\n",
              "      <td>1001</td>\n",
              "      <td>Aguascalientes</td>\n",
              "      <td>La vida y la Integridad corporal</td>\n",
              "      <td>Homicidio</td>\n",
              "      <td>Homicidio doloso</td>\n",
              "      <td>Con arma de fuego</td>\n",
              "      <td>2</td>\n",
              "      <td>0</td>\n",
              "      <td>1</td>\n",
              "      <td>1</td>\n",
              "      <td>0</td>\n",
              "      <td>1</td>\n",
              "      <td>1</td>\n",
              "      <td>0</td>\n",
              "      <td>2</td>\n",
              "      <td>1</td>\n",
              "      <td>0</td>\n",
              "      <td>1</td>\n",
              "    </tr>\n",
              "    <tr>\n",
              "      <th>1</th>\n",
              "      <td>2015</td>\n",
              "      <td>1</td>\n",
              "      <td>Aguascalientes</td>\n",
              "      <td>1001</td>\n",
              "      <td>Aguascalientes</td>\n",
              "      <td>La vida y la Integridad corporal</td>\n",
              "      <td>Homicidio</td>\n",
              "      <td>Homicidio doloso</td>\n",
              "      <td>Con arma blanca</td>\n",
              "      <td>1</td>\n",
              "      <td>1</td>\n",
              "      <td>0</td>\n",
              "      <td>0</td>\n",
              "      <td>0</td>\n",
              "      <td>1</td>\n",
              "      <td>0</td>\n",
              "      <td>1</td>\n",
              "      <td>0</td>\n",
              "      <td>0</td>\n",
              "      <td>0</td>\n",
              "      <td>0</td>\n",
              "    </tr>\n",
              "  </tbody>\n",
              "</table>\n",
              "</div>"
            ],
            "text/plain": [
              "    año  clave_entidad         entidad  ...  octubre noviembre diciembre\n",
              "0  2015              1  Aguascalientes  ...        1         0         1\n",
              "1  2015              1  Aguascalientes  ...        0         0         0\n",
              "\n",
              "[2 rows x 21 columns]"
            ]
          },
          "metadata": {
            "tags": []
          },
          "execution_count": 23
        }
      ]
    },
    {
      "cell_type": "markdown",
      "metadata": {
        "id": "GOn0iA8yRmJ_"
      },
      "source": [
        "Ahora si, tras haber transformado nuestros datos y renombrado las columnas, podemos pasar a la filtración y reordenamiento de los mismos. Actualmente el dataframe que tenemos, tiene todos los delitos cometidos desde 2015 al mes de Enero del 2021, sin embargo para el análisis de nuestros datos únicamente necesitamos los delitos relacionados a la \"violencia familiar\" y \"violencia de género\" como ha estipulado en el objetivo del proyecto. \n",
        "\n",
        "Para esto hay que conocer cuales son los delitos que se encuentran en la nueva columna \"tipo_delito\", usando el comando *unique*."
      ]
    },
    {
      "cell_type": "code",
      "metadata": {
        "colab": {
          "base_uri": "https://localhost:8080/"
        },
        "id": "M8WVFZvCQcY8",
        "outputId": "b26f0cc7-9c44-4edd-d929-52cb3400a8b4"
      },
      "source": [
        "df_municipios[\"tipo_delito\"].unique()"
      ],
      "execution_count": null,
      "outputs": [
        {
          "output_type": "execute_result",
          "data": {
            "text/plain": [
              "array(['Homicidio', 'Lesiones', 'Feminicidio', 'Aborto',\n",
              "       'Otros delitos que atentan contra la vida y la integridad corporal',\n",
              "       'Secuestro', 'Tráfico de menores', 'Rapto',\n",
              "       'Otros delitos que atentan contra la libertad personal',\n",
              "       'Abuso sexual', 'Acoso sexual', 'Hostigamiento sexual',\n",
              "       'Violación simple', 'Violación equiparada', 'Incesto',\n",
              "       'Otros delitos que atentan contra la libertad y la seguridad sexual',\n",
              "       'Robo', 'Fraude', 'Abuso de confianza', 'Extorsión',\n",
              "       'Daño a la propiedad', 'Despojo',\n",
              "       'Otros delitos contra el patrimonio', 'Violencia familiar',\n",
              "       'Violencia de género en todas sus modalidades distinta a la violencia familiar',\n",
              "       'Incumplimiento de obligaciones de asistencia familiar',\n",
              "       'Otros delitos contra la familia', 'Corrupción de menores',\n",
              "       'Trata de personas', 'Otros delitos contra la sociedad',\n",
              "       'Narcomenudeo', 'Amenazas', 'Allanamiento de morada',\n",
              "       'Evasión de presos', 'Falsedad', 'Falsificación',\n",
              "       'Contra el medio ambiente',\n",
              "       'Delitos cometidos por servidores públicos', 'Electorales',\n",
              "       'Otros delitos del Fuero Común'], dtype=object)"
            ]
          },
          "metadata": {
            "tags": []
          },
          "execution_count": 24
        }
      ]
    },
    {
      "cell_type": "markdown",
      "metadata": {
        "id": "nf9-sntRckAH"
      },
      "source": [
        "Como podemos observar, dentro de los delitos que se encuentran en el dataframe, se encuentran \"Violencia familiar\" y \"Violencia de género en todas sus modalidades distinta a la violencia familiar\", que son justo los delitos que queremos someter a un futuro análisis, por lo que usaremos un filtro para dividir nuestro dataframe en dos `df_violencia_familiar` y  `df_violencia_genero`."
      ]
    },
    {
      "cell_type": "code",
      "metadata": {
        "colab": {
          "base_uri": "https://localhost:8080/",
          "height": 549
        },
        "id": "_zQhNXV3da3k",
        "outputId": "433b7466-ae13-4493-c0ff-34fe11f8c203"
      },
      "source": [
        "df_violencia_familiar = df_municipios[df_municipios[\"tipo_delito\"] == \"Violencia familiar\"]\n",
        "df_violencia_familiar.head(10)"
      ],
      "execution_count": null,
      "outputs": [
        {
          "output_type": "execute_result",
          "data": {
            "text/html": [
              "<div>\n",
              "<style scoped>\n",
              "    .dataframe tbody tr th:only-of-type {\n",
              "        vertical-align: middle;\n",
              "    }\n",
              "\n",
              "    .dataframe tbody tr th {\n",
              "        vertical-align: top;\n",
              "    }\n",
              "\n",
              "    .dataframe thead th {\n",
              "        text-align: right;\n",
              "    }\n",
              "</style>\n",
              "<table border=\"1\" class=\"dataframe\">\n",
              "  <thead>\n",
              "    <tr style=\"text-align: right;\">\n",
              "      <th></th>\n",
              "      <th>año</th>\n",
              "      <th>clave_entidad</th>\n",
              "      <th>entidad</th>\n",
              "      <th>clave_municipio</th>\n",
              "      <th>municipio</th>\n",
              "      <th>bien_juridico_afectado</th>\n",
              "      <th>tipo_delito</th>\n",
              "      <th>subtipo_delito</th>\n",
              "      <th>modalidad</th>\n",
              "      <th>enero</th>\n",
              "      <th>febrero</th>\n",
              "      <th>marzo</th>\n",
              "      <th>abril</th>\n",
              "      <th>mayo</th>\n",
              "      <th>junio</th>\n",
              "      <th>julio</th>\n",
              "      <th>agosto</th>\n",
              "      <th>septiembre</th>\n",
              "      <th>octubre</th>\n",
              "      <th>noviembre</th>\n",
              "      <th>diciembre</th>\n",
              "    </tr>\n",
              "  </thead>\n",
              "  <tbody>\n",
              "    <tr>\n",
              "      <th>81</th>\n",
              "      <td>2015</td>\n",
              "      <td>1</td>\n",
              "      <td>Aguascalientes</td>\n",
              "      <td>1001</td>\n",
              "      <td>Aguascalientes</td>\n",
              "      <td>La familia</td>\n",
              "      <td>Violencia familiar</td>\n",
              "      <td>Violencia familiar</td>\n",
              "      <td>Violencia familiar</td>\n",
              "      <td>18</td>\n",
              "      <td>36</td>\n",
              "      <td>24</td>\n",
              "      <td>24</td>\n",
              "      <td>28</td>\n",
              "      <td>28</td>\n",
              "      <td>35</td>\n",
              "      <td>38</td>\n",
              "      <td>47</td>\n",
              "      <td>53</td>\n",
              "      <td>40</td>\n",
              "      <td>39</td>\n",
              "    </tr>\n",
              "    <tr>\n",
              "      <th>179</th>\n",
              "      <td>2015</td>\n",
              "      <td>1</td>\n",
              "      <td>Aguascalientes</td>\n",
              "      <td>1002</td>\n",
              "      <td>Asientos</td>\n",
              "      <td>La familia</td>\n",
              "      <td>Violencia familiar</td>\n",
              "      <td>Violencia familiar</td>\n",
              "      <td>Violencia familiar</td>\n",
              "      <td>2</td>\n",
              "      <td>0</td>\n",
              "      <td>0</td>\n",
              "      <td>3</td>\n",
              "      <td>1</td>\n",
              "      <td>1</td>\n",
              "      <td>0</td>\n",
              "      <td>1</td>\n",
              "      <td>0</td>\n",
              "      <td>1</td>\n",
              "      <td>1</td>\n",
              "      <td>0</td>\n",
              "    </tr>\n",
              "    <tr>\n",
              "      <th>277</th>\n",
              "      <td>2015</td>\n",
              "      <td>1</td>\n",
              "      <td>Aguascalientes</td>\n",
              "      <td>1003</td>\n",
              "      <td>Calvillo</td>\n",
              "      <td>La familia</td>\n",
              "      <td>Violencia familiar</td>\n",
              "      <td>Violencia familiar</td>\n",
              "      <td>Violencia familiar</td>\n",
              "      <td>0</td>\n",
              "      <td>1</td>\n",
              "      <td>0</td>\n",
              "      <td>3</td>\n",
              "      <td>2</td>\n",
              "      <td>2</td>\n",
              "      <td>0</td>\n",
              "      <td>1</td>\n",
              "      <td>1</td>\n",
              "      <td>1</td>\n",
              "      <td>0</td>\n",
              "      <td>1</td>\n",
              "    </tr>\n",
              "    <tr>\n",
              "      <th>375</th>\n",
              "      <td>2015</td>\n",
              "      <td>1</td>\n",
              "      <td>Aguascalientes</td>\n",
              "      <td>1004</td>\n",
              "      <td>Cosío</td>\n",
              "      <td>La familia</td>\n",
              "      <td>Violencia familiar</td>\n",
              "      <td>Violencia familiar</td>\n",
              "      <td>Violencia familiar</td>\n",
              "      <td>0</td>\n",
              "      <td>0</td>\n",
              "      <td>0</td>\n",
              "      <td>0</td>\n",
              "      <td>0</td>\n",
              "      <td>0</td>\n",
              "      <td>0</td>\n",
              "      <td>0</td>\n",
              "      <td>0</td>\n",
              "      <td>0</td>\n",
              "      <td>0</td>\n",
              "      <td>0</td>\n",
              "    </tr>\n",
              "    <tr>\n",
              "      <th>473</th>\n",
              "      <td>2015</td>\n",
              "      <td>1</td>\n",
              "      <td>Aguascalientes</td>\n",
              "      <td>1005</td>\n",
              "      <td>Jesús María</td>\n",
              "      <td>La familia</td>\n",
              "      <td>Violencia familiar</td>\n",
              "      <td>Violencia familiar</td>\n",
              "      <td>Violencia familiar</td>\n",
              "      <td>3</td>\n",
              "      <td>1</td>\n",
              "      <td>0</td>\n",
              "      <td>1</td>\n",
              "      <td>0</td>\n",
              "      <td>2</td>\n",
              "      <td>0</td>\n",
              "      <td>2</td>\n",
              "      <td>0</td>\n",
              "      <td>1</td>\n",
              "      <td>1</td>\n",
              "      <td>0</td>\n",
              "    </tr>\n",
              "    <tr>\n",
              "      <th>571</th>\n",
              "      <td>2015</td>\n",
              "      <td>1</td>\n",
              "      <td>Aguascalientes</td>\n",
              "      <td>1006</td>\n",
              "      <td>Pabellón de Arteaga</td>\n",
              "      <td>La familia</td>\n",
              "      <td>Violencia familiar</td>\n",
              "      <td>Violencia familiar</td>\n",
              "      <td>Violencia familiar</td>\n",
              "      <td>2</td>\n",
              "      <td>0</td>\n",
              "      <td>1</td>\n",
              "      <td>4</td>\n",
              "      <td>2</td>\n",
              "      <td>1</td>\n",
              "      <td>0</td>\n",
              "      <td>0</td>\n",
              "      <td>0</td>\n",
              "      <td>0</td>\n",
              "      <td>0</td>\n",
              "      <td>0</td>\n",
              "    </tr>\n",
              "    <tr>\n",
              "      <th>669</th>\n",
              "      <td>2015</td>\n",
              "      <td>1</td>\n",
              "      <td>Aguascalientes</td>\n",
              "      <td>1007</td>\n",
              "      <td>Rincón de Romos</td>\n",
              "      <td>La familia</td>\n",
              "      <td>Violencia familiar</td>\n",
              "      <td>Violencia familiar</td>\n",
              "      <td>Violencia familiar</td>\n",
              "      <td>2</td>\n",
              "      <td>1</td>\n",
              "      <td>0</td>\n",
              "      <td>1</td>\n",
              "      <td>1</td>\n",
              "      <td>1</td>\n",
              "      <td>1</td>\n",
              "      <td>0</td>\n",
              "      <td>0</td>\n",
              "      <td>0</td>\n",
              "      <td>1</td>\n",
              "      <td>0</td>\n",
              "    </tr>\n",
              "    <tr>\n",
              "      <th>767</th>\n",
              "      <td>2015</td>\n",
              "      <td>1</td>\n",
              "      <td>Aguascalientes</td>\n",
              "      <td>1008</td>\n",
              "      <td>San José de Gracia</td>\n",
              "      <td>La familia</td>\n",
              "      <td>Violencia familiar</td>\n",
              "      <td>Violencia familiar</td>\n",
              "      <td>Violencia familiar</td>\n",
              "      <td>0</td>\n",
              "      <td>0</td>\n",
              "      <td>0</td>\n",
              "      <td>1</td>\n",
              "      <td>0</td>\n",
              "      <td>1</td>\n",
              "      <td>0</td>\n",
              "      <td>0</td>\n",
              "      <td>0</td>\n",
              "      <td>0</td>\n",
              "      <td>0</td>\n",
              "      <td>0</td>\n",
              "    </tr>\n",
              "    <tr>\n",
              "      <th>865</th>\n",
              "      <td>2015</td>\n",
              "      <td>1</td>\n",
              "      <td>Aguascalientes</td>\n",
              "      <td>1009</td>\n",
              "      <td>Tepezalá</td>\n",
              "      <td>La familia</td>\n",
              "      <td>Violencia familiar</td>\n",
              "      <td>Violencia familiar</td>\n",
              "      <td>Violencia familiar</td>\n",
              "      <td>0</td>\n",
              "      <td>0</td>\n",
              "      <td>0</td>\n",
              "      <td>0</td>\n",
              "      <td>0</td>\n",
              "      <td>0</td>\n",
              "      <td>0</td>\n",
              "      <td>0</td>\n",
              "      <td>1</td>\n",
              "      <td>0</td>\n",
              "      <td>0</td>\n",
              "      <td>0</td>\n",
              "    </tr>\n",
              "    <tr>\n",
              "      <th>963</th>\n",
              "      <td>2015</td>\n",
              "      <td>1</td>\n",
              "      <td>Aguascalientes</td>\n",
              "      <td>1010</td>\n",
              "      <td>El Llano</td>\n",
              "      <td>La familia</td>\n",
              "      <td>Violencia familiar</td>\n",
              "      <td>Violencia familiar</td>\n",
              "      <td>Violencia familiar</td>\n",
              "      <td>0</td>\n",
              "      <td>0</td>\n",
              "      <td>0</td>\n",
              "      <td>0</td>\n",
              "      <td>0</td>\n",
              "      <td>0</td>\n",
              "      <td>0</td>\n",
              "      <td>0</td>\n",
              "      <td>0</td>\n",
              "      <td>1</td>\n",
              "      <td>0</td>\n",
              "      <td>0</td>\n",
              "    </tr>\n",
              "  </tbody>\n",
              "</table>\n",
              "</div>"
            ],
            "text/plain": [
              "      año  clave_entidad         entidad  ...  octubre noviembre diciembre\n",
              "81   2015              1  Aguascalientes  ...       53        40        39\n",
              "179  2015              1  Aguascalientes  ...        1         1         0\n",
              "277  2015              1  Aguascalientes  ...        1         0         1\n",
              "375  2015              1  Aguascalientes  ...        0         0         0\n",
              "473  2015              1  Aguascalientes  ...        1         1         0\n",
              "571  2015              1  Aguascalientes  ...        0         0         0\n",
              "669  2015              1  Aguascalientes  ...        0         1         0\n",
              "767  2015              1  Aguascalientes  ...        0         0         0\n",
              "865  2015              1  Aguascalientes  ...        0         0         0\n",
              "963  2015              1  Aguascalientes  ...        1         0         0\n",
              "\n",
              "[10 rows x 21 columns]"
            ]
          },
          "metadata": {
            "tags": []
          },
          "execution_count": 28
        }
      ]
    },
    {
      "cell_type": "code",
      "metadata": {
        "colab": {
          "base_uri": "https://localhost:8080/",
          "height": 1000
        },
        "id": "xQb_sbYXetuV",
        "outputId": "3603d50c-8078-47ec-94f3-452744fec7b0"
      },
      "source": [
        "df_violencia_genero = df_municipios[df_municipios[\"tipo_delito\"] == \"Violencia de género en todas sus modalidades distinta a la violencia familiar\"]\n",
        "df_violencia_genero.head(10)"
      ],
      "execution_count": null,
      "outputs": [
        {
          "output_type": "execute_result",
          "data": {
            "text/html": [
              "<div>\n",
              "<style scoped>\n",
              "    .dataframe tbody tr th:only-of-type {\n",
              "        vertical-align: middle;\n",
              "    }\n",
              "\n",
              "    .dataframe tbody tr th {\n",
              "        vertical-align: top;\n",
              "    }\n",
              "\n",
              "    .dataframe thead th {\n",
              "        text-align: right;\n",
              "    }\n",
              "</style>\n",
              "<table border=\"1\" class=\"dataframe\">\n",
              "  <thead>\n",
              "    <tr style=\"text-align: right;\">\n",
              "      <th></th>\n",
              "      <th>año</th>\n",
              "      <th>clave_entidad</th>\n",
              "      <th>entidad</th>\n",
              "      <th>clave_municipio</th>\n",
              "      <th>municipio</th>\n",
              "      <th>bien_juridico_afectado</th>\n",
              "      <th>tipo_delito</th>\n",
              "      <th>subtipo_delito</th>\n",
              "      <th>modalidad</th>\n",
              "      <th>enero</th>\n",
              "      <th>febrero</th>\n",
              "      <th>marzo</th>\n",
              "      <th>abril</th>\n",
              "      <th>mayo</th>\n",
              "      <th>junio</th>\n",
              "      <th>julio</th>\n",
              "      <th>agosto</th>\n",
              "      <th>septiembre</th>\n",
              "      <th>octubre</th>\n",
              "      <th>noviembre</th>\n",
              "      <th>diciembre</th>\n",
              "    </tr>\n",
              "  </thead>\n",
              "  <tbody>\n",
              "    <tr>\n",
              "      <th>82</th>\n",
              "      <td>2015</td>\n",
              "      <td>1</td>\n",
              "      <td>Aguascalientes</td>\n",
              "      <td>1001</td>\n",
              "      <td>Aguascalientes</td>\n",
              "      <td>La familia</td>\n",
              "      <td>Violencia de género en todas sus modalidades d...</td>\n",
              "      <td>Violencia de género en todas sus modalidades d...</td>\n",
              "      <td>Violencia de género en todas sus modalidades d...</td>\n",
              "      <td>0</td>\n",
              "      <td>0</td>\n",
              "      <td>0</td>\n",
              "      <td>0</td>\n",
              "      <td>0</td>\n",
              "      <td>0</td>\n",
              "      <td>0</td>\n",
              "      <td>0</td>\n",
              "      <td>1</td>\n",
              "      <td>1</td>\n",
              "      <td>0</td>\n",
              "      <td>0</td>\n",
              "    </tr>\n",
              "    <tr>\n",
              "      <th>180</th>\n",
              "      <td>2015</td>\n",
              "      <td>1</td>\n",
              "      <td>Aguascalientes</td>\n",
              "      <td>1002</td>\n",
              "      <td>Asientos</td>\n",
              "      <td>La familia</td>\n",
              "      <td>Violencia de género en todas sus modalidades d...</td>\n",
              "      <td>Violencia de género en todas sus modalidades d...</td>\n",
              "      <td>Violencia de género en todas sus modalidades d...</td>\n",
              "      <td>0</td>\n",
              "      <td>0</td>\n",
              "      <td>0</td>\n",
              "      <td>0</td>\n",
              "      <td>0</td>\n",
              "      <td>0</td>\n",
              "      <td>0</td>\n",
              "      <td>0</td>\n",
              "      <td>0</td>\n",
              "      <td>0</td>\n",
              "      <td>0</td>\n",
              "      <td>0</td>\n",
              "    </tr>\n",
              "    <tr>\n",
              "      <th>278</th>\n",
              "      <td>2015</td>\n",
              "      <td>1</td>\n",
              "      <td>Aguascalientes</td>\n",
              "      <td>1003</td>\n",
              "      <td>Calvillo</td>\n",
              "      <td>La familia</td>\n",
              "      <td>Violencia de género en todas sus modalidades d...</td>\n",
              "      <td>Violencia de género en todas sus modalidades d...</td>\n",
              "      <td>Violencia de género en todas sus modalidades d...</td>\n",
              "      <td>0</td>\n",
              "      <td>0</td>\n",
              "      <td>0</td>\n",
              "      <td>0</td>\n",
              "      <td>0</td>\n",
              "      <td>0</td>\n",
              "      <td>0</td>\n",
              "      <td>0</td>\n",
              "      <td>0</td>\n",
              "      <td>0</td>\n",
              "      <td>0</td>\n",
              "      <td>0</td>\n",
              "    </tr>\n",
              "    <tr>\n",
              "      <th>376</th>\n",
              "      <td>2015</td>\n",
              "      <td>1</td>\n",
              "      <td>Aguascalientes</td>\n",
              "      <td>1004</td>\n",
              "      <td>Cosío</td>\n",
              "      <td>La familia</td>\n",
              "      <td>Violencia de género en todas sus modalidades d...</td>\n",
              "      <td>Violencia de género en todas sus modalidades d...</td>\n",
              "      <td>Violencia de género en todas sus modalidades d...</td>\n",
              "      <td>0</td>\n",
              "      <td>0</td>\n",
              "      <td>0</td>\n",
              "      <td>0</td>\n",
              "      <td>0</td>\n",
              "      <td>0</td>\n",
              "      <td>0</td>\n",
              "      <td>0</td>\n",
              "      <td>0</td>\n",
              "      <td>0</td>\n",
              "      <td>0</td>\n",
              "      <td>0</td>\n",
              "    </tr>\n",
              "    <tr>\n",
              "      <th>474</th>\n",
              "      <td>2015</td>\n",
              "      <td>1</td>\n",
              "      <td>Aguascalientes</td>\n",
              "      <td>1005</td>\n",
              "      <td>Jesús María</td>\n",
              "      <td>La familia</td>\n",
              "      <td>Violencia de género en todas sus modalidades d...</td>\n",
              "      <td>Violencia de género en todas sus modalidades d...</td>\n",
              "      <td>Violencia de género en todas sus modalidades d...</td>\n",
              "      <td>0</td>\n",
              "      <td>0</td>\n",
              "      <td>0</td>\n",
              "      <td>0</td>\n",
              "      <td>0</td>\n",
              "      <td>0</td>\n",
              "      <td>0</td>\n",
              "      <td>0</td>\n",
              "      <td>0</td>\n",
              "      <td>0</td>\n",
              "      <td>0</td>\n",
              "      <td>0</td>\n",
              "    </tr>\n",
              "    <tr>\n",
              "      <th>572</th>\n",
              "      <td>2015</td>\n",
              "      <td>1</td>\n",
              "      <td>Aguascalientes</td>\n",
              "      <td>1006</td>\n",
              "      <td>Pabellón de Arteaga</td>\n",
              "      <td>La familia</td>\n",
              "      <td>Violencia de género en todas sus modalidades d...</td>\n",
              "      <td>Violencia de género en todas sus modalidades d...</td>\n",
              "      <td>Violencia de género en todas sus modalidades d...</td>\n",
              "      <td>0</td>\n",
              "      <td>0</td>\n",
              "      <td>0</td>\n",
              "      <td>0</td>\n",
              "      <td>0</td>\n",
              "      <td>0</td>\n",
              "      <td>0</td>\n",
              "      <td>0</td>\n",
              "      <td>0</td>\n",
              "      <td>0</td>\n",
              "      <td>0</td>\n",
              "      <td>0</td>\n",
              "    </tr>\n",
              "    <tr>\n",
              "      <th>670</th>\n",
              "      <td>2015</td>\n",
              "      <td>1</td>\n",
              "      <td>Aguascalientes</td>\n",
              "      <td>1007</td>\n",
              "      <td>Rincón de Romos</td>\n",
              "      <td>La familia</td>\n",
              "      <td>Violencia de género en todas sus modalidades d...</td>\n",
              "      <td>Violencia de género en todas sus modalidades d...</td>\n",
              "      <td>Violencia de género en todas sus modalidades d...</td>\n",
              "      <td>0</td>\n",
              "      <td>0</td>\n",
              "      <td>0</td>\n",
              "      <td>0</td>\n",
              "      <td>0</td>\n",
              "      <td>0</td>\n",
              "      <td>0</td>\n",
              "      <td>0</td>\n",
              "      <td>0</td>\n",
              "      <td>0</td>\n",
              "      <td>0</td>\n",
              "      <td>0</td>\n",
              "    </tr>\n",
              "    <tr>\n",
              "      <th>768</th>\n",
              "      <td>2015</td>\n",
              "      <td>1</td>\n",
              "      <td>Aguascalientes</td>\n",
              "      <td>1008</td>\n",
              "      <td>San José de Gracia</td>\n",
              "      <td>La familia</td>\n",
              "      <td>Violencia de género en todas sus modalidades d...</td>\n",
              "      <td>Violencia de género en todas sus modalidades d...</td>\n",
              "      <td>Violencia de género en todas sus modalidades d...</td>\n",
              "      <td>0</td>\n",
              "      <td>0</td>\n",
              "      <td>0</td>\n",
              "      <td>0</td>\n",
              "      <td>0</td>\n",
              "      <td>0</td>\n",
              "      <td>0</td>\n",
              "      <td>0</td>\n",
              "      <td>0</td>\n",
              "      <td>0</td>\n",
              "      <td>0</td>\n",
              "      <td>0</td>\n",
              "    </tr>\n",
              "    <tr>\n",
              "      <th>866</th>\n",
              "      <td>2015</td>\n",
              "      <td>1</td>\n",
              "      <td>Aguascalientes</td>\n",
              "      <td>1009</td>\n",
              "      <td>Tepezalá</td>\n",
              "      <td>La familia</td>\n",
              "      <td>Violencia de género en todas sus modalidades d...</td>\n",
              "      <td>Violencia de género en todas sus modalidades d...</td>\n",
              "      <td>Violencia de género en todas sus modalidades d...</td>\n",
              "      <td>0</td>\n",
              "      <td>0</td>\n",
              "      <td>0</td>\n",
              "      <td>0</td>\n",
              "      <td>0</td>\n",
              "      <td>0</td>\n",
              "      <td>0</td>\n",
              "      <td>0</td>\n",
              "      <td>0</td>\n",
              "      <td>0</td>\n",
              "      <td>0</td>\n",
              "      <td>0</td>\n",
              "    </tr>\n",
              "    <tr>\n",
              "      <th>964</th>\n",
              "      <td>2015</td>\n",
              "      <td>1</td>\n",
              "      <td>Aguascalientes</td>\n",
              "      <td>1010</td>\n",
              "      <td>El Llano</td>\n",
              "      <td>La familia</td>\n",
              "      <td>Violencia de género en todas sus modalidades d...</td>\n",
              "      <td>Violencia de género en todas sus modalidades d...</td>\n",
              "      <td>Violencia de género en todas sus modalidades d...</td>\n",
              "      <td>0</td>\n",
              "      <td>0</td>\n",
              "      <td>0</td>\n",
              "      <td>0</td>\n",
              "      <td>0</td>\n",
              "      <td>0</td>\n",
              "      <td>0</td>\n",
              "      <td>0</td>\n",
              "      <td>0</td>\n",
              "      <td>0</td>\n",
              "      <td>0</td>\n",
              "      <td>0</td>\n",
              "    </tr>\n",
              "  </tbody>\n",
              "</table>\n",
              "</div>"
            ],
            "text/plain": [
              "      año  clave_entidad         entidad  ...  octubre noviembre diciembre\n",
              "82   2015              1  Aguascalientes  ...        1         0         0\n",
              "180  2015              1  Aguascalientes  ...        0         0         0\n",
              "278  2015              1  Aguascalientes  ...        0         0         0\n",
              "376  2015              1  Aguascalientes  ...        0         0         0\n",
              "474  2015              1  Aguascalientes  ...        0         0         0\n",
              "572  2015              1  Aguascalientes  ...        0         0         0\n",
              "670  2015              1  Aguascalientes  ...        0         0         0\n",
              "768  2015              1  Aguascalientes  ...        0         0         0\n",
              "866  2015              1  Aguascalientes  ...        0         0         0\n",
              "964  2015              1  Aguascalientes  ...        0         0         0\n",
              "\n",
              "[10 rows x 21 columns]"
            ]
          },
          "metadata": {
            "tags": []
          },
          "execution_count": 29
        }
      ]
    },
    {
      "cell_type": "markdown",
      "metadata": {
        "id": "8KhwdqpZ1jER"
      },
      "source": [
        "Sin embargo, si nos cuenta nuestro dataframe conserva el índice que tenía anteriormente, por lo cual usaremos el comando *reset_index* para tener uno nuevo secuencial y ordenado de acuerdo a los filtros hechos, de igual manera se guardará sobrescribiendo ambos dataframes \"df_violencia_familiar\" y \"df_violencia_genero\"."
      ]
    },
    {
      "cell_type": "code",
      "metadata": {
        "colab": {
          "base_uri": "https://localhost:8080/",
          "height": 213
        },
        "id": "eCCJqC1X1htO",
        "outputId": "79bf3d90-3d13-4fd6-ec4f-345065a65ddc"
      },
      "source": [
        "df_violencia_familiar = df_violencia_familiar.reset_index(drop=True)\n",
        "df_violencia_familiar.head(3)"
      ],
      "execution_count": null,
      "outputs": [
        {
          "output_type": "execute_result",
          "data": {
            "text/html": [
              "<div>\n",
              "<style scoped>\n",
              "    .dataframe tbody tr th:only-of-type {\n",
              "        vertical-align: middle;\n",
              "    }\n",
              "\n",
              "    .dataframe tbody tr th {\n",
              "        vertical-align: top;\n",
              "    }\n",
              "\n",
              "    .dataframe thead th {\n",
              "        text-align: right;\n",
              "    }\n",
              "</style>\n",
              "<table border=\"1\" class=\"dataframe\">\n",
              "  <thead>\n",
              "    <tr style=\"text-align: right;\">\n",
              "      <th></th>\n",
              "      <th>año</th>\n",
              "      <th>clave_entidad</th>\n",
              "      <th>entidad</th>\n",
              "      <th>clave_municipio</th>\n",
              "      <th>municipio</th>\n",
              "      <th>bien_juridico_afectado</th>\n",
              "      <th>tipo_delito</th>\n",
              "      <th>subtipo_delito</th>\n",
              "      <th>modalidad</th>\n",
              "      <th>enero</th>\n",
              "      <th>febrero</th>\n",
              "      <th>marzo</th>\n",
              "      <th>abril</th>\n",
              "      <th>mayo</th>\n",
              "      <th>junio</th>\n",
              "      <th>julio</th>\n",
              "      <th>agosto</th>\n",
              "      <th>septiembre</th>\n",
              "      <th>octubre</th>\n",
              "      <th>noviembre</th>\n",
              "      <th>diciembre</th>\n",
              "    </tr>\n",
              "  </thead>\n",
              "  <tbody>\n",
              "    <tr>\n",
              "      <th>0</th>\n",
              "      <td>2015</td>\n",
              "      <td>1</td>\n",
              "      <td>Aguascalientes</td>\n",
              "      <td>1001</td>\n",
              "      <td>Aguascalientes</td>\n",
              "      <td>La familia</td>\n",
              "      <td>Violencia familiar</td>\n",
              "      <td>Violencia familiar</td>\n",
              "      <td>Violencia familiar</td>\n",
              "      <td>18</td>\n",
              "      <td>36</td>\n",
              "      <td>24</td>\n",
              "      <td>24</td>\n",
              "      <td>28</td>\n",
              "      <td>28</td>\n",
              "      <td>35</td>\n",
              "      <td>38</td>\n",
              "      <td>47</td>\n",
              "      <td>53</td>\n",
              "      <td>40</td>\n",
              "      <td>39</td>\n",
              "    </tr>\n",
              "    <tr>\n",
              "      <th>1</th>\n",
              "      <td>2015</td>\n",
              "      <td>1</td>\n",
              "      <td>Aguascalientes</td>\n",
              "      <td>1002</td>\n",
              "      <td>Asientos</td>\n",
              "      <td>La familia</td>\n",
              "      <td>Violencia familiar</td>\n",
              "      <td>Violencia familiar</td>\n",
              "      <td>Violencia familiar</td>\n",
              "      <td>2</td>\n",
              "      <td>0</td>\n",
              "      <td>0</td>\n",
              "      <td>3</td>\n",
              "      <td>1</td>\n",
              "      <td>1</td>\n",
              "      <td>0</td>\n",
              "      <td>1</td>\n",
              "      <td>0</td>\n",
              "      <td>1</td>\n",
              "      <td>1</td>\n",
              "      <td>0</td>\n",
              "    </tr>\n",
              "    <tr>\n",
              "      <th>2</th>\n",
              "      <td>2015</td>\n",
              "      <td>1</td>\n",
              "      <td>Aguascalientes</td>\n",
              "      <td>1003</td>\n",
              "      <td>Calvillo</td>\n",
              "      <td>La familia</td>\n",
              "      <td>Violencia familiar</td>\n",
              "      <td>Violencia familiar</td>\n",
              "      <td>Violencia familiar</td>\n",
              "      <td>0</td>\n",
              "      <td>1</td>\n",
              "      <td>0</td>\n",
              "      <td>3</td>\n",
              "      <td>2</td>\n",
              "      <td>2</td>\n",
              "      <td>0</td>\n",
              "      <td>1</td>\n",
              "      <td>1</td>\n",
              "      <td>1</td>\n",
              "      <td>0</td>\n",
              "      <td>1</td>\n",
              "    </tr>\n",
              "  </tbody>\n",
              "</table>\n",
              "</div>"
            ],
            "text/plain": [
              "    año  clave_entidad         entidad  ...  octubre noviembre diciembre\n",
              "0  2015              1  Aguascalientes  ...       53        40        39\n",
              "1  2015              1  Aguascalientes  ...        1         1         0\n",
              "2  2015              1  Aguascalientes  ...        1         0         1\n",
              "\n",
              "[3 rows x 21 columns]"
            ]
          },
          "metadata": {
            "tags": []
          },
          "execution_count": 30
        }
      ]
    },
    {
      "cell_type": "code",
      "metadata": {
        "id": "_DHX1K_9S5xq"
      },
      "source": [
        "df_violencia_familiar.to_csv(\"violencia_familiar.csv\")"
      ],
      "execution_count": null,
      "outputs": []
    },
    {
      "cell_type": "code",
      "metadata": {
        "colab": {
          "base_uri": "https://localhost:8080/",
          "height": 366
        },
        "id": "FhkbnTYV17n5",
        "outputId": "9d300bca-5bec-45a5-e8ad-519da4744259"
      },
      "source": [
        "df_violencia_genero = df_violencia_genero.reset_index(drop=True)\n",
        "df_violencia_genero.head(3)"
      ],
      "execution_count": null,
      "outputs": [
        {
          "output_type": "execute_result",
          "data": {
            "text/html": [
              "<div>\n",
              "<style scoped>\n",
              "    .dataframe tbody tr th:only-of-type {\n",
              "        vertical-align: middle;\n",
              "    }\n",
              "\n",
              "    .dataframe tbody tr th {\n",
              "        vertical-align: top;\n",
              "    }\n",
              "\n",
              "    .dataframe thead th {\n",
              "        text-align: right;\n",
              "    }\n",
              "</style>\n",
              "<table border=\"1\" class=\"dataframe\">\n",
              "  <thead>\n",
              "    <tr style=\"text-align: right;\">\n",
              "      <th></th>\n",
              "      <th>año</th>\n",
              "      <th>clave_entidad</th>\n",
              "      <th>entidad</th>\n",
              "      <th>clave_municipio</th>\n",
              "      <th>municipio</th>\n",
              "      <th>bien_juridico_afectado</th>\n",
              "      <th>tipo_delito</th>\n",
              "      <th>subtipo_delito</th>\n",
              "      <th>modalidad</th>\n",
              "      <th>enero</th>\n",
              "      <th>febrero</th>\n",
              "      <th>marzo</th>\n",
              "      <th>abril</th>\n",
              "      <th>mayo</th>\n",
              "      <th>junio</th>\n",
              "      <th>julio</th>\n",
              "      <th>agosto</th>\n",
              "      <th>septiembre</th>\n",
              "      <th>octubre</th>\n",
              "      <th>noviembre</th>\n",
              "      <th>diciembre</th>\n",
              "    </tr>\n",
              "  </thead>\n",
              "  <tbody>\n",
              "    <tr>\n",
              "      <th>0</th>\n",
              "      <td>2015</td>\n",
              "      <td>1</td>\n",
              "      <td>Aguascalientes</td>\n",
              "      <td>1001</td>\n",
              "      <td>Aguascalientes</td>\n",
              "      <td>La familia</td>\n",
              "      <td>Violencia de género en todas sus modalidades d...</td>\n",
              "      <td>Violencia de género en todas sus modalidades d...</td>\n",
              "      <td>Violencia de género en todas sus modalidades d...</td>\n",
              "      <td>0</td>\n",
              "      <td>0</td>\n",
              "      <td>0</td>\n",
              "      <td>0</td>\n",
              "      <td>0</td>\n",
              "      <td>0</td>\n",
              "      <td>0</td>\n",
              "      <td>0</td>\n",
              "      <td>1</td>\n",
              "      <td>1</td>\n",
              "      <td>0</td>\n",
              "      <td>0</td>\n",
              "    </tr>\n",
              "    <tr>\n",
              "      <th>1</th>\n",
              "      <td>2015</td>\n",
              "      <td>1</td>\n",
              "      <td>Aguascalientes</td>\n",
              "      <td>1002</td>\n",
              "      <td>Asientos</td>\n",
              "      <td>La familia</td>\n",
              "      <td>Violencia de género en todas sus modalidades d...</td>\n",
              "      <td>Violencia de género en todas sus modalidades d...</td>\n",
              "      <td>Violencia de género en todas sus modalidades d...</td>\n",
              "      <td>0</td>\n",
              "      <td>0</td>\n",
              "      <td>0</td>\n",
              "      <td>0</td>\n",
              "      <td>0</td>\n",
              "      <td>0</td>\n",
              "      <td>0</td>\n",
              "      <td>0</td>\n",
              "      <td>0</td>\n",
              "      <td>0</td>\n",
              "      <td>0</td>\n",
              "      <td>0</td>\n",
              "    </tr>\n",
              "    <tr>\n",
              "      <th>2</th>\n",
              "      <td>2015</td>\n",
              "      <td>1</td>\n",
              "      <td>Aguascalientes</td>\n",
              "      <td>1003</td>\n",
              "      <td>Calvillo</td>\n",
              "      <td>La familia</td>\n",
              "      <td>Violencia de género en todas sus modalidades d...</td>\n",
              "      <td>Violencia de género en todas sus modalidades d...</td>\n",
              "      <td>Violencia de género en todas sus modalidades d...</td>\n",
              "      <td>0</td>\n",
              "      <td>0</td>\n",
              "      <td>0</td>\n",
              "      <td>0</td>\n",
              "      <td>0</td>\n",
              "      <td>0</td>\n",
              "      <td>0</td>\n",
              "      <td>0</td>\n",
              "      <td>0</td>\n",
              "      <td>0</td>\n",
              "      <td>0</td>\n",
              "      <td>0</td>\n",
              "    </tr>\n",
              "  </tbody>\n",
              "</table>\n",
              "</div>"
            ],
            "text/plain": [
              "    año  clave_entidad         entidad  ...  octubre noviembre diciembre\n",
              "0  2015              1  Aguascalientes  ...        1         0         0\n",
              "1  2015              1  Aguascalientes  ...        0         0         0\n",
              "2  2015              1  Aguascalientes  ...        0         0         0\n",
              "\n",
              "[3 rows x 21 columns]"
            ]
          },
          "metadata": {
            "tags": []
          },
          "execution_count": 127
        }
      ]
    },
    {
      "cell_type": "code",
      "metadata": {
        "id": "mRzcH8qbS-gL"
      },
      "source": [
        "df_violencia_genero.to_csv(\"violencia_genero.csv\")"
      ],
      "execution_count": null,
      "outputs": []
    },
    {
      "cell_type": "markdown",
      "metadata": {
        "id": "lTlHPOyt5Pud"
      },
      "source": [
        "Llegado a este punto, tenemos dos dataframes que serán la base para un futúro análisis tras conocer diferentes herramientas en futuro módulos para Python, tales como representación gráfica, series de tiempo, estadística, entre otros.\n",
        "\n",
        "No obstante, para responder algunas pregunas planteadas en el inicio del proyecto, realizaremos un pequeño análisis con las herramientas que tenemos actualmente, en donde seleccionaremos un estado para filtrar los datos y conocer los máximos y mínimos tanto mensuales como anuales, dicho estado será Ciudad de México y será presentado a continuación.\n",
        "\n",
        "Sin embargo, solo nos enfocaremos en el dataframe que hace referencia a la \"Violencia familiar\" siendo que el filtrado con los de \"Violencia de género en todas sus modalidades distintas a la violencia familiar\" no presenta ningun delito en ningun mes de ningun año para cada Municipio de cada Estado, siendo algo incoherente en el dataset, por lo cual no hace sentido hacer el análisis para este dataframe."
      ]
    },
    {
      "cell_type": "markdown",
      "metadata": {
        "id": "OZj_Lr9K7Fk6"
      },
      "source": [
        "# **ÁNALISIS DE VIOLENCIA FAMILIAR EN CIUDAD DE MÉXICO**\n",
        "\n",
        "Actualmente no conocemos las herramientas necesarias para poder realizar un análisis profundo a cada uno de los Estados que conforman a la República Mexicana, dado que para ello es necesario tener una representación gráfica de los resultados en vez de verlos directamente desde los dataframes. Para esto seleccionamos la Ciudad de México para enfocarnos en tres diferentes puntos, las cuales son presentadas en breve."
      ]
    },
    {
      "cell_type": "code",
      "metadata": {
        "colab": {
          "base_uri": "https://localhost:8080/",
          "height": 265
        },
        "id": "_k16jhU28FvU",
        "outputId": "e01c6b7e-db49-4c64-e221-cac1e13d8480"
      },
      "source": [
        "df_violencia_familiar_ciudad_mexico = df_violencia_familiar[df_violencia_familiar[\"entidad\"] == \"Ciudad de México\"]\n",
        "df_violencia_familiar_ciudad_mexico = df_violencia_familiar_ciudad_mexico.reset_index(drop=True)\n",
        "df_violencia_familiar_ciudad_mexico.head(3)"
      ],
      "execution_count": null,
      "outputs": [
        {
          "output_type": "execute_result",
          "data": {
            "text/html": [
              "<div>\n",
              "<style scoped>\n",
              "    .dataframe tbody tr th:only-of-type {\n",
              "        vertical-align: middle;\n",
              "    }\n",
              "\n",
              "    .dataframe tbody tr th {\n",
              "        vertical-align: top;\n",
              "    }\n",
              "\n",
              "    .dataframe thead th {\n",
              "        text-align: right;\n",
              "    }\n",
              "</style>\n",
              "<table border=\"1\" class=\"dataframe\">\n",
              "  <thead>\n",
              "    <tr style=\"text-align: right;\">\n",
              "      <th></th>\n",
              "      <th>año</th>\n",
              "      <th>clave_entidad</th>\n",
              "      <th>entidad</th>\n",
              "      <th>clave_municipio</th>\n",
              "      <th>municipio</th>\n",
              "      <th>bien_juridico_afectado</th>\n",
              "      <th>tipo_delito</th>\n",
              "      <th>subtipo_delito</th>\n",
              "      <th>modalidad</th>\n",
              "      <th>enero</th>\n",
              "      <th>febrero</th>\n",
              "      <th>marzo</th>\n",
              "      <th>abril</th>\n",
              "      <th>mayo</th>\n",
              "      <th>junio</th>\n",
              "      <th>julio</th>\n",
              "      <th>agosto</th>\n",
              "      <th>septiembre</th>\n",
              "      <th>octubre</th>\n",
              "      <th>noviembre</th>\n",
              "      <th>diciembre</th>\n",
              "    </tr>\n",
              "  </thead>\n",
              "  <tbody>\n",
              "    <tr>\n",
              "      <th>0</th>\n",
              "      <td>2015</td>\n",
              "      <td>9</td>\n",
              "      <td>Ciudad de México</td>\n",
              "      <td>9002</td>\n",
              "      <td>Azcapotzalco</td>\n",
              "      <td>La familia</td>\n",
              "      <td>Violencia familiar</td>\n",
              "      <td>Violencia familiar</td>\n",
              "      <td>Violencia familiar</td>\n",
              "      <td>76</td>\n",
              "      <td>68</td>\n",
              "      <td>83</td>\n",
              "      <td>83</td>\n",
              "      <td>99</td>\n",
              "      <td>105</td>\n",
              "      <td>95</td>\n",
              "      <td>73</td>\n",
              "      <td>64</td>\n",
              "      <td>77</td>\n",
              "      <td>92</td>\n",
              "      <td>71</td>\n",
              "    </tr>\n",
              "    <tr>\n",
              "      <th>1</th>\n",
              "      <td>2015</td>\n",
              "      <td>9</td>\n",
              "      <td>Ciudad de México</td>\n",
              "      <td>9003</td>\n",
              "      <td>Coyoacán</td>\n",
              "      <td>La familia</td>\n",
              "      <td>Violencia familiar</td>\n",
              "      <td>Violencia familiar</td>\n",
              "      <td>Violencia familiar</td>\n",
              "      <td>61</td>\n",
              "      <td>52</td>\n",
              "      <td>69</td>\n",
              "      <td>79</td>\n",
              "      <td>74</td>\n",
              "      <td>86</td>\n",
              "      <td>110</td>\n",
              "      <td>78</td>\n",
              "      <td>82</td>\n",
              "      <td>96</td>\n",
              "      <td>91</td>\n",
              "      <td>93</td>\n",
              "    </tr>\n",
              "    <tr>\n",
              "      <th>2</th>\n",
              "      <td>2015</td>\n",
              "      <td>9</td>\n",
              "      <td>Ciudad de México</td>\n",
              "      <td>9004</td>\n",
              "      <td>Cuajimalpa de Morelos</td>\n",
              "      <td>La familia</td>\n",
              "      <td>Violencia familiar</td>\n",
              "      <td>Violencia familiar</td>\n",
              "      <td>Violencia familiar</td>\n",
              "      <td>19</td>\n",
              "      <td>17</td>\n",
              "      <td>16</td>\n",
              "      <td>9</td>\n",
              "      <td>32</td>\n",
              "      <td>18</td>\n",
              "      <td>16</td>\n",
              "      <td>32</td>\n",
              "      <td>16</td>\n",
              "      <td>17</td>\n",
              "      <td>13</td>\n",
              "      <td>19</td>\n",
              "    </tr>\n",
              "  </tbody>\n",
              "</table>\n",
              "</div>"
            ],
            "text/plain": [
              "    año  clave_entidad           entidad  ...  octubre noviembre diciembre\n",
              "0  2015              9  Ciudad de México  ...       77        92        71\n",
              "1  2015              9  Ciudad de México  ...       96        91        93\n",
              "2  2015              9  Ciudad de México  ...       17        13        19\n",
              "\n",
              "[3 rows x 21 columns]"
            ]
          },
          "metadata": {
            "tags": []
          },
          "execution_count": 33
        }
      ]
    },
    {
      "cell_type": "markdown",
      "metadata": {
        "id": "EOKz8e2g73Do"
      },
      "source": [
        "## **Los Municipios con mayor número de delitos por año**\n"
      ]
    },
    {
      "cell_type": "markdown",
      "metadata": {
        "id": "F0nC-EaVJS3J"
      },
      "source": [
        "Para poder calcular los Municipios con mayor número de delitos por año, primero es necesario poder calcular los delitos de violencia familiar para cada Municipio anualmente, para esto como los casos estan divididos mensualmente, se usará el comando *iloc* en el cual se seleccionarán las columnas que hacen referencia a los meses para cada Municipio de Ciudad de México y realizaremos una suma en el eje horizontal y asignaremos este resultado a una nueva columna llamada \"total_anual\" que hace referencia a la suma de delitos de violencia familiar anualmente para cada Municipio en los últimos 5 años."
      ]
    },
    {
      "cell_type": "code",
      "metadata": {
        "colab": {
          "base_uri": "https://localhost:8080/",
          "height": 199
        },
        "id": "MEEly-nVwbRV",
        "outputId": "43fade77-e64c-4512-a685-7dc74cbf3ca4"
      },
      "source": [
        "df_violencia_familiar_ciudad_mexico[\"total_anual\"] = df_violencia_familiar_ciudad_mexico.iloc[:, 9:20].sum(axis=1)\n",
        "df_violencia_familiar_ciudad_mexico.head(2)"
      ],
      "execution_count": null,
      "outputs": [
        {
          "output_type": "execute_result",
          "data": {
            "text/html": [
              "<div>\n",
              "<style scoped>\n",
              "    .dataframe tbody tr th:only-of-type {\n",
              "        vertical-align: middle;\n",
              "    }\n",
              "\n",
              "    .dataframe tbody tr th {\n",
              "        vertical-align: top;\n",
              "    }\n",
              "\n",
              "    .dataframe thead th {\n",
              "        text-align: right;\n",
              "    }\n",
              "</style>\n",
              "<table border=\"1\" class=\"dataframe\">\n",
              "  <thead>\n",
              "    <tr style=\"text-align: right;\">\n",
              "      <th></th>\n",
              "      <th>año</th>\n",
              "      <th>clave_entidad</th>\n",
              "      <th>entidad</th>\n",
              "      <th>clave_municipio</th>\n",
              "      <th>municipio</th>\n",
              "      <th>bien_juridico_afectado</th>\n",
              "      <th>tipo_delito</th>\n",
              "      <th>subtipo_delito</th>\n",
              "      <th>modalidad</th>\n",
              "      <th>enero</th>\n",
              "      <th>febrero</th>\n",
              "      <th>marzo</th>\n",
              "      <th>abril</th>\n",
              "      <th>mayo</th>\n",
              "      <th>junio</th>\n",
              "      <th>julio</th>\n",
              "      <th>agosto</th>\n",
              "      <th>septiembre</th>\n",
              "      <th>octubre</th>\n",
              "      <th>noviembre</th>\n",
              "      <th>diciembre</th>\n",
              "      <th>total_anual</th>\n",
              "    </tr>\n",
              "  </thead>\n",
              "  <tbody>\n",
              "    <tr>\n",
              "      <th>0</th>\n",
              "      <td>2015</td>\n",
              "      <td>9</td>\n",
              "      <td>Ciudad de México</td>\n",
              "      <td>9002</td>\n",
              "      <td>Azcapotzalco</td>\n",
              "      <td>La familia</td>\n",
              "      <td>Violencia familiar</td>\n",
              "      <td>Violencia familiar</td>\n",
              "      <td>Violencia familiar</td>\n",
              "      <td>76</td>\n",
              "      <td>68</td>\n",
              "      <td>83</td>\n",
              "      <td>83</td>\n",
              "      <td>99</td>\n",
              "      <td>105</td>\n",
              "      <td>95</td>\n",
              "      <td>73</td>\n",
              "      <td>64</td>\n",
              "      <td>77</td>\n",
              "      <td>92</td>\n",
              "      <td>71</td>\n",
              "      <td>915</td>\n",
              "    </tr>\n",
              "    <tr>\n",
              "      <th>1</th>\n",
              "      <td>2015</td>\n",
              "      <td>9</td>\n",
              "      <td>Ciudad de México</td>\n",
              "      <td>9003</td>\n",
              "      <td>Coyoacán</td>\n",
              "      <td>La familia</td>\n",
              "      <td>Violencia familiar</td>\n",
              "      <td>Violencia familiar</td>\n",
              "      <td>Violencia familiar</td>\n",
              "      <td>61</td>\n",
              "      <td>52</td>\n",
              "      <td>69</td>\n",
              "      <td>79</td>\n",
              "      <td>74</td>\n",
              "      <td>86</td>\n",
              "      <td>110</td>\n",
              "      <td>78</td>\n",
              "      <td>82</td>\n",
              "      <td>96</td>\n",
              "      <td>91</td>\n",
              "      <td>93</td>\n",
              "      <td>878</td>\n",
              "    </tr>\n",
              "  </tbody>\n",
              "</table>\n",
              "</div>"
            ],
            "text/plain": [
              "    año  clave_entidad           entidad  ...  noviembre diciembre total_anual\n",
              "0  2015              9  Ciudad de México  ...         92        71         915\n",
              "1  2015              9  Ciudad de México  ...         91        93         878\n",
              "\n",
              "[2 rows x 22 columns]"
            ]
          },
          "metadata": {
            "tags": []
          },
          "execution_count": 34
        }
      ]
    },
    {
      "cell_type": "markdown",
      "metadata": {
        "id": "iHOIGoJ3KYqS"
      },
      "source": [
        "Finalmente realizaremos una agregación usando el comando *groupby* en el cual agruparemos por Municipio y por Año en base a la suma de delitos anuales la cual llamamos \"total_anual\", y estos serán acomodados del valor mayor al menor (orden descendiente), dándonos así los Municipios con mayor número de delitos de violencia familiar por año."
      ]
    },
    {
      "cell_type": "code",
      "metadata": {
        "colab": {
          "base_uri": "https://localhost:8080/"
        },
        "id": "1mgFAhxA-xwK",
        "outputId": "4faa7d62-d9b0-4463-c39b-1e0a82643de0"
      },
      "source": [
        "mayor_violencia_familiar_anual = df_violencia_familiar_ciudad_mexico.groupby(['año', 'municipio']).agg({'total_anual':sum})\n",
        "mayor_violencia_familiar_anual = mayor_violencia_familiar_anual['total_anual'].groupby('año', group_keys=False).nlargest(5)\n",
        "mayor_violencia_familiar_anual"
      ],
      "execution_count": null,
      "outputs": [
        {
          "output_type": "execute_result",
          "data": {
            "text/plain": [
              "año   municipio        \n",
              "2015  Iztapalapa           2909\n",
              "      Gustavo A. Madero    1758\n",
              "      Cuauhtémoc           1225\n",
              "      Álvaro Obregón       1176\n",
              "      Iztacalco            1078\n",
              "2016  Iztapalapa           3665\n",
              "      Gustavo A. Madero    1793\n",
              "      Cuauhtémoc           1366\n",
              "      Tlalpan              1285\n",
              "      Álvaro Obregón       1212\n",
              "2017  Iztapalapa           3404\n",
              "      Gustavo A. Madero    1848\n",
              "      Tlalpan              1385\n",
              "      Cuauhtémoc           1285\n",
              "      Álvaro Obregón       1110\n",
              "2018  Iztapalapa           3082\n",
              "      Gustavo A. Madero    1950\n",
              "      Cuauhtémoc           1590\n",
              "      Tlalpan              1477\n",
              "      Álvaro Obregón       1420\n",
              "2019  Iztapalapa           4269\n",
              "      Gustavo A. Madero    2819\n",
              "      Cuauhtémoc           1966\n",
              "      Álvaro Obregón       1851\n",
              "      Tlalpan              1740\n",
              "2020  Iztapalapa           4346\n",
              "      Gustavo A. Madero    3386\n",
              "      Álvaro Obregón       1972\n",
              "      Cuauhtémoc           1959\n",
              "      Tlalpan              1710\n",
              "Name: total_anual, dtype: int64"
            ]
          },
          "metadata": {
            "tags": []
          },
          "execution_count": 35
        }
      ]
    },
    {
      "cell_type": "markdown",
      "metadata": {
        "id": "Skil7_M6LaoH"
      },
      "source": [
        "Con este resultado, podemos concluir que Iztapalapa ha sido el Municipio de Ciudad de México que se ha mantenido con el mayor número de casos a lo largo de los últimos 5 años, y en que tiempos de COVID-19 esto se ha mantenido."
      ]
    },
    {
      "cell_type": "markdown",
      "metadata": {
        "id": "rDNtjINr9VwI"
      },
      "source": [
        "## **Los Municipios con menor número de delitos por año**"
      ]
    },
    {
      "cell_type": "markdown",
      "metadata": {
        "id": "fiVIhNPCLvmo"
      },
      "source": [
        "Para el caso de los Municipios con menor número de delitos por año, realizaremos la misma agrupación mediante el comando *groupby* en el cual agruparemos por *año* y *municipio* al *total_anual* que hace referencia al total de delitos de violencia familiar para cada Municipio por cada año. Sin embargo, estos serán ordenados de menor a mayor (orden ascendiente), para poder así tener los Municipios con menor número de delitos por cada uno de los últimos 5 años."
      ]
    },
    {
      "cell_type": "code",
      "metadata": {
        "colab": {
          "base_uri": "https://localhost:8080/"
        },
        "id": "qnEiAuQJFP5G",
        "outputId": "bd7d8cf0-c1fe-47bb-eab3-887afa6502e2"
      },
      "source": [
        "menor_violencia_familiar_anual = df_violencia_familiar_ciudad_mexico.groupby(['año', 'municipio']).agg({'total_anual':sum})\n",
        "menor_violencia_familiar_anual = menor_violencia_familiar_anual['total_anual'].groupby('año', group_keys=False).nsmallest(5)\n",
        "menor_violencia_familiar_anual"
      ],
      "execution_count": null,
      "outputs": [
        {
          "output_type": "execute_result",
          "data": {
            "text/plain": [
              "año   municipio             \n",
              "2015  No Especificado            25\n",
              "      Cuajimalpa de Morelos     205\n",
              "      Milpa Alta                251\n",
              "      Tláhuac                   448\n",
              "      La Magdalena Contreras    465\n",
              "2016  No Especificado            17\n",
              "      Milpa Alta                215\n",
              "      Cuajimalpa de Morelos     257\n",
              "      La Magdalena Contreras    547\n",
              "      Miguel Hidalgo            569\n",
              "2017  No Especificado            12\n",
              "      Milpa Alta                256\n",
              "      Cuajimalpa de Morelos     260\n",
              "      Miguel Hidalgo            537\n",
              "      La Magdalena Contreras    633\n",
              "2018  No Especificado            18\n",
              "      Milpa Alta                326\n",
              "      Cuajimalpa de Morelos     342\n",
              "      Miguel Hidalgo            527\n",
              "      La Magdalena Contreras    769\n",
              "2019  No Especificado             0\n",
              "      Milpa Alta                385\n",
              "      Cuajimalpa de Morelos     495\n",
              "      Miguel Hidalgo            829\n",
              "      La Magdalena Contreras    835\n",
              "2020  No Especificado             0\n",
              "      Milpa Alta                421\n",
              "      Cuajimalpa de Morelos     466\n",
              "      Benito Juárez             781\n",
              "      La Magdalena Contreras    968\n",
              "Name: total_anual, dtype: int64"
            ]
          },
          "metadata": {
            "tags": []
          },
          "execution_count": 36
        }
      ]
    },
    {
      "cell_type": "markdown",
      "metadata": {
        "id": "du_jsnZsMYaZ"
      },
      "source": [
        "En este caso podemos ver que dentro del dataframe se encuentran resultados los cuales tienen como Municipio no especificado, sin embargo seguido a este los Municipios de Milpa Alta y Cuajimalpa de Morelos se encuentran con el menor número de casos y manteniéndose ésto mismo en la pandemia actual."
      ]
    },
    {
      "cell_type": "markdown",
      "metadata": {
        "id": "NJzFw6-H9Z8c"
      },
      "source": [
        "## **Delitos totales anuales**"
      ]
    },
    {
      "cell_type": "markdown",
      "metadata": {
        "id": "MLzIc3y8NFz7"
      },
      "source": [
        "Finalmente, para poder calcular los delitos totales anuales simplemente haremos una agrupación del dataframe ya trabajado y filtrado de acuerdo a los delitos de violencia familiar de Ciudad de México por año únicamente. Esto nos brindará el *total_anual* que hace referencia a la suma de delitos de violencia familiar de todos los estados, agrupándolos por año."
      ]
    },
    {
      "cell_type": "code",
      "metadata": {
        "colab": {
          "base_uri": "https://localhost:8080/",
          "height": 263
        },
        "id": "HAxhYphqFy9O",
        "outputId": "5a37518c-6268-4a4a-9e6d-cb1e6dfa7514"
      },
      "source": [
        "delitos_violencia_familiar_total_anual = df_violencia_familiar_ciudad_mexico.groupby(['año']).agg({'total_anual':sum})\n",
        "delitos_violencia_familiar_total_anual"
      ],
      "execution_count": null,
      "outputs": [
        {
          "output_type": "execute_result",
          "data": {
            "text/html": [
              "<div>\n",
              "<style scoped>\n",
              "    .dataframe tbody tr th:only-of-type {\n",
              "        vertical-align: middle;\n",
              "    }\n",
              "\n",
              "    .dataframe tbody tr th {\n",
              "        vertical-align: top;\n",
              "    }\n",
              "\n",
              "    .dataframe thead th {\n",
              "        text-align: right;\n",
              "    }\n",
              "</style>\n",
              "<table border=\"1\" class=\"dataframe\">\n",
              "  <thead>\n",
              "    <tr style=\"text-align: right;\">\n",
              "      <th></th>\n",
              "      <th>total_anual</th>\n",
              "    </tr>\n",
              "    <tr>\n",
              "      <th>año</th>\n",
              "      <th></th>\n",
              "    </tr>\n",
              "  </thead>\n",
              "  <tbody>\n",
              "    <tr>\n",
              "      <th>2015</th>\n",
              "      <td>14722</td>\n",
              "    </tr>\n",
              "    <tr>\n",
              "      <th>2016</th>\n",
              "      <td>17045</td>\n",
              "    </tr>\n",
              "    <tr>\n",
              "      <th>2017</th>\n",
              "      <td>16937</td>\n",
              "    </tr>\n",
              "    <tr>\n",
              "      <th>2018</th>\n",
              "      <td>18418</td>\n",
              "    </tr>\n",
              "    <tr>\n",
              "      <th>2019</th>\n",
              "      <td>23601</td>\n",
              "    </tr>\n",
              "    <tr>\n",
              "      <th>2020</th>\n",
              "      <td>25280</td>\n",
              "    </tr>\n",
              "  </tbody>\n",
              "</table>\n",
              "</div>"
            ],
            "text/plain": [
              "      total_anual\n",
              "año              \n",
              "2015        14722\n",
              "2016        17045\n",
              "2017        16937\n",
              "2018        18418\n",
              "2019        23601\n",
              "2020        25280"
            ]
          },
          "metadata": {
            "tags": []
          },
          "execution_count": 37
        }
      ]
    },
    {
      "cell_type": "markdown",
      "metadata": {
        "id": "dULcAAnPNiSv"
      },
      "source": [
        "Con éste último resultado podemos confirmar que la pandemia actual dió indicio a mayor número de casos de violencia familiar, siendo que por el resguardo de las familias dentro de la cuarentena, estas conviven mayor tiempo ocasionando mayor número de delitos de violencia familiar.\n"
      ]
    }
  ]
}